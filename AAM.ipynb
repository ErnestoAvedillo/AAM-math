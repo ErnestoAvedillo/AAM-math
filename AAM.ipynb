{
  "nbformat": 4,
  "nbformat_minor": 0,
  "metadata": {
    "colab": {
      "provenance": [],
      "toc_visible": true,
      "include_colab_link": true
    },
    "kernelspec": {
      "name": "python3",
      "display_name": "Python 3"
    },
    "language_info": {
      "name": "python"
    }
  },
  "cells": [
    {
      "cell_type": "markdown",
      "metadata": {
        "id": "view-in-github",
        "colab_type": "text"
      },
      "source": [
        "<a href=\"https://colab.research.google.com/github/ErnestoAvedillo/AAM-math/blob/main/AAM.ipynb\" target=\"_parent\"><img src=\"https://colab.research.google.com/assets/colab-badge.svg\" alt=\"Open In Colab\"/></a>"
      ]
    },
    {
      "cell_type": "code",
      "execution_count": 2,
      "metadata": {
        "id": "fFhfTd4HCtR2"
      },
      "outputs": [],
      "source": [
        "import pandas as pd\n",
        "import numpy as np"
      ]
    },
    {
      "cell_type": "markdown",
      "source": [
        "**### Primera parte**\n",
        "\n",
        "Cálculo del coste de las demandas internas.\n",
        "\n",
        "n = nḿero de referencias.\n",
        "\n",
        "REF = diccionario con las referencias de la empresa (TODAS , las de compra , internas  y de producto acabado.)\n",
        "\n",
        "DC = Demanda de cliente\n",
        "\n",
        "BOM = es una tabla de n x n con el BOM de los producto (Todos) Build of Materials"
      ],
      "metadata": {
        "id": "grjRvn1cOzfV"
      }
    },
    {
      "cell_type": "code",
      "source": [
        "#numero de referencias\n",
        "n = 8\n",
        "#BILL OF MATERIALS\n",
        "BOM = np.zeros((n,n))\n",
        "#Diccionario de referencias\n",
        "#REF = {\"1\":0,\"2\":1,\"3\":2,\"4\":3,\"5\":4,\"6\":5,\"7\":6,\"8\":7}\n",
        "REF = {}\n",
        "for i in range(0,n):\n",
        "  num = str(i + 1)\n",
        "  REF[num] = i\n",
        "#Demandas de cliente\n",
        "Dias = 5\n",
        "Profundidad = 5\n",
        "DC = np.zeros((n,Profundidad,Dias))"
      ],
      "metadata": {
        "id": "gOWlfBCCLnAG"
      },
      "execution_count": 3,
      "outputs": []
    },
    {
      "cell_type": "markdown",
      "source": [
        "Simulacion de un BOM con dos productos diferentes"
      ],
      "metadata": {
        "id": "Ch2h-ctNPf6e"
      }
    },
    {
      "cell_type": "code",
      "source": [
        "#BOM for product 1\n",
        "BOM[REF[\"5\"],REF[\"3\"]] = 0.5\n",
        "BOM[REF[\"5\"],REF[\"7\"]] = 2\n",
        "BOM[REF[\"7\"],REF[\"1\"]] = 1\n",
        "\n",
        "#BOM for product 2\n",
        "BOM[REF[\"6\"],REF[\"3\"]] = 0.75\n",
        "BOM[REF[\"6\"],REF[\"4\"]] = 1\n",
        "BOM[REF[\"6\"],REF[\"8\"]] = 1\n",
        "BOM[REF[\"8\"],REF[\"2\"]] = 1\n",
        "\n",
        "print(BOM)\n",
        "print(REF)"
      ],
      "metadata": {
        "id": "5eTDgowMFY4b",
        "colab": {
          "base_uri": "https://localhost:8080/"
        },
        "outputId": "311d6e4a-fb08-4bcb-d4b3-e9cdb6ac0bc9"
      },
      "execution_count": 4,
      "outputs": [
        {
          "output_type": "stream",
          "name": "stdout",
          "text": [
            "[[0.   0.   0.   0.   0.   0.   0.   0.  ]\n",
            " [0.   0.   0.   0.   0.   0.   0.   0.  ]\n",
            " [0.   0.   0.   0.   0.   0.   0.   0.  ]\n",
            " [0.   0.   0.   0.   0.   0.   0.   0.  ]\n",
            " [0.   0.   0.5  0.   0.   0.   2.   0.  ]\n",
            " [0.   0.   0.75 1.   0.   0.   0.   1.  ]\n",
            " [1.   0.   0.   0.   0.   0.   0.   0.  ]\n",
            " [0.   1.   0.   0.   0.   0.   0.   0.  ]]\n",
            "{'1': 0, '2': 1, '3': 2, '4': 3, '5': 4, '6': 5, '7': 6, '8': 7}\n"
          ]
        }
      ]
    },
    {
      "cell_type": "code",
      "source": [
        "#DEMANDAS DE CLIENTE\n",
        "DC[REF[\"5\"],0,0]=700\n",
        "DC[REF[\"6\"],0,0]=1000\n",
        "DC[REF[\"5\"],0,1]=0\n",
        "DC[REF[\"6\"],0,1]=2000\n",
        "DC[REF[\"5\"],0,2]=2000\n",
        "DC[REF[\"6\"],0,2]=0\n",
        "DC[REF[\"5\"],0,3]=7000\n",
        "DC[REF[\"6\"],0,3]=1000\n",
        "DC[REF[\"5\"],0,4]=7\n",
        "DC[REF[\"6\"],0,4]=1000\n",
        "print (DC)"
      ],
      "metadata": {
        "id": "PAOv9mUJICnC",
        "colab": {
          "base_uri": "https://localhost:8080/"
        },
        "outputId": "f52403c4-0d12-4816-8a85-ae836e4b1d4e"
      },
      "execution_count": 5,
      "outputs": [
        {
          "output_type": "stream",
          "name": "stdout",
          "text": [
            "[[[   0.    0.    0.    0.    0.]\n",
            "  [   0.    0.    0.    0.    0.]\n",
            "  [   0.    0.    0.    0.    0.]\n",
            "  [   0.    0.    0.    0.    0.]\n",
            "  [   0.    0.    0.    0.    0.]]\n",
            "\n",
            " [[   0.    0.    0.    0.    0.]\n",
            "  [   0.    0.    0.    0.    0.]\n",
            "  [   0.    0.    0.    0.    0.]\n",
            "  [   0.    0.    0.    0.    0.]\n",
            "  [   0.    0.    0.    0.    0.]]\n",
            "\n",
            " [[   0.    0.    0.    0.    0.]\n",
            "  [   0.    0.    0.    0.    0.]\n",
            "  [   0.    0.    0.    0.    0.]\n",
            "  [   0.    0.    0.    0.    0.]\n",
            "  [   0.    0.    0.    0.    0.]]\n",
            "\n",
            " [[   0.    0.    0.    0.    0.]\n",
            "  [   0.    0.    0.    0.    0.]\n",
            "  [   0.    0.    0.    0.    0.]\n",
            "  [   0.    0.    0.    0.    0.]\n",
            "  [   0.    0.    0.    0.    0.]]\n",
            "\n",
            " [[ 700.    0. 2000. 7000.    7.]\n",
            "  [   0.    0.    0.    0.    0.]\n",
            "  [   0.    0.    0.    0.    0.]\n",
            "  [   0.    0.    0.    0.    0.]\n",
            "  [   0.    0.    0.    0.    0.]]\n",
            "\n",
            " [[1000. 2000.    0. 1000. 1000.]\n",
            "  [   0.    0.    0.    0.    0.]\n",
            "  [   0.    0.    0.    0.    0.]\n",
            "  [   0.    0.    0.    0.    0.]\n",
            "  [   0.    0.    0.    0.    0.]]\n",
            "\n",
            " [[   0.    0.    0.    0.    0.]\n",
            "  [   0.    0.    0.    0.    0.]\n",
            "  [   0.    0.    0.    0.    0.]\n",
            "  [   0.    0.    0.    0.    0.]\n",
            "  [   0.    0.    0.    0.    0.]]\n",
            "\n",
            " [[   0.    0.    0.    0.    0.]\n",
            "  [   0.    0.    0.    0.    0.]\n",
            "  [   0.    0.    0.    0.    0.]\n",
            "  [   0.    0.    0.    0.    0.]\n",
            "  [   0.    0.    0.    0.    0.]]]\n"
          ]
        }
      ]
    },
    {
      "cell_type": "markdown",
      "source": [
        "Listado de Maquinaria\n",
        "\n",
        "m = número de máquinas\n",
        "\n",
        "DICMAQ = Diccionario de maquinaria (m x 1)\n",
        "\n",
        "BOMMAQ = Listado de maquinaria por referencia (m x n)"
      ],
      "metadata": {
        "id": "rgp-D6lZPnGn"
      }
    },
    {
      "cell_type": "code",
      "source": [
        "numMaquinas = 3\n",
        "BOMMAQ = np.zeros((numMaquinas,n))\n",
        "DICMAQ = {\"Compras\":0,\"mecanizado\":1,\"inyeccion\":2}\n",
        "#BOMMAQ[DICMAQ[\"Compras\"],REF[\"1\"]] = 1\n",
        "#BOMMAQ[DICMAQ[\"Compras\"],REF[\"2\"]] = 1\n",
        "#BOMMAQ[DICMAQ[\"Compras\"],REF[\"3\"]] = 1\n",
        "#BOMMAQ[DICMAQ[\"Compras\"],REF[\"4\"]] = 1\n",
        "BOMMAQ[DICMAQ[\"inyeccion\"],REF[\"5\"]] = 1\n",
        "BOMMAQ[DICMAQ[\"inyeccion\"],REF[\"6\"]] = 1\n",
        "BOMMAQ[DICMAQ[\"mecanizado\"],REF[\"7\"]] = 1\n",
        "BOMMAQ[DICMAQ[\"mecanizado\"],REF[\"8\"]] = 1\n",
        "print(BOMMAQ)"
      ],
      "metadata": {
        "colab": {
          "base_uri": "https://localhost:8080/"
        },
        "id": "XObAX3k_P8BL",
        "outputId": "2e7c2d87-8f57-4174-aa7c-0f4602d3110f"
      },
      "execution_count": 6,
      "outputs": [
        {
          "output_type": "stream",
          "name": "stdout",
          "text": [
            "[[0. 0. 0. 0. 0. 0. 0. 0.]\n",
            " [0. 0. 0. 0. 0. 0. 1. 1.]\n",
            " [0. 0. 0. 0. 1. 1. 0. 0.]]\n"
          ]
        }
      ]
    },
    {
      "cell_type": "code",
      "source": [
        "#Voy incremetnando la matriz de demandas a medida que aumenta el nicel de fabricación\n",
        "for dayIndex in range(Dias):\n",
        "  for profIndex in range(Profundidad-1):\n",
        "    DC[:,profIndex+1,dayIndex] = np.dot(BOM.T,DC[:,profIndex,dayIndex])\n",
        "for dayIndex in range(Dias):\n",
        "  print(DC[:,:,dayIndex],'\\n')"
      ],
      "metadata": {
        "colab": {
          "base_uri": "https://localhost:8080/"
        },
        "id": "G54Ou6-pPReG",
        "outputId": "8bad6f30-2a21-4f53-a6e5-d3d691566d8d"
      },
      "execution_count": 7,
      "outputs": [
        {
          "output_type": "stream",
          "name": "stdout",
          "text": [
            "[[   0.    0. 1400.    0.    0.]\n",
            " [   0.    0. 1000.    0.    0.]\n",
            " [   0. 1100.    0.    0.    0.]\n",
            " [   0. 1000.    0.    0.    0.]\n",
            " [ 700.    0.    0.    0.    0.]\n",
            " [1000.    0.    0.    0.    0.]\n",
            " [   0. 1400.    0.    0.    0.]\n",
            " [   0. 1000.    0.    0.    0.]] \n",
            "\n",
            "[[   0.    0.    0.    0.    0.]\n",
            " [   0.    0. 2000.    0.    0.]\n",
            " [   0. 1500.    0.    0.    0.]\n",
            " [   0. 2000.    0.    0.    0.]\n",
            " [   0.    0.    0.    0.    0.]\n",
            " [2000.    0.    0.    0.    0.]\n",
            " [   0.    0.    0.    0.    0.]\n",
            " [   0. 2000.    0.    0.    0.]] \n",
            "\n",
            "[[   0.    0. 4000.    0.    0.]\n",
            " [   0.    0.    0.    0.    0.]\n",
            " [   0. 1000.    0.    0.    0.]\n",
            " [   0.    0.    0.    0.    0.]\n",
            " [2000.    0.    0.    0.    0.]\n",
            " [   0.    0.    0.    0.    0.]\n",
            " [   0. 4000.    0.    0.    0.]\n",
            " [   0.    0.    0.    0.    0.]] \n",
            "\n",
            "[[    0.     0. 14000.     0.     0.]\n",
            " [    0.     0.  1000.     0.     0.]\n",
            " [    0.  4250.     0.     0.     0.]\n",
            " [    0.  1000.     0.     0.     0.]\n",
            " [ 7000.     0.     0.     0.     0.]\n",
            " [ 1000.     0.     0.     0.     0.]\n",
            " [    0. 14000.     0.     0.     0.]\n",
            " [    0.  1000.     0.     0.     0.]] \n",
            "\n",
            "[[   0.     0.    14.     0.     0. ]\n",
            " [   0.     0.  1000.     0.     0. ]\n",
            " [   0.   753.5    0.     0.     0. ]\n",
            " [   0.  1000.     0.     0.     0. ]\n",
            " [   7.     0.     0.     0.     0. ]\n",
            " [1000.     0.     0.     0.     0. ]\n",
            " [   0.    14.     0.     0.     0. ]\n",
            " [   0.  1000.     0.     0.     0. ]] \n",
            "\n"
          ]
        }
      ]
    },
    {
      "cell_type": "code",
      "source": [
        "#DINT se corresponde a las demandas internas\n",
        "for i in list(REF):\n",
        "  print(\"Referencia \" ,i, \" Demanda CLIENTE --> \", DC[REF[i],0,:])\n",
        "for j in range(1, DC.shape[1] - 1):\n",
        "  for i in list(REF):\n",
        "    print(\"Referencia \" ,i, \" Demanda interna nivel \", j, \" --> \", DC[REF[i],j,:])\n",
        "for i in list(REF):\n",
        "  print(\"Referencia \" ,i, \" Demanda interna (compras) nivel 0 --> \", DC[REF[i],DC.shape[1] - 1,:])\n"
      ],
      "metadata": {
        "colab": {
          "base_uri": "https://localhost:8080/"
        },
        "id": "0VCvu_EHMY2_",
        "outputId": "6708225b-b9f0-402b-840e-3221f184a188"
      },
      "execution_count": 8,
      "outputs": [
        {
          "output_type": "stream",
          "name": "stdout",
          "text": [
            "Referencia  1  Demanda CLIENTE -->  [0. 0. 0. 0. 0.]\n",
            "Referencia  2  Demanda CLIENTE -->  [0. 0. 0. 0. 0.]\n",
            "Referencia  3  Demanda CLIENTE -->  [0. 0. 0. 0. 0.]\n",
            "Referencia  4  Demanda CLIENTE -->  [0. 0. 0. 0. 0.]\n",
            "Referencia  5  Demanda CLIENTE -->  [ 700.    0. 2000. 7000.    7.]\n",
            "Referencia  6  Demanda CLIENTE -->  [1000. 2000.    0. 1000. 1000.]\n",
            "Referencia  7  Demanda CLIENTE -->  [0. 0. 0. 0. 0.]\n",
            "Referencia  8  Demanda CLIENTE -->  [0. 0. 0. 0. 0.]\n",
            "Referencia  1  Demanda interna nivel  1  -->  [0. 0. 0. 0. 0.]\n",
            "Referencia  2  Demanda interna nivel  1  -->  [0. 0. 0. 0. 0.]\n",
            "Referencia  3  Demanda interna nivel  1  -->  [1100.  1500.  1000.  4250.   753.5]\n",
            "Referencia  4  Demanda interna nivel  1  -->  [1000. 2000.    0. 1000. 1000.]\n",
            "Referencia  5  Demanda interna nivel  1  -->  [0. 0. 0. 0. 0.]\n",
            "Referencia  6  Demanda interna nivel  1  -->  [0. 0. 0. 0. 0.]\n",
            "Referencia  7  Demanda interna nivel  1  -->  [ 1400.     0.  4000. 14000.    14.]\n",
            "Referencia  8  Demanda interna nivel  1  -->  [1000. 2000.    0. 1000. 1000.]\n",
            "Referencia  1  Demanda interna nivel  2  -->  [ 1400.     0.  4000. 14000.    14.]\n",
            "Referencia  2  Demanda interna nivel  2  -->  [1000. 2000.    0. 1000. 1000.]\n",
            "Referencia  3  Demanda interna nivel  2  -->  [0. 0. 0. 0. 0.]\n",
            "Referencia  4  Demanda interna nivel  2  -->  [0. 0. 0. 0. 0.]\n",
            "Referencia  5  Demanda interna nivel  2  -->  [0. 0. 0. 0. 0.]\n",
            "Referencia  6  Demanda interna nivel  2  -->  [0. 0. 0. 0. 0.]\n",
            "Referencia  7  Demanda interna nivel  2  -->  [0. 0. 0. 0. 0.]\n",
            "Referencia  8  Demanda interna nivel  2  -->  [0. 0. 0. 0. 0.]\n",
            "Referencia  1  Demanda interna nivel  3  -->  [0. 0. 0. 0. 0.]\n",
            "Referencia  2  Demanda interna nivel  3  -->  [0. 0. 0. 0. 0.]\n",
            "Referencia  3  Demanda interna nivel  3  -->  [0. 0. 0. 0. 0.]\n",
            "Referencia  4  Demanda interna nivel  3  -->  [0. 0. 0. 0. 0.]\n",
            "Referencia  5  Demanda interna nivel  3  -->  [0. 0. 0. 0. 0.]\n",
            "Referencia  6  Demanda interna nivel  3  -->  [0. 0. 0. 0. 0.]\n",
            "Referencia  7  Demanda interna nivel  3  -->  [0. 0. 0. 0. 0.]\n",
            "Referencia  8  Demanda interna nivel  3  -->  [0. 0. 0. 0. 0.]\n",
            "Referencia  1  Demanda interna (compras) nivel 0 -->  [0. 0. 0. 0. 0.]\n",
            "Referencia  2  Demanda interna (compras) nivel 0 -->  [0. 0. 0. 0. 0.]\n",
            "Referencia  3  Demanda interna (compras) nivel 0 -->  [0. 0. 0. 0. 0.]\n",
            "Referencia  4  Demanda interna (compras) nivel 0 -->  [0. 0. 0. 0. 0.]\n",
            "Referencia  5  Demanda interna (compras) nivel 0 -->  [0. 0. 0. 0. 0.]\n",
            "Referencia  6  Demanda interna (compras) nivel 0 -->  [0. 0. 0. 0. 0.]\n",
            "Referencia  7  Demanda interna (compras) nivel 0 -->  [0. 0. 0. 0. 0.]\n",
            "Referencia  8  Demanda interna (compras) nivel 0 -->  [0. 0. 0. 0. 0.]\n"
          ]
        }
      ]
    },
    {
      "cell_type": "markdown",
      "source": [
        "Ahora vamos a buscar el minimo común múltiplo entre las demandas y las piezas por caja\n",
        "Posteriormente calcularemos el tiempo de trabajo necesario para cada un o de los niveles de producción.\n",
        "\n",
        "T =  Tiempos de ciclo (n x 1) (Dato a recibir de cliente)\n",
        "\n",
        "BOX = Piezas por caja (n x 1)"
      ],
      "metadata": {
        "id": "Y7_Bu3OddOwZ"
      }
    },
    {
      "cell_type": "code",
      "source": [
        "#Tiempo de ciclo estimado en los procesos\n",
        "T= np.zeros((n, 1))\n",
        "T[REF[\"5\"]] = 120\n",
        "T[REF[\"6\"]] = 135\n",
        "T[REF[\"7\"]] = 90\n",
        "T[REF[\"8\"]] = 80\n",
        "print(T)"
      ],
      "metadata": {
        "colab": {
          "base_uri": "https://localhost:8080/"
        },
        "id": "iJzVgB6J8yQ6",
        "outputId": "6058bebf-0684-436b-c7a8-0bb261ef07e0"
      },
      "execution_count": 9,
      "outputs": [
        {
          "output_type": "stream",
          "name": "stdout",
          "text": [
            "[[  0.]\n",
            " [  0.]\n",
            " [  0.]\n",
            " [  0.]\n",
            " [120.]\n",
            " [135.]\n",
            " [ 90.]\n",
            " [ 80.]]\n"
          ]
        }
      ]
    },
    {
      "cell_type": "code",
      "source": [
        "#Estimo las piezs por caja de cada componente\n",
        "import random\n",
        "BOX = np.ones((n,1))\n",
        "for i in range(n):\n",
        "  BOX[i - 1] = random.randrange(5,10)\n",
        "print (BOX)"
      ],
      "metadata": {
        "colab": {
          "base_uri": "https://localhost:8080/"
        },
        "id": "bEvyqBVGWa4h",
        "outputId": "00d271d0-6976-4f9e-c39b-2410f8dd3a33"
      },
      "execution_count": 10,
      "outputs": [
        {
          "output_type": "stream",
          "name": "stdout",
          "text": [
            "[[7.]\n",
            " [8.]\n",
            " [9.]\n",
            " [8.]\n",
            " [5.]\n",
            " [8.]\n",
            " [6.]\n",
            " [9.]]\n"
          ]
        }
      ]
    },
    {
      "cell_type": "code",
      "source": [
        "#Busco en número de cajas necesario para la produccion\n",
        "DCBOX = np.copy(DC);\n",
        "for dayIndex in range(Dias):\n",
        "  mask = np.mod(DC[:,:,dayIndex], BOX) > 0\n",
        "  ones_array = np.zeros_like(np.mod(DC[:,:,dayIndex], BOX))\n",
        "  ones_array [mask] = 1\n",
        "  DCBOX[:,:,dayIndex] = np.floor_divide(DC[:,:,dayIndex], BOX) +  ones_array\n",
        "  print (DCBOX[:,:,dayIndex],'\\n')\n"
      ],
      "metadata": {
        "colab": {
          "base_uri": "https://localhost:8080/"
        },
        "id": "Gnw0NPvGpYiI",
        "outputId": "7ce24dfd-b686-4d10-ef6f-3c64ac4bbf50"
      },
      "execution_count": 11,
      "outputs": [
        {
          "output_type": "stream",
          "name": "stdout",
          "text": [
            "[[  0.   0. 200.   0.   0.]\n",
            " [  0.   0. 125.   0.   0.]\n",
            " [  0. 123.   0.   0.   0.]\n",
            " [  0. 125.   0.   0.   0.]\n",
            " [140.   0.   0.   0.   0.]\n",
            " [125.   0.   0.   0.   0.]\n",
            " [  0. 234.   0.   0.   0.]\n",
            " [  0. 112.   0.   0.   0.]] \n",
            "\n",
            "[[  0.   0.   0.   0.   0.]\n",
            " [  0.   0. 250.   0.   0.]\n",
            " [  0. 167.   0.   0.   0.]\n",
            " [  0. 250.   0.   0.   0.]\n",
            " [  0.   0.   0.   0.   0.]\n",
            " [250.   0.   0.   0.   0.]\n",
            " [  0.   0.   0.   0.   0.]\n",
            " [  0. 223.   0.   0.   0.]] \n",
            "\n",
            "[[  0.   0. 572.   0.   0.]\n",
            " [  0.   0.   0.   0.   0.]\n",
            " [  0. 112.   0.   0.   0.]\n",
            " [  0.   0.   0.   0.   0.]\n",
            " [400.   0.   0.   0.   0.]\n",
            " [  0.   0.   0.   0.   0.]\n",
            " [  0. 667.   0.   0.   0.]\n",
            " [  0.   0.   0.   0.   0.]] \n",
            "\n",
            "[[   0.    0. 2000.    0.    0.]\n",
            " [   0.    0.  125.    0.    0.]\n",
            " [   0.  473.    0.    0.    0.]\n",
            " [   0.  125.    0.    0.    0.]\n",
            " [1400.    0.    0.    0.    0.]\n",
            " [ 125.    0.    0.    0.    0.]\n",
            " [   0. 2334.    0.    0.    0.]\n",
            " [   0.  112.    0.    0.    0.]] \n",
            "\n",
            "[[  0.   0.   2.   0.   0.]\n",
            " [  0.   0. 125.   0.   0.]\n",
            " [  0.  84.   0.   0.   0.]\n",
            " [  0. 125.   0.   0.   0.]\n",
            " [  2.   0.   0.   0.   0.]\n",
            " [125.   0.   0.   0.   0.]\n",
            " [  0.   3.   0.   0.   0.]\n",
            " [  0. 112.   0.   0.   0.]] \n",
            "\n"
          ]
        }
      ]
    },
    {
      "cell_type": "code",
      "source": [
        "DCHORAS = np.copy(DC);\n",
        "for dayIndex in range(Dias):\n",
        "  DCHORAS[:,:,dayIndex] = np.multiply(np.multiply(DCBOX[:,:,dayIndex],T),BOX)/3600\n",
        "  print(DCHORAS[:,:,dayIndex],'\\n')"
      ],
      "metadata": {
        "colab": {
          "base_uri": "https://localhost:8080/"
        },
        "id": "ZOlFIdW_8-OL",
        "outputId": "6a5e48e7-20e7-4ac9-b749-bccba32d576a"
      },
      "execution_count": 12,
      "outputs": [
        {
          "output_type": "stream",
          "name": "stdout",
          "text": [
            "[[ 0.          0.          0.          0.          0.        ]\n",
            " [ 0.          0.          0.          0.          0.        ]\n",
            " [ 0.          0.          0.          0.          0.        ]\n",
            " [ 0.          0.          0.          0.          0.        ]\n",
            " [23.33333333  0.          0.          0.          0.        ]\n",
            " [37.5         0.          0.          0.          0.        ]\n",
            " [ 0.         35.1         0.          0.          0.        ]\n",
            " [ 0.         22.4         0.          0.          0.        ]] \n",
            "\n",
            "[[ 0.   0.   0.   0.   0. ]\n",
            " [ 0.   0.   0.   0.   0. ]\n",
            " [ 0.   0.   0.   0.   0. ]\n",
            " [ 0.   0.   0.   0.   0. ]\n",
            " [ 0.   0.   0.   0.   0. ]\n",
            " [75.   0.   0.   0.   0. ]\n",
            " [ 0.   0.   0.   0.   0. ]\n",
            " [ 0.  44.6  0.   0.   0. ]] \n",
            "\n",
            "[[  0.           0.           0.           0.           0.        ]\n",
            " [  0.           0.           0.           0.           0.        ]\n",
            " [  0.           0.           0.           0.           0.        ]\n",
            " [  0.           0.           0.           0.           0.        ]\n",
            " [ 66.66666667   0.           0.           0.           0.        ]\n",
            " [  0.           0.           0.           0.           0.        ]\n",
            " [  0.         100.05         0.           0.           0.        ]\n",
            " [  0.           0.           0.           0.           0.        ]] \n",
            "\n",
            "[[  0.           0.           0.           0.           0.        ]\n",
            " [  0.           0.           0.           0.           0.        ]\n",
            " [  0.           0.           0.           0.           0.        ]\n",
            " [  0.           0.           0.           0.           0.        ]\n",
            " [233.33333333   0.           0.           0.           0.        ]\n",
            " [ 37.5          0.           0.           0.           0.        ]\n",
            " [  0.         350.1          0.           0.           0.        ]\n",
            " [  0.          22.4          0.           0.           0.        ]] \n",
            "\n",
            "[[ 0.          0.          0.          0.          0.        ]\n",
            " [ 0.          0.          0.          0.          0.        ]\n",
            " [ 0.          0.          0.          0.          0.        ]\n",
            " [ 0.          0.          0.          0.          0.        ]\n",
            " [ 0.33333333  0.          0.          0.          0.        ]\n",
            " [37.5         0.          0.          0.          0.        ]\n",
            " [ 0.          0.45        0.          0.          0.        ]\n",
            " [ 0.         22.4         0.          0.          0.        ]] \n",
            "\n"
          ]
        }
      ]
    },
    {
      "cell_type": "markdown",
      "source": [
        "\n",
        "MAQ = is a vector of ONES where there is an operation\n"
      ],
      "metadata": {
        "id": "zH4Ofp7ZNzmn"
      }
    },
    {
      "cell_type": "code",
      "source": [
        "MAQ = np.zeros((numMaquinas,Dias));\n",
        "for dayIndex in range(Dias):\n",
        "  MAQ[:,dayIndex] = np.dot(DCHORAS[:,:,dayIndex].sum(axis = 1), BOMMAQ.T)\n",
        "  print(MAQ[:,dayIndex],'\\n')"
      ],
      "metadata": {
        "colab": {
          "base_uri": "https://localhost:8080/"
        },
        "id": "pNdtk9llT22Y",
        "outputId": "ad9c80d2-6ba1-430d-8870-87b39862677c"
      },
      "execution_count": 13,
      "outputs": [
        {
          "output_type": "stream",
          "name": "stdout",
          "text": [
            "[ 0.         57.5        60.83333333] \n",
            "\n",
            "[ 0.  44.6 75. ] \n",
            "\n",
            "[  0.         100.05        66.66666667] \n",
            "\n",
            "[  0.         372.5        270.83333333] \n",
            "\n",
            "[ 0.         22.85       37.83333333] \n",
            "\n"
          ]
        }
      ]
    },
    {
      "cell_type": "markdown",
      "source": [
        "# Inicio de la simulacion\n",
        "## Constraints de la simulacion\n",
        "\n",
        "LoteMin = Lote mínimo de producción (n x 1)\n",
        "\n",
        "LotMax = Lote máximo de producción (n x 1)\n",
        "\n",
        "TCambio = Tiempos de cambio de referencia (n x n)\n",
        "\n",
        "Planif =  Planificacion de la producción (Maq x 24 horas x Ref)\n",
        "\n",
        "PrioMat = Matriz de priodidades (n x 1)"
      ],
      "metadata": {
        "id": "DqhdB6_qs3ld"
      }
    },
    {
      "cell_type": "code",
      "source": [
        "print (MAQ)\n",
        "print (DCHORAS[:,:,0])"
      ],
      "metadata": {
        "colab": {
          "base_uri": "https://localhost:8080/"
        },
        "id": "ptCpnd4qtfSh",
        "outputId": "28adca16-ebac-4b5d-bf5d-24087c856737"
      },
      "execution_count": 28,
      "outputs": [
        {
          "output_type": "stream",
          "name": "stdout",
          "text": [
            "[[  0.           0.           0.           0.           0.        ]\n",
            " [ 57.5         44.6        100.05       372.5         22.85      ]\n",
            " [ 60.83333333  75.          66.66666667 270.83333333  37.83333333]]\n",
            "[[ 0.          0.          0.          0.          0.        ]\n",
            " [ 0.          0.          0.          0.          0.        ]\n",
            " [ 0.          0.          0.          0.          0.        ]\n",
            " [ 0.          0.          0.          0.          0.        ]\n",
            " [23.33333333  0.          0.          0.          0.        ]\n",
            " [37.5         0.          0.          0.          0.        ]\n",
            " [ 0.         35.1         0.          0.          0.        ]\n",
            " [ 0.         22.4         0.          0.          0.        ]]\n"
          ]
        }
      ]
    },
    {
      "cell_type": "markdown",
      "source": [
        "# Cálculo de costes del proceso\n",
        "\n",
        "En esta sección calcularemos los costes del proceso.\n",
        "\n",
        "En esencia el cálculo es el siguiente:\n",
        "\n",
        "Coste proceso [CP] = Coste mano de obra[CMO] + Coste Máquina [CMQ]\n",
        "\n",
        "Desarrollando un poco mas este cálculo tenemos que:\n",
        "\n",
        " CMO = Coste operario [MO] / Tiempo de ciclo [T] / 3600\n",
        "\n",
        "CMQ = Coste Máquina fijo [CMQF] Coste Máquina Variable  [CMQV]\n",
        "\n",
        "CMQF = Coste fijo Máquina [CF] * T / 3600\n",
        "\n",
        "CMQV = Coste potencia [CPOT] * Potencia Máquina [POT] * T / 3600\n",
        "\n",
        "Sustituyento tenemos:\n",
        "\n",
        "CP = (MO + CF + CPOT * POT) * T / 3600"
      ],
      "metadata": {
        "id": "LoqrEA7YMe9F"
      }
    },
    {
      "cell_type": "markdown",
      "source": [
        "Ahora nos centraremso en el cálculo de la mano de obra\n",
        "\n",
        "MAQREF = Vector Maquinas (n x 1)\n",
        "\n",
        "MOM = Coste de la mano de obra Turno de mañana\n",
        "\n",
        "MOT = Coste de la mano de obra Turno de tarde\n",
        "\n",
        "MON = Coste de la mano de obra Turno de noche\n",
        "\n",
        "MHORARIA = MATRIZ Horaria (n x 24)\n",
        "\n",
        "NOP =  Número de operarios (n x 1) (Dato a recibir de cliente)\n",
        "\n",
        "CMOTHORARIO = Coste de mano de obra total (nx24) resultado de MOTURNOS * MOP *T / 3600"
      ],
      "metadata": {
        "id": "BgZJNYeTTxFz"
      }
    },
    {
      "cell_type": "code",
      "source": [
        "MAQREF = np.zeros((n,1))\n",
        "mask = BOMMAQ.sum(axis = 0) > 0\n",
        "MAQREF[mask] = 1\n",
        "print(MAQREF)\n",
        "MHORARIA = np.ones((n,24))\n",
        "MOTURNOS = np.multiply(MHORARIA, MAQREF)\n",
        "print(MOTURNOS)"
      ],
      "metadata": {
        "colab": {
          "base_uri": "https://localhost:8080/"
        },
        "id": "WkuHhYnoVjre",
        "outputId": "c6345ad8-6836-42a1-97d3-a2f26172a740"
      },
      "execution_count": 15,
      "outputs": [
        {
          "output_type": "stream",
          "name": "stdout",
          "text": [
            "[[0.]\n",
            " [0.]\n",
            " [0.]\n",
            " [0.]\n",
            " [1.]\n",
            " [1.]\n",
            " [1.]\n",
            " [1.]]\n",
            "[[0. 0. 0. 0. 0. 0. 0. 0. 0. 0. 0. 0. 0. 0. 0. 0. 0. 0. 0. 0. 0. 0. 0. 0.]\n",
            " [0. 0. 0. 0. 0. 0. 0. 0. 0. 0. 0. 0. 0. 0. 0. 0. 0. 0. 0. 0. 0. 0. 0. 0.]\n",
            " [0. 0. 0. 0. 0. 0. 0. 0. 0. 0. 0. 0. 0. 0. 0. 0. 0. 0. 0. 0. 0. 0. 0. 0.]\n",
            " [0. 0. 0. 0. 0. 0. 0. 0. 0. 0. 0. 0. 0. 0. 0. 0. 0. 0. 0. 0. 0. 0. 0. 0.]\n",
            " [1. 1. 1. 1. 1. 1. 1. 1. 1. 1. 1. 1. 1. 1. 1. 1. 1. 1. 1. 1. 1. 1. 1. 1.]\n",
            " [1. 1. 1. 1. 1. 1. 1. 1. 1. 1. 1. 1. 1. 1. 1. 1. 1. 1. 1. 1. 1. 1. 1. 1.]\n",
            " [1. 1. 1. 1. 1. 1. 1. 1. 1. 1. 1. 1. 1. 1. 1. 1. 1. 1. 1. 1. 1. 1. 1. 1.]\n",
            " [1. 1. 1. 1. 1. 1. 1. 1. 1. 1. 1. 1. 1. 1. 1. 1. 1. 1. 1. 1. 1. 1. 1. 1.]]\n"
          ]
        }
      ]
    },
    {
      "cell_type": "code",
      "source": [
        "MOM = 12\n",
        "MOT = 14\n",
        "MON = 18\n",
        "MOTURNOS [:,0:6] *=  MON\n",
        "MOTURNOS [:,6:14] *=  MOM\n",
        "MOTURNOS [:,14:22] *=  MOT\n",
        "MOTURNOS [:,22:24] *=  MON\n",
        "print(MOTURNOS)"
      ],
      "metadata": {
        "colab": {
          "base_uri": "https://localhost:8080/"
        },
        "id": "Sh40laK5W1i3",
        "outputId": "5ae4f6ba-e38d-48be-8352-db9f5c027b46"
      },
      "execution_count": 16,
      "outputs": [
        {
          "output_type": "stream",
          "name": "stdout",
          "text": [
            "[[ 0.  0.  0.  0.  0.  0.  0.  0.  0.  0.  0.  0.  0.  0.  0.  0.  0.  0.\n",
            "   0.  0.  0.  0.  0.  0.]\n",
            " [ 0.  0.  0.  0.  0.  0.  0.  0.  0.  0.  0.  0.  0.  0.  0.  0.  0.  0.\n",
            "   0.  0.  0.  0.  0.  0.]\n",
            " [ 0.  0.  0.  0.  0.  0.  0.  0.  0.  0.  0.  0.  0.  0.  0.  0.  0.  0.\n",
            "   0.  0.  0.  0.  0.  0.]\n",
            " [ 0.  0.  0.  0.  0.  0.  0.  0.  0.  0.  0.  0.  0.  0.  0.  0.  0.  0.\n",
            "   0.  0.  0.  0.  0.  0.]\n",
            " [18. 18. 18. 18. 18. 18. 12. 12. 12. 12. 12. 12. 12. 12. 14. 14. 14. 14.\n",
            "  14. 14. 14. 14. 18. 18.]\n",
            " [18. 18. 18. 18. 18. 18. 12. 12. 12. 12. 12. 12. 12. 12. 14. 14. 14. 14.\n",
            "  14. 14. 14. 14. 18. 18.]\n",
            " [18. 18. 18. 18. 18. 18. 12. 12. 12. 12. 12. 12. 12. 12. 14. 14. 14. 14.\n",
            "  14. 14. 14. 14. 18. 18.]\n",
            " [18. 18. 18. 18. 18. 18. 12. 12. 12. 12. 12. 12. 12. 12. 14. 14. 14. 14.\n",
            "  14. 14. 14. 14. 18. 18.]]\n"
          ]
        }
      ]
    },
    {
      "cell_type": "code",
      "source": [
        "#Numero de operarios estimado en los procesos\n",
        "NOP= np.copy(MAQREF)\n",
        "NOP[REF[\"5\"]] = 2\n",
        "NOP[REF[\"6\"]] = 3\n",
        "NOP[REF[\"7\"]] = 1\n",
        "NOP[REF[\"8\"]] = 1\n",
        "print(NOP)"
      ],
      "metadata": {
        "colab": {
          "base_uri": "https://localhost:8080/"
        },
        "id": "dBGFZr_HaMzR",
        "outputId": "bb452631-506b-4da4-e6b9-74f14ce3d58e"
      },
      "execution_count": 17,
      "outputs": [
        {
          "output_type": "stream",
          "name": "stdout",
          "text": [
            "[[0.]\n",
            " [0.]\n",
            " [0.]\n",
            " [0.]\n",
            " [2.]\n",
            " [3.]\n",
            " [1.]\n",
            " [1.]]\n"
          ]
        }
      ]
    },
    {
      "cell_type": "code",
      "source": [
        "CMOTHORARIO  =np.multiply(MOTURNOS, np.multiply(T,NOP)) / 3600\n",
        "print(CMOTHORARIO)"
      ],
      "metadata": {
        "colab": {
          "base_uri": "https://localhost:8080/"
        },
        "id": "XiJVIasxbHJg",
        "outputId": "7aab9fb2-6f68-4717-8b67-8825a79f54e8"
      },
      "execution_count": 18,
      "outputs": [
        {
          "output_type": "stream",
          "name": "stdout",
          "text": [
            "[[0.         0.         0.         0.         0.         0.\n",
            "  0.         0.         0.         0.         0.         0.\n",
            "  0.         0.         0.         0.         0.         0.\n",
            "  0.         0.         0.         0.         0.         0.        ]\n",
            " [0.         0.         0.         0.         0.         0.\n",
            "  0.         0.         0.         0.         0.         0.\n",
            "  0.         0.         0.         0.         0.         0.\n",
            "  0.         0.         0.         0.         0.         0.        ]\n",
            " [0.         0.         0.         0.         0.         0.\n",
            "  0.         0.         0.         0.         0.         0.\n",
            "  0.         0.         0.         0.         0.         0.\n",
            "  0.         0.         0.         0.         0.         0.        ]\n",
            " [0.         0.         0.         0.         0.         0.\n",
            "  0.         0.         0.         0.         0.         0.\n",
            "  0.         0.         0.         0.         0.         0.\n",
            "  0.         0.         0.         0.         0.         0.        ]\n",
            " [1.2        1.2        1.2        1.2        1.2        1.2\n",
            "  0.8        0.8        0.8        0.8        0.8        0.8\n",
            "  0.8        0.8        0.93333333 0.93333333 0.93333333 0.93333333\n",
            "  0.93333333 0.93333333 0.93333333 0.93333333 1.2        1.2       ]\n",
            " [2.025      2.025      2.025      2.025      2.025      2.025\n",
            "  1.35       1.35       1.35       1.35       1.35       1.35\n",
            "  1.35       1.35       1.575      1.575      1.575      1.575\n",
            "  1.575      1.575      1.575      1.575      2.025      2.025     ]\n",
            " [0.45       0.45       0.45       0.45       0.45       0.45\n",
            "  0.3        0.3        0.3        0.3        0.3        0.3\n",
            "  0.3        0.3        0.35       0.35       0.35       0.35\n",
            "  0.35       0.35       0.35       0.35       0.45       0.45      ]\n",
            " [0.4        0.4        0.4        0.4        0.4        0.4\n",
            "  0.26666667 0.26666667 0.26666667 0.26666667 0.26666667 0.26666667\n",
            "  0.26666667 0.26666667 0.31111111 0.31111111 0.31111111 0.31111111\n",
            "  0.31111111 0.31111111 0.31111111 0.31111111 0.4        0.4       ]]\n"
          ]
        }
      ]
    },
    {
      "cell_type": "markdown",
      "source": [
        "\n",
        "Ahora nos centraremso en el cálculo de la mano de obra\n",
        "\n",
        "MAQ = Vector Maquinas (n x 1)\n",
        "\n",
        "CMF = Coste máquina fijo (n x 24)\n",
        "\n",
        "CPOT = Tabla de coste de potencias (n x 24)\n",
        "\n",
        "POT = Potencia de Maquinaria (n x 1) KWH\n",
        "\n",
        "CELECM = Coste potencia turno mañana\n",
        "\n",
        "CELECT = coste potencia turno tarde\n",
        "\n",
        "CELECN = Coste potencia turno Noche\n",
        "\n",
        "CMVTURNOS = Coste maquina variable (n x 24))\n",
        "\n",
        "T =  Tiempos de ciclo (n x 1) (Definidos anteriormente)\n",
        "\n",
        "CMQVTHORARIO = Coste de maquina total (nx24) resultado de CMVTURNOS * POT *T / 3600\n",
        "\n",
        "CMTOT = (CMF + CMQVTHORARIO) * T / 3600"
      ],
      "metadata": {
        "id": "3SCFZQDGenMD"
      }
    },
    {
      "cell_type": "code",
      "source": [
        "from genericpath import commonprefix\n",
        "#Coste maquina definido por cliente CMF\n",
        "cmfijo = 5  #5 es un valor estimado\n",
        "CMF = np.ones((n,24))\n",
        "CMF = np.multiply(CMF, MAQREF)\n",
        "CMF = CMF * cmfijo\n",
        "print (CMF)"
      ],
      "metadata": {
        "colab": {
          "base_uri": "https://localhost:8080/"
        },
        "id": "EbiVC5Moenfy",
        "outputId": "9d5402b0-7d0f-426e-d178-bc532d5112df"
      },
      "execution_count": 19,
      "outputs": [
        {
          "output_type": "stream",
          "name": "stdout",
          "text": [
            "[[0. 0. 0. 0. 0. 0. 0. 0. 0. 0. 0. 0. 0. 0. 0. 0. 0. 0. 0. 0. 0. 0. 0. 0.]\n",
            " [0. 0. 0. 0. 0. 0. 0. 0. 0. 0. 0. 0. 0. 0. 0. 0. 0. 0. 0. 0. 0. 0. 0. 0.]\n",
            " [0. 0. 0. 0. 0. 0. 0. 0. 0. 0. 0. 0. 0. 0. 0. 0. 0. 0. 0. 0. 0. 0. 0. 0.]\n",
            " [0. 0. 0. 0. 0. 0. 0. 0. 0. 0. 0. 0. 0. 0. 0. 0. 0. 0. 0. 0. 0. 0. 0. 0.]\n",
            " [5. 5. 5. 5. 5. 5. 5. 5. 5. 5. 5. 5. 5. 5. 5. 5. 5. 5. 5. 5. 5. 5. 5. 5.]\n",
            " [5. 5. 5. 5. 5. 5. 5. 5. 5. 5. 5. 5. 5. 5. 5. 5. 5. 5. 5. 5. 5. 5. 5. 5.]\n",
            " [5. 5. 5. 5. 5. 5. 5. 5. 5. 5. 5. 5. 5. 5. 5. 5. 5. 5. 5. 5. 5. 5. 5. 5.]\n",
            " [5. 5. 5. 5. 5. 5. 5. 5. 5. 5. 5. 5. 5. 5. 5. 5. 5. 5. 5. 5. 5. 5. 5. 5.]]\n"
          ]
        }
      ]
    },
    {
      "cell_type": "code",
      "source": [
        "#Numero de operarios estimado en los procesos\n",
        "CPOT= np.copy(MAQREF)\n",
        "CPOT[REF[\"5\"]] = 50\n",
        "CPOT[REF[\"6\"]] = 60\n",
        "CPOT[REF[\"7\"]] = 120\n",
        "CPOT[REF[\"8\"]] = 12\n",
        "print(CPOT)"
      ],
      "metadata": {
        "colab": {
          "base_uri": "https://localhost:8080/"
        },
        "id": "zw1B3Bx4gc0k",
        "outputId": "22f2ea65-6cf8-47f4-c7cf-08e7378dedcc"
      },
      "execution_count": 20,
      "outputs": [
        {
          "output_type": "stream",
          "name": "stdout",
          "text": [
            "[[  0.]\n",
            " [  0.]\n",
            " [  0.]\n",
            " [  0.]\n",
            " [ 50.]\n",
            " [ 60.]\n",
            " [120.]\n",
            " [ 12.]]\n"
          ]
        }
      ]
    },
    {
      "cell_type": "code",
      "source": [
        "CMTURNOS = np.ones((n,24))\n",
        "CMTURNOS = np.multiply(CMTURNOS, MAQREF)\n",
        "print(CMTURNOS)"
      ],
      "metadata": {
        "colab": {
          "base_uri": "https://localhost:8080/"
        },
        "id": "VuYTEzJkhmrb",
        "outputId": "e76ce17d-54f8-404a-9197-ea588e95ef65"
      },
      "execution_count": 21,
      "outputs": [
        {
          "output_type": "stream",
          "name": "stdout",
          "text": [
            "[[0. 0. 0. 0. 0. 0. 0. 0. 0. 0. 0. 0. 0. 0. 0. 0. 0. 0. 0. 0. 0. 0. 0. 0.]\n",
            " [0. 0. 0. 0. 0. 0. 0. 0. 0. 0. 0. 0. 0. 0. 0. 0. 0. 0. 0. 0. 0. 0. 0. 0.]\n",
            " [0. 0. 0. 0. 0. 0. 0. 0. 0. 0. 0. 0. 0. 0. 0. 0. 0. 0. 0. 0. 0. 0. 0. 0.]\n",
            " [0. 0. 0. 0. 0. 0. 0. 0. 0. 0. 0. 0. 0. 0. 0. 0. 0. 0. 0. 0. 0. 0. 0. 0.]\n",
            " [1. 1. 1. 1. 1. 1. 1. 1. 1. 1. 1. 1. 1. 1. 1. 1. 1. 1. 1. 1. 1. 1. 1. 1.]\n",
            " [1. 1. 1. 1. 1. 1. 1. 1. 1. 1. 1. 1. 1. 1. 1. 1. 1. 1. 1. 1. 1. 1. 1. 1.]\n",
            " [1. 1. 1. 1. 1. 1. 1. 1. 1. 1. 1. 1. 1. 1. 1. 1. 1. 1. 1. 1. 1. 1. 1. 1.]\n",
            " [1. 1. 1. 1. 1. 1. 1. 1. 1. 1. 1. 1. 1. 1. 1. 1. 1. 1. 1. 1. 1. 1. 1. 1.]]\n"
          ]
        }
      ]
    },
    {
      "cell_type": "code",
      "source": [
        "\n",
        "CELECM = 0.12\n",
        "CELECT = 0.14\n",
        "CELECN = 0.16\n",
        "CMTURNOS [:,0:6] *=  CELECN\n",
        "CMTURNOS [:,6:14] *=  CELECM\n",
        "CMTURNOS [:,14:22] *=  CELECT\n",
        "CMTURNOS [:,22:24] *=  CELECN\n",
        "print(CMTURNOS)"
      ],
      "metadata": {
        "colab": {
          "base_uri": "https://localhost:8080/"
        },
        "id": "R2HmTEIJhd6I",
        "outputId": "c92333d0-f55c-4e6e-b329-25260407e14d"
      },
      "execution_count": 22,
      "outputs": [
        {
          "output_type": "stream",
          "name": "stdout",
          "text": [
            "[[0.   0.   0.   0.   0.   0.   0.   0.   0.   0.   0.   0.   0.   0.\n",
            "  0.   0.   0.   0.   0.   0.   0.   0.   0.   0.  ]\n",
            " [0.   0.   0.   0.   0.   0.   0.   0.   0.   0.   0.   0.   0.   0.\n",
            "  0.   0.   0.   0.   0.   0.   0.   0.   0.   0.  ]\n",
            " [0.   0.   0.   0.   0.   0.   0.   0.   0.   0.   0.   0.   0.   0.\n",
            "  0.   0.   0.   0.   0.   0.   0.   0.   0.   0.  ]\n",
            " [0.   0.   0.   0.   0.   0.   0.   0.   0.   0.   0.   0.   0.   0.\n",
            "  0.   0.   0.   0.   0.   0.   0.   0.   0.   0.  ]\n",
            " [0.16 0.16 0.16 0.16 0.16 0.16 0.12 0.12 0.12 0.12 0.12 0.12 0.12 0.12\n",
            "  0.14 0.14 0.14 0.14 0.14 0.14 0.14 0.14 0.16 0.16]\n",
            " [0.16 0.16 0.16 0.16 0.16 0.16 0.12 0.12 0.12 0.12 0.12 0.12 0.12 0.12\n",
            "  0.14 0.14 0.14 0.14 0.14 0.14 0.14 0.14 0.16 0.16]\n",
            " [0.16 0.16 0.16 0.16 0.16 0.16 0.12 0.12 0.12 0.12 0.12 0.12 0.12 0.12\n",
            "  0.14 0.14 0.14 0.14 0.14 0.14 0.14 0.14 0.16 0.16]\n",
            " [0.16 0.16 0.16 0.16 0.16 0.16 0.12 0.12 0.12 0.12 0.12 0.12 0.12 0.12\n",
            "  0.14 0.14 0.14 0.14 0.14 0.14 0.14 0.14 0.16 0.16]]\n"
          ]
        }
      ]
    },
    {
      "cell_type": "code",
      "source": [
        "CMQVTHORARIO  = np.multiply(CMTURNOS , CPOT)\n",
        "print(CMQVTHORARIO)"
      ],
      "metadata": {
        "colab": {
          "base_uri": "https://localhost:8080/"
        },
        "id": "tiVwHu-BjbAC",
        "outputId": "898e2b5c-8750-4153-a11d-1bff67c5a8b1"
      },
      "execution_count": 23,
      "outputs": [
        {
          "output_type": "stream",
          "name": "stdout",
          "text": [
            "[[ 0.    0.    0.    0.    0.    0.    0.    0.    0.    0.    0.    0.\n",
            "   0.    0.    0.    0.    0.    0.    0.    0.    0.    0.    0.    0.  ]\n",
            " [ 0.    0.    0.    0.    0.    0.    0.    0.    0.    0.    0.    0.\n",
            "   0.    0.    0.    0.    0.    0.    0.    0.    0.    0.    0.    0.  ]\n",
            " [ 0.    0.    0.    0.    0.    0.    0.    0.    0.    0.    0.    0.\n",
            "   0.    0.    0.    0.    0.    0.    0.    0.    0.    0.    0.    0.  ]\n",
            " [ 0.    0.    0.    0.    0.    0.    0.    0.    0.    0.    0.    0.\n",
            "   0.    0.    0.    0.    0.    0.    0.    0.    0.    0.    0.    0.  ]\n",
            " [ 8.    8.    8.    8.    8.    8.    6.    6.    6.    6.    6.    6.\n",
            "   6.    6.    7.    7.    7.    7.    7.    7.    7.    7.    8.    8.  ]\n",
            " [ 9.6   9.6   9.6   9.6   9.6   9.6   7.2   7.2   7.2   7.2   7.2   7.2\n",
            "   7.2   7.2   8.4   8.4   8.4   8.4   8.4   8.4   8.4   8.4   9.6   9.6 ]\n",
            " [19.2  19.2  19.2  19.2  19.2  19.2  14.4  14.4  14.4  14.4  14.4  14.4\n",
            "  14.4  14.4  16.8  16.8  16.8  16.8  16.8  16.8  16.8  16.8  19.2  19.2 ]\n",
            " [ 1.92  1.92  1.92  1.92  1.92  1.92  1.44  1.44  1.44  1.44  1.44  1.44\n",
            "   1.44  1.44  1.68  1.68  1.68  1.68  1.68  1.68  1.68  1.68  1.92  1.92]]\n"
          ]
        }
      ]
    },
    {
      "cell_type": "code",
      "source": [
        "CMTOT = np.multiply((CMF + CMQVTHORARIO), T) / 3600\n",
        "print (CMTOT)"
      ],
      "metadata": {
        "colab": {
          "base_uri": "https://localhost:8080/"
        },
        "id": "KWnUblwSjufv",
        "outputId": "8e690447-62b0-42d2-ddc4-d0bfd7705493"
      },
      "execution_count": 24,
      "outputs": [
        {
          "output_type": "stream",
          "name": "stdout",
          "text": [
            "[[0.         0.         0.         0.         0.         0.\n",
            "  0.         0.         0.         0.         0.         0.\n",
            "  0.         0.         0.         0.         0.         0.\n",
            "  0.         0.         0.         0.         0.         0.        ]\n",
            " [0.         0.         0.         0.         0.         0.\n",
            "  0.         0.         0.         0.         0.         0.\n",
            "  0.         0.         0.         0.         0.         0.\n",
            "  0.         0.         0.         0.         0.         0.        ]\n",
            " [0.         0.         0.         0.         0.         0.\n",
            "  0.         0.         0.         0.         0.         0.\n",
            "  0.         0.         0.         0.         0.         0.\n",
            "  0.         0.         0.         0.         0.         0.        ]\n",
            " [0.         0.         0.         0.         0.         0.\n",
            "  0.         0.         0.         0.         0.         0.\n",
            "  0.         0.         0.         0.         0.         0.\n",
            "  0.         0.         0.         0.         0.         0.        ]\n",
            " [0.43333333 0.43333333 0.43333333 0.43333333 0.43333333 0.43333333\n",
            "  0.36666667 0.36666667 0.36666667 0.36666667 0.36666667 0.36666667\n",
            "  0.36666667 0.36666667 0.4        0.4        0.4        0.4\n",
            "  0.4        0.4        0.4        0.4        0.43333333 0.43333333]\n",
            " [0.5475     0.5475     0.5475     0.5475     0.5475     0.5475\n",
            "  0.4575     0.4575     0.4575     0.4575     0.4575     0.4575\n",
            "  0.4575     0.4575     0.5025     0.5025     0.5025     0.5025\n",
            "  0.5025     0.5025     0.5025     0.5025     0.5475     0.5475    ]\n",
            " [0.605      0.605      0.605      0.605      0.605      0.605\n",
            "  0.485      0.485      0.485      0.485      0.485      0.485\n",
            "  0.485      0.485      0.545      0.545      0.545      0.545\n",
            "  0.545      0.545      0.545      0.545      0.605      0.605     ]\n",
            " [0.15377778 0.15377778 0.15377778 0.15377778 0.15377778 0.15377778\n",
            "  0.14311111 0.14311111 0.14311111 0.14311111 0.14311111 0.14311111\n",
            "  0.14311111 0.14311111 0.14844444 0.14844444 0.14844444 0.14844444\n",
            "  0.14844444 0.14844444 0.14844444 0.14844444 0.15377778 0.15377778]]\n"
          ]
        }
      ]
    },
    {
      "cell_type": "markdown",
      "source": [
        "El coste total es el resultado de sumar el coste máquina y el de operario\n",
        "CTOTHORARIO"
      ],
      "metadata": {
        "id": "MFMXrwHPl52f"
      }
    },
    {
      "cell_type": "code",
      "source": [
        "CTOTHORARIO = CMOTHORARIO + CMTOT\n",
        "print (CTOTHORARIO)"
      ],
      "metadata": {
        "colab": {
          "base_uri": "https://localhost:8080/"
        },
        "id": "4d5U4LTHkvY_",
        "outputId": "00ef4d55-2902-4246-a648-41bb59536b81"
      },
      "execution_count": 25,
      "outputs": [
        {
          "output_type": "stream",
          "name": "stdout",
          "text": [
            "[[0.         0.         0.         0.         0.         0.\n",
            "  0.         0.         0.         0.         0.         0.\n",
            "  0.         0.         0.         0.         0.         0.\n",
            "  0.         0.         0.         0.         0.         0.        ]\n",
            " [0.         0.         0.         0.         0.         0.\n",
            "  0.         0.         0.         0.         0.         0.\n",
            "  0.         0.         0.         0.         0.         0.\n",
            "  0.         0.         0.         0.         0.         0.        ]\n",
            " [0.         0.         0.         0.         0.         0.\n",
            "  0.         0.         0.         0.         0.         0.\n",
            "  0.         0.         0.         0.         0.         0.\n",
            "  0.         0.         0.         0.         0.         0.        ]\n",
            " [0.         0.         0.         0.         0.         0.\n",
            "  0.         0.         0.         0.         0.         0.\n",
            "  0.         0.         0.         0.         0.         0.\n",
            "  0.         0.         0.         0.         0.         0.        ]\n",
            " [1.63333333 1.63333333 1.63333333 1.63333333 1.63333333 1.63333333\n",
            "  1.16666667 1.16666667 1.16666667 1.16666667 1.16666667 1.16666667\n",
            "  1.16666667 1.16666667 1.33333333 1.33333333 1.33333333 1.33333333\n",
            "  1.33333333 1.33333333 1.33333333 1.33333333 1.63333333 1.63333333]\n",
            " [2.5725     2.5725     2.5725     2.5725     2.5725     2.5725\n",
            "  1.8075     1.8075     1.8075     1.8075     1.8075     1.8075\n",
            "  1.8075     1.8075     2.0775     2.0775     2.0775     2.0775\n",
            "  2.0775     2.0775     2.0775     2.0775     2.5725     2.5725    ]\n",
            " [1.055      1.055      1.055      1.055      1.055      1.055\n",
            "  0.785      0.785      0.785      0.785      0.785      0.785\n",
            "  0.785      0.785      0.895      0.895      0.895      0.895\n",
            "  0.895      0.895      0.895      0.895      1.055      1.055     ]\n",
            " [0.55377778 0.55377778 0.55377778 0.55377778 0.55377778 0.55377778\n",
            "  0.40977778 0.40977778 0.40977778 0.40977778 0.40977778 0.40977778\n",
            "  0.40977778 0.40977778 0.45955556 0.45955556 0.45955556 0.45955556\n",
            "  0.45955556 0.45955556 0.45955556 0.45955556 0.55377778 0.55377778]]\n"
          ]
        }
      ]
    },
    {
      "cell_type": "code",
      "source": [],
      "metadata": {
        "id": "twTL-lb8mmY4"
      },
      "execution_count": 25,
      "outputs": []
    }
  ]
}