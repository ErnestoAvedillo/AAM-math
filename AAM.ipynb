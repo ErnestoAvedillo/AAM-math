{
  "nbformat": 4,
  "nbformat_minor": 0,
  "metadata": {
    "colab": {
      "provenance": [],
      "include_colab_link": true
    },
    "kernelspec": {
      "name": "python3",
      "display_name": "Python 3"
    },
    "language_info": {
      "name": "python"
    }
  },
  "cells": [
    {
      "cell_type": "markdown",
      "metadata": {
        "id": "view-in-github",
        "colab_type": "text"
      },
      "source": [
        "<a href=\"https://colab.research.google.com/github/ErnestoAvedillo/AAM-math/blob/main/AAM.ipynb\" target=\"_parent\"><img src=\"https://colab.research.google.com/assets/colab-badge.svg\" alt=\"Open In Colab\"/></a>"
      ]
    },
    {
      "cell_type": "code",
      "source": [
        "!pip install --upgrade gspread"
      ],
      "metadata": {
        "colab": {
          "base_uri": "https://localhost:8080/"
        },
        "id": "5Q4Tpl1HzqpW",
        "outputId": "cf911003-ee2b-476a-9d66-b2167dc7fd13"
      },
      "execution_count": null,
      "outputs": [
        {
          "output_type": "stream",
          "name": "stdout",
          "text": [
            "Looking in indexes: https://pypi.org/simple, https://us-python.pkg.dev/colab-wheels/public/simple/\n",
            "Requirement already satisfied: gspread in /usr/local/lib/python3.10/dist-packages (5.9.0)\n",
            "Requirement already satisfied: google-auth>=1.12.0 in /usr/local/lib/python3.10/dist-packages (from gspread) (2.17.3)\n",
            "Requirement already satisfied: google-auth-oauthlib>=0.4.1 in /usr/local/lib/python3.10/dist-packages (from gspread) (1.0.0)\n",
            "Requirement already satisfied: cachetools<6.0,>=2.0.0 in /usr/local/lib/python3.10/dist-packages (from google-auth>=1.12.0->gspread) (5.3.0)\n",
            "Requirement already satisfied: pyasn1-modules>=0.2.1 in /usr/local/lib/python3.10/dist-packages (from google-auth>=1.12.0->gspread) (0.3.0)\n",
            "Requirement already satisfied: six>=1.9.0 in /usr/local/lib/python3.10/dist-packages (from google-auth>=1.12.0->gspread) (1.16.0)\n",
            "Requirement already satisfied: rsa<5,>=3.1.4 in /usr/local/lib/python3.10/dist-packages (from google-auth>=1.12.0->gspread) (4.9)\n",
            "Requirement already satisfied: requests-oauthlib>=0.7.0 in /usr/local/lib/python3.10/dist-packages (from google-auth-oauthlib>=0.4.1->gspread) (1.3.1)\n",
            "Requirement already satisfied: pyasn1<0.6.0,>=0.4.6 in /usr/local/lib/python3.10/dist-packages (from pyasn1-modules>=0.2.1->google-auth>=1.12.0->gspread) (0.5.0)\n",
            "Requirement already satisfied: oauthlib>=3.0.0 in /usr/local/lib/python3.10/dist-packages (from requests-oauthlib>=0.7.0->google-auth-oauthlib>=0.4.1->gspread) (3.2.2)\n",
            "Requirement already satisfied: requests>=2.0.0 in /usr/local/lib/python3.10/dist-packages (from requests-oauthlib>=0.7.0->google-auth-oauthlib>=0.4.1->gspread) (2.27.1)\n",
            "Requirement already satisfied: urllib3<1.27,>=1.21.1 in /usr/local/lib/python3.10/dist-packages (from requests>=2.0.0->requests-oauthlib>=0.7.0->google-auth-oauthlib>=0.4.1->gspread) (1.26.15)\n",
            "Requirement already satisfied: certifi>=2017.4.17 in /usr/local/lib/python3.10/dist-packages (from requests>=2.0.0->requests-oauthlib>=0.7.0->google-auth-oauthlib>=0.4.1->gspread) (2022.12.7)\n",
            "Requirement already satisfied: charset-normalizer~=2.0.0 in /usr/local/lib/python3.10/dist-packages (from requests>=2.0.0->requests-oauthlib>=0.7.0->google-auth-oauthlib>=0.4.1->gspread) (2.0.12)\n",
            "Requirement already satisfied: idna<4,>=2.5 in /usr/local/lib/python3.10/dist-packages (from requests>=2.0.0->requests-oauthlib>=0.7.0->google-auth-oauthlib>=0.4.1->gspread) (3.4)\n"
          ]
        }
      ]
    },
    {
      "cell_type": "code",
      "source": [
        "!pip install --upgrade pandas"
      ],
      "metadata": {
        "colab": {
          "base_uri": "https://localhost:8080/"
        },
        "id": "TjnU4f8CNTXx",
        "outputId": "0261ca9f-eb2a-4953-9e1a-d86476e6a25f"
      },
      "execution_count": null,
      "outputs": [
        {
          "output_type": "stream",
          "name": "stdout",
          "text": [
            "Looking in indexes: https://pypi.org/simple, https://us-python.pkg.dev/colab-wheels/public/simple/\n",
            "Requirement already satisfied: pandas in /usr/local/lib/python3.10/dist-packages (2.0.2)\n",
            "Requirement already satisfied: python-dateutil>=2.8.2 in /usr/local/lib/python3.10/dist-packages (from pandas) (2.8.2)\n",
            "Requirement already satisfied: pytz>=2020.1 in /usr/local/lib/python3.10/dist-packages (from pandas) (2022.7.1)\n",
            "Requirement already satisfied: tzdata>=2022.1 in /usr/local/lib/python3.10/dist-packages (from pandas) (2023.3)\n",
            "Requirement already satisfied: numpy>=1.21.0 in /usr/local/lib/python3.10/dist-packages (from pandas) (1.22.4)\n",
            "Requirement already satisfied: six>=1.5 in /usr/local/lib/python3.10/dist-packages (from python-dateutil>=2.8.2->pandas) (1.16.0)\n"
          ]
        }
      ]
    },
    {
      "cell_type": "code",
      "execution_count": null,
      "metadata": {
        "id": "fFhfTd4HCtR2"
      },
      "outputs": [],
      "source": [
        "import pandas as pd\n",
        "import numpy as np\n",
        "from google.colab import auth\n",
        "import gspread\n",
        "from google.auth import default#autenticating to google"
      ]
    },
    {
      "cell_type": "code",
      "source": [
        "gspread.__version__"
      ],
      "metadata": {
        "colab": {
          "base_uri": "https://localhost:8080/",
          "height": 35
        },
        "id": "PgIv2iqb2jQA",
        "outputId": "d2579d83-753d-43b1-d2f8-4c09f33f1579"
      },
      "execution_count": null,
      "outputs": [
        {
          "output_type": "execute_result",
          "data": {
            "text/plain": [
              "'3.4.2'"
            ],
            "application/vnd.google.colaboratory.intrinsic+json": {
              "type": "string"
            }
          },
          "metadata": {},
          "execution_count": 2
        }
      ]
    },
    {
      "cell_type": "code",
      "source": [
        "pd.__version__"
      ],
      "metadata": {
        "colab": {
          "base_uri": "https://localhost:8080/",
          "height": 35
        },
        "id": "QaQPzUJgNiB4",
        "outputId": "2bc951db-4883-4773-de71-135df16434ca"
      },
      "execution_count": null,
      "outputs": [
        {
          "output_type": "execute_result",
          "data": {
            "text/plain": [
              "'1.5.3'"
            ],
            "application/vnd.google.colaboratory.intrinsic+json": {
              "type": "string"
            }
          },
          "metadata": {},
          "execution_count": 3
        }
      ]
    },
    {
      "cell_type": "code",
      "source": [
        "from google.colab import drive\n",
        "drive.mount('/content/drive')"
      ],
      "metadata": {
        "colab": {
          "base_uri": "https://localhost:8080/"
        },
        "id": "3Hcshit8udT1",
        "outputId": "6f84d07f-a118-4fa3-ab08-bccf69ca8400"
      },
      "execution_count": null,
      "outputs": [
        {
          "output_type": "stream",
          "name": "stdout",
          "text": [
            "Mounted at /content/drive\n"
          ]
        }
      ]
    },
    {
      "cell_type": "markdown",
      "source": [
        "#Reading Excel AAM data.gsheet\n"
      ],
      "metadata": {
        "id": "5xB3ZkA2FVbM"
      }
    },
    {
      "cell_type": "code",
      "source": [
        "auth.authenticate_user()\n",
        "creds, _ = default()\n",
        "gc = gspread.authorize(creds)\n",
        "file_path = \"/content/drive/MyDrive/Colab Notebooks/AAM data.gsheet\"\n",
        "try:\n",
        "    AAM_workbook = gc.open_by_key('1vR38j6NLoZ8e_B8zdlVAHdtYq5INmhb9xcRPm23llso')\n",
        "    #worksheet = gc.open(file_path)\n",
        "    print(\"Google Sheet opened successfully.\")\n",
        "except gspread.exceptions.SpreadsheetNotFound:\n",
        "    print(\"Error: Spreadsheet not found.\") #Convert to a DataFrame\n"
      ],
      "metadata": {
        "colab": {
          "base_uri": "https://localhost:8080/"
        },
        "id": "4SjrQclE4W10",
        "outputId": "21ebafb5-7938-4fd2-98c9-ce057adc3aeb"
      },
      "execution_count": null,
      "outputs": [
        {
          "output_type": "stream",
          "name": "stdout",
          "text": [
            "Google Sheet opened successfully.\n"
          ]
        }
      ]
    },
    {
      "cell_type": "markdown",
      "source": [
        "# **Primera parte** Modelado de la producción\n",
        "\n",
        "Cálculo del coste de las demandas internas.\n",
        "\n",
        "known_references = nḿero de referencias (n).\n",
        "\n",
        "REF = diccionario con las referencias de la empresa (TODAS , las de compra , internas  y de producto acabado.)\n",
        "\n",
        "DC = Demanda de cliente\n",
        "\n",
        "BOM = es una tabla de n x n con el BOM de los producto (Todos) Build of Materials"
      ],
      "metadata": {
        "id": "grjRvn1cOzfV"
      }
    },
    {
      "cell_type": "markdown",
      "source": [
        "##Obteniendo un listado de las referencias.\n"
      ],
      "metadata": {
        "id": "-zXdag4HObJh"
      }
    },
    {
      "cell_type": "code",
      "source": [
        "BOM_worksheet = AAM_workbook.worksheet('BOM')#Convert to a DataFrame\n",
        "rows = BOM_worksheet.get_all_values()#Convert to a DataFrame\n",
        "df = pd.DataFrame(rows)\n",
        "#creating columns name\n",
        "df.columns = df.iloc[0]\n",
        "df = df.iloc[1:]\n",
        "REF_df = pd.concat([df['Ref Entrada'],df['Ref Salida']]).drop_duplicates()\n",
        "#REF = REF_df[:].to_dict(orient='dict') does not work will try again\n",
        "REF = {}\n",
        "n = 0\n",
        "for i in REF_df:\n",
        "  REF[i] = n\n",
        "  n += 1\n",
        "print (\"Diccionario de referencias con sus índices\")\n",
        "print(REF)"
      ],
      "metadata": {
        "colab": {
          "base_uri": "https://localhost:8080/"
        },
        "id": "saXU46PkGKND",
        "outputId": "2e95538e-d73e-47fe-ade7-1e7fb1706d76"
      },
      "execution_count": null,
      "outputs": [
        {
          "output_type": "stream",
          "name": "stdout",
          "text": [
            "Diccionario de referencias con sus índices\n",
            "{'AAA': 0, 'AMA': 1, 'BAJ': 2, 'AAB': 3, 'CAT': 4, 'AAE': 5, 'BAC': 6, 'CAR': 7, 'AAF': 8, 'BAD': 9, 'CAV': 10, 'AAC': 11, 'CAB': 12, 'CAX': 13, 'CAH': 14}\n"
          ]
        }
      ]
    },
    {
      "cell_type": "code",
      "source": [
        "# Obtengo el numero de referencias\n",
        "known_references = REF_df.shape[0]\n",
        "print(\"Número total de referencias \", known_references)"
      ],
      "metadata": {
        "colab": {
          "base_uri": "https://localhost:8080/"
        },
        "id": "fQeCTHQkOr1r",
        "outputId": "09272d30-3f3c-4429-d9c0-d69f5cbdc95d"
      },
      "execution_count": null,
      "outputs": [
        {
          "output_type": "stream",
          "name": "stdout",
          "text": [
            "Número total de referencias  15\n"
          ]
        }
      ]
    },
    {
      "cell_type": "markdown",
      "source": [
        "## Creando el BOM que aparece en el Excel"
      ],
      "metadata": {
        "id": "CZEoiGkJPKeH"
      }
    },
    {
      "cell_type": "code",
      "source": [
        "#BILL OF MATERIALS\n",
        "BOM = np.zeros((known_references,known_references))\n",
        "for index, row in df.iterrows():\n",
        "  BOM[REF[row[\"Ref Salida\"]],REF[row[\"Ref Entrada\"]]] = float(row[\"Cantidad\"].replace(',', '.'))\n",
        "BOM_df = pd.DataFrame(BOM,index=REF_df, columns=REF_df)\n",
        "print (BOM_df)"
      ],
      "metadata": {
        "colab": {
          "base_uri": "https://localhost:8080/"
        },
        "id": "YwR52Ct5PJtQ",
        "outputId": "5e2ea270-f379-4d31-8903-91e1dc202b2c"
      },
      "execution_count": null,
      "outputs": [
        {
          "output_type": "stream",
          "name": "stdout",
          "text": [
            "     AAA   AMA  BAJ  AAB  CAT  AAE  BAC  CAR  AAF  BAD  CAV  AAC  CAB  CAX  \\\n",
            "AAA  0.0  0.00  0.0  0.0  0.0  0.0  0.0  0.0  0.0  0.0  0.0  0.0  0.0  0.0   \n",
            "AMA  0.0  0.00  0.0  0.0  0.0  0.0  0.0  0.0  0.0  0.0  0.0  0.0  0.0  0.0   \n",
            "BAJ  1.0  0.00  0.0  0.0  0.0  0.0  0.0  0.0  0.0  0.0  0.0  0.0  0.0  0.0   \n",
            "AAB  0.0  0.00  0.0  0.0  0.0  0.0  0.0  0.0  0.0  0.0  0.0  0.0  0.0  0.0   \n",
            "CAT  0.0  0.07  1.0  0.0  0.0  0.0  0.0  0.0  0.0  0.0  0.0  0.0  0.0  0.0   \n",
            "AAE  0.0  0.00  0.0  0.0  0.0  0.0  0.0  0.0  0.0  0.0  0.0  0.0  0.0  0.0   \n",
            "BAC  0.0  0.00  0.0  0.0  0.0  1.0  0.0  0.0  0.0  0.0  0.0  0.0  0.0  0.0   \n",
            "CAR  0.0  0.08  0.0  0.0  0.0  0.0  1.0  0.0  0.0  0.0  0.0  0.0  0.0  0.0   \n",
            "AAF  0.0  0.00  0.0  0.0  0.0  0.0  0.0  0.0  0.0  0.0  0.0  0.0  0.0  0.0   \n",
            "BAD  0.0  0.00  0.0  0.0  0.0  1.0  0.0  0.0  0.0  0.0  0.0  0.0  0.0  0.0   \n",
            "CAV  0.0  0.05  0.0  0.0  0.0  0.0  0.0  0.0  0.0  1.0  0.0  0.0  0.0  0.0   \n",
            "AAC  0.0  0.00  0.0  0.0  0.0  0.0  0.0  0.0  0.0  0.0  0.0  0.0  0.0  0.0   \n",
            "CAB  0.0  0.00  0.0  0.5  2.0  0.0  0.0  0.0  0.0  0.0  0.0  0.0  0.0  0.0   \n",
            "CAX  0.0  0.00  0.0  0.8  0.0  0.0  0.0  1.0  1.0  0.0  0.0  0.0  0.0  0.0   \n",
            "CAH  0.0  0.00  0.0  0.0  0.0  0.0  0.0  0.0  0.0  0.0  1.0  0.9  0.0  0.0   \n",
            "\n",
            "     CAH  \n",
            "AAA  0.0  \n",
            "AMA  0.0  \n",
            "BAJ  0.0  \n",
            "AAB  0.0  \n",
            "CAT  0.0  \n",
            "AAE  0.0  \n",
            "BAC  0.0  \n",
            "CAR  0.0  \n",
            "AAF  0.0  \n",
            "BAD  0.0  \n",
            "CAV  0.0  \n",
            "AAC  0.0  \n",
            "CAB  0.0  \n",
            "CAX  0.0  \n",
            "CAH  0.0  \n"
          ]
        }
      ]
    },
    {
      "cell_type": "markdown",
      "source": [
        "## Obtención de la demanda de cliente"
      ],
      "metadata": {
        "id": "6Tn_7o44X0yO"
      }
    },
    {
      "cell_type": "code",
      "source": [
        "DC_worksheet = AAM_workbook.worksheet('DC') #Convert to a DataFrame\n",
        "rows = DC_worksheet.get_all_values()#Convert to a DataFrame\n",
        "DC_df = pd.DataFrame(rows)\n",
        "DC_df.iloc[0][0] = None\n",
        "# Set row 1 as column names\n",
        "DC_df.columns = DC_df.iloc[0]\n",
        "\n",
        "# Set column 1 as row names\n",
        "DC_df = DC_df.set_index(DC_df.iloc[:, 0])\n",
        "\n",
        "# Remove row 1 and column 1\n",
        "DC_df = DC_df.iloc[1:, 1:]\n",
        "print(DC_df)\n",
        "#Demandas de cliente\n",
        "Dias = DC_df.shape[1]\n",
        "Profundidad = 10\n",
        "DC = np.zeros((known_references,Profundidad,Dias))\n",
        "for index, row in DC_df.iterrows():\n",
        "  n = 0\n",
        "  for i in row:\n",
        "    DC[REF[index],0,n] = i\n",
        "    n += 1\n",
        "print('\\n')\n",
        "#print (DC)"
      ],
      "metadata": {
        "id": "gOWlfBCCLnAG",
        "colab": {
          "base_uri": "https://localhost:8080/"
        },
        "outputId": "e5bc1c9d-4f71-406d-85e6-0c4437737a9c"
      },
      "execution_count": null,
      "outputs": [
        {
          "output_type": "stream",
          "name": "stdout",
          "text": [
            "0   SEM1 SEM2 SEM3 SEM4\n",
            "CAB   30   50   40   20\n",
            "CAX  100  110  110  130\n",
            "CAH  300  350  310  340\n",
            "\n",
            "\n"
          ]
        }
      ]
    },
    {
      "cell_type": "markdown",
      "source": [
        "Simulacion de un BOM con dos productos diferentes"
      ],
      "metadata": {
        "id": "Ch2h-ctNPf6e"
      }
    },
    {
      "cell_type": "markdown",
      "source": [
        "**Listado de Maquinaria**\n",
        "\n",
        "mumMaquinas = número de máquinas\n",
        "\n",
        "DICMAQ = Diccionario de maquinaria (m x 1)\n",
        "\n",
        "BOMMAQ = Listado de maquinaria por referencia (m x n)\n",
        "\n",
        "##Descargamos los datos de las máuinas"
      ],
      "metadata": {
        "id": "rgp-D6lZPnGn"
      }
    },
    {
      "cell_type": "code",
      "source": [
        "Maquinas_worksheet = AAM_workbook.worksheet('MAQUINARIA') #Convert to a DataFrame\n",
        "rows = Maquinas_worksheet.get_all_values()#Convert to a DataFrame\n",
        "MAQUINAS_df = pd.DataFrame(rows)\n",
        "# Set row 1 as column names\n",
        "MAQUINAS_df.columns = MAQUINAS_df.iloc[0]\n",
        "# Remove row 1 and column 1\n",
        "MAQUINAS_df = MAQUINAS_df.iloc[1:,:]\n",
        "print(MAQUINAS_df)\n"
      ],
      "metadata": {
        "colab": {
          "base_uri": "https://localhost:8080/"
        },
        "id": "ntcz1oJtq_tc",
        "outputId": "770be369-145e-4ce8-9f0b-3243af0c810f"
      },
      "execution_count": null,
      "outputs": [
        {
          "output_type": "stream",
          "name": "stdout",
          "text": [
            "0 COD. MAQUINA POTENCIA\n",
            "1          ENC        0\n",
            "2         MEC1      125\n",
            "3         MEC2      100\n",
            "4         VUL1      150\n",
            "5         VUL2      200\n"
          ]
        }
      ]
    },
    {
      "cell_type": "markdown",
      "source": [
        "##Creamos el diccionario de las máquinas"
      ],
      "metadata": {
        "id": "TVz4IgAlrAlC"
      }
    },
    {
      "cell_type": "code",
      "source": [
        "DICMAQ = {\"Compras\":0}\n",
        "MAQ_df = MAQUINAS_df['COD. MAQUINA'].drop_duplicates().sort_values()\n",
        "print (\"dataframe de Maquinas\")\n",
        "print(MAQ_df)\n",
        "n = 1\n",
        "for i in MAQ_df:\n",
        "  DICMAQ[i] = n\n",
        "  n += 1\n",
        "print('\\n')\n",
        "print(\"Diccionario de máquinas\")\n",
        "print(DICMAQ)\n",
        "\n",
        "numMaquinas = MAQ_df.shape[0] + 1\n",
        "print (\"Número de máquinas\" , numMaquinas)\n",
        "\n"
      ],
      "metadata": {
        "colab": {
          "base_uri": "https://localhost:8080/"
        },
        "id": "GqaUXQ8uEthg",
        "outputId": "4ed72adc-465e-455f-97fb-2368affd9a14"
      },
      "execution_count": null,
      "outputs": [
        {
          "output_type": "stream",
          "name": "stdout",
          "text": [
            "dataframe de Maquinas\n",
            "1     ENC\n",
            "2    MEC1\n",
            "3    MEC2\n",
            "4    VUL1\n",
            "5    VUL2\n",
            "Name: COD. MAQUINA, dtype: object\n",
            "\n",
            "\n",
            "Diccionario de máquinas\n",
            "{'Compras': 0, 'ENC': 1, 'MEC1': 2, 'MEC2': 3, 'VUL1': 4, 'VUL2': 5}\n",
            "Número de máquinas 6\n"
          ]
        }
      ]
    },
    {
      "cell_type": "markdown",
      "source": [
        "##Descargamos los la potencia de cada máquina"
      ],
      "metadata": {
        "id": "UZVTspQOFv_S"
      }
    },
    {
      "cell_type": "code",
      "source": [
        "CPOT = np.zeros((numMaquinas,1))\n",
        "for index, row in MAQUINAS_df.iterrows():\n",
        "  CPOT[DICMAQ[row[\"COD. MAQUINA\"]]] = row[\"POTENCIA\"]\n",
        "print (CPOT)#Potencia de cada Máquina"
      ],
      "metadata": {
        "colab": {
          "base_uri": "https://localhost:8080/"
        },
        "id": "zw1B3Bx4gc0k",
        "outputId": "165d718e-e29f-429c-996e-b36d6016169c"
      },
      "execution_count": null,
      "outputs": [
        {
          "output_type": "stream",
          "name": "stdout",
          "text": [
            "[[  0.]\n",
            " [  0.]\n",
            " [125.]\n",
            " [100.]\n",
            " [150.]\n",
            " [200.]]\n"
          ]
        }
      ]
    },
    {
      "cell_type": "markdown",
      "source": [
        "## Descargamos los datos de los procesos del EXCEL"
      ],
      "metadata": {
        "id": "JQCOhQDBq2e6"
      }
    },
    {
      "cell_type": "code",
      "source": [
        "Procesos_worksheet = AAM_workbook.worksheet('PROCESOS') #Convert to a DataFrame\n",
        "rows = Procesos_worksheet.get_all_values()#Convert to a DataFrame\n",
        "Procesos_df = pd.DataFrame(rows)\n",
        "# Set row 1 as column names\n",
        "Procesos_df.columns = Procesos_df.iloc[0]\n",
        "# Remove row 1 and column 1\n",
        "Procesos_df = Procesos_df.iloc[1:,:]\n",
        "print(Procesos_df)\n"
      ],
      "metadata": {
        "colab": {
          "base_uri": "https://localhost:8080/"
        },
        "id": "iev8P_9knjDV",
        "outputId": "9d1d6681-0c80-4cc3-bb37-ba0d8ea56efe"
      },
      "execution_count": null,
      "outputs": [
        {
          "output_type": "stream",
          "name": "stdout",
          "text": [
            "0 Ref Salida PROCESO TIEMPO CICLO PIEZAS CAJA NUMERO OPERARIOS POTENCIA\n",
            "1        BAJ    MEC2          100          16                1      100\n",
            "2        CAT     ENC           20          16                2        0\n",
            "3        CAB    VUL1           60          32                2      150\n",
            "4        BAC    MEC2           80          20                1      100\n",
            "5        CAR     ENC           16          20                1        0\n",
            "6        CAX    VUL2           50          60                2      200\n",
            "7        BAD    MEC1           90          18                1      125\n",
            "8        CAV     ENC           25          18                1        0\n",
            "9        CAH    VUL2           75          36                2      200\n"
          ]
        }
      ]
    },
    {
      "cell_type": "markdown",
      "source": [
        "## Creamos el BOM de la maquinaria (Referencia vs Maquina)"
      ],
      "metadata": {
        "id": "EAXuyv6EsXLs"
      }
    },
    {
      "cell_type": "code",
      "source": [
        "BOMMAQ = np.zeros((numMaquinas,known_references))\n",
        "for index, row in Procesos_df.iterrows():\n",
        "  BOMMAQ[DICMAQ[row[\"PROCESO\"]], REF[row[\"Ref Salida\"]]] = 1\n",
        "print (BOMMAQ)"
      ],
      "metadata": {
        "colab": {
          "base_uri": "https://localhost:8080/"
        },
        "id": "DGdtTuFbsWXv",
        "outputId": "e9f79c32-fcc7-4daa-b276-c21ceb65cd28"
      },
      "execution_count": null,
      "outputs": [
        {
          "output_type": "stream",
          "name": "stdout",
          "text": [
            "[[0. 0. 0. 0. 0. 0. 0. 0. 0. 0. 0. 0. 0. 0. 0.]\n",
            " [0. 0. 0. 0. 1. 0. 0. 1. 0. 0. 1. 0. 0. 0. 0.]\n",
            " [0. 0. 0. 0. 0. 0. 0. 0. 0. 1. 0. 0. 0. 0. 0.]\n",
            " [0. 0. 1. 0. 0. 0. 1. 0. 0. 0. 0. 0. 0. 0. 0.]\n",
            " [0. 0. 0. 0. 0. 0. 0. 0. 0. 0. 0. 0. 1. 0. 0.]\n",
            " [0. 0. 0. 0. 0. 0. 0. 0. 0. 0. 0. 0. 0. 1. 1.]]\n"
          ]
        }
      ]
    },
    {
      "cell_type": "markdown",
      "source": [
        "##Descargamos el tiempo de ciclo de cada operacion"
      ],
      "metadata": {
        "id": "hTOBjjB022EQ"
      }
    },
    {
      "cell_type": "code",
      "source": [
        "#Tiempo de ciclo estimado en los procesos\n",
        "T= np.zeros((known_references, 1))\n",
        "for index, row in Procesos_df.iterrows():\n",
        "  T[REF[row[\"Ref Salida\"]]] = row[\"TIEMPO CICLO\"]\n",
        "print(T)"
      ],
      "metadata": {
        "colab": {
          "base_uri": "https://localhost:8080/"
        },
        "id": "iJzVgB6J8yQ6",
        "outputId": "302f6ed6-2de0-4af9-e475-a559cf3fe5ac"
      },
      "execution_count": null,
      "outputs": [
        {
          "output_type": "stream",
          "name": "stdout",
          "text": [
            "[[  0.]\n",
            " [  0.]\n",
            " [100.]\n",
            " [  0.]\n",
            " [ 20.]\n",
            " [  0.]\n",
            " [ 80.]\n",
            " [ 16.]\n",
            " [  0.]\n",
            " [ 90.]\n",
            " [ 25.]\n",
            " [  0.]\n",
            " [ 60.]\n",
            " [ 50.]\n",
            " [ 75.]]\n"
          ]
        }
      ]
    },
    {
      "cell_type": "markdown",
      "source": [
        "##Buscamos el numero de piezas que se introducirán en el mpaquetado de cada referencia"
      ],
      "metadata": {
        "id": "E5ZNJsGM2iMH"
      }
    },
    {
      "cell_type": "code",
      "source": [
        "#Estimo las piezs por caja de cada componente\n",
        "BOX = np.ones((known_references,1))\n",
        "for index, row in Procesos_df.iterrows():\n",
        "  BOX[REF[row[\"Ref Salida\"]]] = row[\"PIEZAS CAJA\"]\n",
        "print (BOX)"
      ],
      "metadata": {
        "colab": {
          "base_uri": "https://localhost:8080/"
        },
        "id": "bEvyqBVGWa4h",
        "outputId": "92e248c3-fe4f-4fc9-fd64-a8d9598f03ee"
      },
      "execution_count": null,
      "outputs": [
        {
          "output_type": "stream",
          "name": "stdout",
          "text": [
            "[[ 1.]\n",
            " [ 1.]\n",
            " [16.]\n",
            " [ 1.]\n",
            " [16.]\n",
            " [ 1.]\n",
            " [20.]\n",
            " [20.]\n",
            " [ 1.]\n",
            " [18.]\n",
            " [18.]\n",
            " [ 1.]\n",
            " [32.]\n",
            " [60.]\n",
            " [36.]]\n"
          ]
        }
      ]
    },
    {
      "cell_type": "markdown",
      "source": [
        "##Buscamos el numero de operarios para generar cada referencia interna"
      ],
      "metadata": {
        "id": "JuNcmg-u2XQM"
      }
    },
    {
      "cell_type": "code",
      "source": [
        "#Numero de operarios estimado en los procesos\n",
        "NOP = np.ones((known_references,1))\n",
        "for index, row in Procesos_df.iterrows():\n",
        "  NOP[REF[row[\"Ref Salida\"]]] = row[\"NUMERO OPERARIOS\"]\n",
        "print (NOP)"
      ],
      "metadata": {
        "colab": {
          "base_uri": "https://localhost:8080/"
        },
        "id": "dBGFZr_HaMzR",
        "outputId": "15b0ac32-ef42-4751-caa0-6bc9db32eb7f"
      },
      "execution_count": null,
      "outputs": [
        {
          "output_type": "stream",
          "name": "stdout",
          "text": [
            "[[1.]\n",
            " [1.]\n",
            " [1.]\n",
            " [1.]\n",
            " [2.]\n",
            " [1.]\n",
            " [1.]\n",
            " [1.]\n",
            " [1.]\n",
            " [1.]\n",
            " [1.]\n",
            " [1.]\n",
            " [2.]\n",
            " [2.]\n",
            " [2.]]\n"
          ]
        }
      ]
    },
    {
      "cell_type": "markdown",
      "source": [
        "##Calculamos las demandas internas"
      ],
      "metadata": {
        "id": "_BK9ZRZN2_5U"
      }
    },
    {
      "cell_type": "code",
      "source": [
        "#Voy incremetnando la matriz de demandas a medida que aumenta el nicel de fabricación\n",
        "for dayIndex in range(Dias):\n",
        "  for profIndex in range(Profundidad-1):\n",
        "    DC[:,profIndex+1,dayIndex] = np.dot(BOM.T,DC[:,profIndex,dayIndex])\n",
        "for dayIndex in range(Dias):\n",
        "  print(\"Demandas para el día\", dayIndex, '\\n')\n",
        "  print(DC[:,:,dayIndex],'\\n')"
      ],
      "metadata": {
        "colab": {
          "base_uri": "https://localhost:8080/"
        },
        "id": "G54Ou6-pPReG",
        "outputId": "b3e82024-ac97-4629-b971-7b240950e3c8"
      },
      "execution_count": null,
      "outputs": [
        {
          "output_type": "stream",
          "name": "stdout",
          "text": [
            "Demandas para el día 0 \n",
            "\n",
            "[[  0.    0.    0.   60.    0.    0.    0.    0.    0.    0. ]\n",
            " [  0.    0.   27.2   0.    0.    0.    0.    0.    0.    0. ]\n",
            " [  0.    0.   60.    0.    0.    0.    0.    0.    0.    0. ]\n",
            " [  0.   95.    0.    0.    0.    0.    0.    0.    0.    0. ]\n",
            " [  0.   60.    0.    0.    0.    0.    0.    0.    0.    0. ]\n",
            " [  0.    0.    0.  400.    0.    0.    0.    0.    0.    0. ]\n",
            " [  0.    0.  100.    0.    0.    0.    0.    0.    0.    0. ]\n",
            " [  0.  100.    0.    0.    0.    0.    0.    0.    0.    0. ]\n",
            " [  0.  100.    0.    0.    0.    0.    0.    0.    0.    0. ]\n",
            " [  0.    0.  300.    0.    0.    0.    0.    0.    0.    0. ]\n",
            " [  0.  300.    0.    0.    0.    0.    0.    0.    0.    0. ]\n",
            " [  0.  270.    0.    0.    0.    0.    0.    0.    0.    0. ]\n",
            " [ 30.    0.    0.    0.    0.    0.    0.    0.    0.    0. ]\n",
            " [100.    0.    0.    0.    0.    0.    0.    0.    0.    0. ]\n",
            " [300.    0.    0.    0.    0.    0.    0.    0.    0.    0. ]] \n",
            "\n",
            "Demandas para el día 1 \n",
            "\n",
            "[[  0.    0.    0.  100.    0.    0.    0.    0.    0.    0. ]\n",
            " [  0.    0.   33.3   0.    0.    0.    0.    0.    0.    0. ]\n",
            " [  0.    0.  100.    0.    0.    0.    0.    0.    0.    0. ]\n",
            " [  0.  113.    0.    0.    0.    0.    0.    0.    0.    0. ]\n",
            " [  0.  100.    0.    0.    0.    0.    0.    0.    0.    0. ]\n",
            " [  0.    0.    0.  460.    0.    0.    0.    0.    0.    0. ]\n",
            " [  0.    0.  110.    0.    0.    0.    0.    0.    0.    0. ]\n",
            " [  0.  110.    0.    0.    0.    0.    0.    0.    0.    0. ]\n",
            " [  0.  110.    0.    0.    0.    0.    0.    0.    0.    0. ]\n",
            " [  0.    0.  350.    0.    0.    0.    0.    0.    0.    0. ]\n",
            " [  0.  350.    0.    0.    0.    0.    0.    0.    0.    0. ]\n",
            " [  0.  315.    0.    0.    0.    0.    0.    0.    0.    0. ]\n",
            " [ 50.    0.    0.    0.    0.    0.    0.    0.    0.    0. ]\n",
            " [110.    0.    0.    0.    0.    0.    0.    0.    0.    0. ]\n",
            " [350.    0.    0.    0.    0.    0.    0.    0.    0.    0. ]] \n",
            "\n",
            "Demandas para el día 2 \n",
            "\n",
            "[[  0.    0.    0.   80.    0.    0.    0.    0.    0.    0. ]\n",
            " [  0.    0.   29.9   0.    0.    0.    0.    0.    0.    0. ]\n",
            " [  0.    0.   80.    0.    0.    0.    0.    0.    0.    0. ]\n",
            " [  0.  108.    0.    0.    0.    0.    0.    0.    0.    0. ]\n",
            " [  0.   80.    0.    0.    0.    0.    0.    0.    0.    0. ]\n",
            " [  0.    0.    0.  420.    0.    0.    0.    0.    0.    0. ]\n",
            " [  0.    0.  110.    0.    0.    0.    0.    0.    0.    0. ]\n",
            " [  0.  110.    0.    0.    0.    0.    0.    0.    0.    0. ]\n",
            " [  0.  110.    0.    0.    0.    0.    0.    0.    0.    0. ]\n",
            " [  0.    0.  310.    0.    0.    0.    0.    0.    0.    0. ]\n",
            " [  0.  310.    0.    0.    0.    0.    0.    0.    0.    0. ]\n",
            " [  0.  279.    0.    0.    0.    0.    0.    0.    0.    0. ]\n",
            " [ 40.    0.    0.    0.    0.    0.    0.    0.    0.    0. ]\n",
            " [110.    0.    0.    0.    0.    0.    0.    0.    0.    0. ]\n",
            " [310.    0.    0.    0.    0.    0.    0.    0.    0.    0. ]] \n",
            "\n",
            "Demandas para el día 3 \n",
            "\n",
            "[[  0.    0.    0.   40.    0.    0.    0.    0.    0.    0. ]\n",
            " [  0.    0.   30.2   0.    0.    0.    0.    0.    0.    0. ]\n",
            " [  0.    0.   40.    0.    0.    0.    0.    0.    0.    0. ]\n",
            " [  0.  114.    0.    0.    0.    0.    0.    0.    0.    0. ]\n",
            " [  0.   40.    0.    0.    0.    0.    0.    0.    0.    0. ]\n",
            " [  0.    0.    0.  470.    0.    0.    0.    0.    0.    0. ]\n",
            " [  0.    0.  130.    0.    0.    0.    0.    0.    0.    0. ]\n",
            " [  0.  130.    0.    0.    0.    0.    0.    0.    0.    0. ]\n",
            " [  0.  130.    0.    0.    0.    0.    0.    0.    0.    0. ]\n",
            " [  0.    0.  340.    0.    0.    0.    0.    0.    0.    0. ]\n",
            " [  0.  340.    0.    0.    0.    0.    0.    0.    0.    0. ]\n",
            " [  0.  306.    0.    0.    0.    0.    0.    0.    0.    0. ]\n",
            " [ 20.    0.    0.    0.    0.    0.    0.    0.    0.    0. ]\n",
            " [130.    0.    0.    0.    0.    0.    0.    0.    0.    0. ]\n",
            " [340.    0.    0.    0.    0.    0.    0.    0.    0.    0. ]] \n",
            "\n"
          ]
        }
      ]
    },
    {
      "cell_type": "code",
      "source": [
        "#DINT se corresponde a las demandas internas\n",
        "for i in list(REF):\n",
        "  print(\"Referencia \" ,i, \" Demanda CLIENTE --> \", DC[REF[i],0,:])\n",
        "for j in range(1, DC.shape[1] - 1):\n",
        "  for i in list(REF):\n",
        "    print(\"Referencia \" ,i, \" Demanda interna nivel \", j, \" --> \", DC[REF[i],j,:])\n",
        "for i in list(REF):\n",
        "  print(\"Referencia \" ,i, \" Demanda interna (compras) nivel 0 --> \", DC[REF[i],DC.shape[1] - 1,:])\n"
      ],
      "metadata": {
        "colab": {
          "base_uri": "https://localhost:8080/"
        },
        "id": "0VCvu_EHMY2_",
        "outputId": "854618b7-e7ab-4aeb-ba4e-a8eb04a2e83c"
      },
      "execution_count": null,
      "outputs": [
        {
          "output_type": "stream",
          "name": "stdout",
          "text": [
            "Referencia  AAA  Demanda CLIENTE -->  [0. 0. 0. 0.]\n",
            "Referencia  AMA  Demanda CLIENTE -->  [0. 0. 0. 0.]\n",
            "Referencia  BAJ  Demanda CLIENTE -->  [0. 0. 0. 0.]\n",
            "Referencia  AAB  Demanda CLIENTE -->  [0. 0. 0. 0.]\n",
            "Referencia  CAT  Demanda CLIENTE -->  [0. 0. 0. 0.]\n",
            "Referencia  AAE  Demanda CLIENTE -->  [0. 0. 0. 0.]\n",
            "Referencia  BAC  Demanda CLIENTE -->  [0. 0. 0. 0.]\n",
            "Referencia  CAR  Demanda CLIENTE -->  [0. 0. 0. 0.]\n",
            "Referencia  AAF  Demanda CLIENTE -->  [0. 0. 0. 0.]\n",
            "Referencia  BAD  Demanda CLIENTE -->  [0. 0. 0. 0.]\n",
            "Referencia  CAV  Demanda CLIENTE -->  [0. 0. 0. 0.]\n",
            "Referencia  AAC  Demanda CLIENTE -->  [0. 0. 0. 0.]\n",
            "Referencia  CAB  Demanda CLIENTE -->  [30. 50. 40. 20.]\n",
            "Referencia  CAX  Demanda CLIENTE -->  [100. 110. 110. 130.]\n",
            "Referencia  CAH  Demanda CLIENTE -->  [300. 350. 310. 340.]\n",
            "Referencia  AAA  Demanda interna nivel  1  -->  [0. 0. 0. 0.]\n",
            "Referencia  AMA  Demanda interna nivel  1  -->  [0. 0. 0. 0.]\n",
            "Referencia  BAJ  Demanda interna nivel  1  -->  [0. 0. 0. 0.]\n",
            "Referencia  AAB  Demanda interna nivel  1  -->  [ 95. 113. 108. 114.]\n",
            "Referencia  CAT  Demanda interna nivel  1  -->  [ 60. 100.  80.  40.]\n",
            "Referencia  AAE  Demanda interna nivel  1  -->  [0. 0. 0. 0.]\n",
            "Referencia  BAC  Demanda interna nivel  1  -->  [0. 0. 0. 0.]\n",
            "Referencia  CAR  Demanda interna nivel  1  -->  [100. 110. 110. 130.]\n",
            "Referencia  AAF  Demanda interna nivel  1  -->  [100. 110. 110. 130.]\n",
            "Referencia  BAD  Demanda interna nivel  1  -->  [0. 0. 0. 0.]\n",
            "Referencia  CAV  Demanda interna nivel  1  -->  [300. 350. 310. 340.]\n",
            "Referencia  AAC  Demanda interna nivel  1  -->  [270. 315. 279. 306.]\n",
            "Referencia  CAB  Demanda interna nivel  1  -->  [0. 0. 0. 0.]\n",
            "Referencia  CAX  Demanda interna nivel  1  -->  [0. 0. 0. 0.]\n",
            "Referencia  CAH  Demanda interna nivel  1  -->  [0. 0. 0. 0.]\n",
            "Referencia  AAA  Demanda interna nivel  2  -->  [0. 0. 0. 0.]\n",
            "Referencia  AMA  Demanda interna nivel  2  -->  [27.2 33.3 29.9 30.2]\n",
            "Referencia  BAJ  Demanda interna nivel  2  -->  [ 60. 100.  80.  40.]\n",
            "Referencia  AAB  Demanda interna nivel  2  -->  [0. 0. 0. 0.]\n",
            "Referencia  CAT  Demanda interna nivel  2  -->  [0. 0. 0. 0.]\n",
            "Referencia  AAE  Demanda interna nivel  2  -->  [0. 0. 0. 0.]\n",
            "Referencia  BAC  Demanda interna nivel  2  -->  [100. 110. 110. 130.]\n",
            "Referencia  CAR  Demanda interna nivel  2  -->  [0. 0. 0. 0.]\n",
            "Referencia  AAF  Demanda interna nivel  2  -->  [0. 0. 0. 0.]\n",
            "Referencia  BAD  Demanda interna nivel  2  -->  [300. 350. 310. 340.]\n",
            "Referencia  CAV  Demanda interna nivel  2  -->  [0. 0. 0. 0.]\n",
            "Referencia  AAC  Demanda interna nivel  2  -->  [0. 0. 0. 0.]\n",
            "Referencia  CAB  Demanda interna nivel  2  -->  [0. 0. 0. 0.]\n",
            "Referencia  CAX  Demanda interna nivel  2  -->  [0. 0. 0. 0.]\n",
            "Referencia  CAH  Demanda interna nivel  2  -->  [0. 0. 0. 0.]\n",
            "Referencia  AAA  Demanda interna nivel  3  -->  [ 60. 100.  80.  40.]\n",
            "Referencia  AMA  Demanda interna nivel  3  -->  [0. 0. 0. 0.]\n",
            "Referencia  BAJ  Demanda interna nivel  3  -->  [0. 0. 0. 0.]\n",
            "Referencia  AAB  Demanda interna nivel  3  -->  [0. 0. 0. 0.]\n",
            "Referencia  CAT  Demanda interna nivel  3  -->  [0. 0. 0. 0.]\n",
            "Referencia  AAE  Demanda interna nivel  3  -->  [400. 460. 420. 470.]\n",
            "Referencia  BAC  Demanda interna nivel  3  -->  [0. 0. 0. 0.]\n",
            "Referencia  CAR  Demanda interna nivel  3  -->  [0. 0. 0. 0.]\n",
            "Referencia  AAF  Demanda interna nivel  3  -->  [0. 0. 0. 0.]\n",
            "Referencia  BAD  Demanda interna nivel  3  -->  [0. 0. 0. 0.]\n",
            "Referencia  CAV  Demanda interna nivel  3  -->  [0. 0. 0. 0.]\n",
            "Referencia  AAC  Demanda interna nivel  3  -->  [0. 0. 0. 0.]\n",
            "Referencia  CAB  Demanda interna nivel  3  -->  [0. 0. 0. 0.]\n",
            "Referencia  CAX  Demanda interna nivel  3  -->  [0. 0. 0. 0.]\n",
            "Referencia  CAH  Demanda interna nivel  3  -->  [0. 0. 0. 0.]\n",
            "Referencia  AAA  Demanda interna nivel  4  -->  [0. 0. 0. 0.]\n",
            "Referencia  AMA  Demanda interna nivel  4  -->  [0. 0. 0. 0.]\n",
            "Referencia  BAJ  Demanda interna nivel  4  -->  [0. 0. 0. 0.]\n",
            "Referencia  AAB  Demanda interna nivel  4  -->  [0. 0. 0. 0.]\n",
            "Referencia  CAT  Demanda interna nivel  4  -->  [0. 0. 0. 0.]\n",
            "Referencia  AAE  Demanda interna nivel  4  -->  [0. 0. 0. 0.]\n",
            "Referencia  BAC  Demanda interna nivel  4  -->  [0. 0. 0. 0.]\n",
            "Referencia  CAR  Demanda interna nivel  4  -->  [0. 0. 0. 0.]\n",
            "Referencia  AAF  Demanda interna nivel  4  -->  [0. 0. 0. 0.]\n",
            "Referencia  BAD  Demanda interna nivel  4  -->  [0. 0. 0. 0.]\n",
            "Referencia  CAV  Demanda interna nivel  4  -->  [0. 0. 0. 0.]\n",
            "Referencia  AAC  Demanda interna nivel  4  -->  [0. 0. 0. 0.]\n",
            "Referencia  CAB  Demanda interna nivel  4  -->  [0. 0. 0. 0.]\n",
            "Referencia  CAX  Demanda interna nivel  4  -->  [0. 0. 0. 0.]\n",
            "Referencia  CAH  Demanda interna nivel  4  -->  [0. 0. 0. 0.]\n",
            "Referencia  AAA  Demanda interna nivel  5  -->  [0. 0. 0. 0.]\n",
            "Referencia  AMA  Demanda interna nivel  5  -->  [0. 0. 0. 0.]\n",
            "Referencia  BAJ  Demanda interna nivel  5  -->  [0. 0. 0. 0.]\n",
            "Referencia  AAB  Demanda interna nivel  5  -->  [0. 0. 0. 0.]\n",
            "Referencia  CAT  Demanda interna nivel  5  -->  [0. 0. 0. 0.]\n",
            "Referencia  AAE  Demanda interna nivel  5  -->  [0. 0. 0. 0.]\n",
            "Referencia  BAC  Demanda interna nivel  5  -->  [0. 0. 0. 0.]\n",
            "Referencia  CAR  Demanda interna nivel  5  -->  [0. 0. 0. 0.]\n",
            "Referencia  AAF  Demanda interna nivel  5  -->  [0. 0. 0. 0.]\n",
            "Referencia  BAD  Demanda interna nivel  5  -->  [0. 0. 0. 0.]\n",
            "Referencia  CAV  Demanda interna nivel  5  -->  [0. 0. 0. 0.]\n",
            "Referencia  AAC  Demanda interna nivel  5  -->  [0. 0. 0. 0.]\n",
            "Referencia  CAB  Demanda interna nivel  5  -->  [0. 0. 0. 0.]\n",
            "Referencia  CAX  Demanda interna nivel  5  -->  [0. 0. 0. 0.]\n",
            "Referencia  CAH  Demanda interna nivel  5  -->  [0. 0. 0. 0.]\n",
            "Referencia  AAA  Demanda interna nivel  6  -->  [0. 0. 0. 0.]\n",
            "Referencia  AMA  Demanda interna nivel  6  -->  [0. 0. 0. 0.]\n",
            "Referencia  BAJ  Demanda interna nivel  6  -->  [0. 0. 0. 0.]\n",
            "Referencia  AAB  Demanda interna nivel  6  -->  [0. 0. 0. 0.]\n",
            "Referencia  CAT  Demanda interna nivel  6  -->  [0. 0. 0. 0.]\n",
            "Referencia  AAE  Demanda interna nivel  6  -->  [0. 0. 0. 0.]\n",
            "Referencia  BAC  Demanda interna nivel  6  -->  [0. 0. 0. 0.]\n",
            "Referencia  CAR  Demanda interna nivel  6  -->  [0. 0. 0. 0.]\n",
            "Referencia  AAF  Demanda interna nivel  6  -->  [0. 0. 0. 0.]\n",
            "Referencia  BAD  Demanda interna nivel  6  -->  [0. 0. 0. 0.]\n",
            "Referencia  CAV  Demanda interna nivel  6  -->  [0. 0. 0. 0.]\n",
            "Referencia  AAC  Demanda interna nivel  6  -->  [0. 0. 0. 0.]\n",
            "Referencia  CAB  Demanda interna nivel  6  -->  [0. 0. 0. 0.]\n",
            "Referencia  CAX  Demanda interna nivel  6  -->  [0. 0. 0. 0.]\n",
            "Referencia  CAH  Demanda interna nivel  6  -->  [0. 0. 0. 0.]\n",
            "Referencia  AAA  Demanda interna nivel  7  -->  [0. 0. 0. 0.]\n",
            "Referencia  AMA  Demanda interna nivel  7  -->  [0. 0. 0. 0.]\n",
            "Referencia  BAJ  Demanda interna nivel  7  -->  [0. 0. 0. 0.]\n",
            "Referencia  AAB  Demanda interna nivel  7  -->  [0. 0. 0. 0.]\n",
            "Referencia  CAT  Demanda interna nivel  7  -->  [0. 0. 0. 0.]\n",
            "Referencia  AAE  Demanda interna nivel  7  -->  [0. 0. 0. 0.]\n",
            "Referencia  BAC  Demanda interna nivel  7  -->  [0. 0. 0. 0.]\n",
            "Referencia  CAR  Demanda interna nivel  7  -->  [0. 0. 0. 0.]\n",
            "Referencia  AAF  Demanda interna nivel  7  -->  [0. 0. 0. 0.]\n",
            "Referencia  BAD  Demanda interna nivel  7  -->  [0. 0. 0. 0.]\n",
            "Referencia  CAV  Demanda interna nivel  7  -->  [0. 0. 0. 0.]\n",
            "Referencia  AAC  Demanda interna nivel  7  -->  [0. 0. 0. 0.]\n",
            "Referencia  CAB  Demanda interna nivel  7  -->  [0. 0. 0. 0.]\n",
            "Referencia  CAX  Demanda interna nivel  7  -->  [0. 0. 0. 0.]\n",
            "Referencia  CAH  Demanda interna nivel  7  -->  [0. 0. 0. 0.]\n",
            "Referencia  AAA  Demanda interna nivel  8  -->  [0. 0. 0. 0.]\n",
            "Referencia  AMA  Demanda interna nivel  8  -->  [0. 0. 0. 0.]\n",
            "Referencia  BAJ  Demanda interna nivel  8  -->  [0. 0. 0. 0.]\n",
            "Referencia  AAB  Demanda interna nivel  8  -->  [0. 0. 0. 0.]\n",
            "Referencia  CAT  Demanda interna nivel  8  -->  [0. 0. 0. 0.]\n",
            "Referencia  AAE  Demanda interna nivel  8  -->  [0. 0. 0. 0.]\n",
            "Referencia  BAC  Demanda interna nivel  8  -->  [0. 0. 0. 0.]\n",
            "Referencia  CAR  Demanda interna nivel  8  -->  [0. 0. 0. 0.]\n",
            "Referencia  AAF  Demanda interna nivel  8  -->  [0. 0. 0. 0.]\n",
            "Referencia  BAD  Demanda interna nivel  8  -->  [0. 0. 0. 0.]\n",
            "Referencia  CAV  Demanda interna nivel  8  -->  [0. 0. 0. 0.]\n",
            "Referencia  AAC  Demanda interna nivel  8  -->  [0. 0. 0. 0.]\n",
            "Referencia  CAB  Demanda interna nivel  8  -->  [0. 0. 0. 0.]\n",
            "Referencia  CAX  Demanda interna nivel  8  -->  [0. 0. 0. 0.]\n",
            "Referencia  CAH  Demanda interna nivel  8  -->  [0. 0. 0. 0.]\n",
            "Referencia  AAA  Demanda interna (compras) nivel 0 -->  [0. 0. 0. 0.]\n",
            "Referencia  AMA  Demanda interna (compras) nivel 0 -->  [0. 0. 0. 0.]\n",
            "Referencia  BAJ  Demanda interna (compras) nivel 0 -->  [0. 0. 0. 0.]\n",
            "Referencia  AAB  Demanda interna (compras) nivel 0 -->  [0. 0. 0. 0.]\n",
            "Referencia  CAT  Demanda interna (compras) nivel 0 -->  [0. 0. 0. 0.]\n",
            "Referencia  AAE  Demanda interna (compras) nivel 0 -->  [0. 0. 0. 0.]\n",
            "Referencia  BAC  Demanda interna (compras) nivel 0 -->  [0. 0. 0. 0.]\n",
            "Referencia  CAR  Demanda interna (compras) nivel 0 -->  [0. 0. 0. 0.]\n",
            "Referencia  AAF  Demanda interna (compras) nivel 0 -->  [0. 0. 0. 0.]\n",
            "Referencia  BAD  Demanda interna (compras) nivel 0 -->  [0. 0. 0. 0.]\n",
            "Referencia  CAV  Demanda interna (compras) nivel 0 -->  [0. 0. 0. 0.]\n",
            "Referencia  AAC  Demanda interna (compras) nivel 0 -->  [0. 0. 0. 0.]\n",
            "Referencia  CAB  Demanda interna (compras) nivel 0 -->  [0. 0. 0. 0.]\n",
            "Referencia  CAX  Demanda interna (compras) nivel 0 -->  [0. 0. 0. 0.]\n",
            "Referencia  CAH  Demanda interna (compras) nivel 0 -->  [0. 0. 0. 0.]\n"
          ]
        }
      ]
    },
    {
      "cell_type": "markdown",
      "source": [
        "Ahora vamos a buscar el minimo común múltiplo entre las demandas y las piezas por caja\n",
        "Posteriormente calcularemos el tiempo de trabajo necesario para cada un o de los niveles de producción.\n",
        "\n",
        "T =  Tiempos de ciclo (n x 1) (Dato a recibir de cliente)\n",
        "\n",
        "BOX = Piezas por caja (n x 1)"
      ],
      "metadata": {
        "id": "Y7_Bu3OddOwZ"
      }
    },
    {
      "cell_type": "code",
      "source": [
        "#Busco en número de cajas necesario para la produccion\n",
        "DCBOX = np.copy(DC);\n",
        "for dayIndex in range(Dias):\n",
        "  mask = np.mod(DC[:,:,dayIndex], BOX) > 0\n",
        "  ones_array = np.zeros_like(np.mod(DC[:,:,dayIndex], BOX))\n",
        "  ones_array [mask] = 1\n",
        "  DCBOX[:,:,dayIndex] = np.floor_divide(DC[:,:,dayIndex], BOX) +  ones_array\n",
        "  print (DCBOX[:,:,dayIndex],'\\n')\n"
      ],
      "metadata": {
        "colab": {
          "base_uri": "https://localhost:8080/"
        },
        "id": "Gnw0NPvGpYiI",
        "outputId": "cb828fc0-5bce-435c-c367-4f3118a594d7"
      },
      "execution_count": null,
      "outputs": [
        {
          "output_type": "stream",
          "name": "stdout",
          "text": [
            "[[  0.   0.   0.  60.   0.   0.   0.   0.   0.   0.]\n",
            " [  0.   0.  28.   0.   0.   0.   0.   0.   0.   0.]\n",
            " [  0.   0.   4.   0.   0.   0.   0.   0.   0.   0.]\n",
            " [  0.  95.   0.   0.   0.   0.   0.   0.   0.   0.]\n",
            " [  0.   4.   0.   0.   0.   0.   0.   0.   0.   0.]\n",
            " [  0.   0.   0. 400.   0.   0.   0.   0.   0.   0.]\n",
            " [  0.   0.   5.   0.   0.   0.   0.   0.   0.   0.]\n",
            " [  0.   5.   0.   0.   0.   0.   0.   0.   0.   0.]\n",
            " [  0. 100.   0.   0.   0.   0.   0.   0.   0.   0.]\n",
            " [  0.   0.  17.   0.   0.   0.   0.   0.   0.   0.]\n",
            " [  0.  17.   0.   0.   0.   0.   0.   0.   0.   0.]\n",
            " [  0. 270.   0.   0.   0.   0.   0.   0.   0.   0.]\n",
            " [  1.   0.   0.   0.   0.   0.   0.   0.   0.   0.]\n",
            " [  2.   0.   0.   0.   0.   0.   0.   0.   0.   0.]\n",
            " [  9.   0.   0.   0.   0.   0.   0.   0.   0.   0.]] \n",
            "\n",
            "[[  0.   0.   0. 100.   0.   0.   0.   0.   0.   0.]\n",
            " [  0.   0.  34.   0.   0.   0.   0.   0.   0.   0.]\n",
            " [  0.   0.   7.   0.   0.   0.   0.   0.   0.   0.]\n",
            " [  0. 113.   0.   0.   0.   0.   0.   0.   0.   0.]\n",
            " [  0.   7.   0.   0.   0.   0.   0.   0.   0.   0.]\n",
            " [  0.   0.   0. 460.   0.   0.   0.   0.   0.   0.]\n",
            " [  0.   0.   6.   0.   0.   0.   0.   0.   0.   0.]\n",
            " [  0.   6.   0.   0.   0.   0.   0.   0.   0.   0.]\n",
            " [  0. 110.   0.   0.   0.   0.   0.   0.   0.   0.]\n",
            " [  0.   0.  20.   0.   0.   0.   0.   0.   0.   0.]\n",
            " [  0.  20.   0.   0.   0.   0.   0.   0.   0.   0.]\n",
            " [  0. 315.   0.   0.   0.   0.   0.   0.   0.   0.]\n",
            " [  2.   0.   0.   0.   0.   0.   0.   0.   0.   0.]\n",
            " [  2.   0.   0.   0.   0.   0.   0.   0.   0.   0.]\n",
            " [ 10.   0.   0.   0.   0.   0.   0.   0.   0.   0.]] \n",
            "\n",
            "[[  0.   0.   0.  80.   0.   0.   0.   0.   0.   0.]\n",
            " [  0.   0.  30.   0.   0.   0.   0.   0.   0.   0.]\n",
            " [  0.   0.   5.   0.   0.   0.   0.   0.   0.   0.]\n",
            " [  0. 108.   0.   0.   0.   0.   0.   0.   0.   0.]\n",
            " [  0.   5.   0.   0.   0.   0.   0.   0.   0.   0.]\n",
            " [  0.   0.   0. 420.   0.   0.   0.   0.   0.   0.]\n",
            " [  0.   0.   6.   0.   0.   0.   0.   0.   0.   0.]\n",
            " [  0.   6.   0.   0.   0.   0.   0.   0.   0.   0.]\n",
            " [  0. 110.   0.   0.   0.   0.   0.   0.   0.   0.]\n",
            " [  0.   0.  18.   0.   0.   0.   0.   0.   0.   0.]\n",
            " [  0.  18.   0.   0.   0.   0.   0.   0.   0.   0.]\n",
            " [  0. 279.   0.   0.   0.   0.   0.   0.   0.   0.]\n",
            " [  2.   0.   0.   0.   0.   0.   0.   0.   0.   0.]\n",
            " [  2.   0.   0.   0.   0.   0.   0.   0.   0.   0.]\n",
            " [  9.   0.   0.   0.   0.   0.   0.   0.   0.   0.]] \n",
            "\n",
            "[[  0.   0.   0.  40.   0.   0.   0.   0.   0.   0.]\n",
            " [  0.   0.  31.   0.   0.   0.   0.   0.   0.   0.]\n",
            " [  0.   0.   3.   0.   0.   0.   0.   0.   0.   0.]\n",
            " [  0. 114.   0.   0.   0.   0.   0.   0.   0.   0.]\n",
            " [  0.   3.   0.   0.   0.   0.   0.   0.   0.   0.]\n",
            " [  0.   0.   0. 470.   0.   0.   0.   0.   0.   0.]\n",
            " [  0.   0.   7.   0.   0.   0.   0.   0.   0.   0.]\n",
            " [  0.   7.   0.   0.   0.   0.   0.   0.   0.   0.]\n",
            " [  0. 130.   0.   0.   0.   0.   0.   0.   0.   0.]\n",
            " [  0.   0.  19.   0.   0.   0.   0.   0.   0.   0.]\n",
            " [  0.  19.   0.   0.   0.   0.   0.   0.   0.   0.]\n",
            " [  0. 306.   0.   0.   0.   0.   0.   0.   0.   0.]\n",
            " [  1.   0.   0.   0.   0.   0.   0.   0.   0.   0.]\n",
            " [  3.   0.   0.   0.   0.   0.   0.   0.   0.   0.]\n",
            " [ 10.   0.   0.   0.   0.   0.   0.   0.   0.   0.]] \n",
            "\n"
          ]
        }
      ]
    },
    {
      "cell_type": "code",
      "source": [
        "DCHORAS = np.copy(DC);\n",
        "for dayIndex in range(Dias):\n",
        "  DCHORAS[:,:,dayIndex] = np.multiply(np.multiply(DCBOX[:,:,dayIndex],T),BOX)/3600\n",
        "  print(DCHORAS[:,:,dayIndex],'\\n')"
      ],
      "metadata": {
        "colab": {
          "base_uri": "https://localhost:8080/"
        },
        "id": "ZOlFIdW_8-OL",
        "outputId": "61d02130-d7ed-49e8-fab4-53aa8df6af12"
      },
      "execution_count": null,
      "outputs": [
        {
          "output_type": "stream",
          "name": "stdout",
          "text": [
            "[[0.         0.         0.         0.         0.         0.\n",
            "  0.         0.         0.         0.        ]\n",
            " [0.         0.         0.         0.         0.         0.\n",
            "  0.         0.         0.         0.        ]\n",
            " [0.         0.         1.77777778 0.         0.         0.\n",
            "  0.         0.         0.         0.        ]\n",
            " [0.         0.         0.         0.         0.         0.\n",
            "  0.         0.         0.         0.        ]\n",
            " [0.         0.35555556 0.         0.         0.         0.\n",
            "  0.         0.         0.         0.        ]\n",
            " [0.         0.         0.         0.         0.         0.\n",
            "  0.         0.         0.         0.        ]\n",
            " [0.         0.         2.22222222 0.         0.         0.\n",
            "  0.         0.         0.         0.        ]\n",
            " [0.         0.44444444 0.         0.         0.         0.\n",
            "  0.         0.         0.         0.        ]\n",
            " [0.         0.         0.         0.         0.         0.\n",
            "  0.         0.         0.         0.        ]\n",
            " [0.         0.         7.65       0.         0.         0.\n",
            "  0.         0.         0.         0.        ]\n",
            " [0.         2.125      0.         0.         0.         0.\n",
            "  0.         0.         0.         0.        ]\n",
            " [0.         0.         0.         0.         0.         0.\n",
            "  0.         0.         0.         0.        ]\n",
            " [0.53333333 0.         0.         0.         0.         0.\n",
            "  0.         0.         0.         0.        ]\n",
            " [1.66666667 0.         0.         0.         0.         0.\n",
            "  0.         0.         0.         0.        ]\n",
            " [6.75       0.         0.         0.         0.         0.\n",
            "  0.         0.         0.         0.        ]] \n",
            "\n",
            "[[0.         0.         0.         0.         0.         0.\n",
            "  0.         0.         0.         0.        ]\n",
            " [0.         0.         0.         0.         0.         0.\n",
            "  0.         0.         0.         0.        ]\n",
            " [0.         0.         3.11111111 0.         0.         0.\n",
            "  0.         0.         0.         0.        ]\n",
            " [0.         0.         0.         0.         0.         0.\n",
            "  0.         0.         0.         0.        ]\n",
            " [0.         0.62222222 0.         0.         0.         0.\n",
            "  0.         0.         0.         0.        ]\n",
            " [0.         0.         0.         0.         0.         0.\n",
            "  0.         0.         0.         0.        ]\n",
            " [0.         0.         2.66666667 0.         0.         0.\n",
            "  0.         0.         0.         0.        ]\n",
            " [0.         0.53333333 0.         0.         0.         0.\n",
            "  0.         0.         0.         0.        ]\n",
            " [0.         0.         0.         0.         0.         0.\n",
            "  0.         0.         0.         0.        ]\n",
            " [0.         0.         9.         0.         0.         0.\n",
            "  0.         0.         0.         0.        ]\n",
            " [0.         2.5        0.         0.         0.         0.\n",
            "  0.         0.         0.         0.        ]\n",
            " [0.         0.         0.         0.         0.         0.\n",
            "  0.         0.         0.         0.        ]\n",
            " [1.06666667 0.         0.         0.         0.         0.\n",
            "  0.         0.         0.         0.        ]\n",
            " [1.66666667 0.         0.         0.         0.         0.\n",
            "  0.         0.         0.         0.        ]\n",
            " [7.5        0.         0.         0.         0.         0.\n",
            "  0.         0.         0.         0.        ]] \n",
            "\n",
            "[[0.         0.         0.         0.         0.         0.\n",
            "  0.         0.         0.         0.        ]\n",
            " [0.         0.         0.         0.         0.         0.\n",
            "  0.         0.         0.         0.        ]\n",
            " [0.         0.         2.22222222 0.         0.         0.\n",
            "  0.         0.         0.         0.        ]\n",
            " [0.         0.         0.         0.         0.         0.\n",
            "  0.         0.         0.         0.        ]\n",
            " [0.         0.44444444 0.         0.         0.         0.\n",
            "  0.         0.         0.         0.        ]\n",
            " [0.         0.         0.         0.         0.         0.\n",
            "  0.         0.         0.         0.        ]\n",
            " [0.         0.         2.66666667 0.         0.         0.\n",
            "  0.         0.         0.         0.        ]\n",
            " [0.         0.53333333 0.         0.         0.         0.\n",
            "  0.         0.         0.         0.        ]\n",
            " [0.         0.         0.         0.         0.         0.\n",
            "  0.         0.         0.         0.        ]\n",
            " [0.         0.         8.1        0.         0.         0.\n",
            "  0.         0.         0.         0.        ]\n",
            " [0.         2.25       0.         0.         0.         0.\n",
            "  0.         0.         0.         0.        ]\n",
            " [0.         0.         0.         0.         0.         0.\n",
            "  0.         0.         0.         0.        ]\n",
            " [1.06666667 0.         0.         0.         0.         0.\n",
            "  0.         0.         0.         0.        ]\n",
            " [1.66666667 0.         0.         0.         0.         0.\n",
            "  0.         0.         0.         0.        ]\n",
            " [6.75       0.         0.         0.         0.         0.\n",
            "  0.         0.         0.         0.        ]] \n",
            "\n",
            "[[0.         0.         0.         0.         0.         0.\n",
            "  0.         0.         0.         0.        ]\n",
            " [0.         0.         0.         0.         0.         0.\n",
            "  0.         0.         0.         0.        ]\n",
            " [0.         0.         1.33333333 0.         0.         0.\n",
            "  0.         0.         0.         0.        ]\n",
            " [0.         0.         0.         0.         0.         0.\n",
            "  0.         0.         0.         0.        ]\n",
            " [0.         0.26666667 0.         0.         0.         0.\n",
            "  0.         0.         0.         0.        ]\n",
            " [0.         0.         0.         0.         0.         0.\n",
            "  0.         0.         0.         0.        ]\n",
            " [0.         0.         3.11111111 0.         0.         0.\n",
            "  0.         0.         0.         0.        ]\n",
            " [0.         0.62222222 0.         0.         0.         0.\n",
            "  0.         0.         0.         0.        ]\n",
            " [0.         0.         0.         0.         0.         0.\n",
            "  0.         0.         0.         0.        ]\n",
            " [0.         0.         8.55       0.         0.         0.\n",
            "  0.         0.         0.         0.        ]\n",
            " [0.         2.375      0.         0.         0.         0.\n",
            "  0.         0.         0.         0.        ]\n",
            " [0.         0.         0.         0.         0.         0.\n",
            "  0.         0.         0.         0.        ]\n",
            " [0.53333333 0.         0.         0.         0.         0.\n",
            "  0.         0.         0.         0.        ]\n",
            " [2.5        0.         0.         0.         0.         0.\n",
            "  0.         0.         0.         0.        ]\n",
            " [7.5        0.         0.         0.         0.         0.\n",
            "  0.         0.         0.         0.        ]] \n",
            "\n"
          ]
        }
      ]
    },
    {
      "cell_type": "markdown",
      "source": [
        "\n",
        "MAQ = is a vector of ONES where there is an operation\n"
      ],
      "metadata": {
        "id": "zH4Ofp7ZNzmn"
      }
    },
    {
      "cell_type": "code",
      "source": [
        "MAQ = np.zeros((numMaquinas,Dias));\n",
        "for dayIndex in range(Dias):\n",
        "  MAQ[:,dayIndex] = np.dot(DCHORAS[:,:,dayIndex].sum(axis = 1), BOMMAQ.T)\n",
        "  print(MAQ[:,dayIndex],'\\n')"
      ],
      "metadata": {
        "colab": {
          "base_uri": "https://localhost:8080/"
        },
        "id": "pNdtk9llT22Y",
        "outputId": "7f4f8e95-4382-4c97-ddf5-b453b88c52eb"
      },
      "execution_count": null,
      "outputs": [
        {
          "output_type": "stream",
          "name": "stdout",
          "text": [
            "[0.         2.925      7.65       4.         0.53333333 8.41666667] \n",
            "\n",
            "[0.         3.65555556 9.         5.77777778 1.06666667 9.16666667] \n",
            "\n",
            "[0.         3.22777778 8.1        4.88888889 1.06666667 8.41666667] \n",
            "\n",
            "[ 0.          3.26388889  8.55        4.44444444  0.53333333 10.        ] \n",
            "\n"
          ]
        }
      ]
    },
    {
      "cell_type": "markdown",
      "source": [
        "# Definición de Bases de la Simulación\n",
        "## Constraints de la simulacion\n",
        "\n",
        "LoteMin = Lote mínimo de producción (n x 1)\n",
        "\n",
        "LotMax = Lote máximo de producción (n x 1)\n",
        "\n",
        "TCambio = Tiempos de cambio de referencia (n x n)\n",
        "\n",
        "Planif =  Planificacion de la producción (Maq x 24 horas x Ref)\n",
        "\n",
        "PrioMat = Matriz de priodidades (n x 1)\n",
        "\n",
        "*Donde n = known_references*"
      ],
      "metadata": {
        "id": "DqhdB6_qs3ld"
      }
    },
    {
      "cell_type": "code",
      "source": [
        "print(\"Referencias construibles por máquina\\n\",BOMMAQ,'\\n')\n",
        "# Costes y tiempos de transición entre referencias\n",
        "TRANS = {\"Maquina\":0,\"Origen\":1,\"Destino\":2,\"Tiempo/Coste\":3}\n",
        "MAQ_TRANS_TIEMPO = np.zeros((5,4))\n",
        "#Timpos medidos en Horas\n",
        "MAQ_TRANS_TIEMPO[0,TRANS[\"Maquina\"]] = DICMAQ[\"Mecanizado\"]\n",
        "MAQ_TRANS_TIEMPO[0,TRANS[\"Origen\"]] = REF[\"7\"]\n",
        "MAQ_TRANS_TIEMPO[0,TRANS[\"Destino\"]] = REF[\"8\"]\n",
        "MAQ_TRANS_TIEMPO[0,TRANS[\"Tiempo/Coste\"]] = 3\n",
        "MAQ_TRANS_TIEMPO[1,TRANS[\"Maquina\"]] = DICMAQ[\"Mecanizado\"]\n",
        "MAQ_TRANS_TIEMPO[1,TRANS[\"Origen\"]] = REF[\"8\"]\n",
        "MAQ_TRANS_TIEMPO[1,TRANS[\"Destino\"]] = REF[\"7\"]\n",
        "MAQ_TRANS_TIEMPO[1,TRANS[\"Tiempo/Coste\"]] = 1\n",
        "MAQ_TRANS_TIEMPO[2,TRANS[\"Maquina\"]] = DICMAQ[\"Inyeccion\"]\n",
        "MAQ_TRANS_TIEMPO[2,TRANS[\"Origen\"]] = REF[\"5\"]\n",
        "MAQ_TRANS_TIEMPO[2,TRANS[\"Destino\"]] = REF[\"6\"]\n",
        "MAQ_TRANS_TIEMPO[2,TRANS[\"Tiempo/Coste\"]] = 2\n",
        "MAQ_TRANS_TIEMPO[3,TRANS[\"Maquina\"]] = DICMAQ[\"Inyeccion\"]\n",
        "MAQ_TRANS_TIEMPO[3,TRANS[\"Origen\"]] = REF[\"6\"]\n",
        "MAQ_TRANS_TIEMPO[3,TRANS[\"Destino\"]] = REF[\"5\"]\n",
        "MAQ_TRANS_TIEMPO[3,TRANS[\"Tiempo/Coste\"]] = 1\n",
        "print(\"Horas de Transición\\n\",MAQ_TRANS_TIEMPO,\"\\n\")\n",
        "#Costes medidos en Euros\n",
        "MAQ_TRANS_COSTE = np.zeros((5,4))\n",
        "MAQ_TRANS_COSTE[0,TRANS[\"Maquina\"]] = DICMAQ[\"Mecanizado\"]\n",
        "MAQ_TRANS_COSTE[0,TRANS[\"Origen\"]] = REF[\"7\"]\n",
        "MAQ_TRANS_COSTE[0,TRANS[\"Destino\"]] = REF[\"8\"]\n",
        "MAQ_TRANS_COSTE[0,TRANS[\"Tiempo/Coste\"]] = 700\n",
        "MAQ_TRANS_COSTE[1,TRANS[\"Maquina\"]] = DICMAQ[\"Mecanizado\"]\n",
        "MAQ_TRANS_COSTE[1,TRANS[\"Origen\"]] = REF[\"8\"]\n",
        "MAQ_TRANS_COSTE[1,TRANS[\"Destino\"]] = REF[\"7\"]\n",
        "MAQ_TRANS_COSTE[1,TRANS[\"Tiempo/Coste\"]] = 200\n",
        "MAQ_TRANS_COSTE[2,TRANS[\"Maquina\"]] = DICMAQ[\"Inyeccion\"]\n",
        "MAQ_TRANS_COSTE[2,TRANS[\"Origen\"]] = REF[\"5\"]\n",
        "MAQ_TRANS_COSTE[2,TRANS[\"Destino\"]] = REF[\"6\"]\n",
        "MAQ_TRANS_COSTE[2,TRANS[\"Tiempo/Coste\"]] = 600\n",
        "MAQ_TRANS_COSTE[3,TRANS[\"Maquina\"]] = DICMAQ[\"Inyeccion\"]\n",
        "MAQ_TRANS_COSTE[3,TRANS[\"Origen\"]] = REF[\"6\"]\n",
        "MAQ_TRANS_COSTE[3,TRANS[\"Destino\"]] = REF[\"5\"]\n",
        "MAQ_TRANS_COSTE[3,TRANS[\"Tiempo/Coste\"]] = 300\n",
        "print(\"Costes de Transición\\n\",MAQ_TRANS_COSTE)"
      ],
      "metadata": {
        "colab": {
          "base_uri": "https://localhost:8080/",
          "height": 377
        },
        "id": "XObAX3k_P8BL",
        "outputId": "1e6a3556-f726-44e2-84ca-212cf3175c90"
      },
      "execution_count": null,
      "outputs": [
        {
          "output_type": "stream",
          "name": "stdout",
          "text": [
            "Referencias construibles por máquina\n",
            " [[0. 0. 0. 0. 0. 0. 0. 0. 0. 0. 0. 0. 0. 0. 0.]\n",
            " [0. 0. 0. 0. 1. 0. 0. 1. 0. 0. 1. 0. 0. 0. 0.]\n",
            " [0. 0. 0. 0. 0. 0. 0. 0. 0. 1. 0. 0. 0. 0. 0.]\n",
            " [0. 0. 1. 0. 0. 0. 1. 0. 0. 0. 0. 0. 0. 0. 0.]\n",
            " [0. 0. 0. 0. 0. 0. 0. 0. 0. 0. 0. 0. 1. 0. 0.]\n",
            " [0. 0. 0. 0. 0. 0. 0. 0. 0. 0. 0. 0. 0. 1. 1.]] \n",
            "\n"
          ]
        },
        {
          "output_type": "error",
          "ename": "KeyError",
          "evalue": "ignored",
          "traceback": [
            "\u001b[0;31m---------------------------------------------------------------------------\u001b[0m",
            "\u001b[0;31mKeyError\u001b[0m                                  Traceback (most recent call last)",
            "\u001b[0;32m<ipython-input-169-ad0824e37006>\u001b[0m in \u001b[0;36m<cell line: 6>\u001b[0;34m()\u001b[0m\n\u001b[1;32m      4\u001b[0m \u001b[0mMAQ_TRANS_TIEMPO\u001b[0m \u001b[0;34m=\u001b[0m \u001b[0mnp\u001b[0m\u001b[0;34m.\u001b[0m\u001b[0mzeros\u001b[0m\u001b[0;34m(\u001b[0m\u001b[0;34m(\u001b[0m\u001b[0;36m5\u001b[0m\u001b[0;34m,\u001b[0m\u001b[0;36m4\u001b[0m\u001b[0;34m)\u001b[0m\u001b[0;34m)\u001b[0m\u001b[0;34m\u001b[0m\u001b[0;34m\u001b[0m\u001b[0m\n\u001b[1;32m      5\u001b[0m \u001b[0;31m#Timpos medidos en Horas\u001b[0m\u001b[0;34m\u001b[0m\u001b[0;34m\u001b[0m\u001b[0m\n\u001b[0;32m----> 6\u001b[0;31m \u001b[0mMAQ_TRANS_TIEMPO\u001b[0m\u001b[0;34m[\u001b[0m\u001b[0;36m0\u001b[0m\u001b[0;34m,\u001b[0m\u001b[0mTRANS\u001b[0m\u001b[0;34m[\u001b[0m\u001b[0;34m\"Maquina\"\u001b[0m\u001b[0;34m]\u001b[0m\u001b[0;34m]\u001b[0m \u001b[0;34m=\u001b[0m \u001b[0mDICMAQ\u001b[0m\u001b[0;34m[\u001b[0m\u001b[0;34m\"Mecanizado\"\u001b[0m\u001b[0;34m]\u001b[0m\u001b[0;34m\u001b[0m\u001b[0;34m\u001b[0m\u001b[0m\n\u001b[0m\u001b[1;32m      7\u001b[0m \u001b[0mMAQ_TRANS_TIEMPO\u001b[0m\u001b[0;34m[\u001b[0m\u001b[0;36m0\u001b[0m\u001b[0;34m,\u001b[0m\u001b[0mTRANS\u001b[0m\u001b[0;34m[\u001b[0m\u001b[0;34m\"Origen\"\u001b[0m\u001b[0;34m]\u001b[0m\u001b[0;34m]\u001b[0m \u001b[0;34m=\u001b[0m \u001b[0mREF\u001b[0m\u001b[0;34m[\u001b[0m\u001b[0;34m\"7\"\u001b[0m\u001b[0;34m]\u001b[0m\u001b[0;34m\u001b[0m\u001b[0;34m\u001b[0m\u001b[0m\n\u001b[1;32m      8\u001b[0m \u001b[0mMAQ_TRANS_TIEMPO\u001b[0m\u001b[0;34m[\u001b[0m\u001b[0;36m0\u001b[0m\u001b[0;34m,\u001b[0m\u001b[0mTRANS\u001b[0m\u001b[0;34m[\u001b[0m\u001b[0;34m\"Destino\"\u001b[0m\u001b[0;34m]\u001b[0m\u001b[0;34m]\u001b[0m \u001b[0;34m=\u001b[0m \u001b[0mREF\u001b[0m\u001b[0;34m[\u001b[0m\u001b[0;34m\"8\"\u001b[0m\u001b[0;34m]\u001b[0m\u001b[0;34m\u001b[0m\u001b[0;34m\u001b[0m\u001b[0m\n",
            "\u001b[0;31mKeyError\u001b[0m: 'Mecanizado'"
          ]
        }
      ]
    },
    {
      "cell_type": "code",
      "source": [
        "print (MAQ)\n",
        "print (DCHORAS[:,:,0])"
      ],
      "metadata": {
        "colab": {
          "base_uri": "https://localhost:8080/"
        },
        "id": "ptCpnd4qtfSh",
        "outputId": "c4b120c7-9b29-4c3e-e6a8-d0d9770b32f3"
      },
      "execution_count": null,
      "outputs": [
        {
          "output_type": "stream",
          "name": "stdout",
          "text": [
            "[[ 0.          0.          0.          0.        ]\n",
            " [ 2.925       3.65555556  3.22777778  3.26388889]\n",
            " [ 7.65        9.          8.1         8.55      ]\n",
            " [ 4.          5.77777778  4.88888889  4.44444444]\n",
            " [ 0.53333333  1.06666667  1.06666667  0.53333333]\n",
            " [ 8.41666667  9.16666667  8.41666667 10.        ]]\n",
            "[[0.         0.         0.         0.         0.         0.\n",
            "  0.         0.         0.         0.        ]\n",
            " [0.         0.         0.         0.         0.         0.\n",
            "  0.         0.         0.         0.        ]\n",
            " [0.         0.         1.77777778 0.         0.         0.\n",
            "  0.         0.         0.         0.        ]\n",
            " [0.         0.         0.         0.         0.         0.\n",
            "  0.         0.         0.         0.        ]\n",
            " [0.         0.35555556 0.         0.         0.         0.\n",
            "  0.         0.         0.         0.        ]\n",
            " [0.         0.         0.         0.         0.         0.\n",
            "  0.         0.         0.         0.        ]\n",
            " [0.         0.         2.22222222 0.         0.         0.\n",
            "  0.         0.         0.         0.        ]\n",
            " [0.         0.44444444 0.         0.         0.         0.\n",
            "  0.         0.         0.         0.        ]\n",
            " [0.         0.         0.         0.         0.         0.\n",
            "  0.         0.         0.         0.        ]\n",
            " [0.         0.         7.65       0.         0.         0.\n",
            "  0.         0.         0.         0.        ]\n",
            " [0.         2.125      0.         0.         0.         0.\n",
            "  0.         0.         0.         0.        ]\n",
            " [0.         0.         0.         0.         0.         0.\n",
            "  0.         0.         0.         0.        ]\n",
            " [0.53333333 0.         0.         0.         0.         0.\n",
            "  0.         0.         0.         0.        ]\n",
            " [1.66666667 0.         0.         0.         0.         0.\n",
            "  0.         0.         0.         0.        ]\n",
            " [6.75       0.         0.         0.         0.         0.\n",
            "  0.         0.         0.         0.        ]]\n"
          ]
        }
      ]
    },
    {
      "cell_type": "markdown",
      "source": [
        "# Cálculo de costes del proceso\n",
        "\n",
        "En esta sección calcularemos los costes del proceso.\n",
        "\n",
        "En esencia el cálculo es el siguiente:\n",
        "\n",
        "Coste proceso [CP] = Coste mano de obra[CMO] + Coste Máquina [CMQ]\n",
        "\n",
        "Desarrollando un poco mas este cálculo tenemos que:\n",
        "\n",
        " CMO = Coste operario [MO] / Tiempo de ciclo [T] / 3600\n",
        "\n",
        "CMQ = Coste Máquina fijo [CMQF] Coste Máquina Variable  [CMQV]\n",
        "\n",
        "CMQF = Coste fijo Máquina [CF] * T / 3600\n",
        "\n",
        "CMQV = Coste potencia [CPOT] * Potencia Máquina [POT] * T / 3600\n",
        "\n",
        "Sustituyento tenemos:\n",
        "\n",
        "CP = (MO + CF + CPOT * POT) * T / 3600"
      ],
      "metadata": {
        "id": "LoqrEA7YMe9F"
      }
    },
    {
      "cell_type": "markdown",
      "source": [
        "Ahora nos centraremso en el cálculo de la mano de obra\n",
        "\n",
        "MAQREF = Vector Maquinas (n x 1)\n",
        "\n",
        "MOM = Coste de la mano de obra Turno de mañana\n",
        "\n",
        "MOT = Coste de la mano de obra Turno de tarde\n",
        "\n",
        "MON = Coste de la mano de obra Turno de noche\n",
        "\n",
        "MHORARIA = MATRIZ Horaria (n x 24)\n",
        "\n",
        "NOP =  Número de operarios (n x 1) (Dato a recibir de cliente)\n",
        "\n",
        "CMOTHORARIO = Coste de mano de obra total (nx24) resultado de MOTURNOS * MOP *T / 3600"
      ],
      "metadata": {
        "id": "BgZJNYeTTxFz"
      }
    },
    {
      "cell_type": "code",
      "source": [
        "MAQREF = np.zeros((known_references,1))\n",
        "mask = BOMMAQ.sum(axis = 0) > 0\n",
        "MAQREF[mask] = 1\n",
        "print(MAQREF)\n",
        "MHORARIA = np.ones((known_references,24))\n",
        "MOTURNOS = np.multiply(MHORARIA, MAQREF)\n",
        "print(MOTURNOS)"
      ],
      "metadata": {
        "colab": {
          "base_uri": "https://localhost:8080/"
        },
        "id": "WkuHhYnoVjre",
        "outputId": "4afe9752-d0ce-4a4d-a756-3ffd129458ae"
      },
      "execution_count": null,
      "outputs": [
        {
          "output_type": "stream",
          "name": "stdout",
          "text": [
            "[[0.]\n",
            " [0.]\n",
            " [1.]\n",
            " [0.]\n",
            " [1.]\n",
            " [0.]\n",
            " [1.]\n",
            " [1.]\n",
            " [0.]\n",
            " [1.]\n",
            " [1.]\n",
            " [0.]\n",
            " [1.]\n",
            " [1.]\n",
            " [1.]]\n",
            "[[0. 0. 0. 0. 0. 0. 0. 0. 0. 0. 0. 0. 0. 0. 0. 0. 0. 0. 0. 0. 0. 0. 0. 0.]\n",
            " [0. 0. 0. 0. 0. 0. 0. 0. 0. 0. 0. 0. 0. 0. 0. 0. 0. 0. 0. 0. 0. 0. 0. 0.]\n",
            " [1. 1. 1. 1. 1. 1. 1. 1. 1. 1. 1. 1. 1. 1. 1. 1. 1. 1. 1. 1. 1. 1. 1. 1.]\n",
            " [0. 0. 0. 0. 0. 0. 0. 0. 0. 0. 0. 0. 0. 0. 0. 0. 0. 0. 0. 0. 0. 0. 0. 0.]\n",
            " [1. 1. 1. 1. 1. 1. 1. 1. 1. 1. 1. 1. 1. 1. 1. 1. 1. 1. 1. 1. 1. 1. 1. 1.]\n",
            " [0. 0. 0. 0. 0. 0. 0. 0. 0. 0. 0. 0. 0. 0. 0. 0. 0. 0. 0. 0. 0. 0. 0. 0.]\n",
            " [1. 1. 1. 1. 1. 1. 1. 1. 1. 1. 1. 1. 1. 1. 1. 1. 1. 1. 1. 1. 1. 1. 1. 1.]\n",
            " [1. 1. 1. 1. 1. 1. 1. 1. 1. 1. 1. 1. 1. 1. 1. 1. 1. 1. 1. 1. 1. 1. 1. 1.]\n",
            " [0. 0. 0. 0. 0. 0. 0. 0. 0. 0. 0. 0. 0. 0. 0. 0. 0. 0. 0. 0. 0. 0. 0. 0.]\n",
            " [1. 1. 1. 1. 1. 1. 1. 1. 1. 1. 1. 1. 1. 1. 1. 1. 1. 1. 1. 1. 1. 1. 1. 1.]\n",
            " [1. 1. 1. 1. 1. 1. 1. 1. 1. 1. 1. 1. 1. 1. 1. 1. 1. 1. 1. 1. 1. 1. 1. 1.]\n",
            " [0. 0. 0. 0. 0. 0. 0. 0. 0. 0. 0. 0. 0. 0. 0. 0. 0. 0. 0. 0. 0. 0. 0. 0.]\n",
            " [1. 1. 1. 1. 1. 1. 1. 1. 1. 1. 1. 1. 1. 1. 1. 1. 1. 1. 1. 1. 1. 1. 1. 1.]\n",
            " [1. 1. 1. 1. 1. 1. 1. 1. 1. 1. 1. 1. 1. 1. 1. 1. 1. 1. 1. 1. 1. 1. 1. 1.]\n",
            " [1. 1. 1. 1. 1. 1. 1. 1. 1. 1. 1. 1. 1. 1. 1. 1. 1. 1. 1. 1. 1. 1. 1. 1.]]\n"
          ]
        }
      ]
    },
    {
      "cell_type": "code",
      "source": [
        "MOM = 12\n",
        "MOT = 14\n",
        "MON = 18\n",
        "MOTURNOS [:,0:6] *=  MON\n",
        "MOTURNOS [:,6:14] *=  MOM\n",
        "MOTURNOS [:,14:22] *=  MOT\n",
        "MOTURNOS [:,22:24] *=  MON\n",
        "print(MOTURNOS)"
      ],
      "metadata": {
        "colab": {
          "base_uri": "https://localhost:8080/"
        },
        "id": "Sh40laK5W1i3",
        "outputId": "df7b32b3-3e11-40ca-fe9b-e3509d96445a"
      },
      "execution_count": null,
      "outputs": [
        {
          "output_type": "stream",
          "name": "stdout",
          "text": [
            "[[ 0.  0.  0.  0.  0.  0.  0.  0.  0.  0.  0.  0.  0.  0.  0.  0.  0.  0.\n",
            "   0.  0.  0.  0.  0.  0.]\n",
            " [ 0.  0.  0.  0.  0.  0.  0.  0.  0.  0.  0.  0.  0.  0.  0.  0.  0.  0.\n",
            "   0.  0.  0.  0.  0.  0.]\n",
            " [18. 18. 18. 18. 18. 18. 12. 12. 12. 12. 12. 12. 12. 12. 14. 14. 14. 14.\n",
            "  14. 14. 14. 14. 18. 18.]\n",
            " [ 0.  0.  0.  0.  0.  0.  0.  0.  0.  0.  0.  0.  0.  0.  0.  0.  0.  0.\n",
            "   0.  0.  0.  0.  0.  0.]\n",
            " [18. 18. 18. 18. 18. 18. 12. 12. 12. 12. 12. 12. 12. 12. 14. 14. 14. 14.\n",
            "  14. 14. 14. 14. 18. 18.]\n",
            " [ 0.  0.  0.  0.  0.  0.  0.  0.  0.  0.  0.  0.  0.  0.  0.  0.  0.  0.\n",
            "   0.  0.  0.  0.  0.  0.]\n",
            " [18. 18. 18. 18. 18. 18. 12. 12. 12. 12. 12. 12. 12. 12. 14. 14. 14. 14.\n",
            "  14. 14. 14. 14. 18. 18.]\n",
            " [18. 18. 18. 18. 18. 18. 12. 12. 12. 12. 12. 12. 12. 12. 14. 14. 14. 14.\n",
            "  14. 14. 14. 14. 18. 18.]\n",
            " [ 0.  0.  0.  0.  0.  0.  0.  0.  0.  0.  0.  0.  0.  0.  0.  0.  0.  0.\n",
            "   0.  0.  0.  0.  0.  0.]\n",
            " [18. 18. 18. 18. 18. 18. 12. 12. 12. 12. 12. 12. 12. 12. 14. 14. 14. 14.\n",
            "  14. 14. 14. 14. 18. 18.]\n",
            " [18. 18. 18. 18. 18. 18. 12. 12. 12. 12. 12. 12. 12. 12. 14. 14. 14. 14.\n",
            "  14. 14. 14. 14. 18. 18.]\n",
            " [ 0.  0.  0.  0.  0.  0.  0.  0.  0.  0.  0.  0.  0.  0.  0.  0.  0.  0.\n",
            "   0.  0.  0.  0.  0.  0.]\n",
            " [18. 18. 18. 18. 18. 18. 12. 12. 12. 12. 12. 12. 12. 12. 14. 14. 14. 14.\n",
            "  14. 14. 14. 14. 18. 18.]\n",
            " [18. 18. 18. 18. 18. 18. 12. 12. 12. 12. 12. 12. 12. 12. 14. 14. 14. 14.\n",
            "  14. 14. 14. 14. 18. 18.]\n",
            " [18. 18. 18. 18. 18. 18. 12. 12. 12. 12. 12. 12. 12. 12. 14. 14. 14. 14.\n",
            "  14. 14. 14. 14. 18. 18.]]\n"
          ]
        }
      ]
    },
    {
      "cell_type": "code",
      "source": [
        "CMOTHORARIO  =np.multiply(MOTURNOS, np.multiply(T,NOP)) / 3600\n",
        "print(CMOTHORARIO)"
      ],
      "metadata": {
        "colab": {
          "base_uri": "https://localhost:8080/"
        },
        "id": "XiJVIasxbHJg",
        "outputId": "fb07ec41-90ee-4f8e-b5e2-16c546e16ccb"
      },
      "execution_count": null,
      "outputs": [
        {
          "output_type": "stream",
          "name": "stdout",
          "text": [
            "[[0.         0.         0.         0.         0.         0.\n",
            "  0.         0.         0.         0.         0.         0.\n",
            "  0.         0.         0.         0.         0.         0.\n",
            "  0.         0.         0.         0.         0.         0.        ]\n",
            " [0.         0.         0.         0.         0.         0.\n",
            "  0.         0.         0.         0.         0.         0.\n",
            "  0.         0.         0.         0.         0.         0.\n",
            "  0.         0.         0.         0.         0.         0.        ]\n",
            " [0.5        0.5        0.5        0.5        0.5        0.5\n",
            "  0.33333333 0.33333333 0.33333333 0.33333333 0.33333333 0.33333333\n",
            "  0.33333333 0.33333333 0.38888889 0.38888889 0.38888889 0.38888889\n",
            "  0.38888889 0.38888889 0.38888889 0.38888889 0.5        0.5       ]\n",
            " [0.         0.         0.         0.         0.         0.\n",
            "  0.         0.         0.         0.         0.         0.\n",
            "  0.         0.         0.         0.         0.         0.\n",
            "  0.         0.         0.         0.         0.         0.        ]\n",
            " [0.2        0.2        0.2        0.2        0.2        0.2\n",
            "  0.13333333 0.13333333 0.13333333 0.13333333 0.13333333 0.13333333\n",
            "  0.13333333 0.13333333 0.15555556 0.15555556 0.15555556 0.15555556\n",
            "  0.15555556 0.15555556 0.15555556 0.15555556 0.2        0.2       ]\n",
            " [0.         0.         0.         0.         0.         0.\n",
            "  0.         0.         0.         0.         0.         0.\n",
            "  0.         0.         0.         0.         0.         0.\n",
            "  0.         0.         0.         0.         0.         0.        ]\n",
            " [0.4        0.4        0.4        0.4        0.4        0.4\n",
            "  0.26666667 0.26666667 0.26666667 0.26666667 0.26666667 0.26666667\n",
            "  0.26666667 0.26666667 0.31111111 0.31111111 0.31111111 0.31111111\n",
            "  0.31111111 0.31111111 0.31111111 0.31111111 0.4        0.4       ]\n",
            " [0.08       0.08       0.08       0.08       0.08       0.08\n",
            "  0.05333333 0.05333333 0.05333333 0.05333333 0.05333333 0.05333333\n",
            "  0.05333333 0.05333333 0.06222222 0.06222222 0.06222222 0.06222222\n",
            "  0.06222222 0.06222222 0.06222222 0.06222222 0.08       0.08      ]\n",
            " [0.         0.         0.         0.         0.         0.\n",
            "  0.         0.         0.         0.         0.         0.\n",
            "  0.         0.         0.         0.         0.         0.\n",
            "  0.         0.         0.         0.         0.         0.        ]\n",
            " [0.45       0.45       0.45       0.45       0.45       0.45\n",
            "  0.3        0.3        0.3        0.3        0.3        0.3\n",
            "  0.3        0.3        0.35       0.35       0.35       0.35\n",
            "  0.35       0.35       0.35       0.35       0.45       0.45      ]\n",
            " [0.125      0.125      0.125      0.125      0.125      0.125\n",
            "  0.08333333 0.08333333 0.08333333 0.08333333 0.08333333 0.08333333\n",
            "  0.08333333 0.08333333 0.09722222 0.09722222 0.09722222 0.09722222\n",
            "  0.09722222 0.09722222 0.09722222 0.09722222 0.125      0.125     ]\n",
            " [0.         0.         0.         0.         0.         0.\n",
            "  0.         0.         0.         0.         0.         0.\n",
            "  0.         0.         0.         0.         0.         0.\n",
            "  0.         0.         0.         0.         0.         0.        ]\n",
            " [0.6        0.6        0.6        0.6        0.6        0.6\n",
            "  0.4        0.4        0.4        0.4        0.4        0.4\n",
            "  0.4        0.4        0.46666667 0.46666667 0.46666667 0.46666667\n",
            "  0.46666667 0.46666667 0.46666667 0.46666667 0.6        0.6       ]\n",
            " [0.5        0.5        0.5        0.5        0.5        0.5\n",
            "  0.33333333 0.33333333 0.33333333 0.33333333 0.33333333 0.33333333\n",
            "  0.33333333 0.33333333 0.38888889 0.38888889 0.38888889 0.38888889\n",
            "  0.38888889 0.38888889 0.38888889 0.38888889 0.5        0.5       ]\n",
            " [0.75       0.75       0.75       0.75       0.75       0.75\n",
            "  0.5        0.5        0.5        0.5        0.5        0.5\n",
            "  0.5        0.5        0.58333333 0.58333333 0.58333333 0.58333333\n",
            "  0.58333333 0.58333333 0.58333333 0.58333333 0.75       0.75      ]]\n"
          ]
        }
      ]
    },
    {
      "cell_type": "markdown",
      "source": [
        "\n",
        "Ahora nos centraremso en el cálculo de la mano de obra\n",
        "\n",
        "MAQ = Vector Maquinas (n x 1)\n",
        "\n",
        "CMF = Coste máquina fijo (n x 24)\n",
        "\n",
        "CPOT = Tabla de coste de potencias (n x 24)\n",
        "\n",
        "POT = Potencia de Maquinaria (n x 1) KWH\n",
        "\n",
        "CELECM = Coste potencia turno mañana\n",
        "\n",
        "CELECT = coste potencia turno tarde\n",
        "\n",
        "CELECN = Coste potencia turno Noche\n",
        "\n",
        "CMVTURNOS = Coste maquina variable (n x 24))\n",
        "\n",
        "T =  Tiempos de ciclo (n x 1) (Definidos anteriormente)\n",
        "\n",
        "CMQVTHORARIO = Coste de maquina total (nx24) resultado de CMVTURNOS * POT *T / 3600\n",
        "\n",
        "CMTOT = (CMF + CMQVTHORARIO) * T / 3600"
      ],
      "metadata": {
        "id": "3SCFZQDGenMD"
      }
    },
    {
      "cell_type": "code",
      "source": [
        "from genericpath import commonprefix\n",
        "#Coste maquina definido por cliente CMF\n",
        "cmfijo = 5  #5 es un valor estimado\n",
        "CMF = np.ones((known_references,24))\n",
        "CMF = np.multiply(CMF, MAQREF)\n",
        "CMF = CMF * cmfijo\n",
        "print (CMF)"
      ],
      "metadata": {
        "colab": {
          "base_uri": "https://localhost:8080/"
        },
        "id": "EbiVC5Moenfy",
        "outputId": "1546f759-5382-4b6d-9532-f06da79e0011"
      },
      "execution_count": null,
      "outputs": [
        {
          "output_type": "stream",
          "name": "stdout",
          "text": [
            "[[0. 0. 0. 0. 0. 0. 0. 0. 0. 0. 0. 0. 0. 0. 0. 0. 0. 0. 0. 0. 0. 0. 0. 0.]\n",
            " [0. 0. 0. 0. 0. 0. 0. 0. 0. 0. 0. 0. 0. 0. 0. 0. 0. 0. 0. 0. 0. 0. 0. 0.]\n",
            " [5. 5. 5. 5. 5. 5. 5. 5. 5. 5. 5. 5. 5. 5. 5. 5. 5. 5. 5. 5. 5. 5. 5. 5.]\n",
            " [0. 0. 0. 0. 0. 0. 0. 0. 0. 0. 0. 0. 0. 0. 0. 0. 0. 0. 0. 0. 0. 0. 0. 0.]\n",
            " [5. 5. 5. 5. 5. 5. 5. 5. 5. 5. 5. 5. 5. 5. 5. 5. 5. 5. 5. 5. 5. 5. 5. 5.]\n",
            " [0. 0. 0. 0. 0. 0. 0. 0. 0. 0. 0. 0. 0. 0. 0. 0. 0. 0. 0. 0. 0. 0. 0. 0.]\n",
            " [5. 5. 5. 5. 5. 5. 5. 5. 5. 5. 5. 5. 5. 5. 5. 5. 5. 5. 5. 5. 5. 5. 5. 5.]\n",
            " [5. 5. 5. 5. 5. 5. 5. 5. 5. 5. 5. 5. 5. 5. 5. 5. 5. 5. 5. 5. 5. 5. 5. 5.]\n",
            " [0. 0. 0. 0. 0. 0. 0. 0. 0. 0. 0. 0. 0. 0. 0. 0. 0. 0. 0. 0. 0. 0. 0. 0.]\n",
            " [5. 5. 5. 5. 5. 5. 5. 5. 5. 5. 5. 5. 5. 5. 5. 5. 5. 5. 5. 5. 5. 5. 5. 5.]\n",
            " [5. 5. 5. 5. 5. 5. 5. 5. 5. 5. 5. 5. 5. 5. 5. 5. 5. 5. 5. 5. 5. 5. 5. 5.]\n",
            " [0. 0. 0. 0. 0. 0. 0. 0. 0. 0. 0. 0. 0. 0. 0. 0. 0. 0. 0. 0. 0. 0. 0. 0.]\n",
            " [5. 5. 5. 5. 5. 5. 5. 5. 5. 5. 5. 5. 5. 5. 5. 5. 5. 5. 5. 5. 5. 5. 5. 5.]\n",
            " [5. 5. 5. 5. 5. 5. 5. 5. 5. 5. 5. 5. 5. 5. 5. 5. 5. 5. 5. 5. 5. 5. 5. 5.]\n",
            " [5. 5. 5. 5. 5. 5. 5. 5. 5. 5. 5. 5. 5. 5. 5. 5. 5. 5. 5. 5. 5. 5. 5. 5.]]\n"
          ]
        }
      ]
    },
    {
      "cell_type": "code",
      "source": [
        "CMTURNOS = np.ones((known_references,24))\n",
        "CMTURNOS = np.multiply(CMTURNOS, MAQREF)\n",
        "print(CMTURNOS)"
      ],
      "metadata": {
        "colab": {
          "base_uri": "https://localhost:8080/"
        },
        "id": "VuYTEzJkhmrb",
        "outputId": "ce2e8b54-a197-47f0-c197-9cfd8853ec47"
      },
      "execution_count": null,
      "outputs": [
        {
          "output_type": "stream",
          "name": "stdout",
          "text": [
            "[[0. 0. 0. 0. 0. 0. 0. 0. 0. 0. 0. 0. 0. 0. 0. 0. 0. 0. 0. 0. 0. 0. 0. 0.]\n",
            " [0. 0. 0. 0. 0. 0. 0. 0. 0. 0. 0. 0. 0. 0. 0. 0. 0. 0. 0. 0. 0. 0. 0. 0.]\n",
            " [1. 1. 1. 1. 1. 1. 1. 1. 1. 1. 1. 1. 1. 1. 1. 1. 1. 1. 1. 1. 1. 1. 1. 1.]\n",
            " [0. 0. 0. 0. 0. 0. 0. 0. 0. 0. 0. 0. 0. 0. 0. 0. 0. 0. 0. 0. 0. 0. 0. 0.]\n",
            " [1. 1. 1. 1. 1. 1. 1. 1. 1. 1. 1. 1. 1. 1. 1. 1. 1. 1. 1. 1. 1. 1. 1. 1.]\n",
            " [0. 0. 0. 0. 0. 0. 0. 0. 0. 0. 0. 0. 0. 0. 0. 0. 0. 0. 0. 0. 0. 0. 0. 0.]\n",
            " [1. 1. 1. 1. 1. 1. 1. 1. 1. 1. 1. 1. 1. 1. 1. 1. 1. 1. 1. 1. 1. 1. 1. 1.]\n",
            " [1. 1. 1. 1. 1. 1. 1. 1. 1. 1. 1. 1. 1. 1. 1. 1. 1. 1. 1. 1. 1. 1. 1. 1.]\n",
            " [0. 0. 0. 0. 0. 0. 0. 0. 0. 0. 0. 0. 0. 0. 0. 0. 0. 0. 0. 0. 0. 0. 0. 0.]\n",
            " [1. 1. 1. 1. 1. 1. 1. 1. 1. 1. 1. 1. 1. 1. 1. 1. 1. 1. 1. 1. 1. 1. 1. 1.]\n",
            " [1. 1. 1. 1. 1. 1. 1. 1. 1. 1. 1. 1. 1. 1. 1. 1. 1. 1. 1. 1. 1. 1. 1. 1.]\n",
            " [0. 0. 0. 0. 0. 0. 0. 0. 0. 0. 0. 0. 0. 0. 0. 0. 0. 0. 0. 0. 0. 0. 0. 0.]\n",
            " [1. 1. 1. 1. 1. 1. 1. 1. 1. 1. 1. 1. 1. 1. 1. 1. 1. 1. 1. 1. 1. 1. 1. 1.]\n",
            " [1. 1. 1. 1. 1. 1. 1. 1. 1. 1. 1. 1. 1. 1. 1. 1. 1. 1. 1. 1. 1. 1. 1. 1.]\n",
            " [1. 1. 1. 1. 1. 1. 1. 1. 1. 1. 1. 1. 1. 1. 1. 1. 1. 1. 1. 1. 1. 1. 1. 1.]]\n"
          ]
        }
      ]
    },
    {
      "cell_type": "code",
      "source": [
        "\n",
        "CELECM = 0.12\n",
        "CELECT = 0.14\n",
        "CELECN = 0.16\n",
        "CMTURNOS [:,0:6] *=  CELECN\n",
        "CMTURNOS [:,6:14] *=  CELECM\n",
        "CMTURNOS [:,14:22] *=  CELECT\n",
        "CMTURNOS [:,22:24] *=  CELECN\n",
        "print(CMTURNOS)"
      ],
      "metadata": {
        "colab": {
          "base_uri": "https://localhost:8080/"
        },
        "id": "R2HmTEIJhd6I",
        "outputId": "d5c291e4-3523-4c53-a2a1-9116764f0f93"
      },
      "execution_count": null,
      "outputs": [
        {
          "output_type": "stream",
          "name": "stdout",
          "text": [
            "[[0.   0.   0.   0.   0.   0.   0.   0.   0.   0.   0.   0.   0.   0.\n",
            "  0.   0.   0.   0.   0.   0.   0.   0.   0.   0.  ]\n",
            " [0.   0.   0.   0.   0.   0.   0.   0.   0.   0.   0.   0.   0.   0.\n",
            "  0.   0.   0.   0.   0.   0.   0.   0.   0.   0.  ]\n",
            " [0.16 0.16 0.16 0.16 0.16 0.16 0.12 0.12 0.12 0.12 0.12 0.12 0.12 0.12\n",
            "  0.14 0.14 0.14 0.14 0.14 0.14 0.14 0.14 0.16 0.16]\n",
            " [0.   0.   0.   0.   0.   0.   0.   0.   0.   0.   0.   0.   0.   0.\n",
            "  0.   0.   0.   0.   0.   0.   0.   0.   0.   0.  ]\n",
            " [0.16 0.16 0.16 0.16 0.16 0.16 0.12 0.12 0.12 0.12 0.12 0.12 0.12 0.12\n",
            "  0.14 0.14 0.14 0.14 0.14 0.14 0.14 0.14 0.16 0.16]\n",
            " [0.   0.   0.   0.   0.   0.   0.   0.   0.   0.   0.   0.   0.   0.\n",
            "  0.   0.   0.   0.   0.   0.   0.   0.   0.   0.  ]\n",
            " [0.16 0.16 0.16 0.16 0.16 0.16 0.12 0.12 0.12 0.12 0.12 0.12 0.12 0.12\n",
            "  0.14 0.14 0.14 0.14 0.14 0.14 0.14 0.14 0.16 0.16]\n",
            " [0.16 0.16 0.16 0.16 0.16 0.16 0.12 0.12 0.12 0.12 0.12 0.12 0.12 0.12\n",
            "  0.14 0.14 0.14 0.14 0.14 0.14 0.14 0.14 0.16 0.16]\n",
            " [0.   0.   0.   0.   0.   0.   0.   0.   0.   0.   0.   0.   0.   0.\n",
            "  0.   0.   0.   0.   0.   0.   0.   0.   0.   0.  ]\n",
            " [0.16 0.16 0.16 0.16 0.16 0.16 0.12 0.12 0.12 0.12 0.12 0.12 0.12 0.12\n",
            "  0.14 0.14 0.14 0.14 0.14 0.14 0.14 0.14 0.16 0.16]\n",
            " [0.16 0.16 0.16 0.16 0.16 0.16 0.12 0.12 0.12 0.12 0.12 0.12 0.12 0.12\n",
            "  0.14 0.14 0.14 0.14 0.14 0.14 0.14 0.14 0.16 0.16]\n",
            " [0.   0.   0.   0.   0.   0.   0.   0.   0.   0.   0.   0.   0.   0.\n",
            "  0.   0.   0.   0.   0.   0.   0.   0.   0.   0.  ]\n",
            " [0.16 0.16 0.16 0.16 0.16 0.16 0.12 0.12 0.12 0.12 0.12 0.12 0.12 0.12\n",
            "  0.14 0.14 0.14 0.14 0.14 0.14 0.14 0.14 0.16 0.16]\n",
            " [0.16 0.16 0.16 0.16 0.16 0.16 0.12 0.12 0.12 0.12 0.12 0.12 0.12 0.12\n",
            "  0.14 0.14 0.14 0.14 0.14 0.14 0.14 0.14 0.16 0.16]\n",
            " [0.16 0.16 0.16 0.16 0.16 0.16 0.12 0.12 0.12 0.12 0.12 0.12 0.12 0.12\n",
            "  0.14 0.14 0.14 0.14 0.14 0.14 0.14 0.14 0.16 0.16]]\n"
          ]
        }
      ]
    },
    {
      "cell_type": "code",
      "source": [
        "POT_referencia = np.multiply(BOMMAQ,CPOT)\n",
        "POT_referencia = np.expand_dims(POT_referencia.sum(axis = 0), axis = 0)\n",
        "\n",
        "print(POT_referencia)"
      ],
      "metadata": {
        "colab": {
          "base_uri": "https://localhost:8080/"
        },
        "id": "4RacDnlhJOvo",
        "outputId": "2db32de0-4715-45d3-85ce-02d5198ffad2"
      },
      "execution_count": null,
      "outputs": [
        {
          "output_type": "stream",
          "name": "stdout",
          "text": [
            "[[  0.   0. 100.   0.   0.   0. 100.   0.   0. 125.   0.   0. 150. 200.\n",
            "  200.]]\n"
          ]
        }
      ]
    },
    {
      "cell_type": "code",
      "source": [
        "CMQVTHORARIO  = np.multiply(CMTURNOS , POT_referencia.T)\n",
        "print(CMQVTHORARIO)"
      ],
      "metadata": {
        "colab": {
          "base_uri": "https://localhost:8080/"
        },
        "id": "tiVwHu-BjbAC",
        "outputId": "c0732438-1c0a-4a10-edcb-f5393a83648f"
      },
      "execution_count": null,
      "outputs": [
        {
          "output_type": "stream",
          "name": "stdout",
          "text": [
            "[[ 0.   0.   0.   0.   0.   0.   0.   0.   0.   0.   0.   0.   0.   0.\n",
            "   0.   0.   0.   0.   0.   0.   0.   0.   0.   0. ]\n",
            " [ 0.   0.   0.   0.   0.   0.   0.   0.   0.   0.   0.   0.   0.   0.\n",
            "   0.   0.   0.   0.   0.   0.   0.   0.   0.   0. ]\n",
            " [16.  16.  16.  16.  16.  16.  12.  12.  12.  12.  12.  12.  12.  12.\n",
            "  14.  14.  14.  14.  14.  14.  14.  14.  16.  16. ]\n",
            " [ 0.   0.   0.   0.   0.   0.   0.   0.   0.   0.   0.   0.   0.   0.\n",
            "   0.   0.   0.   0.   0.   0.   0.   0.   0.   0. ]\n",
            " [ 0.   0.   0.   0.   0.   0.   0.   0.   0.   0.   0.   0.   0.   0.\n",
            "   0.   0.   0.   0.   0.   0.   0.   0.   0.   0. ]\n",
            " [ 0.   0.   0.   0.   0.   0.   0.   0.   0.   0.   0.   0.   0.   0.\n",
            "   0.   0.   0.   0.   0.   0.   0.   0.   0.   0. ]\n",
            " [16.  16.  16.  16.  16.  16.  12.  12.  12.  12.  12.  12.  12.  12.\n",
            "  14.  14.  14.  14.  14.  14.  14.  14.  16.  16. ]\n",
            " [ 0.   0.   0.   0.   0.   0.   0.   0.   0.   0.   0.   0.   0.   0.\n",
            "   0.   0.   0.   0.   0.   0.   0.   0.   0.   0. ]\n",
            " [ 0.   0.   0.   0.   0.   0.   0.   0.   0.   0.   0.   0.   0.   0.\n",
            "   0.   0.   0.   0.   0.   0.   0.   0.   0.   0. ]\n",
            " [20.  20.  20.  20.  20.  20.  15.  15.  15.  15.  15.  15.  15.  15.\n",
            "  17.5 17.5 17.5 17.5 17.5 17.5 17.5 17.5 20.  20. ]\n",
            " [ 0.   0.   0.   0.   0.   0.   0.   0.   0.   0.   0.   0.   0.   0.\n",
            "   0.   0.   0.   0.   0.   0.   0.   0.   0.   0. ]\n",
            " [ 0.   0.   0.   0.   0.   0.   0.   0.   0.   0.   0.   0.   0.   0.\n",
            "   0.   0.   0.   0.   0.   0.   0.   0.   0.   0. ]\n",
            " [24.  24.  24.  24.  24.  24.  18.  18.  18.  18.  18.  18.  18.  18.\n",
            "  21.  21.  21.  21.  21.  21.  21.  21.  24.  24. ]\n",
            " [32.  32.  32.  32.  32.  32.  24.  24.  24.  24.  24.  24.  24.  24.\n",
            "  28.  28.  28.  28.  28.  28.  28.  28.  32.  32. ]\n",
            " [32.  32.  32.  32.  32.  32.  24.  24.  24.  24.  24.  24.  24.  24.\n",
            "  28.  28.  28.  28.  28.  28.  28.  28.  32.  32. ]]\n"
          ]
        }
      ]
    },
    {
      "cell_type": "code",
      "source": [
        "CMTOT = np.multiply((CMF + CMQVTHORARIO), T) / 3600\n",
        "print (CMTOT)"
      ],
      "metadata": {
        "colab": {
          "base_uri": "https://localhost:8080/"
        },
        "id": "KWnUblwSjufv",
        "outputId": "9a3878ec-20ef-4e04-b26f-735779f3ff63"
      },
      "execution_count": null,
      "outputs": [
        {
          "output_type": "stream",
          "name": "stdout",
          "text": [
            "[[0.         0.         0.         0.         0.         0.\n",
            "  0.         0.         0.         0.         0.         0.\n",
            "  0.         0.         0.         0.         0.         0.\n",
            "  0.         0.         0.         0.         0.         0.        ]\n",
            " [0.         0.         0.         0.         0.         0.\n",
            "  0.         0.         0.         0.         0.         0.\n",
            "  0.         0.         0.         0.         0.         0.\n",
            "  0.         0.         0.         0.         0.         0.        ]\n",
            " [0.58333333 0.58333333 0.58333333 0.58333333 0.58333333 0.58333333\n",
            "  0.47222222 0.47222222 0.47222222 0.47222222 0.47222222 0.47222222\n",
            "  0.47222222 0.47222222 0.52777778 0.52777778 0.52777778 0.52777778\n",
            "  0.52777778 0.52777778 0.52777778 0.52777778 0.58333333 0.58333333]\n",
            " [0.         0.         0.         0.         0.         0.\n",
            "  0.         0.         0.         0.         0.         0.\n",
            "  0.         0.         0.         0.         0.         0.\n",
            "  0.         0.         0.         0.         0.         0.        ]\n",
            " [0.02777778 0.02777778 0.02777778 0.02777778 0.02777778 0.02777778\n",
            "  0.02777778 0.02777778 0.02777778 0.02777778 0.02777778 0.02777778\n",
            "  0.02777778 0.02777778 0.02777778 0.02777778 0.02777778 0.02777778\n",
            "  0.02777778 0.02777778 0.02777778 0.02777778 0.02777778 0.02777778]\n",
            " [0.         0.         0.         0.         0.         0.\n",
            "  0.         0.         0.         0.         0.         0.\n",
            "  0.         0.         0.         0.         0.         0.\n",
            "  0.         0.         0.         0.         0.         0.        ]\n",
            " [0.46666667 0.46666667 0.46666667 0.46666667 0.46666667 0.46666667\n",
            "  0.37777778 0.37777778 0.37777778 0.37777778 0.37777778 0.37777778\n",
            "  0.37777778 0.37777778 0.42222222 0.42222222 0.42222222 0.42222222\n",
            "  0.42222222 0.42222222 0.42222222 0.42222222 0.46666667 0.46666667]\n",
            " [0.02222222 0.02222222 0.02222222 0.02222222 0.02222222 0.02222222\n",
            "  0.02222222 0.02222222 0.02222222 0.02222222 0.02222222 0.02222222\n",
            "  0.02222222 0.02222222 0.02222222 0.02222222 0.02222222 0.02222222\n",
            "  0.02222222 0.02222222 0.02222222 0.02222222 0.02222222 0.02222222]\n",
            " [0.         0.         0.         0.         0.         0.\n",
            "  0.         0.         0.         0.         0.         0.\n",
            "  0.         0.         0.         0.         0.         0.\n",
            "  0.         0.         0.         0.         0.         0.        ]\n",
            " [0.625      0.625      0.625      0.625      0.625      0.625\n",
            "  0.5        0.5        0.5        0.5        0.5        0.5\n",
            "  0.5        0.5        0.5625     0.5625     0.5625     0.5625\n",
            "  0.5625     0.5625     0.5625     0.5625     0.625      0.625     ]\n",
            " [0.03472222 0.03472222 0.03472222 0.03472222 0.03472222 0.03472222\n",
            "  0.03472222 0.03472222 0.03472222 0.03472222 0.03472222 0.03472222\n",
            "  0.03472222 0.03472222 0.03472222 0.03472222 0.03472222 0.03472222\n",
            "  0.03472222 0.03472222 0.03472222 0.03472222 0.03472222 0.03472222]\n",
            " [0.         0.         0.         0.         0.         0.\n",
            "  0.         0.         0.         0.         0.         0.\n",
            "  0.         0.         0.         0.         0.         0.\n",
            "  0.         0.         0.         0.         0.         0.        ]\n",
            " [0.48333333 0.48333333 0.48333333 0.48333333 0.48333333 0.48333333\n",
            "  0.38333333 0.38333333 0.38333333 0.38333333 0.38333333 0.38333333\n",
            "  0.38333333 0.38333333 0.43333333 0.43333333 0.43333333 0.43333333\n",
            "  0.43333333 0.43333333 0.43333333 0.43333333 0.48333333 0.48333333]\n",
            " [0.51388889 0.51388889 0.51388889 0.51388889 0.51388889 0.51388889\n",
            "  0.40277778 0.40277778 0.40277778 0.40277778 0.40277778 0.40277778\n",
            "  0.40277778 0.40277778 0.45833333 0.45833333 0.45833333 0.45833333\n",
            "  0.45833333 0.45833333 0.45833333 0.45833333 0.51388889 0.51388889]\n",
            " [0.77083333 0.77083333 0.77083333 0.77083333 0.77083333 0.77083333\n",
            "  0.60416667 0.60416667 0.60416667 0.60416667 0.60416667 0.60416667\n",
            "  0.60416667 0.60416667 0.6875     0.6875     0.6875     0.6875\n",
            "  0.6875     0.6875     0.6875     0.6875     0.77083333 0.77083333]]\n"
          ]
        }
      ]
    },
    {
      "cell_type": "markdown",
      "source": [
        "El coste total es el resultado de sumar el coste máquina y el de operario\n",
        "CTOTHORARIO"
      ],
      "metadata": {
        "id": "MFMXrwHPl52f"
      }
    },
    {
      "cell_type": "code",
      "source": [
        "CTOTHORARIO = CMOTHORARIO + CMTOT\n",
        "print (CTOTHORARIO)"
      ],
      "metadata": {
        "id": "4d5U4LTHkvY_"
      },
      "execution_count": null,
      "outputs": []
    },
    {
      "cell_type": "markdown",
      "source": [
        "# **Inicio de modelado de simulación**\n",
        "El modelo de la simulación requiere que se definan:\n",
        "1. Descipción de los componentes del sistema (ver zona anterior)\n",
        "2. El reloj de la simulación (arreglo de tiempos) se considera trabajar por semanas de 6 días 0-lunes -- 5 sábado\n",
        "3. Definición del estado inicial del sistema\n",
        "4. El modelo para el cambio de estado\n",
        "5. Procedimiento para adelantar el reloj\n",
        "Como resultado del sistema se provee:\n",
        "1. Condición inicial\n",
        "2. Listado de eventos (aleatorios + paramétricos)\n",
        "3. Resultado obtenido de la ejecución en parámetros evaluables de la efectividad del resultado."
      ],
      "metadata": {
        "id": "w-wMmvYkDNYV"
      }
    },
    {
      "cell_type": "markdown",
      "source": [
        "*Reloj de la simulación* - se establece como una matriz horarira de 24 x 6 días (programación semanal)"
      ],
      "metadata": {
        "id": "tjUTNqtVEwJu"
      }
    },
    {
      "cell_type": "code",
      "source": [
        "Calendario_Sim = np.zeros((24,6))\n",
        "print(Calendario_Sim)"
      ],
      "metadata": {
        "id": "twTL-lb8mmY4"
      },
      "execution_count": null,
      "outputs": []
    },
    {
      "cell_type": "markdown",
      "source": [
        "*Definir el estado inicial* - Estado de las máquinas y almacenamiento\n",
        "\n",
        "Se definie un Coste de referencia para el calculo del coste de material en el almacén"
      ],
      "metadata": {
        "id": "zocVyfWLGSzu"
      }
    },
    {
      "cell_type": "code",
      "source": [
        "Process_status = np.zeros((len(DICMAQ),1))\n",
        "Process_status[DICMAQ[\"Inyeccion\"]] = REF[\"5\"]\n",
        "Process_status[DICMAQ[\"Mecanizado\"]] = REF[\"8\"]\n",
        "STOCK = {\"Referencia\":0,\"Volumen\":1,\"Coste\":2}\n",
        "Reference_cost = np.zeros((len(REF),1))\n",
        "Reference_cost[REF[\"1\"]] = 12.8\n",
        "Reference_cost[REF[\"2\"]] = 23.7\n",
        "Reference_cost[REF[\"3\"]] = 18.4\n",
        "Reference_cost[REF[\"4\"]] = 6.2\n",
        "Reference_cost[REF[\"5\"]] = 50.1\n",
        "Reference_cost[REF[\"6\"]] = 80.2\n",
        "Reference_cost[REF[\"7\"]] = 67.4\n",
        "Reference_cost[REF[\"8\"]] = 73.9\n",
        "\n",
        "Almacen_MP = np.zeros((3,known_references))\n",
        "Almacen_MP[STOCK[\"Referencia\"],REF[\"1\"]] = REF[\"1\"] # Aunque sea redundante, es solo un tema de legibilidad\n",
        "Almacen_MP[STOCK[\"Volumen\"],REF[\"1\"]] = 5\n",
        "Almacen_MP[STOCK[\"Coste\"],REF[\"1\"]] = Almacen_MP[STOCK[\"Volumen\"],0] * Reference_cost[REF[\"1\"]]\n",
        "\n",
        "Almacen_MP[STOCK[\"Referencia\"],REF[\"2\"]] = REF[\"2\"] # Aunque sea redundante, es solo un tema de legibilidad\n",
        "Almacen_MP[STOCK[\"Volumen\"],REF[\"2\"]] = 7\n",
        "Almacen_MP[STOCK[\"Coste\"],REF[\"2\"]] = Almacen_MP[STOCK[\"Volumen\"],0] * Reference_cost[REF[\"2\"]]\n",
        "\n",
        "Almacen_MP[STOCK[\"Referencia\"],REF[\"3\"]] = REF[\"3\"] # Aunque sea redundante, es solo un tema de legibilidad\n",
        "Almacen_MP[STOCK[\"Volumen\"],REF[\"3\"]] = 1\n",
        "Almacen_MP[STOCK[\"Coste\"],REF[\"3\"]] = Almacen_MP[STOCK[\"Volumen\"],0] * Reference_cost[REF[\"3\"]]\n",
        "\n",
        "Almacen_MP[STOCK[\"Referencia\"],REF[\"4\"]] = REF[\"4\"] # Aunque sea redundante, es solo un tema de legibilidad\n",
        "Almacen_MP[STOCK[\"Volumen\"],REF[\"4\"]] = 2\n",
        "Almacen_MP[STOCK[\"Coste\"],REF[\"4\"]] = Almacen_MP[STOCK[\"Volumen\"],0] * Reference_cost[REF[\"4\"]]\n",
        "\n",
        "\n",
        "# Notas Alf - Borrar\n",
        "#MAQ_TRANS_TIEMPO[2,TRANS[\"Maquina\"]] = DICMAQ[\"Inyeccion\"] / \"Mecanizado\"\n",
        "#MAQ_TRANS_TIEMPO[2,TRANS[\"Origen\"]] = REF[\"5\"]             / REF[\"7\"]\n",
        "#MAQ_TRANS_TIEMPO[2,TRANS[\"Destino\"]] = REF[\"6\"]            / REF[\"8\"]\n",
        "\n",
        "print(\"Reference costs:\",Reference_cost,\"\\n\")\n",
        "print(\"Current status of RowMat Stock\\n\",Almacen_MP)\n",
        "print(\"Process Current State: \",Process_status)"
      ],
      "metadata": {
        "id": "MoitophZGgCj"
      },
      "execution_count": null,
      "outputs": []
    }
  ]
}