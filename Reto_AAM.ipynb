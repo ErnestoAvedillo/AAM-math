{
  "nbformat": 4,
  "nbformat_minor": 0,
  "metadata": {
    "colab": {
      "provenance": [],
      "include_colab_link": true
    },
    "kernelspec": {
      "name": "python3",
      "display_name": "Python 3"
    },
    "language_info": {
      "name": "python"
    }
  },
  "cells": [
    {
      "cell_type": "markdown",
      "metadata": {
        "id": "view-in-github",
        "colab_type": "text"
      },
      "source": [
        "<a href=\"https://colab.research.google.com/github/ErnestoAvedillo/AAM-math/blob/main/Reto_AAM.ipynb\" target=\"_parent\"><img src=\"https://colab.research.google.com/assets/colab-badge.svg\" alt=\"Open In Colab\"/></a>"
      ]
    },
    {
      "cell_type": "code",
      "source": [
        "#!pip install --upgrade gspread"
      ],
      "metadata": {
        "id": "5Q4Tpl1HzqpW"
      },
      "execution_count": null,
      "outputs": []
    },
    {
      "cell_type": "code",
      "source": [
        "#!pip install --upgrade pandas"
      ],
      "metadata": {
        "id": "TjnU4f8CNTXx"
      },
      "execution_count": null,
      "outputs": []
    },
    {
      "cell_type": "code",
      "execution_count": 1,
      "metadata": {
        "id": "fFhfTd4HCtR2"
      },
      "outputs": [],
      "source": [
        "import pandas as pd\n",
        "import numpy as np\n",
        "from google.colab import auth\n",
        "import gspread\n",
        "from google.auth import default#autenticating to google"
      ]
    },
    {
      "cell_type": "code",
      "source": [
        "gspread.__version__"
      ],
      "metadata": {
        "colab": {
          "base_uri": "https://localhost:8080/",
          "height": 35
        },
        "id": "PgIv2iqb2jQA",
        "outputId": "b156ebb4-abed-4f51-e795-c4b52ccbc3be"
      },
      "execution_count": 2,
      "outputs": [
        {
          "output_type": "execute_result",
          "data": {
            "text/plain": [
              "'3.4.2'"
            ],
            "application/vnd.google.colaboratory.intrinsic+json": {
              "type": "string"
            }
          },
          "metadata": {},
          "execution_count": 2
        }
      ]
    },
    {
      "cell_type": "code",
      "source": [
        "pd.__version__"
      ],
      "metadata": {
        "colab": {
          "base_uri": "https://localhost:8080/",
          "height": 35
        },
        "id": "QaQPzUJgNiB4",
        "outputId": "ae9e59a3-a45f-4269-8f90-78d1f7ea9ddc"
      },
      "execution_count": 3,
      "outputs": [
        {
          "output_type": "execute_result",
          "data": {
            "text/plain": [
              "'1.5.3'"
            ],
            "application/vnd.google.colaboratory.intrinsic+json": {
              "type": "string"
            }
          },
          "metadata": {},
          "execution_count": 3
        }
      ]
    },
    {
      "cell_type": "code",
      "source": [
        "from google.colab import drive\n",
        "drive.mount('/content/drive')"
      ],
      "metadata": {
        "colab": {
          "base_uri": "https://localhost:8080/"
        },
        "id": "3Hcshit8udT1",
        "outputId": "f9595315-7662-442c-9810-1aba8bcf0739"
      },
      "execution_count": 4,
      "outputs": [
        {
          "output_type": "stream",
          "name": "stdout",
          "text": [
            "Mounted at /content/drive\n"
          ]
        }
      ]
    },
    {
      "cell_type": "markdown",
      "source": [
        "#Reading Excel AAM data.gsheet\n"
      ],
      "metadata": {
        "id": "5xB3ZkA2FVbM"
      }
    },
    {
      "cell_type": "code",
      "source": [
        "auth.authenticate_user()\n",
        "creds, _ = default()\n",
        "gc = gspread.authorize(creds)\n",
        "file_path = \"/content/drive/MyDrive/Colab Notebooks/AAM data.gsheet\"\n",
        "try:\n",
        "    #https://docs.google.com/spreadsheets/d/179giTQNZghst9cpCtAzmTpHt0DrOtRQiBplU6-_XiUU/edit?usp=drive_link\n",
        "    AAM_workbook = gc.open_by_key('179giTQNZghst9cpCtAzmTpHt0DrOtRQiBplU6-_XiUU')\n",
        "    #worksheet = gc.open(file_path)\n",
        "    print(\"Google Sheet opened successfully.\")\n",
        "except gspread.exceptions.SpreadsheetNotFound:\n",
        "    print(\"Error: Spreadsheet not found.\") #Convert to a DataFrame\n"
      ],
      "metadata": {
        "colab": {
          "base_uri": "https://localhost:8080/"
        },
        "id": "4SjrQclE4W10",
        "outputId": "a30bc9de-1cf8-4439-fee1-3d6d25cdd2dd"
      },
      "execution_count": 38,
      "outputs": [
        {
          "output_type": "stream",
          "name": "stdout",
          "text": [
            "Google Sheet opened successfully.\n"
          ]
        }
      ]
    },
    {
      "cell_type": "markdown",
      "source": [
        "# **Primera parte**\n",
        "\n",
        "Modelado de la producción\n",
        "\n",
        "Cálculo del coste de las demandas internas.\n",
        "\n",
        "known_references = nḿero de referencias (n).\n",
        "\n",
        "REF = diccionario con las referencias de la empresa (TODAS , las de compra , internas  y de producto acabado.)\n",
        "\n",
        "DC = Demanda de cliente\n",
        "\n",
        "BOM = es una tabla de n x n con el BOM de los producto (Todos) Build of Materials"
      ],
      "metadata": {
        "id": "grjRvn1cOzfV"
      }
    },
    {
      "cell_type": "markdown",
      "source": [
        "##Obteniendo un listado de las referencias.\n"
      ],
      "metadata": {
        "id": "-zXdag4HObJh"
      }
    },
    {
      "cell_type": "code",
      "source": [
        "BOM_worksheet = AAM_workbook.worksheet('BOM')#Convert to a DataFrame\n",
        "rows = BOM_worksheet.get_all_values()#Convert to a DataFrame\n",
        "df = pd.DataFrame(rows)\n",
        "#creating columns name\n",
        "df.columns = df.iloc[0]\n",
        "df = df.iloc[1:]\n",
        "REF_df = pd.concat([df['Ref Entrada'],df['Ref Salida']]).drop_duplicates()\n",
        "#REF = REF_df[:].to_dict(orient='dict') does not work will try again\n",
        "REF = {}\n",
        "n = 0\n",
        "for i in REF_df:\n",
        "  REF[i] = n\n",
        "  n += 1\n",
        "print (\"Diccionario de referencias con sus índices\")\n",
        "print(REF)"
      ],
      "metadata": {
        "colab": {
          "base_uri": "https://localhost:8080/"
        },
        "id": "saXU46PkGKND",
        "outputId": "a4d20a59-97d7-423e-93ee-56e57151d6df"
      },
      "execution_count": 39,
      "outputs": [
        {
          "output_type": "stream",
          "name": "stdout",
          "text": [
            "Diccionario de referencias con sus índices\n",
            "{'AAA': 0, 'AMA': 1, 'BAJ': 2, 'AAB': 3, 'CAT': 4, 'AAE': 5, 'BAC': 6, 'CAR': 7, 'AAF': 8, 'BAD': 9, 'CAV': 10, 'AAC': 11, 'CAB': 12, 'CAX': 13, 'CAH': 14}\n"
          ]
        }
      ]
    },
    {
      "cell_type": "code",
      "source": [
        "# Obtengo el numero de referencias\n",
        "known_references = REF_df.shape[0]\n",
        "print(\"Número total de referencias \", known_references)"
      ],
      "metadata": {
        "colab": {
          "base_uri": "https://localhost:8080/"
        },
        "id": "fQeCTHQkOr1r",
        "outputId": "2e67ea15-7b78-4954-aa4e-2ab421cc1805"
      },
      "execution_count": 40,
      "outputs": [
        {
          "output_type": "stream",
          "name": "stdout",
          "text": [
            "Número total de referencias  15\n"
          ]
        }
      ]
    },
    {
      "cell_type": "markdown",
      "source": [
        "## Creando el BOM que aparece en el Excel"
      ],
      "metadata": {
        "id": "CZEoiGkJPKeH"
      }
    },
    {
      "cell_type": "code",
      "source": [
        "#BILL OF MATERIALS\n",
        "BOM = np.zeros((known_references,known_references))\n",
        "for index, row in df.iterrows():\n",
        "  BOM[REF[row[\"Ref Salida\"]],REF[row[\"Ref Entrada\"]]] = float(row[\"Cantidad\"].replace(',', '.'))\n",
        "BOM_df = pd.DataFrame(BOM,index=REF_df, columns=REF_df)\n",
        "print (BOM_df)"
      ],
      "metadata": {
        "colab": {
          "base_uri": "https://localhost:8080/"
        },
        "id": "YwR52Ct5PJtQ",
        "outputId": "feb7175f-beb7-4427-c4a9-50f12b5e9ced"
      },
      "execution_count": 41,
      "outputs": [
        {
          "output_type": "stream",
          "name": "stdout",
          "text": [
            "     AAA   AMA  BAJ  AAB  CAT  AAE  BAC  CAR  AAF  BAD  CAV  AAC  CAB  CAX  \\\n",
            "AAA  0.0  0.00  0.0  0.0  0.0  0.0  0.0  0.0  0.0  0.0  0.0  0.0  0.0  0.0   \n",
            "AMA  0.0  0.00  0.0  0.0  0.0  0.0  0.0  0.0  0.0  0.0  0.0  0.0  0.0  0.0   \n",
            "BAJ  1.0  0.00  0.0  0.0  0.0  0.0  0.0  0.0  0.0  0.0  0.0  0.0  0.0  0.0   \n",
            "AAB  0.0  0.00  0.0  0.0  0.0  0.0  0.0  0.0  0.0  0.0  0.0  0.0  0.0  0.0   \n",
            "CAT  0.0  0.07  1.0  0.0  0.0  0.0  0.0  0.0  0.0  0.0  0.0  0.0  0.0  0.0   \n",
            "AAE  0.0  0.00  0.0  0.0  0.0  0.0  0.0  0.0  0.0  0.0  0.0  0.0  0.0  0.0   \n",
            "BAC  0.0  0.00  0.0  0.0  0.0  1.0  0.0  0.0  0.0  0.0  0.0  0.0  0.0  0.0   \n",
            "CAR  0.0  0.08  0.0  0.0  0.0  0.0  1.0  0.0  0.0  0.0  0.0  0.0  0.0  0.0   \n",
            "AAF  0.0  0.00  0.0  0.0  0.0  0.0  0.0  0.0  0.0  0.0  0.0  0.0  0.0  0.0   \n",
            "BAD  0.0  0.00  0.0  0.0  0.0  1.0  0.0  0.0  0.0  0.0  0.0  0.0  0.0  0.0   \n",
            "CAV  0.0  0.05  0.0  0.0  0.0  0.0  0.0  0.0  0.0  1.0  0.0  0.0  0.0  0.0   \n",
            "AAC  0.0  0.00  0.0  0.0  0.0  0.0  0.0  0.0  0.0  0.0  0.0  0.0  0.0  0.0   \n",
            "CAB  0.0  0.00  0.0  0.5  2.0  0.0  0.0  0.0  0.0  0.0  0.0  0.0  0.0  0.0   \n",
            "CAX  0.0  0.00  0.0  0.8  0.0  0.0  0.0  1.0  1.0  0.0  0.0  0.0  0.0  0.0   \n",
            "CAH  0.0  0.00  0.0  0.0  0.0  0.0  0.0  0.0  0.0  0.0  1.0  0.9  0.0  0.0   \n",
            "\n",
            "     CAH  \n",
            "AAA  0.0  \n",
            "AMA  0.0  \n",
            "BAJ  0.0  \n",
            "AAB  0.0  \n",
            "CAT  0.0  \n",
            "AAE  0.0  \n",
            "BAC  0.0  \n",
            "CAR  0.0  \n",
            "AAF  0.0  \n",
            "BAD  0.0  \n",
            "CAV  0.0  \n",
            "AAC  0.0  \n",
            "CAB  0.0  \n",
            "CAX  0.0  \n",
            "CAH  0.0  \n"
          ]
        }
      ]
    },
    {
      "cell_type": "markdown",
      "source": [
        "## Obtención de la demanda de cliente"
      ],
      "metadata": {
        "id": "6Tn_7o44X0yO"
      }
    },
    {
      "cell_type": "code",
      "source": [
        "DC_worksheet = AAM_workbook.worksheet('DC') #Convert to a DataFrame\n",
        "rows = DC_worksheet.get_all_values()#Convert to a DataFrame\n",
        "DC_df = pd.DataFrame(rows)\n",
        "DC_df.iloc[0][0] = None\n",
        "# Set row 1 as column names\n",
        "DC_df.columns = DC_df.iloc[0]\n",
        "\n",
        "# Set column 1 as row names\n",
        "DC_df = DC_df.set_index(DC_df.iloc[:, 0])\n",
        "\n",
        "# Remove row 1 and column 1\n",
        "DC_df = DC_df.iloc[1:, 1:]\n",
        "print(DC_df)\n",
        "#Demandas de cliente\n",
        "#Dias = DC_df.shape[1]\n",
        "Dias = 1\n",
        "Profundidad = 10\n",
        "DC = np.zeros((known_references,Profundidad,Dias))\n",
        "for index, row in DC_df.iterrows():\n",
        "  DC[REF[index],0] = row[\"Total\"]\n",
        "print('\\n')\n",
        "#print (DC)"
      ],
      "metadata": {
        "id": "gOWlfBCCLnAG",
        "colab": {
          "base_uri": "https://localhost:8080/"
        },
        "outputId": "d0f037f5-86cd-4727-d456-9f3059a9d206"
      },
      "execution_count": 68,
      "outputs": [
        {
          "output_type": "stream",
          "name": "stdout",
          "text": [
            "0   Total Piezas/caja\n",
            "CAB   560            \n",
            "CAX  1800            \n",
            "CAH  5200            \n",
            "\n",
            "\n"
          ]
        }
      ]
    },
    {
      "cell_type": "markdown",
      "source": [
        "##Descargamos los datos de almacen las referencias\n",
        "\n"
      ],
      "metadata": {
        "id": "gueVB0-cd-lY"
      }
    },
    {
      "cell_type": "code",
      "source": [
        "Almacen_worksheet = AAM_workbook.worksheet('ALMACEN') #Convert to a DataFrame\n",
        "rows = Almacen_worksheet.get_all_values()#Convert to a DataFrame\n",
        "Almacen_df = pd.DataFrame(rows)\n",
        "Almacen_df.iloc[0][0] = None\n",
        "# Set row 1 as column names\n",
        "Almacen_df.columns = Almacen_df.iloc[0]\n",
        "\n",
        "# Set column 1 as row names\n",
        "Almacen_df = Almacen_df.set_index(Almacen_df.iloc[:, 0])\n",
        "\n",
        "# Remove row 1 and column 1\n",
        "Almacen_df = Almacen_df.iloc[1:, 1:]\n",
        "print(Almacen_df)\n",
        "#Demandas de cliente"
      ],
      "metadata": {
        "colab": {
          "base_uri": "https://localhost:8080/"
        },
        "id": "NRX4qZX_dgmB",
        "outputId": "ca7b8bea-02f7-4f35-eb95-15f132917612"
      },
      "execution_count": 85,
      "outputs": [
        {
          "output_type": "stream",
          "name": "stdout",
          "text": [
            "0   STOCK Piezas caja €/UD Stock minimo Stock maximo Stock stop Lote max  \\\n",
            "AAA  2000          16   15          240          240        240     1000   \n",
            "AAB  2000          20   23          240          240        240     1000   \n",
            "AAC  2000          18   50          240          240        240     1000   \n",
            "AAE  2000          18   44          240          240        240     1000   \n",
            "AAF  2000          16   15          240          240        240     1000   \n",
            "AMA  2000          20   98          240          240        240     1000   \n",
            "CAB    32          32   71          240          240        240      704   \n",
            "CAH    36          36   30          240          240        240      720   \n",
            "CAX    20          20   33          240          240        240      720   \n",
            "BAC    40          18   44           88          220        352      720   \n",
            "BAD     0          32   15           30           75        120      704   \n",
            "BAJ    48          16   98          196          490        784      720   \n",
            "CAR     0          16   71          142          355        568      720   \n",
            "CAT    32          20   30           60          150        240      720   \n",
            "CAV    36          60   33           66          165        264      720   \n",
            "\n",
            "0   Lote min T.CICLO     Nº cajas        Descripción        Almacén  \n",
            "AAA     1000       0          125       Dumper bruto         Compra  \n",
            "AAB     1000       0          100               Goma         Compra  \n",
            "AAC     1000       0  111,1111111               Goma         Compra  \n",
            "AAE     1000       0  111,1111111       Dumper bruto         Compra  \n",
            "AAF     1000       0          125       Dumper bruto         Compra  \n",
            "AMA     1000       0          100               Cola         Compra  \n",
            "CAB     1420     120            1        Ref cliente         Salida  \n",
            "CAH     1440     120            1        Ref cliente         Salida  \n",
            "CAX     1419     120            1        Ref cliente         Salida  \n",
            "BAC     1440      50  2,222222222  Dumper mecanizado  Semielaborado  \n",
            "BAD     1440      60            0  Dumper mecanizado  Semielaborado  \n",
            "BAJ     1440      55            3  Dumper mecanizado  Semielaborado  \n",
            "CAR     1440      40            0    Dumper encolado  Semielaborado  \n",
            "CAT     1440      33          1,6    Dumper encolado  Semielaborado  \n",
            "CAV     1440      40          0,6    Dumper encolado  Semielaborado  \n"
          ]
        }
      ]
    },
    {
      "cell_type": "markdown",
      "source": [],
      "metadata": {
        "id": "UxepA9e6fciR"
      }
    },
    {
      "cell_type": "code",
      "source": [
        "Almacen = np.zeros((known_references, 9))\n",
        "for index, row in Almacen_df.iterrows():\n",
        "  Almacen[REF[index],0] = row[\"STOCK\"]\n",
        "  Almacen[REF[index],1] = row[\"Piezas caja\"]\n",
        "  Almacen[REF[index],2] = row[\"€/UD\"]\n",
        "  Almacen[REF[index],3] = row[\"Stock minimo\"]\n",
        "  Almacen[REF[index],4] = row[\"Stock maximo\"]\n",
        "  Almacen[REF[index],5] = row[\"Stock stop\"]\n",
        "  Almacen[REF[index],6] = row[\"Lote max\"]\n",
        "  Almacen[REF[index],7] = row[\"Lote min\"]\n",
        "  Almacen[REF[index],8] = row[\"T.CICLO\"]\n",
        "print(Almacen)"
      ],
      "metadata": {
        "colab": {
          "base_uri": "https://localhost:8080/"
        },
        "id": "ejc4Ue1AeZSJ",
        "outputId": "d521d3ba-cc2e-43bf-d48e-0eadf81a4091"
      },
      "execution_count": 87,
      "outputs": [
        {
          "output_type": "stream",
          "name": "stdout",
          "text": [
            "[[2000.   16.   15.  240.  240.  240. 1000. 1000.    0.]\n",
            " [2000.   20.   98.  240.  240.  240. 1000. 1000.    0.]\n",
            " [  48.   16.   98.  196.  490.  784.  720. 1440.   55.]\n",
            " [2000.   20.   23.  240.  240.  240. 1000. 1000.    0.]\n",
            " [  32.   20.   30.   60.  150.  240.  720. 1440.   33.]\n",
            " [2000.   18.   44.  240.  240.  240. 1000. 1000.    0.]\n",
            " [  40.   18.   44.   88.  220.  352.  720. 1440.   50.]\n",
            " [   0.   16.   71.  142.  355.  568.  720. 1440.   40.]\n",
            " [2000.   16.   15.  240.  240.  240. 1000. 1000.    0.]\n",
            " [   0.   32.   15.   30.   75.  120.  704. 1440.   60.]\n",
            " [  36.   60.   33.   66.  165.  264.  720. 1440.   40.]\n",
            " [2000.   18.   50.  240.  240.  240. 1000. 1000.    0.]\n",
            " [  32.   32.   71.  240.  240.  240.  704. 1420.  120.]\n",
            " [  20.   20.   33.  240.  240.  240.  720. 1419.  120.]\n",
            " [  36.   36.   30.  240.  240.  240.  720. 1440.  120.]]\n"
          ]
        }
      ]
    },
    {
      "cell_type": "markdown",
      "source": [
        "Simulacion de un BOM con dos productos diferentes"
      ],
      "metadata": {
        "id": "Ch2h-ctNPf6e"
      }
    },
    {
      "cell_type": "markdown",
      "source": [
        "**Listado de Maquinaria**\n",
        "\n",
        "mumMaquinas = número de máquinas\n",
        "\n",
        "DICMAQ = Diccionario de maquinaria (m x 1)\n",
        "\n",
        "BOMMAQ = Listado de maquinaria por referencia (m x n)\n",
        "\n",
        "##Descargamos los datos de las máquinas"
      ],
      "metadata": {
        "id": "rgp-D6lZPnGn"
      }
    },
    {
      "cell_type": "code",
      "source": [
        "Maquinas_worksheet = AAM_workbook.worksheet('MAQUINARIA') #Convert to a DataFrame\n",
        "rows = Maquinas_worksheet.get_all_values()#Convert to a DataFrame\n",
        "MAQUINAS_df = pd.DataFrame(rows)\n",
        "# Set row 1 as column names\n",
        "MAQUINAS_df.columns = MAQUINAS_df.iloc[0]\n",
        "# Remove row 1 and column 1\n",
        "MAQUINAS_df = MAQUINAS_df.iloc[1:,:]\n",
        "print(MAQUINAS_df)\n"
      ],
      "metadata": {
        "colab": {
          "base_uri": "https://localhost:8080/"
        },
        "id": "ntcz1oJtq_tc",
        "outputId": "fdb37bae-800e-4ea3-acba-a4eda38d3bd4"
      },
      "execution_count": 88,
      "outputs": [
        {
          "output_type": "stream",
          "name": "stdout",
          "text": [
            "0 COD. MAQUINA POTENCIA\n",
            "1          ENC        0\n",
            "2         MEC1      125\n",
            "3         MEC2      100\n",
            "4         VUL1      150\n",
            "5         VUL2      200\n"
          ]
        }
      ]
    },
    {
      "cell_type": "markdown",
      "source": [
        "##Creamos el diccionario de las máquinas"
      ],
      "metadata": {
        "id": "TVz4IgAlrAlC"
      }
    },
    {
      "cell_type": "code",
      "source": [
        "DICMAQ = {\"Compras\":0}\n",
        "MAQ_df = MAQUINAS_df['COD. MAQUINA'].drop_duplicates().sort_values()\n",
        "print (\"dataframe de Maquinas\")\n",
        "print(MAQ_df)\n",
        "n = 1\n",
        "for i in MAQ_df:\n",
        "  DICMAQ[i] = n\n",
        "  n += 1\n",
        "print('\\n')\n",
        "print(\"Diccionario de máquinas\")\n",
        "print(DICMAQ)\n",
        "\n",
        "numMaquinas = MAQ_df.shape[0] + 1\n",
        "print (\"Número de máquinas\" , numMaquinas)\n",
        "\n"
      ],
      "metadata": {
        "colab": {
          "base_uri": "https://localhost:8080/"
        },
        "id": "GqaUXQ8uEthg",
        "outputId": "6006e03d-9fba-4571-b46c-7645865d0264"
      },
      "execution_count": 89,
      "outputs": [
        {
          "output_type": "stream",
          "name": "stdout",
          "text": [
            "dataframe de Maquinas\n",
            "1     ENC\n",
            "2    MEC1\n",
            "3    MEC2\n",
            "4    VUL1\n",
            "5    VUL2\n",
            "Name: COD. MAQUINA, dtype: object\n",
            "\n",
            "\n",
            "Diccionario de máquinas\n",
            "{'Compras': 0, 'ENC': 1, 'MEC1': 2, 'MEC2': 3, 'VUL1': 4, 'VUL2': 5}\n",
            "Número de máquinas 6\n"
          ]
        }
      ]
    },
    {
      "cell_type": "markdown",
      "source": [
        "## Creamos el BOM de la maquinaria (Referencia vs Maquina)"
      ],
      "metadata": {
        "id": "EAXuyv6EsXLs"
      }
    },
    {
      "cell_type": "code",
      "source": [
        "Procesos_worksheet = AAM_workbook.worksheet('PROCESOS') #Convert to a DataFrame\n",
        "rows = Procesos_worksheet.get_all_values()#Convert to a DataFrame\n",
        "Procesos_df = pd.DataFrame(rows)\n",
        "# Set row 1 as column names\n",
        "Procesos_df.columns = Procesos_df.iloc[0]\n",
        "# Remove row 1 and column 1\n",
        "Procesos_df = Procesos_df.iloc[1:,:]\n",
        "print(Procesos_df)"
      ],
      "metadata": {
        "colab": {
          "base_uri": "https://localhost:8080/"
        },
        "id": "jM2M2_6EiW8O",
        "outputId": "d979fc2e-81fc-4ad1-c5f6-464cb647d634"
      },
      "execution_count": 90,
      "outputs": [
        {
          "output_type": "stream",
          "name": "stdout",
          "text": [
            "0  Ref Salida PROCESO TIEMPO CICLO\n",
            "1         CAT     ENC           20\n",
            "2         CAR     ENC           16\n",
            "3         CAV     ENC           25\n",
            "4         BAD    MEC2           90\n",
            "5         BAJ    MEC2          100\n",
            "6         BAC    MEC2           80\n",
            "7         BAD    MEC1           90\n",
            "8         BAJ    MEC1          100\n",
            "9         BAC    MEC1           80\n",
            "10        CAB    VUL1           60\n",
            "11        CAX    VUL1           50\n",
            "12        CAH    VUL1           75\n",
            "13        CAB    VUL2           60\n",
            "14        CAX    VUL2           50\n",
            "15        CAH    VUL2           75\n"
          ]
        }
      ]
    },
    {
      "cell_type": "code",
      "source": [
        "BOMMAQ = np.zeros((numMaquinas,known_references))\n",
        "for index, row in Procesos_df.iterrows():\n",
        "  BOMMAQ[DICMAQ[row[\"PROCESO\"]], REF[row[\"Ref Salida\"]]] = 1\n",
        "print (BOMMAQ)"
      ],
      "metadata": {
        "colab": {
          "base_uri": "https://localhost:8080/"
        },
        "id": "DGdtTuFbsWXv",
        "outputId": "a451cbc7-a9cf-4553-9080-5b18d5f1ae67"
      },
      "execution_count": 91,
      "outputs": [
        {
          "output_type": "stream",
          "name": "stdout",
          "text": [
            "[[0. 0. 0. 0. 0. 0. 0. 0. 0. 0. 0. 0. 0. 0. 0.]\n",
            " [0. 0. 0. 0. 1. 0. 0. 1. 0. 0. 1. 0. 0. 0. 0.]\n",
            " [0. 0. 1. 0. 0. 0. 1. 0. 0. 1. 0. 0. 0. 0. 0.]\n",
            " [0. 0. 1. 0. 0. 0. 1. 0. 0. 1. 0. 0. 0. 0. 0.]\n",
            " [0. 0. 0. 0. 0. 0. 0. 0. 0. 0. 0. 0. 1. 1. 1.]\n",
            " [0. 0. 0. 0. 0. 0. 0. 0. 0. 0. 0. 0. 1. 1. 1.]]\n"
          ]
        }
      ]
    },
    {
      "cell_type": "markdown",
      "source": [
        "##Calculamos las demandas internas"
      ],
      "metadata": {
        "id": "_BK9ZRZN2_5U"
      }
    },
    {
      "cell_type": "code",
      "source": [
        "#Voy incremetnando la matriz de demandas a medida que aumenta el nicel de fabricación\n",
        "for dayIndex in range(Dias):\n",
        "  for profIndex in range(Profundidad-1):\n",
        "    DC[:,profIndex+1,dayIndex] = np.dot(BOM.T,DC[:,profIndex,dayIndex])\n",
        "for dayIndex in range(Dias):\n",
        "  print(\"Demandas para el día\", dayIndex, '\\n')\n",
        "  print(DC[:,:,dayIndex],'\\n')"
      ],
      "metadata": {
        "colab": {
          "base_uri": "https://localhost:8080/"
        },
        "id": "G54Ou6-pPReG",
        "outputId": "3c4ccc92-e518-4f11-bec9-58dd140933d4"
      },
      "execution_count": 92,
      "outputs": [
        {
          "output_type": "stream",
          "name": "stdout",
          "text": [
            "Demandas para el día 0 \n",
            "\n",
            "[[   0.     0.     0.  1120.     0.     0.     0.     0.     0.     0. ]\n",
            " [   0.     0.   482.4    0.     0.     0.     0.     0.     0.     0. ]\n",
            " [   0.     0.  1120.     0.     0.     0.     0.     0.     0.     0. ]\n",
            " [   0.  1720.     0.     0.     0.     0.     0.     0.     0.     0. ]\n",
            " [   0.  1120.     0.     0.     0.     0.     0.     0.     0.     0. ]\n",
            " [   0.     0.     0.  7000.     0.     0.     0.     0.     0.     0. ]\n",
            " [   0.     0.  1800.     0.     0.     0.     0.     0.     0.     0. ]\n",
            " [   0.  1800.     0.     0.     0.     0.     0.     0.     0.     0. ]\n",
            " [   0.  1800.     0.     0.     0.     0.     0.     0.     0.     0. ]\n",
            " [   0.     0.  5200.     0.     0.     0.     0.     0.     0.     0. ]\n",
            " [   0.  5200.     0.     0.     0.     0.     0.     0.     0.     0. ]\n",
            " [   0.  4680.     0.     0.     0.     0.     0.     0.     0.     0. ]\n",
            " [ 560.     0.     0.     0.     0.     0.     0.     0.     0.     0. ]\n",
            " [1800.     0.     0.     0.     0.     0.     0.     0.     0.     0. ]\n",
            " [5200.     0.     0.     0.     0.     0.     0.     0.     0.     0. ]] \n",
            "\n"
          ]
        }
      ]
    },
    {
      "cell_type": "code",
      "source": [
        "#DINT se corresponde a las demandas internas\n",
        "for i in list(REF):\n",
        "  print(\"Referencia \" ,i, \" Demanda CLIENTE --> \", DC[REF[i],0,:])\n",
        "for j in range(1, DC.shape[1] - 1):\n",
        "  for i in list(REF):\n",
        "    print(\"Referencia \" ,i, \" Demanda interna nivel \", j, \" --> \", DC[REF[i],j,:])\n",
        "for i in list(REF):\n",
        "  print(\"Referencia \" ,i, \" Demanda interna (compras) nivel 0 --> \", DC[REF[i],DC.shape[1] - 1,:])\n"
      ],
      "metadata": {
        "colab": {
          "base_uri": "https://localhost:8080/"
        },
        "id": "0VCvu_EHMY2_",
        "outputId": "70c47ffd-7beb-4247-f079-0eac9662ce94"
      },
      "execution_count": 93,
      "outputs": [
        {
          "output_type": "stream",
          "name": "stdout",
          "text": [
            "Referencia  AAA  Demanda CLIENTE -->  [0.]\n",
            "Referencia  AMA  Demanda CLIENTE -->  [0.]\n",
            "Referencia  BAJ  Demanda CLIENTE -->  [0.]\n",
            "Referencia  AAB  Demanda CLIENTE -->  [0.]\n",
            "Referencia  CAT  Demanda CLIENTE -->  [0.]\n",
            "Referencia  AAE  Demanda CLIENTE -->  [0.]\n",
            "Referencia  BAC  Demanda CLIENTE -->  [0.]\n",
            "Referencia  CAR  Demanda CLIENTE -->  [0.]\n",
            "Referencia  AAF  Demanda CLIENTE -->  [0.]\n",
            "Referencia  BAD  Demanda CLIENTE -->  [0.]\n",
            "Referencia  CAV  Demanda CLIENTE -->  [0.]\n",
            "Referencia  AAC  Demanda CLIENTE -->  [0.]\n",
            "Referencia  CAB  Demanda CLIENTE -->  [560.]\n",
            "Referencia  CAX  Demanda CLIENTE -->  [1800.]\n",
            "Referencia  CAH  Demanda CLIENTE -->  [5200.]\n",
            "Referencia  AAA  Demanda interna nivel  1  -->  [0.]\n",
            "Referencia  AMA  Demanda interna nivel  1  -->  [0.]\n",
            "Referencia  BAJ  Demanda interna nivel  1  -->  [0.]\n",
            "Referencia  AAB  Demanda interna nivel  1  -->  [1720.]\n",
            "Referencia  CAT  Demanda interna nivel  1  -->  [1120.]\n",
            "Referencia  AAE  Demanda interna nivel  1  -->  [0.]\n",
            "Referencia  BAC  Demanda interna nivel  1  -->  [0.]\n",
            "Referencia  CAR  Demanda interna nivel  1  -->  [1800.]\n",
            "Referencia  AAF  Demanda interna nivel  1  -->  [1800.]\n",
            "Referencia  BAD  Demanda interna nivel  1  -->  [0.]\n",
            "Referencia  CAV  Demanda interna nivel  1  -->  [5200.]\n",
            "Referencia  AAC  Demanda interna nivel  1  -->  [4680.]\n",
            "Referencia  CAB  Demanda interna nivel  1  -->  [0.]\n",
            "Referencia  CAX  Demanda interna nivel  1  -->  [0.]\n",
            "Referencia  CAH  Demanda interna nivel  1  -->  [0.]\n",
            "Referencia  AAA  Demanda interna nivel  2  -->  [0.]\n",
            "Referencia  AMA  Demanda interna nivel  2  -->  [482.4]\n",
            "Referencia  BAJ  Demanda interna nivel  2  -->  [1120.]\n",
            "Referencia  AAB  Demanda interna nivel  2  -->  [0.]\n",
            "Referencia  CAT  Demanda interna nivel  2  -->  [0.]\n",
            "Referencia  AAE  Demanda interna nivel  2  -->  [0.]\n",
            "Referencia  BAC  Demanda interna nivel  2  -->  [1800.]\n",
            "Referencia  CAR  Demanda interna nivel  2  -->  [0.]\n",
            "Referencia  AAF  Demanda interna nivel  2  -->  [0.]\n",
            "Referencia  BAD  Demanda interna nivel  2  -->  [5200.]\n",
            "Referencia  CAV  Demanda interna nivel  2  -->  [0.]\n",
            "Referencia  AAC  Demanda interna nivel  2  -->  [0.]\n",
            "Referencia  CAB  Demanda interna nivel  2  -->  [0.]\n",
            "Referencia  CAX  Demanda interna nivel  2  -->  [0.]\n",
            "Referencia  CAH  Demanda interna nivel  2  -->  [0.]\n",
            "Referencia  AAA  Demanda interna nivel  3  -->  [1120.]\n",
            "Referencia  AMA  Demanda interna nivel  3  -->  [0.]\n",
            "Referencia  BAJ  Demanda interna nivel  3  -->  [0.]\n",
            "Referencia  AAB  Demanda interna nivel  3  -->  [0.]\n",
            "Referencia  CAT  Demanda interna nivel  3  -->  [0.]\n",
            "Referencia  AAE  Demanda interna nivel  3  -->  [7000.]\n",
            "Referencia  BAC  Demanda interna nivel  3  -->  [0.]\n",
            "Referencia  CAR  Demanda interna nivel  3  -->  [0.]\n",
            "Referencia  AAF  Demanda interna nivel  3  -->  [0.]\n",
            "Referencia  BAD  Demanda interna nivel  3  -->  [0.]\n",
            "Referencia  CAV  Demanda interna nivel  3  -->  [0.]\n",
            "Referencia  AAC  Demanda interna nivel  3  -->  [0.]\n",
            "Referencia  CAB  Demanda interna nivel  3  -->  [0.]\n",
            "Referencia  CAX  Demanda interna nivel  3  -->  [0.]\n",
            "Referencia  CAH  Demanda interna nivel  3  -->  [0.]\n",
            "Referencia  AAA  Demanda interna nivel  4  -->  [0.]\n",
            "Referencia  AMA  Demanda interna nivel  4  -->  [0.]\n",
            "Referencia  BAJ  Demanda interna nivel  4  -->  [0.]\n",
            "Referencia  AAB  Demanda interna nivel  4  -->  [0.]\n",
            "Referencia  CAT  Demanda interna nivel  4  -->  [0.]\n",
            "Referencia  AAE  Demanda interna nivel  4  -->  [0.]\n",
            "Referencia  BAC  Demanda interna nivel  4  -->  [0.]\n",
            "Referencia  CAR  Demanda interna nivel  4  -->  [0.]\n",
            "Referencia  AAF  Demanda interna nivel  4  -->  [0.]\n",
            "Referencia  BAD  Demanda interna nivel  4  -->  [0.]\n",
            "Referencia  CAV  Demanda interna nivel  4  -->  [0.]\n",
            "Referencia  AAC  Demanda interna nivel  4  -->  [0.]\n",
            "Referencia  CAB  Demanda interna nivel  4  -->  [0.]\n",
            "Referencia  CAX  Demanda interna nivel  4  -->  [0.]\n",
            "Referencia  CAH  Demanda interna nivel  4  -->  [0.]\n",
            "Referencia  AAA  Demanda interna nivel  5  -->  [0.]\n",
            "Referencia  AMA  Demanda interna nivel  5  -->  [0.]\n",
            "Referencia  BAJ  Demanda interna nivel  5  -->  [0.]\n",
            "Referencia  AAB  Demanda interna nivel  5  -->  [0.]\n",
            "Referencia  CAT  Demanda interna nivel  5  -->  [0.]\n",
            "Referencia  AAE  Demanda interna nivel  5  -->  [0.]\n",
            "Referencia  BAC  Demanda interna nivel  5  -->  [0.]\n",
            "Referencia  CAR  Demanda interna nivel  5  -->  [0.]\n",
            "Referencia  AAF  Demanda interna nivel  5  -->  [0.]\n",
            "Referencia  BAD  Demanda interna nivel  5  -->  [0.]\n",
            "Referencia  CAV  Demanda interna nivel  5  -->  [0.]\n",
            "Referencia  AAC  Demanda interna nivel  5  -->  [0.]\n",
            "Referencia  CAB  Demanda interna nivel  5  -->  [0.]\n",
            "Referencia  CAX  Demanda interna nivel  5  -->  [0.]\n",
            "Referencia  CAH  Demanda interna nivel  5  -->  [0.]\n",
            "Referencia  AAA  Demanda interna nivel  6  -->  [0.]\n",
            "Referencia  AMA  Demanda interna nivel  6  -->  [0.]\n",
            "Referencia  BAJ  Demanda interna nivel  6  -->  [0.]\n",
            "Referencia  AAB  Demanda interna nivel  6  -->  [0.]\n",
            "Referencia  CAT  Demanda interna nivel  6  -->  [0.]\n",
            "Referencia  AAE  Demanda interna nivel  6  -->  [0.]\n",
            "Referencia  BAC  Demanda interna nivel  6  -->  [0.]\n",
            "Referencia  CAR  Demanda interna nivel  6  -->  [0.]\n",
            "Referencia  AAF  Demanda interna nivel  6  -->  [0.]\n",
            "Referencia  BAD  Demanda interna nivel  6  -->  [0.]\n",
            "Referencia  CAV  Demanda interna nivel  6  -->  [0.]\n",
            "Referencia  AAC  Demanda interna nivel  6  -->  [0.]\n",
            "Referencia  CAB  Demanda interna nivel  6  -->  [0.]\n",
            "Referencia  CAX  Demanda interna nivel  6  -->  [0.]\n",
            "Referencia  CAH  Demanda interna nivel  6  -->  [0.]\n",
            "Referencia  AAA  Demanda interna nivel  7  -->  [0.]\n",
            "Referencia  AMA  Demanda interna nivel  7  -->  [0.]\n",
            "Referencia  BAJ  Demanda interna nivel  7  -->  [0.]\n",
            "Referencia  AAB  Demanda interna nivel  7  -->  [0.]\n",
            "Referencia  CAT  Demanda interna nivel  7  -->  [0.]\n",
            "Referencia  AAE  Demanda interna nivel  7  -->  [0.]\n",
            "Referencia  BAC  Demanda interna nivel  7  -->  [0.]\n",
            "Referencia  CAR  Demanda interna nivel  7  -->  [0.]\n",
            "Referencia  AAF  Demanda interna nivel  7  -->  [0.]\n",
            "Referencia  BAD  Demanda interna nivel  7  -->  [0.]\n",
            "Referencia  CAV  Demanda interna nivel  7  -->  [0.]\n",
            "Referencia  AAC  Demanda interna nivel  7  -->  [0.]\n",
            "Referencia  CAB  Demanda interna nivel  7  -->  [0.]\n",
            "Referencia  CAX  Demanda interna nivel  7  -->  [0.]\n",
            "Referencia  CAH  Demanda interna nivel  7  -->  [0.]\n",
            "Referencia  AAA  Demanda interna nivel  8  -->  [0.]\n",
            "Referencia  AMA  Demanda interna nivel  8  -->  [0.]\n",
            "Referencia  BAJ  Demanda interna nivel  8  -->  [0.]\n",
            "Referencia  AAB  Demanda interna nivel  8  -->  [0.]\n",
            "Referencia  CAT  Demanda interna nivel  8  -->  [0.]\n",
            "Referencia  AAE  Demanda interna nivel  8  -->  [0.]\n",
            "Referencia  BAC  Demanda interna nivel  8  -->  [0.]\n",
            "Referencia  CAR  Demanda interna nivel  8  -->  [0.]\n",
            "Referencia  AAF  Demanda interna nivel  8  -->  [0.]\n",
            "Referencia  BAD  Demanda interna nivel  8  -->  [0.]\n",
            "Referencia  CAV  Demanda interna nivel  8  -->  [0.]\n",
            "Referencia  AAC  Demanda interna nivel  8  -->  [0.]\n",
            "Referencia  CAB  Demanda interna nivel  8  -->  [0.]\n",
            "Referencia  CAX  Demanda interna nivel  8  -->  [0.]\n",
            "Referencia  CAH  Demanda interna nivel  8  -->  [0.]\n",
            "Referencia  AAA  Demanda interna (compras) nivel 0 -->  [0.]\n",
            "Referencia  AMA  Demanda interna (compras) nivel 0 -->  [0.]\n",
            "Referencia  BAJ  Demanda interna (compras) nivel 0 -->  [0.]\n",
            "Referencia  AAB  Demanda interna (compras) nivel 0 -->  [0.]\n",
            "Referencia  CAT  Demanda interna (compras) nivel 0 -->  [0.]\n",
            "Referencia  AAE  Demanda interna (compras) nivel 0 -->  [0.]\n",
            "Referencia  BAC  Demanda interna (compras) nivel 0 -->  [0.]\n",
            "Referencia  CAR  Demanda interna (compras) nivel 0 -->  [0.]\n",
            "Referencia  AAF  Demanda interna (compras) nivel 0 -->  [0.]\n",
            "Referencia  BAD  Demanda interna (compras) nivel 0 -->  [0.]\n",
            "Referencia  CAV  Demanda interna (compras) nivel 0 -->  [0.]\n",
            "Referencia  AAC  Demanda interna (compras) nivel 0 -->  [0.]\n",
            "Referencia  CAB  Demanda interna (compras) nivel 0 -->  [0.]\n",
            "Referencia  CAX  Demanda interna (compras) nivel 0 -->  [0.]\n",
            "Referencia  CAH  Demanda interna (compras) nivel 0 -->  [0.]\n"
          ]
        }
      ]
    },
    {
      "cell_type": "markdown",
      "source": [
        "Ahora vamos a buscar el minimo común múltiplo entre las demandas y las piezas por caja\n",
        "Posteriormente calcularemos el tiempo de trabajo necesario para cada un o de los niveles de producción.\n",
        "\n",
        "T =  Tiempos de ciclo (n x 1) (Dato a recibir de cliente)\n",
        "\n",
        "BOX = Piezas por caja (n x 1)"
      ],
      "metadata": {
        "id": "Y7_Bu3OddOwZ"
      }
    },
    {
      "cell_type": "code",
      "source": [
        "#Busco en número de cajas necesario para la produccion\n",
        "DCBOX = np.copy(DC);\n",
        "BOX = np.expand_dims(np.copy(Almacen[:,1]), axis = 0)\n",
        "for dayIndex in range(Dias):\n",
        "  mask = np.mod(DC[:,:,dayIndex].T, BOX) > 0\n",
        "  ones_array = np.zeros_like(np.mod(DC[:,:,dayIndex], BOX.T))\n",
        "  ones_array [mask.T] = 1\n",
        "  DCBOX[:,:,dayIndex] = np.floor_divide(DC[:,:,dayIndex], BOX.T) +  ones_array\n",
        "  print (DCBOX[:,:,dayIndex],'\\n')\n"
      ],
      "metadata": {
        "colab": {
          "base_uri": "https://localhost:8080/"
        },
        "id": "Gnw0NPvGpYiI",
        "outputId": "e37a2dda-021e-4dbb-fb30-5f2683f478d9"
      },
      "execution_count": 94,
      "outputs": [
        {
          "output_type": "stream",
          "name": "stdout",
          "text": [
            "[[  0.   0.   0.  70.   0.   0.   0.   0.   0.   0.]\n",
            " [  0.   0.  25.   0.   0.   0.   0.   0.   0.   0.]\n",
            " [  0.   0.  70.   0.   0.   0.   0.   0.   0.   0.]\n",
            " [  0.  86.   0.   0.   0.   0.   0.   0.   0.   0.]\n",
            " [  0.  56.   0.   0.   0.   0.   0.   0.   0.   0.]\n",
            " [  0.   0.   0. 389.   0.   0.   0.   0.   0.   0.]\n",
            " [  0.   0. 100.   0.   0.   0.   0.   0.   0.   0.]\n",
            " [  0. 113.   0.   0.   0.   0.   0.   0.   0.   0.]\n",
            " [  0. 113.   0.   0.   0.   0.   0.   0.   0.   0.]\n",
            " [  0.   0. 163.   0.   0.   0.   0.   0.   0.   0.]\n",
            " [  0.  87.   0.   0.   0.   0.   0.   0.   0.   0.]\n",
            " [  0. 260.   0.   0.   0.   0.   0.   0.   0.   0.]\n",
            " [ 18.   0.   0.   0.   0.   0.   0.   0.   0.   0.]\n",
            " [ 90.   0.   0.   0.   0.   0.   0.   0.   0.   0.]\n",
            " [145.   0.   0.   0.   0.   0.   0.   0.   0.   0.]] \n",
            "\n"
          ]
        }
      ]
    },
    {
      "cell_type": "code",
      "source": [
        "T = np.expand_dims(np.copy(Almacen[:,1]), axis = 0)\n",
        "DCHORAS = np.copy(DC);\n",
        "for dayIndex in range(Dias):\n",
        "  DCHORAS[:,:,dayIndex] = np.multiply(np.multiply(DCBOX[:,:,dayIndex],T.T),BOX.T)/3600\n",
        "  print(DCHORAS[:,:,dayIndex],'\\n')"
      ],
      "metadata": {
        "colab": {
          "base_uri": "https://localhost:8080/"
        },
        "id": "ZOlFIdW_8-OL",
        "outputId": "cb63e40b-5c95-4aa3-95af-8df3a23ee6bc"
      },
      "execution_count": 99,
      "outputs": [
        {
          "output_type": "stream",
          "name": "stdout",
          "text": [
            "[[ 0.          0.          0.          4.97777778  0.          0.\n",
            "   0.          0.          0.          0.        ]\n",
            " [ 0.          0.          2.77777778  0.          0.          0.\n",
            "   0.          0.          0.          0.        ]\n",
            " [ 0.          0.          4.97777778  0.          0.          0.\n",
            "   0.          0.          0.          0.        ]\n",
            " [ 0.          9.55555556  0.          0.          0.          0.\n",
            "   0.          0.          0.          0.        ]\n",
            " [ 0.          6.22222222  0.          0.          0.          0.\n",
            "   0.          0.          0.          0.        ]\n",
            " [ 0.          0.          0.         35.01        0.          0.\n",
            "   0.          0.          0.          0.        ]\n",
            " [ 0.          0.          9.          0.          0.          0.\n",
            "   0.          0.          0.          0.        ]\n",
            " [ 0.          8.03555556  0.          0.          0.          0.\n",
            "   0.          0.          0.          0.        ]\n",
            " [ 0.          8.03555556  0.          0.          0.          0.\n",
            "   0.          0.          0.          0.        ]\n",
            " [ 0.          0.         46.36444444  0.          0.          0.\n",
            "   0.          0.          0.          0.        ]\n",
            " [ 0.         87.          0.          0.          0.          0.\n",
            "   0.          0.          0.          0.        ]\n",
            " [ 0.         23.4         0.          0.          0.          0.\n",
            "   0.          0.          0.          0.        ]\n",
            " [ 5.12        0.          0.          0.          0.          0.\n",
            "   0.          0.          0.          0.        ]\n",
            " [10.          0.          0.          0.          0.          0.\n",
            "   0.          0.          0.          0.        ]\n",
            " [52.2         0.          0.          0.          0.          0.\n",
            "   0.          0.          0.          0.        ]] \n",
            "\n"
          ]
        }
      ]
    },
    {
      "cell_type": "markdown",
      "source": [
        "\n",
        "MAQ = is a vector of ONES where there is an operation\n"
      ],
      "metadata": {
        "id": "zH4Ofp7ZNzmn"
      }
    },
    {
      "cell_type": "code",
      "source": [
        "MAQ = np.zeros((numMaquinas,Dias));\n",
        "for dayIndex in range(Dias):\n",
        "  MAQ[:,dayIndex] = np.dot(DCHORAS[:,:,dayIndex].sum(axis = 1), BOMMAQ.T)\n",
        "  print(MAQ[:,dayIndex],'\\n')"
      ],
      "metadata": {
        "colab": {
          "base_uri": "https://localhost:8080/"
        },
        "id": "pNdtk9llT22Y",
        "outputId": "6451cf3e-20b2-4720-c9f6-348d93d5b23b"
      },
      "execution_count": null,
      "outputs": [
        {
          "output_type": "stream",
          "name": "stdout",
          "text": [
            "[0.         2.925      7.65       4.         0.53333333 8.41666667] \n",
            "\n",
            "[0.         3.65555556 9.         5.77777778 1.06666667 9.16666667] \n",
            "\n",
            "[0.         3.22777778 8.1        4.88888889 1.06666667 8.41666667] \n",
            "\n",
            "[ 0.          3.26388889  8.55        4.44444444  0.53333333 10.        ] \n",
            "\n"
          ]
        }
      ]
    },
    {
      "cell_type": "code",
      "source": [
        "#Convierto el Stock en un array\n",
        "Stock_ini = np.zeros((known_references,1))\n",
        "for index, row in Almacen_df.iterrows():\n",
        "  Stock_ini[REF[index]] = row[\"STOCK\"]\n",
        "print (Stock_ini)"
      ],
      "metadata": {
        "colab": {
          "base_uri": "https://localhost:8080/"
        },
        "id": "u3SJcRsRLNun",
        "outputId": "77ad178b-676d-459f-b2af-aed26b333105"
      },
      "execution_count": 100,
      "outputs": [
        {
          "output_type": "stream",
          "name": "stdout",
          "text": [
            "[[2000.]\n",
            " [2000.]\n",
            " [  48.]\n",
            " [2000.]\n",
            " [  32.]\n",
            " [2000.]\n",
            " [  40.]\n",
            " [   0.]\n",
            " [2000.]\n",
            " [   0.]\n",
            " [  36.]\n",
            " [2000.]\n",
            " [  32.]\n",
            " [  20.]\n",
            " [  36.]]\n"
          ]
        }
      ]
    },
    {
      "cell_type": "code",
      "source": [
        "# Calculo el numero de cajas para cada referencia\n",
        "Cajas_stock_global = np.divide(Stock_ini , BOX)\n",
        "print (Cajas_stock_global)"
      ],
      "metadata": {
        "colab": {
          "base_uri": "https://localhost:8080/"
        },
        "id": "Ar5PcAiTMhdv",
        "outputId": "18e87fb0-8ab2-4c86-e0fd-b6bb0af8acb4"
      },
      "execution_count": 101,
      "outputs": [
        {
          "output_type": "stream",
          "name": "stdout",
          "text": [
            "[[125.         100.         125.         100.         100.\n",
            "  111.11111111 111.11111111 125.         125.          62.5\n",
            "   33.33333333 111.11111111  62.5        100.          55.55555556]\n",
            " [125.         100.         125.         100.         100.\n",
            "  111.11111111 111.11111111 125.         125.          62.5\n",
            "   33.33333333 111.11111111  62.5        100.          55.55555556]\n",
            " [  3.           2.4          3.           2.4          2.4\n",
            "    2.66666667   2.66666667   3.           3.           1.5\n",
            "    0.8          2.66666667   1.5          2.4          1.33333333]\n",
            " [125.         100.         125.         100.         100.\n",
            "  111.11111111 111.11111111 125.         125.          62.5\n",
            "   33.33333333 111.11111111  62.5        100.          55.55555556]\n",
            " [  2.           1.6          2.           1.6          1.6\n",
            "    1.77777778   1.77777778   2.           2.           1.\n",
            "    0.53333333   1.77777778   1.           1.6          0.88888889]\n",
            " [125.         100.         125.         100.         100.\n",
            "  111.11111111 111.11111111 125.         125.          62.5\n",
            "   33.33333333 111.11111111  62.5        100.          55.55555556]\n",
            " [  2.5          2.           2.5          2.           2.\n",
            "    2.22222222   2.22222222   2.5          2.5          1.25\n",
            "    0.66666667   2.22222222   1.25         2.           1.11111111]\n",
            " [  0.           0.           0.           0.           0.\n",
            "    0.           0.           0.           0.           0.\n",
            "    0.           0.           0.           0.           0.        ]\n",
            " [125.         100.         125.         100.         100.\n",
            "  111.11111111 111.11111111 125.         125.          62.5\n",
            "   33.33333333 111.11111111  62.5        100.          55.55555556]\n",
            " [  0.           0.           0.           0.           0.\n",
            "    0.           0.           0.           0.           0.\n",
            "    0.           0.           0.           0.           0.        ]\n",
            " [  2.25         1.8          2.25         1.8          1.8\n",
            "    2.           2.           2.25         2.25         1.125\n",
            "    0.6          2.           1.125        1.8          1.        ]\n",
            " [125.         100.         125.         100.         100.\n",
            "  111.11111111 111.11111111 125.         125.          62.5\n",
            "   33.33333333 111.11111111  62.5        100.          55.55555556]\n",
            " [  2.           1.6          2.           1.6          1.6\n",
            "    1.77777778   1.77777778   2.           2.           1.\n",
            "    0.53333333   1.77777778   1.           1.6          0.88888889]\n",
            " [  1.25         1.           1.25         1.           1.\n",
            "    1.11111111   1.11111111   1.25         1.25         0.625\n",
            "    0.33333333   1.11111111   0.625        1.           0.55555556]\n",
            " [  2.25         1.8          2.25         1.8          1.8\n",
            "    2.           2.           2.25         2.25         1.125\n",
            "    0.6          2.           1.125        1.8          1.        ]]\n"
          ]
        }
      ]
    },
    {
      "cell_type": "markdown",
      "source": [
        "##Separo stock por almacenes"
      ],
      "metadata": {
        "id": "XrRM6qeWHnMm"
      }
    },
    {
      "cell_type": "code",
      "source": [
        "Sim_almacen = np.ones((known_references,3))\n",
        "mask1 = np.logical_not (np.sum(BOM, axis = 1) == 0)\n",
        "mask3 = np.logical_not (np.sum(BOM, axis = 0) == 0)\n",
        "mask2 = np.logical_not (mask1 & mask3)\n",
        "Sim_almacen = np.multiply(Sim_almacen, Cajas_stock_global)\n",
        "Sim_almacen [mask1,0] = 0\n",
        "Sim_almacen [mask2,1] = 0\n",
        "Sim_almacen [mask3,2] = 0\n",
        "print (Sim_almacen)"
      ],
      "metadata": {
        "colab": {
          "base_uri": "https://localhost:8080/",
          "height": 236
        },
        "id": "_CHAGULRHlHU",
        "outputId": "76ea43c7-67e4-406d-9e7f-14a539bcbe02"
      },
      "execution_count": 102,
      "outputs": [
        {
          "output_type": "error",
          "ename": "ValueError",
          "evalue": "ignored",
          "traceback": [
            "\u001b[0;31m---------------------------------------------------------------------------\u001b[0m",
            "\u001b[0;31mValueError\u001b[0m                                Traceback (most recent call last)",
            "\u001b[0;32m<ipython-input-102-0ef12dbf5e12>\u001b[0m in \u001b[0;36m<cell line: 5>\u001b[0;34m()\u001b[0m\n\u001b[1;32m      3\u001b[0m \u001b[0mmask3\u001b[0m \u001b[0;34m=\u001b[0m \u001b[0mnp\u001b[0m\u001b[0;34m.\u001b[0m\u001b[0mlogical_not\u001b[0m \u001b[0;34m(\u001b[0m\u001b[0mnp\u001b[0m\u001b[0;34m.\u001b[0m\u001b[0msum\u001b[0m\u001b[0;34m(\u001b[0m\u001b[0mBOM\u001b[0m\u001b[0;34m,\u001b[0m \u001b[0maxis\u001b[0m \u001b[0;34m=\u001b[0m \u001b[0;36m0\u001b[0m\u001b[0;34m)\u001b[0m \u001b[0;34m==\u001b[0m \u001b[0;36m0\u001b[0m\u001b[0;34m)\u001b[0m\u001b[0;34m\u001b[0m\u001b[0;34m\u001b[0m\u001b[0m\n\u001b[1;32m      4\u001b[0m \u001b[0mmask2\u001b[0m \u001b[0;34m=\u001b[0m \u001b[0mnp\u001b[0m\u001b[0;34m.\u001b[0m\u001b[0mlogical_not\u001b[0m \u001b[0;34m(\u001b[0m\u001b[0mmask1\u001b[0m \u001b[0;34m&\u001b[0m \u001b[0mmask3\u001b[0m\u001b[0;34m)\u001b[0m\u001b[0;34m\u001b[0m\u001b[0;34m\u001b[0m\u001b[0m\n\u001b[0;32m----> 5\u001b[0;31m \u001b[0mSim_almacen\u001b[0m \u001b[0;34m=\u001b[0m \u001b[0mnp\u001b[0m\u001b[0;34m.\u001b[0m\u001b[0mmultiply\u001b[0m\u001b[0;34m(\u001b[0m\u001b[0mSim_almacen\u001b[0m\u001b[0;34m,\u001b[0m \u001b[0mCajas_stock_global\u001b[0m\u001b[0;34m)\u001b[0m\u001b[0;34m\u001b[0m\u001b[0;34m\u001b[0m\u001b[0m\n\u001b[0m\u001b[1;32m      6\u001b[0m \u001b[0mSim_almacen\u001b[0m \u001b[0;34m[\u001b[0m\u001b[0mmask1\u001b[0m\u001b[0;34m,\u001b[0m\u001b[0;36m0\u001b[0m\u001b[0;34m]\u001b[0m \u001b[0;34m=\u001b[0m \u001b[0;36m0\u001b[0m\u001b[0;34m\u001b[0m\u001b[0;34m\u001b[0m\u001b[0m\n\u001b[1;32m      7\u001b[0m \u001b[0mSim_almacen\u001b[0m \u001b[0;34m[\u001b[0m\u001b[0mmask2\u001b[0m\u001b[0;34m,\u001b[0m\u001b[0;36m1\u001b[0m\u001b[0;34m]\u001b[0m \u001b[0;34m=\u001b[0m \u001b[0;36m0\u001b[0m\u001b[0;34m\u001b[0m\u001b[0;34m\u001b[0m\u001b[0m\n",
            "\u001b[0;31mValueError\u001b[0m: operands could not be broadcast together with shapes (15,3) (15,15) "
          ]
        }
      ]
    },
    {
      "cell_type": "code",
      "source": [
        "#Comparo el stock de cajas con la capacidad del almacen\n",
        "Capa_almac_worksheet = AAM_workbook.worksheet('CAPACIDAD ALMACEN') #Convert to a DataFrame\n",
        "rows = Capa_almac_worksheet.get_all_values()#Convert to a DataFrame\n",
        "Capa_almac_df = pd.DataFrame(rows)\n",
        "# Set row 1 as column names\n",
        "Capa_almac_df.columns = Capa_almac_df.iloc[0]\n",
        "# Remove row 1 and column 1\n",
        "Capa_almac_df = Capa_almac_df.iloc[1:,:]\n",
        "print(Capa_almac_df)"
      ],
      "metadata": {
        "colab": {
          "base_uri": "https://localhost:8080/"
        },
        "id": "fManaoZ3XJOn",
        "outputId": "18e40c82-7669-4cf1-a21d-8710b1b5bd22"
      },
      "execution_count": null,
      "outputs": [
        {
          "output_type": "stream",
          "name": "stdout",
          "text": [
            "0        TIPO CANTIDAD\n",
            "1     Entrada    10000\n",
            "2  Intermedio    20000\n",
            "3      Salida    20000\n"
          ]
        }
      ]
    },
    {
      "cell_type": "code",
      "source": [
        "Capa_alm = np.zeros((3,1))\n",
        "for index, row in Capa_almac_df.iterrows():\n",
        "  Capa_alm[index - 1] = row[\"CANTIDAD\"]\n",
        "print (Capa_alm)\n",
        "print(np.sum(Sim_almacen,axis = 0))\n",
        "Almacen_capaz = np.all(np.sum(Sim_almacen,axis = 0) < Capa_alm)\n",
        "print(\" El almacen es capaz\", Almacen_capaz)"
      ],
      "metadata": {
        "colab": {
          "base_uri": "https://localhost:8080/"
        },
        "id": "K-SC2qeFXibe",
        "outputId": "5dc29247-18ad-4c41-fb48-70c7c153927f"
      },
      "execution_count": null,
      "outputs": [
        {
          "output_type": "stream",
          "name": "stdout",
          "text": [
            "[[10000.]\n",
            " [20000.]\n",
            " [20000.]]\n",
            "[4600.          286.80694444   65.14930556]\n",
            " El almacen es capaz True\n"
          ]
        }
      ]
    },
    {
      "cell_type": "markdown",
      "source": [
        "# Definición de Bases de la Simulación\n",
        "## Constraints de la simulacion\n",
        "\n",
        "LoteMin = Lote mínimo de producción (n x 1)\n",
        "\n",
        "LotMax = Lote máximo de producción (n x 1)\n",
        "\n",
        "TCambio = Tiempos de cambio de referencia (n x n)\n",
        "\n",
        "Planif =  Planificacion de la producción (Maq x 24 horas x Ref)\n",
        "\n",
        "PrioMat = Matriz de priodidades (n x 1)\n",
        "\n",
        "*Donde n = known_references*"
      ],
      "metadata": {
        "id": "DqhdB6_qs3ld"
      }
    },
    {
      "cell_type": "code",
      "source": [
        "Transiciones_worksheet = AAM_workbook.worksheet('TRANSICIONES') #Convert to a DataFrame\n",
        "rows = Transiciones_worksheet.get_all_values()#Convert to a DataFrame\n",
        "Transiciones_df = pd.DataFrame(rows)\n",
        "# Set row 1 as column names\n",
        "Transiciones_df.columns = Transiciones_df.iloc[0]\n",
        "# Remove row 1 and column 1\n",
        "Transiciones_df = Transiciones_df.iloc[1:,:]\n",
        "print(Transiciones_df)\n"
      ],
      "metadata": {
        "colab": {
          "base_uri": "https://localhost:8080/"
        },
        "id": "nb7zQDghv7xl",
        "outputId": "30876a2d-52ff-4bbf-aa49-ac1ab6a00b0c"
      },
      "execution_count": null,
      "outputs": [
        {
          "output_type": "stream",
          "name": "stdout",
          "text": [
            "0  PROCESO Origen Destino Tiempo\n",
            "1      ENC    CAR     BAJ    100\n",
            "2      ENC    BAJ     CAR    100\n",
            "3      ENC    CAX     CAR    100\n",
            "4      ENC    CAR     CAX    100\n",
            "5      ENC    BAJ     CAX    300\n",
            "6      ENC    CAX     BAJ    200\n",
            "7     MEC1    CAB     BAD   1800\n",
            "8     MEC1    BAD     CAB   1800\n",
            "9     MEC1    CAT     BAD   1800\n",
            "10    MEC1    BAD     CAT   1800\n",
            "11    MEC1    CAT     CAB   3600\n",
            "12    MEC1    CAB     CAT   1000\n",
            "13    MEC2    CAB     BAD   1800\n",
            "14    MEC2    BAD     CAB   1800\n",
            "15    MEC2    CAT     BAD   1800\n",
            "16    MEC2    BAD     CAT   1800\n",
            "17    MEC2    CAT     CAB   3600\n",
            "18    MEC2    CAB     CAT   1000\n",
            "19    VUL1    CAV     CAH   3600\n",
            "20    VUL1    CAH     CAV   3600\n",
            "21    VUL1    BAC     CAV   3600\n",
            "22    VUL1    CAV     BAC   3600\n",
            "23    VUL1    BAC     CAH   3600\n",
            "24    VUL1    CAH     BAC   3600\n",
            "25    VUL2    CAV     CAH   3600\n",
            "26    VUL2    CAH     CAV   3600\n",
            "27    VUL2    BAC     CAV   3600\n",
            "28    VUL2    CAV     BAC   3600\n",
            "29    VUL2    BAC     CAH   3600\n",
            "30    VUL2    CAH     BAC   3600\n"
          ]
        }
      ]
    },
    {
      "cell_type": "code",
      "source": [
        "Transiciones = np.zeros((numMaquinas,known_references, known_references))\n",
        "for index, row in Transiciones_df.iterrows():\n",
        "  Transiciones[DICMAQ[row[\"PROCESO\"]], REF[row[\"Origen\"]], REF[row[\"Destino\"]]] =  row[\"Tiempo\"]\n",
        "for key in DICMAQ.keys():\n",
        "  print (\"Tiempos de transición para la máquina \", key, '\\n')\n",
        "  print (Transiciones[DICMAQ[key],:,:])"
      ],
      "metadata": {
        "colab": {
          "base_uri": "https://localhost:8080/"
        },
        "id": "R-FZptm9wb0Y",
        "outputId": "d434473a-0af8-422f-ffd9-200c90c41f00"
      },
      "execution_count": null,
      "outputs": [
        {
          "output_type": "stream",
          "name": "stdout",
          "text": [
            "Tiempos de transición para la máquina  Compras \n",
            "\n",
            "[[0. 0. 0. 0. 0. 0. 0. 0. 0. 0. 0. 0. 0. 0. 0.]\n",
            " [0. 0. 0. 0. 0. 0. 0. 0. 0. 0. 0. 0. 0. 0. 0.]\n",
            " [0. 0. 0. 0. 0. 0. 0. 0. 0. 0. 0. 0. 0. 0. 0.]\n",
            " [0. 0. 0. 0. 0. 0. 0. 0. 0. 0. 0. 0. 0. 0. 0.]\n",
            " [0. 0. 0. 0. 0. 0. 0. 0. 0. 0. 0. 0. 0. 0. 0.]\n",
            " [0. 0. 0. 0. 0. 0. 0. 0. 0. 0. 0. 0. 0. 0. 0.]\n",
            " [0. 0. 0. 0. 0. 0. 0. 0. 0. 0. 0. 0. 0. 0. 0.]\n",
            " [0. 0. 0. 0. 0. 0. 0. 0. 0. 0. 0. 0. 0. 0. 0.]\n",
            " [0. 0. 0. 0. 0. 0. 0. 0. 0. 0. 0. 0. 0. 0. 0.]\n",
            " [0. 0. 0. 0. 0. 0. 0. 0. 0. 0. 0. 0. 0. 0. 0.]\n",
            " [0. 0. 0. 0. 0. 0. 0. 0. 0. 0. 0. 0. 0. 0. 0.]\n",
            " [0. 0. 0. 0. 0. 0. 0. 0. 0. 0. 0. 0. 0. 0. 0.]\n",
            " [0. 0. 0. 0. 0. 0. 0. 0. 0. 0. 0. 0. 0. 0. 0.]\n",
            " [0. 0. 0. 0. 0. 0. 0. 0. 0. 0. 0. 0. 0. 0. 0.]\n",
            " [0. 0. 0. 0. 0. 0. 0. 0. 0. 0. 0. 0. 0. 0. 0.]]\n",
            "Tiempos de transición para la máquina  ENC \n",
            "\n",
            "[[  0.   0.   0.   0.   0.   0.   0.   0.   0.   0.   0.   0.   0.   0.\n",
            "    0.]\n",
            " [  0.   0.   0.   0.   0.   0.   0.   0.   0.   0.   0.   0.   0.   0.\n",
            "    0.]\n",
            " [  0.   0.   0.   0.   0.   0.   0. 100.   0.   0.   0.   0.   0. 300.\n",
            "    0.]\n",
            " [  0.   0.   0.   0.   0.   0.   0.   0.   0.   0.   0.   0.   0.   0.\n",
            "    0.]\n",
            " [  0.   0.   0.   0.   0.   0.   0.   0.   0.   0.   0.   0.   0.   0.\n",
            "    0.]\n",
            " [  0.   0.   0.   0.   0.   0.   0.   0.   0.   0.   0.   0.   0.   0.\n",
            "    0.]\n",
            " [  0.   0.   0.   0.   0.   0.   0.   0.   0.   0.   0.   0.   0.   0.\n",
            "    0.]\n",
            " [  0.   0. 100.   0.   0.   0.   0.   0.   0.   0.   0.   0.   0. 100.\n",
            "    0.]\n",
            " [  0.   0.   0.   0.   0.   0.   0.   0.   0.   0.   0.   0.   0.   0.\n",
            "    0.]\n",
            " [  0.   0.   0.   0.   0.   0.   0.   0.   0.   0.   0.   0.   0.   0.\n",
            "    0.]\n",
            " [  0.   0.   0.   0.   0.   0.   0.   0.   0.   0.   0.   0.   0.   0.\n",
            "    0.]\n",
            " [  0.   0.   0.   0.   0.   0.   0.   0.   0.   0.   0.   0.   0.   0.\n",
            "    0.]\n",
            " [  0.   0.   0.   0.   0.   0.   0.   0.   0.   0.   0.   0.   0.   0.\n",
            "    0.]\n",
            " [  0.   0. 200.   0.   0.   0.   0. 100.   0.   0.   0.   0.   0.   0.\n",
            "    0.]\n",
            " [  0.   0.   0.   0.   0.   0.   0.   0.   0.   0.   0.   0.   0.   0.\n",
            "    0.]]\n",
            "Tiempos de transición para la máquina  MEC1 \n",
            "\n",
            "[[   0.    0.    0.    0.    0.    0.    0.    0.    0.    0.    0.    0.\n",
            "     0.    0.    0.]\n",
            " [   0.    0.    0.    0.    0.    0.    0.    0.    0.    0.    0.    0.\n",
            "     0.    0.    0.]\n",
            " [   0.    0.    0.    0.    0.    0.    0.    0.    0.    0.    0.    0.\n",
            "     0.    0.    0.]\n",
            " [   0.    0.    0.    0.    0.    0.    0.    0.    0.    0.    0.    0.\n",
            "     0.    0.    0.]\n",
            " [   0.    0.    0.    0.    0.    0.    0.    0.    0. 1800.    0.    0.\n",
            "  3600.    0.    0.]\n",
            " [   0.    0.    0.    0.    0.    0.    0.    0.    0.    0.    0.    0.\n",
            "     0.    0.    0.]\n",
            " [   0.    0.    0.    0.    0.    0.    0.    0.    0.    0.    0.    0.\n",
            "     0.    0.    0.]\n",
            " [   0.    0.    0.    0.    0.    0.    0.    0.    0.    0.    0.    0.\n",
            "     0.    0.    0.]\n",
            " [   0.    0.    0.    0.    0.    0.    0.    0.    0.    0.    0.    0.\n",
            "     0.    0.    0.]\n",
            " [   0.    0.    0.    0. 1800.    0.    0.    0.    0.    0.    0.    0.\n",
            "  1800.    0.    0.]\n",
            " [   0.    0.    0.    0.    0.    0.    0.    0.    0.    0.    0.    0.\n",
            "     0.    0.    0.]\n",
            " [   0.    0.    0.    0.    0.    0.    0.    0.    0.    0.    0.    0.\n",
            "     0.    0.    0.]\n",
            " [   0.    0.    0.    0. 1000.    0.    0.    0.    0. 1800.    0.    0.\n",
            "     0.    0.    0.]\n",
            " [   0.    0.    0.    0.    0.    0.    0.    0.    0.    0.    0.    0.\n",
            "     0.    0.    0.]\n",
            " [   0.    0.    0.    0.    0.    0.    0.    0.    0.    0.    0.    0.\n",
            "     0.    0.    0.]]\n",
            "Tiempos de transición para la máquina  MEC2 \n",
            "\n",
            "[[   0.    0.    0.    0.    0.    0.    0.    0.    0.    0.    0.    0.\n",
            "     0.    0.    0.]\n",
            " [   0.    0.    0.    0.    0.    0.    0.    0.    0.    0.    0.    0.\n",
            "     0.    0.    0.]\n",
            " [   0.    0.    0.    0.    0.    0.    0.    0.    0.    0.    0.    0.\n",
            "     0.    0.    0.]\n",
            " [   0.    0.    0.    0.    0.    0.    0.    0.    0.    0.    0.    0.\n",
            "     0.    0.    0.]\n",
            " [   0.    0.    0.    0.    0.    0.    0.    0.    0. 1800.    0.    0.\n",
            "  3600.    0.    0.]\n",
            " [   0.    0.    0.    0.    0.    0.    0.    0.    0.    0.    0.    0.\n",
            "     0.    0.    0.]\n",
            " [   0.    0.    0.    0.    0.    0.    0.    0.    0.    0.    0.    0.\n",
            "     0.    0.    0.]\n",
            " [   0.    0.    0.    0.    0.    0.    0.    0.    0.    0.    0.    0.\n",
            "     0.    0.    0.]\n",
            " [   0.    0.    0.    0.    0.    0.    0.    0.    0.    0.    0.    0.\n",
            "     0.    0.    0.]\n",
            " [   0.    0.    0.    0. 1800.    0.    0.    0.    0.    0.    0.    0.\n",
            "  1800.    0.    0.]\n",
            " [   0.    0.    0.    0.    0.    0.    0.    0.    0.    0.    0.    0.\n",
            "     0.    0.    0.]\n",
            " [   0.    0.    0.    0.    0.    0.    0.    0.    0.    0.    0.    0.\n",
            "     0.    0.    0.]\n",
            " [   0.    0.    0.    0. 1000.    0.    0.    0.    0. 1800.    0.    0.\n",
            "     0.    0.    0.]\n",
            " [   0.    0.    0.    0.    0.    0.    0.    0.    0.    0.    0.    0.\n",
            "     0.    0.    0.]\n",
            " [   0.    0.    0.    0.    0.    0.    0.    0.    0.    0.    0.    0.\n",
            "     0.    0.    0.]]\n",
            "Tiempos de transición para la máquina  VUL1 \n",
            "\n",
            "[[   0.    0.    0.    0.    0.    0.    0.    0.    0.    0.    0.    0.\n",
            "     0.    0.    0.]\n",
            " [   0.    0.    0.    0.    0.    0.    0.    0.    0.    0.    0.    0.\n",
            "     0.    0.    0.]\n",
            " [   0.    0.    0.    0.    0.    0.    0.    0.    0.    0.    0.    0.\n",
            "     0.    0.    0.]\n",
            " [   0.    0.    0.    0.    0.    0.    0.    0.    0.    0.    0.    0.\n",
            "     0.    0.    0.]\n",
            " [   0.    0.    0.    0.    0.    0.    0.    0.    0.    0.    0.    0.\n",
            "     0.    0.    0.]\n",
            " [   0.    0.    0.    0.    0.    0.    0.    0.    0.    0.    0.    0.\n",
            "     0.    0.    0.]\n",
            " [   0.    0.    0.    0.    0.    0.    0.    0.    0.    0. 3600.    0.\n",
            "     0.    0. 3600.]\n",
            " [   0.    0.    0.    0.    0.    0.    0.    0.    0.    0.    0.    0.\n",
            "     0.    0.    0.]\n",
            " [   0.    0.    0.    0.    0.    0.    0.    0.    0.    0.    0.    0.\n",
            "     0.    0.    0.]\n",
            " [   0.    0.    0.    0.    0.    0.    0.    0.    0.    0.    0.    0.\n",
            "     0.    0.    0.]\n",
            " [   0.    0.    0.    0.    0.    0. 3600.    0.    0.    0.    0.    0.\n",
            "     0.    0. 3600.]\n",
            " [   0.    0.    0.    0.    0.    0.    0.    0.    0.    0.    0.    0.\n",
            "     0.    0.    0.]\n",
            " [   0.    0.    0.    0.    0.    0.    0.    0.    0.    0.    0.    0.\n",
            "     0.    0.    0.]\n",
            " [   0.    0.    0.    0.    0.    0.    0.    0.    0.    0.    0.    0.\n",
            "     0.    0.    0.]\n",
            " [   0.    0.    0.    0.    0.    0. 3600.    0.    0.    0. 3600.    0.\n",
            "     0.    0.    0.]]\n",
            "Tiempos de transición para la máquina  VUL2 \n",
            "\n",
            "[[   0.    0.    0.    0.    0.    0.    0.    0.    0.    0.    0.    0.\n",
            "     0.    0.    0.]\n",
            " [   0.    0.    0.    0.    0.    0.    0.    0.    0.    0.    0.    0.\n",
            "     0.    0.    0.]\n",
            " [   0.    0.    0.    0.    0.    0.    0.    0.    0.    0.    0.    0.\n",
            "     0.    0.    0.]\n",
            " [   0.    0.    0.    0.    0.    0.    0.    0.    0.    0.    0.    0.\n",
            "     0.    0.    0.]\n",
            " [   0.    0.    0.    0.    0.    0.    0.    0.    0.    0.    0.    0.\n",
            "     0.    0.    0.]\n",
            " [   0.    0.    0.    0.    0.    0.    0.    0.    0.    0.    0.    0.\n",
            "     0.    0.    0.]\n",
            " [   0.    0.    0.    0.    0.    0.    0.    0.    0.    0. 3600.    0.\n",
            "     0.    0. 3600.]\n",
            " [   0.    0.    0.    0.    0.    0.    0.    0.    0.    0.    0.    0.\n",
            "     0.    0.    0.]\n",
            " [   0.    0.    0.    0.    0.    0.    0.    0.    0.    0.    0.    0.\n",
            "     0.    0.    0.]\n",
            " [   0.    0.    0.    0.    0.    0.    0.    0.    0.    0.    0.    0.\n",
            "     0.    0.    0.]\n",
            " [   0.    0.    0.    0.    0.    0. 3600.    0.    0.    0.    0.    0.\n",
            "     0.    0. 3600.]\n",
            " [   0.    0.    0.    0.    0.    0.    0.    0.    0.    0.    0.    0.\n",
            "     0.    0.    0.]\n",
            " [   0.    0.    0.    0.    0.    0.    0.    0.    0.    0.    0.    0.\n",
            "     0.    0.    0.]\n",
            " [   0.    0.    0.    0.    0.    0.    0.    0.    0.    0.    0.    0.\n",
            "     0.    0.    0.]\n",
            " [   0.    0.    0.    0.    0.    0. 3600.    0.    0.    0. 3600.    0.\n",
            "     0.    0.    0.]]\n"
          ]
        }
      ]
    },
    {
      "cell_type": "code",
      "source": [
        "print (MAQ)\n",
        "print (DCHORAS[:,:,0])"
      ],
      "metadata": {
        "id": "ptCpnd4qtfSh",
        "colab": {
          "base_uri": "https://localhost:8080/"
        },
        "outputId": "963feb38-a7f8-4121-c0cd-66462fa379eb"
      },
      "execution_count": null,
      "outputs": [
        {
          "output_type": "stream",
          "name": "stdout",
          "text": [
            "[[ 0.          0.          0.          0.        ]\n",
            " [ 2.925       3.65555556  3.22777778  3.26388889]\n",
            " [ 7.65        9.          8.1         8.55      ]\n",
            " [ 4.          5.77777778  4.88888889  4.44444444]\n",
            " [ 0.53333333  1.06666667  1.06666667  0.53333333]\n",
            " [ 8.41666667  9.16666667  8.41666667 10.        ]]\n",
            "[[0.         0.         0.         0.         0.         0.\n",
            "  0.         0.         0.         0.        ]\n",
            " [0.         0.         0.         0.         0.         0.\n",
            "  0.         0.         0.         0.        ]\n",
            " [0.         0.         1.77777778 0.         0.         0.\n",
            "  0.         0.         0.         0.        ]\n",
            " [0.         0.         0.         0.         0.         0.\n",
            "  0.         0.         0.         0.        ]\n",
            " [0.         0.35555556 0.         0.         0.         0.\n",
            "  0.         0.         0.         0.        ]\n",
            " [0.         0.         0.         0.         0.         0.\n",
            "  0.         0.         0.         0.        ]\n",
            " [0.         0.         2.22222222 0.         0.         0.\n",
            "  0.         0.         0.         0.        ]\n",
            " [0.         0.44444444 0.         0.         0.         0.\n",
            "  0.         0.         0.         0.        ]\n",
            " [0.         0.         0.         0.         0.         0.\n",
            "  0.         0.         0.         0.        ]\n",
            " [0.         0.         7.65       0.         0.         0.\n",
            "  0.         0.         0.         0.        ]\n",
            " [0.         2.125      0.         0.         0.         0.\n",
            "  0.         0.         0.         0.        ]\n",
            " [0.         0.         0.         0.         0.         0.\n",
            "  0.         0.         0.         0.        ]\n",
            " [0.53333333 0.         0.         0.         0.         0.\n",
            "  0.         0.         0.         0.        ]\n",
            " [1.66666667 0.         0.         0.         0.         0.\n",
            "  0.         0.         0.         0.        ]\n",
            " [6.75       0.         0.         0.         0.         0.\n",
            "  0.         0.         0.         0.        ]]\n"
          ]
        }
      ]
    },
    {
      "cell_type": "markdown",
      "source": [
        "# Cálculo de costes del proceso\n",
        "\n",
        "En esta sección calcularemos los costes del proceso.\n",
        "\n",
        "En esencia el cálculo es el siguiente:\n",
        "\n",
        "Coste proceso [CP] = Coste mano de obra[CMO] + Coste Máquina [CMQ]\n",
        "\n",
        "Desarrollando un poco mas este cálculo tenemos que:\n",
        "\n",
        " CMO = Coste operario [MO] / Tiempo de ciclo [T] / 3600\n",
        "\n",
        "CMQ = Coste Máquina fijo [CMQF] Coste Máquina Variable  [CMQV]\n",
        "\n",
        "CMQF = Coste fijo Máquina [CF] * T / 3600\n",
        "\n",
        "CMQV = Coste potencia [CPOT] * Potencia Máquina [POT] * T / 3600\n",
        "\n",
        "Sustituyento tenemos:\n",
        "\n",
        "CP = (MO + CF + CPOT * POT) * T / 3600"
      ],
      "metadata": {
        "id": "LoqrEA7YMe9F"
      }
    },
    {
      "cell_type": "markdown",
      "source": [
        "Ahora nos centraremso en el cálculo de la mano de obra\n",
        "\n",
        "MAQREF = Vector Maquinas (n x 1)\n",
        "\n",
        "MOM = Coste de la mano de obra Turno de mañana\n",
        "\n",
        "MOT = Coste de la mano de obra Turno de tarde\n",
        "\n",
        "MON = Coste de la mano de obra Turno de noche\n",
        "\n",
        "MHORARIA = MATRIZ Horaria (n x 24)\n",
        "\n",
        "NOP =  Número de operarios (n x 1) (Dato a recibir de cliente)\n",
        "\n",
        "CMOTHORARIO = Coste de mano de obra total (nx24) resultado de MOTURNOS * MOP *T / 3600"
      ],
      "metadata": {
        "id": "BgZJNYeTTxFz"
      }
    },
    {
      "cell_type": "code",
      "source": [
        "MAQREF = np.zeros((known_references,1))\n",
        "mask = BOMMAQ.sum(axis = 0) > 0\n",
        "MAQREF[mask] = 1\n",
        "print(MAQREF)\n",
        "MHORARIA = np.ones((known_references,24))\n",
        "MOTURNOS = np.multiply(MHORARIA, MAQREF)\n",
        "print(MOTURNOS)"
      ],
      "metadata": {
        "id": "WkuHhYnoVjre",
        "colab": {
          "base_uri": "https://localhost:8080/"
        },
        "outputId": "eca97198-6f2d-42ad-f8c8-be2dc38ac8a3"
      },
      "execution_count": null,
      "outputs": [
        {
          "output_type": "stream",
          "name": "stdout",
          "text": [
            "[[0.]\n",
            " [0.]\n",
            " [1.]\n",
            " [0.]\n",
            " [1.]\n",
            " [0.]\n",
            " [1.]\n",
            " [1.]\n",
            " [0.]\n",
            " [1.]\n",
            " [1.]\n",
            " [0.]\n",
            " [1.]\n",
            " [1.]\n",
            " [1.]]\n",
            "[[0. 0. 0. 0. 0. 0. 0. 0. 0. 0. 0. 0. 0. 0. 0. 0. 0. 0. 0. 0. 0. 0. 0. 0.]\n",
            " [0. 0. 0. 0. 0. 0. 0. 0. 0. 0. 0. 0. 0. 0. 0. 0. 0. 0. 0. 0. 0. 0. 0. 0.]\n",
            " [1. 1. 1. 1. 1. 1. 1. 1. 1. 1. 1. 1. 1. 1. 1. 1. 1. 1. 1. 1. 1. 1. 1. 1.]\n",
            " [0. 0. 0. 0. 0. 0. 0. 0. 0. 0. 0. 0. 0. 0. 0. 0. 0. 0. 0. 0. 0. 0. 0. 0.]\n",
            " [1. 1. 1. 1. 1. 1. 1. 1. 1. 1. 1. 1. 1. 1. 1. 1. 1. 1. 1. 1. 1. 1. 1. 1.]\n",
            " [0. 0. 0. 0. 0. 0. 0. 0. 0. 0. 0. 0. 0. 0. 0. 0. 0. 0. 0. 0. 0. 0. 0. 0.]\n",
            " [1. 1. 1. 1. 1. 1. 1. 1. 1. 1. 1. 1. 1. 1. 1. 1. 1. 1. 1. 1. 1. 1. 1. 1.]\n",
            " [1. 1. 1. 1. 1. 1. 1. 1. 1. 1. 1. 1. 1. 1. 1. 1. 1. 1. 1. 1. 1. 1. 1. 1.]\n",
            " [0. 0. 0. 0. 0. 0. 0. 0. 0. 0. 0. 0. 0. 0. 0. 0. 0. 0. 0. 0. 0. 0. 0. 0.]\n",
            " [1. 1. 1. 1. 1. 1. 1. 1. 1. 1. 1. 1. 1. 1. 1. 1. 1. 1. 1. 1. 1. 1. 1. 1.]\n",
            " [1. 1. 1. 1. 1. 1. 1. 1. 1. 1. 1. 1. 1. 1. 1. 1. 1. 1. 1. 1. 1. 1. 1. 1.]\n",
            " [0. 0. 0. 0. 0. 0. 0. 0. 0. 0. 0. 0. 0. 0. 0. 0. 0. 0. 0. 0. 0. 0. 0. 0.]\n",
            " [1. 1. 1. 1. 1. 1. 1. 1. 1. 1. 1. 1. 1. 1. 1. 1. 1. 1. 1. 1. 1. 1. 1. 1.]\n",
            " [1. 1. 1. 1. 1. 1. 1. 1. 1. 1. 1. 1. 1. 1. 1. 1. 1. 1. 1. 1. 1. 1. 1. 1.]\n",
            " [1. 1. 1. 1. 1. 1. 1. 1. 1. 1. 1. 1. 1. 1. 1. 1. 1. 1. 1. 1. 1. 1. 1. 1.]]\n"
          ]
        }
      ]
    },
    {
      "cell_type": "code",
      "source": [
        "MOM = 12\n",
        "MOT = 14\n",
        "MON = 18\n",
        "MOTURNOS [:,0:6] *=  MON\n",
        "MOTURNOS [:,6:14] *=  MOM\n",
        "MOTURNOS [:,14:22] *=  MOT\n",
        "MOTURNOS [:,22:24] *=  MON\n",
        "print(MOTURNOS)"
      ],
      "metadata": {
        "id": "Sh40laK5W1i3",
        "colab": {
          "base_uri": "https://localhost:8080/"
        },
        "outputId": "d83c05d6-8403-4261-9758-02b162a7a234"
      },
      "execution_count": null,
      "outputs": [
        {
          "output_type": "stream",
          "name": "stdout",
          "text": [
            "[[ 0.  0.  0.  0.  0.  0.  0.  0.  0.  0.  0.  0.  0.  0.  0.  0.  0.  0.\n",
            "   0.  0.  0.  0.  0.  0.]\n",
            " [ 0.  0.  0.  0.  0.  0.  0.  0.  0.  0.  0.  0.  0.  0.  0.  0.  0.  0.\n",
            "   0.  0.  0.  0.  0.  0.]\n",
            " [18. 18. 18. 18. 18. 18. 12. 12. 12. 12. 12. 12. 12. 12. 14. 14. 14. 14.\n",
            "  14. 14. 14. 14. 18. 18.]\n",
            " [ 0.  0.  0.  0.  0.  0.  0.  0.  0.  0.  0.  0.  0.  0.  0.  0.  0.  0.\n",
            "   0.  0.  0.  0.  0.  0.]\n",
            " [18. 18. 18. 18. 18. 18. 12. 12. 12. 12. 12. 12. 12. 12. 14. 14. 14. 14.\n",
            "  14. 14. 14. 14. 18. 18.]\n",
            " [ 0.  0.  0.  0.  0.  0.  0.  0.  0.  0.  0.  0.  0.  0.  0.  0.  0.  0.\n",
            "   0.  0.  0.  0.  0.  0.]\n",
            " [18. 18. 18. 18. 18. 18. 12. 12. 12. 12. 12. 12. 12. 12. 14. 14. 14. 14.\n",
            "  14. 14. 14. 14. 18. 18.]\n",
            " [18. 18. 18. 18. 18. 18. 12. 12. 12. 12. 12. 12. 12. 12. 14. 14. 14. 14.\n",
            "  14. 14. 14. 14. 18. 18.]\n",
            " [ 0.  0.  0.  0.  0.  0.  0.  0.  0.  0.  0.  0.  0.  0.  0.  0.  0.  0.\n",
            "   0.  0.  0.  0.  0.  0.]\n",
            " [18. 18. 18. 18. 18. 18. 12. 12. 12. 12. 12. 12. 12. 12. 14. 14. 14. 14.\n",
            "  14. 14. 14. 14. 18. 18.]\n",
            " [18. 18. 18. 18. 18. 18. 12. 12. 12. 12. 12. 12. 12. 12. 14. 14. 14. 14.\n",
            "  14. 14. 14. 14. 18. 18.]\n",
            " [ 0.  0.  0.  0.  0.  0.  0.  0.  0.  0.  0.  0.  0.  0.  0.  0.  0.  0.\n",
            "   0.  0.  0.  0.  0.  0.]\n",
            " [18. 18. 18. 18. 18. 18. 12. 12. 12. 12. 12. 12. 12. 12. 14. 14. 14. 14.\n",
            "  14. 14. 14. 14. 18. 18.]\n",
            " [18. 18. 18. 18. 18. 18. 12. 12. 12. 12. 12. 12. 12. 12. 14. 14. 14. 14.\n",
            "  14. 14. 14. 14. 18. 18.]\n",
            " [18. 18. 18. 18. 18. 18. 12. 12. 12. 12. 12. 12. 12. 12. 14. 14. 14. 14.\n",
            "  14. 14. 14. 14. 18. 18.]]\n"
          ]
        }
      ]
    },
    {
      "cell_type": "code",
      "source": [
        "CMOTHORARIO  =np.multiply(MOTURNOS, np.multiply(T,NOP)) / 3600\n",
        "print(CMOTHORARIO)"
      ],
      "metadata": {
        "id": "XiJVIasxbHJg",
        "colab": {
          "base_uri": "https://localhost:8080/"
        },
        "outputId": "6a4d8e10-4595-4e3f-d23e-5f5135f83696"
      },
      "execution_count": null,
      "outputs": [
        {
          "output_type": "stream",
          "name": "stdout",
          "text": [
            "[[0.         0.         0.         0.         0.         0.\n",
            "  0.         0.         0.         0.         0.         0.\n",
            "  0.         0.         0.         0.         0.         0.\n",
            "  0.         0.         0.         0.         0.         0.        ]\n",
            " [0.         0.         0.         0.         0.         0.\n",
            "  0.         0.         0.         0.         0.         0.\n",
            "  0.         0.         0.         0.         0.         0.\n",
            "  0.         0.         0.         0.         0.         0.        ]\n",
            " [0.5        0.5        0.5        0.5        0.5        0.5\n",
            "  0.33333333 0.33333333 0.33333333 0.33333333 0.33333333 0.33333333\n",
            "  0.33333333 0.33333333 0.38888889 0.38888889 0.38888889 0.38888889\n",
            "  0.38888889 0.38888889 0.38888889 0.38888889 0.5        0.5       ]\n",
            " [0.         0.         0.         0.         0.         0.\n",
            "  0.         0.         0.         0.         0.         0.\n",
            "  0.         0.         0.         0.         0.         0.\n",
            "  0.         0.         0.         0.         0.         0.        ]\n",
            " [0.2        0.2        0.2        0.2        0.2        0.2\n",
            "  0.13333333 0.13333333 0.13333333 0.13333333 0.13333333 0.13333333\n",
            "  0.13333333 0.13333333 0.15555556 0.15555556 0.15555556 0.15555556\n",
            "  0.15555556 0.15555556 0.15555556 0.15555556 0.2        0.2       ]\n",
            " [0.         0.         0.         0.         0.         0.\n",
            "  0.         0.         0.         0.         0.         0.\n",
            "  0.         0.         0.         0.         0.         0.\n",
            "  0.         0.         0.         0.         0.         0.        ]\n",
            " [0.4        0.4        0.4        0.4        0.4        0.4\n",
            "  0.26666667 0.26666667 0.26666667 0.26666667 0.26666667 0.26666667\n",
            "  0.26666667 0.26666667 0.31111111 0.31111111 0.31111111 0.31111111\n",
            "  0.31111111 0.31111111 0.31111111 0.31111111 0.4        0.4       ]\n",
            " [0.08       0.08       0.08       0.08       0.08       0.08\n",
            "  0.05333333 0.05333333 0.05333333 0.05333333 0.05333333 0.05333333\n",
            "  0.05333333 0.05333333 0.06222222 0.06222222 0.06222222 0.06222222\n",
            "  0.06222222 0.06222222 0.06222222 0.06222222 0.08       0.08      ]\n",
            " [0.         0.         0.         0.         0.         0.\n",
            "  0.         0.         0.         0.         0.         0.\n",
            "  0.         0.         0.         0.         0.         0.\n",
            "  0.         0.         0.         0.         0.         0.        ]\n",
            " [0.45       0.45       0.45       0.45       0.45       0.45\n",
            "  0.3        0.3        0.3        0.3        0.3        0.3\n",
            "  0.3        0.3        0.35       0.35       0.35       0.35\n",
            "  0.35       0.35       0.35       0.35       0.45       0.45      ]\n",
            " [0.125      0.125      0.125      0.125      0.125      0.125\n",
            "  0.08333333 0.08333333 0.08333333 0.08333333 0.08333333 0.08333333\n",
            "  0.08333333 0.08333333 0.09722222 0.09722222 0.09722222 0.09722222\n",
            "  0.09722222 0.09722222 0.09722222 0.09722222 0.125      0.125     ]\n",
            " [0.         0.         0.         0.         0.         0.\n",
            "  0.         0.         0.         0.         0.         0.\n",
            "  0.         0.         0.         0.         0.         0.\n",
            "  0.         0.         0.         0.         0.         0.        ]\n",
            " [0.6        0.6        0.6        0.6        0.6        0.6\n",
            "  0.4        0.4        0.4        0.4        0.4        0.4\n",
            "  0.4        0.4        0.46666667 0.46666667 0.46666667 0.46666667\n",
            "  0.46666667 0.46666667 0.46666667 0.46666667 0.6        0.6       ]\n",
            " [0.5        0.5        0.5        0.5        0.5        0.5\n",
            "  0.33333333 0.33333333 0.33333333 0.33333333 0.33333333 0.33333333\n",
            "  0.33333333 0.33333333 0.38888889 0.38888889 0.38888889 0.38888889\n",
            "  0.38888889 0.38888889 0.38888889 0.38888889 0.5        0.5       ]\n",
            " [0.75       0.75       0.75       0.75       0.75       0.75\n",
            "  0.5        0.5        0.5        0.5        0.5        0.5\n",
            "  0.5        0.5        0.58333333 0.58333333 0.58333333 0.58333333\n",
            "  0.58333333 0.58333333 0.58333333 0.58333333 0.75       0.75      ]]\n"
          ]
        }
      ]
    },
    {
      "cell_type": "markdown",
      "source": [
        "\n",
        "Ahora nos centraremso en el cálculo de la mano de obra\n",
        "\n",
        "MAQ = Vector Maquinas (n x 1)\n",
        "\n",
        "CMF = Coste máquina fijo (n x 24)\n",
        "\n",
        "CPOT = Tabla de coste de potencias (n x 24)\n",
        "\n",
        "POT = Potencia de Maquinaria (n x 1) KWH\n",
        "\n",
        "CELECM = Coste potencia turno mañana\n",
        "\n",
        "CELECT = coste potencia turno tarde\n",
        "\n",
        "CELECN = Coste potencia turno Noche\n",
        "\n",
        "CMVTURNOS = Coste maquina variable (n x 24))\n",
        "\n",
        "T =  Tiempos de ciclo (n x 1) (Definidos anteriormente)\n",
        "\n",
        "CMQVTHORARIO = Coste de maquina total (nx24) resultado de CMVTURNOS * POT *T / 3600\n",
        "\n",
        "CMTOT = (CMF + CMQVTHORARIO) * T / 3600"
      ],
      "metadata": {
        "id": "3SCFZQDGenMD"
      }
    },
    {
      "cell_type": "code",
      "source": [
        "from genericpath import commonprefix\n",
        "#Coste maquina definido por cliente CMF\n",
        "cmfijo = 5  #5 es un valor estimado\n",
        "CMF = np.ones((known_references,24))\n",
        "CMF = np.multiply(CMF, MAQREF)\n",
        "CMF = CMF * cmfijo\n",
        "print (CMF)"
      ],
      "metadata": {
        "id": "EbiVC5Moenfy",
        "colab": {
          "base_uri": "https://localhost:8080/"
        },
        "outputId": "691b7948-b672-466e-9904-64dad8de54df"
      },
      "execution_count": null,
      "outputs": [
        {
          "output_type": "stream",
          "name": "stdout",
          "text": [
            "[[0. 0. 0. 0. 0. 0. 0. 0. 0. 0. 0. 0. 0. 0. 0. 0. 0. 0. 0. 0. 0. 0. 0. 0.]\n",
            " [0. 0. 0. 0. 0. 0. 0. 0. 0. 0. 0. 0. 0. 0. 0. 0. 0. 0. 0. 0. 0. 0. 0. 0.]\n",
            " [5. 5. 5. 5. 5. 5. 5. 5. 5. 5. 5. 5. 5. 5. 5. 5. 5. 5. 5. 5. 5. 5. 5. 5.]\n",
            " [0. 0. 0. 0. 0. 0. 0. 0. 0. 0. 0. 0. 0. 0. 0. 0. 0. 0. 0. 0. 0. 0. 0. 0.]\n",
            " [5. 5. 5. 5. 5. 5. 5. 5. 5. 5. 5. 5. 5. 5. 5. 5. 5. 5. 5. 5. 5. 5. 5. 5.]\n",
            " [0. 0. 0. 0. 0. 0. 0. 0. 0. 0. 0. 0. 0. 0. 0. 0. 0. 0. 0. 0. 0. 0. 0. 0.]\n",
            " [5. 5. 5. 5. 5. 5. 5. 5. 5. 5. 5. 5. 5. 5. 5. 5. 5. 5. 5. 5. 5. 5. 5. 5.]\n",
            " [5. 5. 5. 5. 5. 5. 5. 5. 5. 5. 5. 5. 5. 5. 5. 5. 5. 5. 5. 5. 5. 5. 5. 5.]\n",
            " [0. 0. 0. 0. 0. 0. 0. 0. 0. 0. 0. 0. 0. 0. 0. 0. 0. 0. 0. 0. 0. 0. 0. 0.]\n",
            " [5. 5. 5. 5. 5. 5. 5. 5. 5. 5. 5. 5. 5. 5. 5. 5. 5. 5. 5. 5. 5. 5. 5. 5.]\n",
            " [5. 5. 5. 5. 5. 5. 5. 5. 5. 5. 5. 5. 5. 5. 5. 5. 5. 5. 5. 5. 5. 5. 5. 5.]\n",
            " [0. 0. 0. 0. 0. 0. 0. 0. 0. 0. 0. 0. 0. 0. 0. 0. 0. 0. 0. 0. 0. 0. 0. 0.]\n",
            " [5. 5. 5. 5. 5. 5. 5. 5. 5. 5. 5. 5. 5. 5. 5. 5. 5. 5. 5. 5. 5. 5. 5. 5.]\n",
            " [5. 5. 5. 5. 5. 5. 5. 5. 5. 5. 5. 5. 5. 5. 5. 5. 5. 5. 5. 5. 5. 5. 5. 5.]\n",
            " [5. 5. 5. 5. 5. 5. 5. 5. 5. 5. 5. 5. 5. 5. 5. 5. 5. 5. 5. 5. 5. 5. 5. 5.]]\n"
          ]
        }
      ]
    },
    {
      "cell_type": "code",
      "source": [
        "CMTURNOS = np.ones((known_references,24))\n",
        "CMTURNOS = np.multiply(CMTURNOS, MAQREF)\n",
        "print(CMTURNOS)"
      ],
      "metadata": {
        "id": "VuYTEzJkhmrb",
        "colab": {
          "base_uri": "https://localhost:8080/"
        },
        "outputId": "7861a001-753a-4a67-dd35-1cf192840b8b"
      },
      "execution_count": null,
      "outputs": [
        {
          "output_type": "stream",
          "name": "stdout",
          "text": [
            "[[0. 0. 0. 0. 0. 0. 0. 0. 0. 0. 0. 0. 0. 0. 0. 0. 0. 0. 0. 0. 0. 0. 0. 0.]\n",
            " [0. 0. 0. 0. 0. 0. 0. 0. 0. 0. 0. 0. 0. 0. 0. 0. 0. 0. 0. 0. 0. 0. 0. 0.]\n",
            " [1. 1. 1. 1. 1. 1. 1. 1. 1. 1. 1. 1. 1. 1. 1. 1. 1. 1. 1. 1. 1. 1. 1. 1.]\n",
            " [0. 0. 0. 0. 0. 0. 0. 0. 0. 0. 0. 0. 0. 0. 0. 0. 0. 0. 0. 0. 0. 0. 0. 0.]\n",
            " [1. 1. 1. 1. 1. 1. 1. 1. 1. 1. 1. 1. 1. 1. 1. 1. 1. 1. 1. 1. 1. 1. 1. 1.]\n",
            " [0. 0. 0. 0. 0. 0. 0. 0. 0. 0. 0. 0. 0. 0. 0. 0. 0. 0. 0. 0. 0. 0. 0. 0.]\n",
            " [1. 1. 1. 1. 1. 1. 1. 1. 1. 1. 1. 1. 1. 1. 1. 1. 1. 1. 1. 1. 1. 1. 1. 1.]\n",
            " [1. 1. 1. 1. 1. 1. 1. 1. 1. 1. 1. 1. 1. 1. 1. 1. 1. 1. 1. 1. 1. 1. 1. 1.]\n",
            " [0. 0. 0. 0. 0. 0. 0. 0. 0. 0. 0. 0. 0. 0. 0. 0. 0. 0. 0. 0. 0. 0. 0. 0.]\n",
            " [1. 1. 1. 1. 1. 1. 1. 1. 1. 1. 1. 1. 1. 1. 1. 1. 1. 1. 1. 1. 1. 1. 1. 1.]\n",
            " [1. 1. 1. 1. 1. 1. 1. 1. 1. 1. 1. 1. 1. 1. 1. 1. 1. 1. 1. 1. 1. 1. 1. 1.]\n",
            " [0. 0. 0. 0. 0. 0. 0. 0. 0. 0. 0. 0. 0. 0. 0. 0. 0. 0. 0. 0. 0. 0. 0. 0.]\n",
            " [1. 1. 1. 1. 1. 1. 1. 1. 1. 1. 1. 1. 1. 1. 1. 1. 1. 1. 1. 1. 1. 1. 1. 1.]\n",
            " [1. 1. 1. 1. 1. 1. 1. 1. 1. 1. 1. 1. 1. 1. 1. 1. 1. 1. 1. 1. 1. 1. 1. 1.]\n",
            " [1. 1. 1. 1. 1. 1. 1. 1. 1. 1. 1. 1. 1. 1. 1. 1. 1. 1. 1. 1. 1. 1. 1. 1.]]\n"
          ]
        }
      ]
    },
    {
      "cell_type": "code",
      "source": [
        "\n",
        "CELECM = 0.12\n",
        "CELECT = 0.14\n",
        "CELECN = 0.16\n",
        "CMTURNOS [:,0:6] *=  CELECN\n",
        "CMTURNOS [:,6:14] *=  CELECM\n",
        "CMTURNOS [:,14:22] *=  CELECT\n",
        "CMTURNOS [:,22:24] *=  CELECN\n",
        "print(CMTURNOS)"
      ],
      "metadata": {
        "id": "R2HmTEIJhd6I",
        "colab": {
          "base_uri": "https://localhost:8080/"
        },
        "outputId": "919a9381-acdc-4137-e84a-10a08fb13ee9"
      },
      "execution_count": null,
      "outputs": [
        {
          "output_type": "stream",
          "name": "stdout",
          "text": [
            "[[0.   0.   0.   0.   0.   0.   0.   0.   0.   0.   0.   0.   0.   0.\n",
            "  0.   0.   0.   0.   0.   0.   0.   0.   0.   0.  ]\n",
            " [0.   0.   0.   0.   0.   0.   0.   0.   0.   0.   0.   0.   0.   0.\n",
            "  0.   0.   0.   0.   0.   0.   0.   0.   0.   0.  ]\n",
            " [0.16 0.16 0.16 0.16 0.16 0.16 0.12 0.12 0.12 0.12 0.12 0.12 0.12 0.12\n",
            "  0.14 0.14 0.14 0.14 0.14 0.14 0.14 0.14 0.16 0.16]\n",
            " [0.   0.   0.   0.   0.   0.   0.   0.   0.   0.   0.   0.   0.   0.\n",
            "  0.   0.   0.   0.   0.   0.   0.   0.   0.   0.  ]\n",
            " [0.16 0.16 0.16 0.16 0.16 0.16 0.12 0.12 0.12 0.12 0.12 0.12 0.12 0.12\n",
            "  0.14 0.14 0.14 0.14 0.14 0.14 0.14 0.14 0.16 0.16]\n",
            " [0.   0.   0.   0.   0.   0.   0.   0.   0.   0.   0.   0.   0.   0.\n",
            "  0.   0.   0.   0.   0.   0.   0.   0.   0.   0.  ]\n",
            " [0.16 0.16 0.16 0.16 0.16 0.16 0.12 0.12 0.12 0.12 0.12 0.12 0.12 0.12\n",
            "  0.14 0.14 0.14 0.14 0.14 0.14 0.14 0.14 0.16 0.16]\n",
            " [0.16 0.16 0.16 0.16 0.16 0.16 0.12 0.12 0.12 0.12 0.12 0.12 0.12 0.12\n",
            "  0.14 0.14 0.14 0.14 0.14 0.14 0.14 0.14 0.16 0.16]\n",
            " [0.   0.   0.   0.   0.   0.   0.   0.   0.   0.   0.   0.   0.   0.\n",
            "  0.   0.   0.   0.   0.   0.   0.   0.   0.   0.  ]\n",
            " [0.16 0.16 0.16 0.16 0.16 0.16 0.12 0.12 0.12 0.12 0.12 0.12 0.12 0.12\n",
            "  0.14 0.14 0.14 0.14 0.14 0.14 0.14 0.14 0.16 0.16]\n",
            " [0.16 0.16 0.16 0.16 0.16 0.16 0.12 0.12 0.12 0.12 0.12 0.12 0.12 0.12\n",
            "  0.14 0.14 0.14 0.14 0.14 0.14 0.14 0.14 0.16 0.16]\n",
            " [0.   0.   0.   0.   0.   0.   0.   0.   0.   0.   0.   0.   0.   0.\n",
            "  0.   0.   0.   0.   0.   0.   0.   0.   0.   0.  ]\n",
            " [0.16 0.16 0.16 0.16 0.16 0.16 0.12 0.12 0.12 0.12 0.12 0.12 0.12 0.12\n",
            "  0.14 0.14 0.14 0.14 0.14 0.14 0.14 0.14 0.16 0.16]\n",
            " [0.16 0.16 0.16 0.16 0.16 0.16 0.12 0.12 0.12 0.12 0.12 0.12 0.12 0.12\n",
            "  0.14 0.14 0.14 0.14 0.14 0.14 0.14 0.14 0.16 0.16]\n",
            " [0.16 0.16 0.16 0.16 0.16 0.16 0.12 0.12 0.12 0.12 0.12 0.12 0.12 0.12\n",
            "  0.14 0.14 0.14 0.14 0.14 0.14 0.14 0.14 0.16 0.16]]\n"
          ]
        }
      ]
    },
    {
      "cell_type": "code",
      "source": [
        "POT_referencia = np.multiply(BOMMAQ,CPOT)\n",
        "POT_referencia = np.expand_dims(POT_referencia.sum(axis = 0), axis = 0)\n",
        "\n",
        "print(POT_referencia)"
      ],
      "metadata": {
        "id": "4RacDnlhJOvo",
        "colab": {
          "base_uri": "https://localhost:8080/"
        },
        "outputId": "fee57fea-3b5c-4952-fda5-c880371f3999"
      },
      "execution_count": null,
      "outputs": [
        {
          "output_type": "stream",
          "name": "stdout",
          "text": [
            "[[  0.   0. 100.   0.   0.   0. 100.   0.   0. 125.   0.   0. 150. 200.\n",
            "  200.]]\n"
          ]
        }
      ]
    },
    {
      "cell_type": "code",
      "source": [
        "CMQVTHORARIO  = np.multiply(CMTURNOS , POT_referencia.T)\n",
        "print(CMQVTHORARIO)"
      ],
      "metadata": {
        "id": "tiVwHu-BjbAC",
        "colab": {
          "base_uri": "https://localhost:8080/"
        },
        "outputId": "5a4bd36e-3026-486a-a3df-ce584ff09965"
      },
      "execution_count": null,
      "outputs": [
        {
          "output_type": "stream",
          "name": "stdout",
          "text": [
            "[[ 0.   0.   0.   0.   0.   0.   0.   0.   0.   0.   0.   0.   0.   0.\n",
            "   0.   0.   0.   0.   0.   0.   0.   0.   0.   0. ]\n",
            " [ 0.   0.   0.   0.   0.   0.   0.   0.   0.   0.   0.   0.   0.   0.\n",
            "   0.   0.   0.   0.   0.   0.   0.   0.   0.   0. ]\n",
            " [16.  16.  16.  16.  16.  16.  12.  12.  12.  12.  12.  12.  12.  12.\n",
            "  14.  14.  14.  14.  14.  14.  14.  14.  16.  16. ]\n",
            " [ 0.   0.   0.   0.   0.   0.   0.   0.   0.   0.   0.   0.   0.   0.\n",
            "   0.   0.   0.   0.   0.   0.   0.   0.   0.   0. ]\n",
            " [ 0.   0.   0.   0.   0.   0.   0.   0.   0.   0.   0.   0.   0.   0.\n",
            "   0.   0.   0.   0.   0.   0.   0.   0.   0.   0. ]\n",
            " [ 0.   0.   0.   0.   0.   0.   0.   0.   0.   0.   0.   0.   0.   0.\n",
            "   0.   0.   0.   0.   0.   0.   0.   0.   0.   0. ]\n",
            " [16.  16.  16.  16.  16.  16.  12.  12.  12.  12.  12.  12.  12.  12.\n",
            "  14.  14.  14.  14.  14.  14.  14.  14.  16.  16. ]\n",
            " [ 0.   0.   0.   0.   0.   0.   0.   0.   0.   0.   0.   0.   0.   0.\n",
            "   0.   0.   0.   0.   0.   0.   0.   0.   0.   0. ]\n",
            " [ 0.   0.   0.   0.   0.   0.   0.   0.   0.   0.   0.   0.   0.   0.\n",
            "   0.   0.   0.   0.   0.   0.   0.   0.   0.   0. ]\n",
            " [20.  20.  20.  20.  20.  20.  15.  15.  15.  15.  15.  15.  15.  15.\n",
            "  17.5 17.5 17.5 17.5 17.5 17.5 17.5 17.5 20.  20. ]\n",
            " [ 0.   0.   0.   0.   0.   0.   0.   0.   0.   0.   0.   0.   0.   0.\n",
            "   0.   0.   0.   0.   0.   0.   0.   0.   0.   0. ]\n",
            " [ 0.   0.   0.   0.   0.   0.   0.   0.   0.   0.   0.   0.   0.   0.\n",
            "   0.   0.   0.   0.   0.   0.   0.   0.   0.   0. ]\n",
            " [24.  24.  24.  24.  24.  24.  18.  18.  18.  18.  18.  18.  18.  18.\n",
            "  21.  21.  21.  21.  21.  21.  21.  21.  24.  24. ]\n",
            " [32.  32.  32.  32.  32.  32.  24.  24.  24.  24.  24.  24.  24.  24.\n",
            "  28.  28.  28.  28.  28.  28.  28.  28.  32.  32. ]\n",
            " [32.  32.  32.  32.  32.  32.  24.  24.  24.  24.  24.  24.  24.  24.\n",
            "  28.  28.  28.  28.  28.  28.  28.  28.  32.  32. ]]\n"
          ]
        }
      ]
    },
    {
      "cell_type": "code",
      "source": [
        "CMTOT = np.multiply((CMF + CMQVTHORARIO), T) / 3600\n",
        "print (CMTOT)"
      ],
      "metadata": {
        "id": "KWnUblwSjufv",
        "colab": {
          "base_uri": "https://localhost:8080/"
        },
        "outputId": "e7b95291-f2d9-4424-acd0-b762368e2f5f"
      },
      "execution_count": null,
      "outputs": [
        {
          "output_type": "stream",
          "name": "stdout",
          "text": [
            "[[0.         0.         0.         0.         0.         0.\n",
            "  0.         0.         0.         0.         0.         0.\n",
            "  0.         0.         0.         0.         0.         0.\n",
            "  0.         0.         0.         0.         0.         0.        ]\n",
            " [0.         0.         0.         0.         0.         0.\n",
            "  0.         0.         0.         0.         0.         0.\n",
            "  0.         0.         0.         0.         0.         0.\n",
            "  0.         0.         0.         0.         0.         0.        ]\n",
            " [0.58333333 0.58333333 0.58333333 0.58333333 0.58333333 0.58333333\n",
            "  0.47222222 0.47222222 0.47222222 0.47222222 0.47222222 0.47222222\n",
            "  0.47222222 0.47222222 0.52777778 0.52777778 0.52777778 0.52777778\n",
            "  0.52777778 0.52777778 0.52777778 0.52777778 0.58333333 0.58333333]\n",
            " [0.         0.         0.         0.         0.         0.\n",
            "  0.         0.         0.         0.         0.         0.\n",
            "  0.         0.         0.         0.         0.         0.\n",
            "  0.         0.         0.         0.         0.         0.        ]\n",
            " [0.02777778 0.02777778 0.02777778 0.02777778 0.02777778 0.02777778\n",
            "  0.02777778 0.02777778 0.02777778 0.02777778 0.02777778 0.02777778\n",
            "  0.02777778 0.02777778 0.02777778 0.02777778 0.02777778 0.02777778\n",
            "  0.02777778 0.02777778 0.02777778 0.02777778 0.02777778 0.02777778]\n",
            " [0.         0.         0.         0.         0.         0.\n",
            "  0.         0.         0.         0.         0.         0.\n",
            "  0.         0.         0.         0.         0.         0.\n",
            "  0.         0.         0.         0.         0.         0.        ]\n",
            " [0.46666667 0.46666667 0.46666667 0.46666667 0.46666667 0.46666667\n",
            "  0.37777778 0.37777778 0.37777778 0.37777778 0.37777778 0.37777778\n",
            "  0.37777778 0.37777778 0.42222222 0.42222222 0.42222222 0.42222222\n",
            "  0.42222222 0.42222222 0.42222222 0.42222222 0.46666667 0.46666667]\n",
            " [0.02222222 0.02222222 0.02222222 0.02222222 0.02222222 0.02222222\n",
            "  0.02222222 0.02222222 0.02222222 0.02222222 0.02222222 0.02222222\n",
            "  0.02222222 0.02222222 0.02222222 0.02222222 0.02222222 0.02222222\n",
            "  0.02222222 0.02222222 0.02222222 0.02222222 0.02222222 0.02222222]\n",
            " [0.         0.         0.         0.         0.         0.\n",
            "  0.         0.         0.         0.         0.         0.\n",
            "  0.         0.         0.         0.         0.         0.\n",
            "  0.         0.         0.         0.         0.         0.        ]\n",
            " [0.625      0.625      0.625      0.625      0.625      0.625\n",
            "  0.5        0.5        0.5        0.5        0.5        0.5\n",
            "  0.5        0.5        0.5625     0.5625     0.5625     0.5625\n",
            "  0.5625     0.5625     0.5625     0.5625     0.625      0.625     ]\n",
            " [0.03472222 0.03472222 0.03472222 0.03472222 0.03472222 0.03472222\n",
            "  0.03472222 0.03472222 0.03472222 0.03472222 0.03472222 0.03472222\n",
            "  0.03472222 0.03472222 0.03472222 0.03472222 0.03472222 0.03472222\n",
            "  0.03472222 0.03472222 0.03472222 0.03472222 0.03472222 0.03472222]\n",
            " [0.         0.         0.         0.         0.         0.\n",
            "  0.         0.         0.         0.         0.         0.\n",
            "  0.         0.         0.         0.         0.         0.\n",
            "  0.         0.         0.         0.         0.         0.        ]\n",
            " [0.48333333 0.48333333 0.48333333 0.48333333 0.48333333 0.48333333\n",
            "  0.38333333 0.38333333 0.38333333 0.38333333 0.38333333 0.38333333\n",
            "  0.38333333 0.38333333 0.43333333 0.43333333 0.43333333 0.43333333\n",
            "  0.43333333 0.43333333 0.43333333 0.43333333 0.48333333 0.48333333]\n",
            " [0.51388889 0.51388889 0.51388889 0.51388889 0.51388889 0.51388889\n",
            "  0.40277778 0.40277778 0.40277778 0.40277778 0.40277778 0.40277778\n",
            "  0.40277778 0.40277778 0.45833333 0.45833333 0.45833333 0.45833333\n",
            "  0.45833333 0.45833333 0.45833333 0.45833333 0.51388889 0.51388889]\n",
            " [0.77083333 0.77083333 0.77083333 0.77083333 0.77083333 0.77083333\n",
            "  0.60416667 0.60416667 0.60416667 0.60416667 0.60416667 0.60416667\n",
            "  0.60416667 0.60416667 0.6875     0.6875     0.6875     0.6875\n",
            "  0.6875     0.6875     0.6875     0.6875     0.77083333 0.77083333]]\n"
          ]
        }
      ]
    },
    {
      "cell_type": "markdown",
      "source": [
        "El coste total es el resultado de sumar el coste máquina y el de operario\n",
        "CTOTHORARIO"
      ],
      "metadata": {
        "id": "MFMXrwHPl52f"
      }
    },
    {
      "cell_type": "code",
      "source": [
        "CTOTHORARIO = CMOTHORARIO + CMTOT\n",
        "print (CTOTHORARIO)"
      ],
      "metadata": {
        "id": "4d5U4LTHkvY_",
        "colab": {
          "base_uri": "https://localhost:8080/"
        },
        "outputId": "318bece1-bfe4-4332-98ab-32fd5ed00056"
      },
      "execution_count": null,
      "outputs": [
        {
          "output_type": "stream",
          "name": "stdout",
          "text": [
            "[[0.         0.         0.         0.         0.         0.\n",
            "  0.         0.         0.         0.         0.         0.\n",
            "  0.         0.         0.         0.         0.         0.\n",
            "  0.         0.         0.         0.         0.         0.        ]\n",
            " [0.         0.         0.         0.         0.         0.\n",
            "  0.         0.         0.         0.         0.         0.\n",
            "  0.         0.         0.         0.         0.         0.\n",
            "  0.         0.         0.         0.         0.         0.        ]\n",
            " [1.08333333 1.08333333 1.08333333 1.08333333 1.08333333 1.08333333\n",
            "  0.80555556 0.80555556 0.80555556 0.80555556 0.80555556 0.80555556\n",
            "  0.80555556 0.80555556 0.91666667 0.91666667 0.91666667 0.91666667\n",
            "  0.91666667 0.91666667 0.91666667 0.91666667 1.08333333 1.08333333]\n",
            " [0.         0.         0.         0.         0.         0.\n",
            "  0.         0.         0.         0.         0.         0.\n",
            "  0.         0.         0.         0.         0.         0.\n",
            "  0.         0.         0.         0.         0.         0.        ]\n",
            " [0.22777778 0.22777778 0.22777778 0.22777778 0.22777778 0.22777778\n",
            "  0.16111111 0.16111111 0.16111111 0.16111111 0.16111111 0.16111111\n",
            "  0.16111111 0.16111111 0.18333333 0.18333333 0.18333333 0.18333333\n",
            "  0.18333333 0.18333333 0.18333333 0.18333333 0.22777778 0.22777778]\n",
            " [0.         0.         0.         0.         0.         0.\n",
            "  0.         0.         0.         0.         0.         0.\n",
            "  0.         0.         0.         0.         0.         0.\n",
            "  0.         0.         0.         0.         0.         0.        ]\n",
            " [0.86666667 0.86666667 0.86666667 0.86666667 0.86666667 0.86666667\n",
            "  0.64444444 0.64444444 0.64444444 0.64444444 0.64444444 0.64444444\n",
            "  0.64444444 0.64444444 0.73333333 0.73333333 0.73333333 0.73333333\n",
            "  0.73333333 0.73333333 0.73333333 0.73333333 0.86666667 0.86666667]\n",
            " [0.10222222 0.10222222 0.10222222 0.10222222 0.10222222 0.10222222\n",
            "  0.07555556 0.07555556 0.07555556 0.07555556 0.07555556 0.07555556\n",
            "  0.07555556 0.07555556 0.08444444 0.08444444 0.08444444 0.08444444\n",
            "  0.08444444 0.08444444 0.08444444 0.08444444 0.10222222 0.10222222]\n",
            " [0.         0.         0.         0.         0.         0.\n",
            "  0.         0.         0.         0.         0.         0.\n",
            "  0.         0.         0.         0.         0.         0.\n",
            "  0.         0.         0.         0.         0.         0.        ]\n",
            " [1.075      1.075      1.075      1.075      1.075      1.075\n",
            "  0.8        0.8        0.8        0.8        0.8        0.8\n",
            "  0.8        0.8        0.9125     0.9125     0.9125     0.9125\n",
            "  0.9125     0.9125     0.9125     0.9125     1.075      1.075     ]\n",
            " [0.15972222 0.15972222 0.15972222 0.15972222 0.15972222 0.15972222\n",
            "  0.11805556 0.11805556 0.11805556 0.11805556 0.11805556 0.11805556\n",
            "  0.11805556 0.11805556 0.13194444 0.13194444 0.13194444 0.13194444\n",
            "  0.13194444 0.13194444 0.13194444 0.13194444 0.15972222 0.15972222]\n",
            " [0.         0.         0.         0.         0.         0.\n",
            "  0.         0.         0.         0.         0.         0.\n",
            "  0.         0.         0.         0.         0.         0.\n",
            "  0.         0.         0.         0.         0.         0.        ]\n",
            " [1.08333333 1.08333333 1.08333333 1.08333333 1.08333333 1.08333333\n",
            "  0.78333333 0.78333333 0.78333333 0.78333333 0.78333333 0.78333333\n",
            "  0.78333333 0.78333333 0.9        0.9        0.9        0.9\n",
            "  0.9        0.9        0.9        0.9        1.08333333 1.08333333]\n",
            " [1.01388889 1.01388889 1.01388889 1.01388889 1.01388889 1.01388889\n",
            "  0.73611111 0.73611111 0.73611111 0.73611111 0.73611111 0.73611111\n",
            "  0.73611111 0.73611111 0.84722222 0.84722222 0.84722222 0.84722222\n",
            "  0.84722222 0.84722222 0.84722222 0.84722222 1.01388889 1.01388889]\n",
            " [1.52083333 1.52083333 1.52083333 1.52083333 1.52083333 1.52083333\n",
            "  1.10416667 1.10416667 1.10416667 1.10416667 1.10416667 1.10416667\n",
            "  1.10416667 1.10416667 1.27083333 1.27083333 1.27083333 1.27083333\n",
            "  1.27083333 1.27083333 1.27083333 1.27083333 1.52083333 1.52083333]]\n"
          ]
        }
      ]
    },
    {
      "cell_type": "markdown",
      "source": [
        "# **Inicio de modelado de simulación**\n",
        "El modelo de la simulación requiere que se definan:\n",
        "1. Descipción de los componentes del sistema (ver zona anterior)\n",
        "2. El reloj de la simulación (arreglo de tiempos) se considera trabajar por semanas de 6 días 0-lunes -- 5 sábado\n",
        "3. Definición del estado inicial del sistema\n",
        "4. El modelo para el cambio de estado\n",
        "5. Procedimiento para adelantar el reloj\n",
        "Como resultado del sistema se provee:\n",
        "1. Condición inicial\n",
        "2. Listado de eventos (aleatorios + paramétricos)\n",
        "3. Resultado obtenido de la ejecución en parámetros evaluables de la efectividad del resultado."
      ],
      "metadata": {
        "id": "w-wMmvYkDNYV"
      }
    },
    {
      "cell_type": "markdown",
      "source": [
        "*Reloj de la simulación* - se establece como una matriz horarira de 24 x 6 días (programación semanal)"
      ],
      "metadata": {
        "id": "tjUTNqtVEwJu"
      }
    },
    {
      "cell_type": "code",
      "source": [
        "Calendario_Sim = np.zeros((24,6))\n",
        "print(Calendario_Sim)"
      ],
      "metadata": {
        "id": "twTL-lb8mmY4",
        "colab": {
          "base_uri": "https://localhost:8080/"
        },
        "outputId": "4124a05c-c35e-4cfd-b97a-a909d3dcad87"
      },
      "execution_count": null,
      "outputs": [
        {
          "output_type": "stream",
          "name": "stdout",
          "text": [
            "[[0. 0. 0. 0. 0. 0.]\n",
            " [0. 0. 0. 0. 0. 0.]\n",
            " [0. 0. 0. 0. 0. 0.]\n",
            " [0. 0. 0. 0. 0. 0.]\n",
            " [0. 0. 0. 0. 0. 0.]\n",
            " [0. 0. 0. 0. 0. 0.]\n",
            " [0. 0. 0. 0. 0. 0.]\n",
            " [0. 0. 0. 0. 0. 0.]\n",
            " [0. 0. 0. 0. 0. 0.]\n",
            " [0. 0. 0. 0. 0. 0.]\n",
            " [0. 0. 0. 0. 0. 0.]\n",
            " [0. 0. 0. 0. 0. 0.]\n",
            " [0. 0. 0. 0. 0. 0.]\n",
            " [0. 0. 0. 0. 0. 0.]\n",
            " [0. 0. 0. 0. 0. 0.]\n",
            " [0. 0. 0. 0. 0. 0.]\n",
            " [0. 0. 0. 0. 0. 0.]\n",
            " [0. 0. 0. 0. 0. 0.]\n",
            " [0. 0. 0. 0. 0. 0.]\n",
            " [0. 0. 0. 0. 0. 0.]\n",
            " [0. 0. 0. 0. 0. 0.]\n",
            " [0. 0. 0. 0. 0. 0.]\n",
            " [0. 0. 0. 0. 0. 0.]\n",
            " [0. 0. 0. 0. 0. 0.]]\n"
          ]
        }
      ]
    },
    {
      "cell_type": "markdown",
      "source": [
        "*Definir el estado inicial* - Estado de las máquinas y almacenamiento\n",
        "\n",
        "Se definie un Coste de referencia para el calculo del coste de material en el almacén"
      ],
      "metadata": {
        "id": "zocVyfWLGSzu"
      }
    },
    {
      "cell_type": "code",
      "source": [
        "Process_status = np.zeros((len(DICMAQ),1))\n",
        "Process_status[DICMAQ[\"Inyeccion\"]] = REF[\"5\"]\n",
        "Process_status[DICMAQ[\"Mecanizado\"]] = REF[\"8\"]\n",
        "STOCK = {\"Referencia\":0,\"Volumen\":1,\"Coste\":2}\n",
        "Reference_cost = np.zeros((len(REF),1))\n",
        "Reference_cost[REF[\"1\"]] = 12.8\n",
        "Reference_cost[REF[\"2\"]] = 23.7\n",
        "Reference_cost[REF[\"3\"]] = 18.4\n",
        "Reference_cost[REF[\"4\"]] = 6.2\n",
        "Reference_cost[REF[\"5\"]] = 50.1\n",
        "Reference_cost[REF[\"6\"]] = 80.2\n",
        "Reference_cost[REF[\"7\"]] = 67.4\n",
        "Reference_cost[REF[\"8\"]] = 73.9\n",
        "\n",
        "Almacen_MP = np.zeros((3,known_references))\n",
        "Almacen_MP[STOCK[\"Referencia\"],REF[\"1\"]] = REF[\"1\"] # Aunque sea redundante, es solo un tema de legibilidad\n",
        "Almacen_MP[STOCK[\"Volumen\"],REF[\"1\"]] = 5\n",
        "Almacen_MP[STOCK[\"Coste\"],REF[\"1\"]] = Almacen_MP[STOCK[\"Volumen\"],0] * Reference_cost[REF[\"1\"]]\n",
        "\n",
        "Almacen_MP[STOCK[\"Referencia\"],REF[\"2\"]] = REF[\"2\"] # Aunque sea redundante, es solo un tema de legibilidad\n",
        "Almacen_MP[STOCK[\"Volumen\"],REF[\"2\"]] = 7\n",
        "Almacen_MP[STOCK[\"Coste\"],REF[\"2\"]] = Almacen_MP[STOCK[\"Volumen\"],0] * Reference_cost[REF[\"2\"]]\n",
        "\n",
        "Almacen_MP[STOCK[\"Referencia\"],REF[\"3\"]] = REF[\"3\"] # Aunque sea redundante, es solo un tema de legibilidad\n",
        "Almacen_MP[STOCK[\"Volumen\"],REF[\"3\"]] = 1\n",
        "Almacen_MP[STOCK[\"Coste\"],REF[\"3\"]] = Almacen_MP[STOCK[\"Volumen\"],0] * Reference_cost[REF[\"3\"]]\n",
        "\n",
        "Almacen_MP[STOCK[\"Referencia\"],REF[\"4\"]] = REF[\"4\"] # Aunque sea redundante, es solo un tema de legibilidad\n",
        "Almacen_MP[STOCK[\"Volumen\"],REF[\"4\"]] = 2\n",
        "Almacen_MP[STOCK[\"Coste\"],REF[\"4\"]] = Almacen_MP[STOCK[\"Volumen\"],0] * Reference_cost[REF[\"4\"]]\n",
        "\n",
        "\n",
        "# Notas Alf - Borrar\n",
        "#MAQ_TRANS_TIEMPO[2,TRANS[\"Maquina\"]] = DICMAQ[\"Inyeccion\"] / \"Mecanizado\"\n",
        "#MAQ_TRANS_TIEMPO[2,TRANS[\"Origen\"]] = REF[\"5\"]             / REF[\"7\"]\n",
        "#MAQ_TRANS_TIEMPO[2,TRANS[\"Destino\"]] = REF[\"6\"]            / REF[\"8\"]\n",
        "\n",
        "print(\"Reference costs:\",Reference_cost,\"\\n\")\n",
        "print(\"Current status of RowMat Stock\\n\",Almacen_MP)\n",
        "print(\"Process Current State: \",Process_status)"
      ],
      "metadata": {
        "id": "MoitophZGgCj",
        "colab": {
          "base_uri": "https://localhost:8080/",
          "height": 236
        },
        "outputId": "e2a0fe98-1544-4dab-8a46-42141cfc616f"
      },
      "execution_count": null,
      "outputs": [
        {
          "output_type": "error",
          "ename": "KeyError",
          "evalue": "ignored",
          "traceback": [
            "\u001b[0;31m---------------------------------------------------------------------------\u001b[0m",
            "\u001b[0;31mKeyError\u001b[0m                                  Traceback (most recent call last)",
            "\u001b[0;32m<ipython-input-191-bad2fac2f298>\u001b[0m in \u001b[0;36m<cell line: 2>\u001b[0;34m()\u001b[0m\n\u001b[1;32m      1\u001b[0m \u001b[0mProcess_status\u001b[0m \u001b[0;34m=\u001b[0m \u001b[0mnp\u001b[0m\u001b[0;34m.\u001b[0m\u001b[0mzeros\u001b[0m\u001b[0;34m(\u001b[0m\u001b[0;34m(\u001b[0m\u001b[0mlen\u001b[0m\u001b[0;34m(\u001b[0m\u001b[0mDICMAQ\u001b[0m\u001b[0;34m)\u001b[0m\u001b[0;34m,\u001b[0m\u001b[0;36m1\u001b[0m\u001b[0;34m)\u001b[0m\u001b[0;34m)\u001b[0m\u001b[0;34m\u001b[0m\u001b[0;34m\u001b[0m\u001b[0m\n\u001b[0;32m----> 2\u001b[0;31m \u001b[0mProcess_status\u001b[0m\u001b[0;34m[\u001b[0m\u001b[0mDICMAQ\u001b[0m\u001b[0;34m[\u001b[0m\u001b[0;34m\"Inyeccion\"\u001b[0m\u001b[0;34m]\u001b[0m\u001b[0;34m]\u001b[0m \u001b[0;34m=\u001b[0m \u001b[0mREF\u001b[0m\u001b[0;34m[\u001b[0m\u001b[0;34m\"5\"\u001b[0m\u001b[0;34m]\u001b[0m\u001b[0;34m\u001b[0m\u001b[0;34m\u001b[0m\u001b[0m\n\u001b[0m\u001b[1;32m      3\u001b[0m \u001b[0mProcess_status\u001b[0m\u001b[0;34m[\u001b[0m\u001b[0mDICMAQ\u001b[0m\u001b[0;34m[\u001b[0m\u001b[0;34m\"Mecanizado\"\u001b[0m\u001b[0;34m]\u001b[0m\u001b[0;34m]\u001b[0m \u001b[0;34m=\u001b[0m \u001b[0mREF\u001b[0m\u001b[0;34m[\u001b[0m\u001b[0;34m\"8\"\u001b[0m\u001b[0;34m]\u001b[0m\u001b[0;34m\u001b[0m\u001b[0;34m\u001b[0m\u001b[0m\n\u001b[1;32m      4\u001b[0m \u001b[0mSTOCK\u001b[0m \u001b[0;34m=\u001b[0m \u001b[0;34m{\u001b[0m\u001b[0;34m\"Referencia\"\u001b[0m\u001b[0;34m:\u001b[0m\u001b[0;36m0\u001b[0m\u001b[0;34m,\u001b[0m\u001b[0;34m\"Volumen\"\u001b[0m\u001b[0;34m:\u001b[0m\u001b[0;36m1\u001b[0m\u001b[0;34m,\u001b[0m\u001b[0;34m\"Coste\"\u001b[0m\u001b[0;34m:\u001b[0m\u001b[0;36m2\u001b[0m\u001b[0;34m}\u001b[0m\u001b[0;34m\u001b[0m\u001b[0;34m\u001b[0m\u001b[0m\n\u001b[1;32m      5\u001b[0m \u001b[0mReference_cost\u001b[0m \u001b[0;34m=\u001b[0m \u001b[0mnp\u001b[0m\u001b[0;34m.\u001b[0m\u001b[0mzeros\u001b[0m\u001b[0;34m(\u001b[0m\u001b[0;34m(\u001b[0m\u001b[0mlen\u001b[0m\u001b[0;34m(\u001b[0m\u001b[0mREF\u001b[0m\u001b[0;34m)\u001b[0m\u001b[0;34m,\u001b[0m\u001b[0;36m1\u001b[0m\u001b[0;34m)\u001b[0m\u001b[0;34m)\u001b[0m\u001b[0;34m\u001b[0m\u001b[0;34m\u001b[0m\u001b[0m\n",
            "\u001b[0;31mKeyError\u001b[0m: '5'"
          ]
        }
      ]
    }
  ]
}