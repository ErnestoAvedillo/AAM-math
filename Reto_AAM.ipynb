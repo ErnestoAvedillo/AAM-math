{
  "cells": [
    {
      "cell_type": "markdown",
      "metadata": {
        "id": "view-in-github",
        "colab_type": "text"
      },
      "source": [
        "<a href=\"https://colab.research.google.com/github/ErnestoAvedillo/AAM-math/blob/main/Reto_AAM.ipynb\" target=\"_parent\"><img src=\"https://colab.research.google.com/assets/colab-badge.svg\" alt=\"Open In Colab\"/></a>"
      ]
    },
    {
      "cell_type": "code",
      "execution_count": 1,
      "metadata": {
        "id": "5Q4Tpl1HzqpW"
      },
      "outputs": [],
      "source": [
        "#!pip install --upgrade gspread"
      ]
    },
    {
      "cell_type": "code",
      "execution_count": 2,
      "metadata": {
        "id": "TjnU4f8CNTXx"
      },
      "outputs": [],
      "source": [
        "#!pip install --upgrade pandas\n",
        "#!pip install --upgrade Lib/datetime.py"
      ]
    },
    {
      "cell_type": "code",
      "execution_count": 3,
      "metadata": {
        "id": "fFhfTd4HCtR2"
      },
      "outputs": [],
      "source": [
        "import pandas as pd\n",
        "import numpy as np\n",
        "from google.colab import auth\n",
        "import gspread\n",
        "from google.auth import default#autenticating to google\n",
        "import datetime as dt\n",
        "from datetime import timedelta"
      ]
    },
    {
      "cell_type": "code",
      "execution_count": 4,
      "metadata": {
        "colab": {
          "base_uri": "https://localhost:8080/",
          "height": 36
        },
        "id": "PgIv2iqb2jQA",
        "outputId": "ea593bd6-7b68-4775-abd0-dcc9badf22f8"
      },
      "outputs": [
        {
          "output_type": "execute_result",
          "data": {
            "text/plain": [
              "'3.4.2'"
            ],
            "application/vnd.google.colaboratory.intrinsic+json": {
              "type": "string"
            }
          },
          "metadata": {},
          "execution_count": 4
        }
      ],
      "source": [
        "gspread.__version__"
      ]
    },
    {
      "cell_type": "code",
      "execution_count": 5,
      "metadata": {
        "colab": {
          "base_uri": "https://localhost:8080/",
          "height": 36
        },
        "id": "QaQPzUJgNiB4",
        "outputId": "576da86e-bad8-4656-89db-7aafd6a1bb2e"
      },
      "outputs": [
        {
          "output_type": "execute_result",
          "data": {
            "text/plain": [
              "'1.5.3'"
            ],
            "application/vnd.google.colaboratory.intrinsic+json": {
              "type": "string"
            }
          },
          "metadata": {},
          "execution_count": 5
        }
      ],
      "source": [
        "pd.__version__"
      ]
    },
    {
      "cell_type": "code",
      "execution_count": 6,
      "metadata": {
        "colab": {
          "base_uri": "https://localhost:8080/"
        },
        "id": "3Hcshit8udT1",
        "outputId": "83f6649c-628f-490d-d4a2-cfcea102e0d6"
      },
      "outputs": [
        {
          "output_type": "stream",
          "name": "stdout",
          "text": [
            "Mounted at /content/drive\n"
          ]
        }
      ],
      "source": [
        "from google.colab import drive\n",
        "drive.mount('/content/drive')"
      ]
    },
    {
      "cell_type": "markdown",
      "metadata": {
        "id": "5xB3ZkA2FVbM"
      },
      "source": [
        "#Reading Excel AAM data.gsheet\n"
      ]
    },
    {
      "cell_type": "code",
      "execution_count": 7,
      "metadata": {
        "colab": {
          "base_uri": "https://localhost:8080/"
        },
        "id": "4SjrQclE4W10",
        "outputId": "84eda8d4-9740-43d2-9ed5-5d08fd1a253c"
      },
      "outputs": [
        {
          "output_type": "stream",
          "name": "stdout",
          "text": [
            "Google Sheet opened successfully.\n"
          ]
        }
      ],
      "source": [
        "auth.authenticate_user()\n",
        "creds, _ = default()\n",
        "gc = gspread.authorize(creds)\n",
        "file_path = \"/content/drive/MyDrive/Colab Notebooks/AAM data.gsheet\"\n",
        "try:\n",
        "    #https://docs.google.com/spreadsheets/d/179giTQNZghst9cpCtAzmTpHt0DrOtRQiBplU6-_XiUU/edit?usp=drive_link\n",
        "    AAM_workbook = gc.open_by_key('179giTQNZghst9cpCtAzmTpHt0DrOtRQiBplU6-_XiUU')\n",
        "    #worksheet = gc.open(file_path)\n",
        "    print(\"Google Sheet opened successfully.\")\n",
        "except gspread.exceptions.SpreadsheetNotFound:\n",
        "    print(\"Error: Spreadsheet not found.\") #Convert to a DataFrame\n"
      ]
    },
    {
      "cell_type": "markdown",
      "metadata": {
        "id": "grjRvn1cOzfV"
      },
      "source": [
        "# **Primera parte**\n",
        "\n",
        "Modelado de la producción\n",
        "\n",
        "Cálculo del coste de las demandas internas.\n",
        "\n",
        "known_references = nḿero de referencias (n).\n",
        "\n",
        "REF = diccionario con las referencias de la empresa (TODAS , las de compra , internas  y de producto acabado.)\n",
        "\n",
        "DC = Demanda de cliente\n",
        "\n",
        "BOM = es una tabla de n x n con el BOM de los producto (Todos) Build of Materials"
      ]
    },
    {
      "cell_type": "markdown",
      "metadata": {
        "id": "-zXdag4HObJh"
      },
      "source": [
        "##Obteniendo un listado de las referencias.\n"
      ]
    },
    {
      "cell_type": "code",
      "execution_count": 8,
      "metadata": {
        "colab": {
          "base_uri": "https://localhost:8080/"
        },
        "id": "saXU46PkGKND",
        "outputId": "96b2edf3-a039-4548-f5f4-dd5fadfb2b09"
      },
      "outputs": [
        {
          "output_type": "stream",
          "name": "stdout",
          "text": [
            "Diccionario de referencias con sus índices\n",
            "{'AAA': 0, 'AMA': 1, 'BAJ': 2, 'AAB': 3, 'CAT': 4, 'AAE': 5, 'BAC': 6, 'CAR': 7, 'AAF': 8, 'BAD': 9, 'CAV': 10, 'AAC': 11, 'CAB': 12, 'CAX': 13, 'CAH': 14}\n"
          ]
        }
      ],
      "source": [
        "BOM_worksheet = AAM_workbook.worksheet('BOM')#Convert to a DataFrame\n",
        "rows = BOM_worksheet.get_all_values()#Convert to a DataFrame\n",
        "df = pd.DataFrame(rows)\n",
        "#creating columns name\n",
        "df.columns = df.iloc[0]\n",
        "df = df.iloc[1:]\n",
        "REF_df = pd.concat([df['Ref Entrada'],df['Ref Salida']]).drop_duplicates()\n",
        "#REF = REF_df[:].to_dict(orient='dict') does not work will try again\n",
        "REF = {}\n",
        "n = 0\n",
        "for i in REF_df:\n",
        "  REF[i] = n\n",
        "  n += 1\n",
        "print (\"Diccionario de referencias con sus índices\")\n",
        "print(REF)"
      ]
    },
    {
      "cell_type": "code",
      "execution_count": 9,
      "metadata": {
        "colab": {
          "base_uri": "https://localhost:8080/"
        },
        "id": "fQeCTHQkOr1r",
        "outputId": "f9e9255e-d837-44c5-fd9a-91b45244e237"
      },
      "outputs": [
        {
          "output_type": "stream",
          "name": "stdout",
          "text": [
            "Número total de referencias  15\n"
          ]
        }
      ],
      "source": [
        "# Obtengo el numero de referencias\n",
        "known_references = REF_df.shape[0]\n",
        "print(\"Número total de referencias \", known_references)"
      ]
    },
    {
      "cell_type": "markdown",
      "metadata": {
        "id": "CZEoiGkJPKeH"
      },
      "source": [
        "## Creando el BOM que aparece en el Excel"
      ]
    },
    {
      "cell_type": "code",
      "execution_count": 10,
      "metadata": {
        "colab": {
          "base_uri": "https://localhost:8080/"
        },
        "id": "YwR52Ct5PJtQ",
        "outputId": "4194becf-bce2-4ba7-d848-bf4e01cf718b"
      },
      "outputs": [
        {
          "output_type": "stream",
          "name": "stdout",
          "text": [
            "     AAA   AMA  BAJ  AAB  CAT  AAE  BAC  CAR  AAF  BAD  CAV  AAC  CAB  CAX  \\\n",
            "AAA  0.0  0.00  0.0  0.0  0.0  0.0  0.0  0.0  0.0  0.0  0.0  0.0  0.0  0.0   \n",
            "AMA  0.0  0.00  0.0  0.0  0.0  0.0  0.0  0.0  0.0  0.0  0.0  0.0  0.0  0.0   \n",
            "BAJ  1.0  0.00  0.0  0.0  0.0  0.0  0.0  0.0  0.0  0.0  0.0  0.0  0.0  0.0   \n",
            "AAB  0.0  0.00  0.0  0.0  0.0  0.0  0.0  0.0  0.0  0.0  0.0  0.0  0.0  0.0   \n",
            "CAT  0.0  0.07  1.0  0.0  0.0  0.0  0.0  0.0  0.0  0.0  0.0  0.0  0.0  0.0   \n",
            "AAE  0.0  0.00  0.0  0.0  0.0  0.0  0.0  0.0  0.0  0.0  0.0  0.0  0.0  0.0   \n",
            "BAC  0.0  0.00  0.0  0.0  0.0  1.0  0.0  0.0  0.0  0.0  0.0  0.0  0.0  0.0   \n",
            "CAR  0.0  0.08  0.0  0.0  0.0  0.0  1.0  0.0  0.0  0.0  0.0  0.0  0.0  0.0   \n",
            "AAF  0.0  0.00  0.0  0.0  0.0  0.0  0.0  0.0  0.0  0.0  0.0  0.0  0.0  0.0   \n",
            "BAD  0.0  0.00  0.0  0.0  0.0  1.0  0.0  0.0  0.0  0.0  0.0  0.0  0.0  0.0   \n",
            "CAV  0.0  0.05  0.0  0.0  0.0  0.0  0.0  0.0  0.0  1.0  0.0  0.0  0.0  0.0   \n",
            "AAC  0.0  0.00  0.0  0.0  0.0  0.0  0.0  0.0  0.0  0.0  0.0  0.0  0.0  0.0   \n",
            "CAB  0.0  0.00  0.0  0.5  2.0  0.0  0.0  0.0  0.0  0.0  0.0  0.0  0.0  0.0   \n",
            "CAX  0.0  0.00  0.0  0.8  0.0  0.0  0.0  1.0  1.0  0.0  0.0  0.0  0.0  0.0   \n",
            "CAH  0.0  0.00  0.0  0.0  0.0  0.0  0.0  0.0  0.0  0.0  1.0  0.9  0.0  0.0   \n",
            "\n",
            "     CAH  \n",
            "AAA  0.0  \n",
            "AMA  0.0  \n",
            "BAJ  0.0  \n",
            "AAB  0.0  \n",
            "CAT  0.0  \n",
            "AAE  0.0  \n",
            "BAC  0.0  \n",
            "CAR  0.0  \n",
            "AAF  0.0  \n",
            "BAD  0.0  \n",
            "CAV  0.0  \n",
            "AAC  0.0  \n",
            "CAB  0.0  \n",
            "CAX  0.0  \n",
            "CAH  0.0  \n"
          ]
        }
      ],
      "source": [
        "#BILL OF MATERIALS\n",
        "BOM = np.zeros((known_references,known_references))\n",
        "for index, row in df.iterrows():\n",
        "  BOM[REF[row[\"Ref Salida\"]],REF[row[\"Ref Entrada\"]]] = float(row[\"Cantidad\"].replace(',', '.'))\n",
        "BOM_df = pd.DataFrame(BOM,index=REF_df, columns=REF_df)\n",
        "print (BOM_df)"
      ]
    },
    {
      "cell_type": "code",
      "execution_count": 11,
      "metadata": {
        "id": "1MnMuVJcvyXf"
      },
      "outputs": [],
      "source": [
        "BOM = BOM_df.values\n",
        "mask_compras = np.expand_dims(BOM.sum(axis=1) == 0, axis = 0)\n",
        "mask_cliente = np.expand_dims(BOM.sum(axis=0) == 0, axis = 0)"
      ]
    },
    {
      "cell_type": "markdown",
      "metadata": {
        "id": "6Tn_7o44X0yO"
      },
      "source": [
        "## Obtención de la demanda de cliente"
      ]
    },
    {
      "cell_type": "code",
      "execution_count": 12,
      "metadata": {
        "colab": {
          "base_uri": "https://localhost:8080/"
        },
        "id": "gOWlfBCCLnAG",
        "outputId": "d5e79bbd-5f7d-4cc0-906a-5e78d0650e49"
      },
      "outputs": [
        {
          "output_type": "stream",
          "name": "stdout",
          "text": [
            "0   Total Piezas/caja\n",
            "CAB   560            \n",
            "CAX  1800            \n",
            "CAH  5200            \n",
            "\n",
            "\n"
          ]
        }
      ],
      "source": [
        "DC_worksheet = AAM_workbook.worksheet('DC') #Convert to a DataFrame\n",
        "rows = DC_worksheet.get_all_values()#Convert to a DataFrame\n",
        "DC_df = pd.DataFrame(rows)\n",
        "DC_df.iloc[0][0] = None\n",
        "# Set row 1 as column names\n",
        "DC_df.columns = DC_df.iloc[0]\n",
        "\n",
        "# Set column 1 as row names\n",
        "DC_df = DC_df.set_index(DC_df.iloc[:, 0])\n",
        "\n",
        "# Remove row 1 and column 1\n",
        "DC_df = DC_df.iloc[1:, 1:]\n",
        "print(DC_df)\n",
        "#Demandas de cliente\n",
        "Profundidad = 15\n",
        "DC = np.zeros((known_references,Profundidad))\n",
        "for index, row in DC_df.iterrows():\n",
        "  DC[REF[index],0] = row[\"Total\"]\n",
        "print('\\n')\n",
        "#print (DC)"
      ]
    },
    {
      "cell_type": "markdown",
      "metadata": {
        "id": "gueVB0-cd-lY"
      },
      "source": [
        "##Descargamos los datos de almacen las referencias\n",
        "\n"
      ]
    },
    {
      "cell_type": "code",
      "execution_count": 121,
      "metadata": {
        "colab": {
          "base_uri": "https://localhost:8080/"
        },
        "id": "NRX4qZX_dgmB",
        "outputId": "83bb8682-8ae4-4a3f-8987-77de36cbdfb1"
      },
      "outputs": [
        {
          "output_type": "stream",
          "name": "stdout",
          "text": [
            "0   STOCK   Piezas caja €/UD Stock minimo Stock maximo Stock stop Lote max  \\\n",
            "AAA  2000            16   15          240          240        240     1000   \n",
            "AAB  2000            20   23          240          240        240     1000   \n",
            "AAC  2000            18   50          240          240        240     1000   \n",
            "AAE  2000            18   44          240          240        240     1000   \n",
            "AAF  2000            16   15          240          240        240     1000   \n",
            "AMA  2000            20   98          240          240        240     1000   \n",
            "CAB    32            32   71          240          240        240      704   \n",
            "CAH    36            36   30          240          240        240      720   \n",
            "CAX    20            20   33          240          240        240      720   \n",
            "BAC    40            18   44           88          220        352      720   \n",
            "BAD     0            32   15           30           75        120      704   \n",
            "BAJ    48            16   98          196          490        784      720   \n",
            "CAR     0            16   71          142          355        568      720   \n",
            "CAT    32            20   30           60          150        240      720   \n",
            "CAV    36            60   33           66          165        264      720   \n",
            "\n",
            "0   Lote min T.CICLO     Nº cajas        Descripción        Almacén  \n",
            "AAA        0       0          125       Dumper bruto         Compra  \n",
            "AAB        0       0          100               Goma         Compra  \n",
            "AAC        0       0  111,1111111               Goma         Compra  \n",
            "AAE        0       0  111,1111111       Dumper bruto         Compra  \n",
            "AAF        0       0          125       Dumper bruto         Compra  \n",
            "AMA        0       0          100               Cola         Compra  \n",
            "CAB     2000     120            1        Ref cliente         Salida  \n",
            "CAH     3000     120            1        Ref cliente         Salida  \n",
            "CAX     4000     120            1        Ref cliente         Salida  \n",
            "BAC        0      50  2,222222222  Dumper mecanizado  Semielaborado  \n",
            "BAD        0      60            0  Dumper mecanizado  Semielaborado  \n",
            "BAJ        0      55            3  Dumper mecanizado  Semielaborado  \n",
            "CAR        0      40            0    Dumper encolado  Semielaborado  \n",
            "CAT        0      30          1,6    Dumper encolado  Semielaborado  \n",
            "CAV        0      40          0,6    Dumper encolado  Semielaborado  \n"
          ]
        }
      ],
      "source": [
        "Almacen_worksheet = AAM_workbook.worksheet('ALMACEN') #Convert to a DataFrame\n",
        "rows = Almacen_worksheet.get_all_values()#Convert to a DataFrame\n",
        "Almacen_df = pd.DataFrame(rows)\n",
        "Almacen_df.iloc[0][0] = None\n",
        "# Set row 1 as column names\n",
        "Almacen_df.columns = Almacen_df.iloc[0]\n",
        "\n",
        "# Set column 1 as row names\n",
        "Almacen_df = Almacen_df.set_index(Almacen_df.iloc[:, 0])\n",
        "\n",
        "# Remove row 1 and column 1\n",
        "Almacen_df = Almacen_df.iloc[1:, 1:]\n",
        "print(Almacen_df)\n",
        "#Demandas de cliente"
      ]
    },
    {
      "cell_type": "markdown",
      "metadata": {
        "id": "UxepA9e6fciR"
      },
      "source": []
    },
    {
      "cell_type": "code",
      "execution_count": 122,
      "metadata": {
        "colab": {
          "base_uri": "https://localhost:8080/"
        },
        "id": "ejc4Ue1AeZSJ",
        "outputId": "99eae142-d514-41cd-d91c-f5e594489011"
      },
      "outputs": [
        {
          "output_type": "stream",
          "name": "stdout",
          "text": [
            "[[2000.   16.   15.  240.  240.  240. 1000.    0.    0.]\n",
            " [2000.   20.   98.  240.  240.  240. 1000.    0.    0.]\n",
            " [  48.   16.   98.  196.  490.  784.  720.    0.   55.]\n",
            " [2000.   20.   23.  240.  240.  240. 1000.    0.    0.]\n",
            " [  32.   20.   30.   60.  150.  240.  720.    0.   30.]\n",
            " [2000.   18.   44.  240.  240.  240. 1000.    0.    0.]\n",
            " [  40.   18.   44.   88.  220.  352.  720.    0.   50.]\n",
            " [   0.   16.   71.  142.  355.  568.  720.    0.   40.]\n",
            " [2000.   16.   15.  240.  240.  240. 1000.    0.    0.]\n",
            " [   0.   32.   15.   30.   75.  120.  704.    0.   60.]\n",
            " [  36.   60.   33.   66.  165.  264.  720.    0.   40.]\n",
            " [2000.   18.   50.  240.  240.  240. 1000.    0.    0.]\n",
            " [  32.   32.   71.  240.  240.  240.  704. 2000.  120.]\n",
            " [  20.   20.   33.  240.  240.  240.  720. 4000.  120.]\n",
            " [  36.   36.   30.  240.  240.  240.  720. 3000.  120.]]\n"
          ]
        }
      ],
      "source": [
        "Almacen = np.zeros((known_references, 9))\n",
        "for index, row in Almacen_df.iterrows():\n",
        "  Almacen[REF[index],0] = row[\"STOCK\"]\n",
        "  Almacen[REF[index],1] = row[\"Piezas caja\"]\n",
        "  Almacen[REF[index],2] = row[\"€/UD\"]\n",
        "  Almacen[REF[index],3] = row[\"Stock minimo\"]\n",
        "  Almacen[REF[index],4] = row[\"Stock maximo\"]\n",
        "  Almacen[REF[index],5] = row[\"Stock stop\"]\n",
        "  Almacen[REF[index],6] = row[\"Lote max\"]\n",
        "  Almacen[REF[index],7] = row[\"Lote min\"]\n",
        "  Almacen[REF[index],8] = row[\"T.CICLO\"]\n",
        "print(Almacen)"
      ]
    },
    {
      "cell_type": "markdown",
      "metadata": {
        "id": "jqrSVvWLFfsU"
      },
      "source": [
        "Extraemos la informacion de las siguientes matrices:\n",
        "\n",
        "Stock: Strock inicial\n",
        "\n",
        "BOX: Piezs por caja\n",
        "\n",
        "Prices: Coste de carda referencia\n",
        "\n",
        "Matrix_Decision: matriz para la toma de decision de qué es lo que producimos\n",
        "\n",
        "T: Tiempos de ciclo"
      ]
    },
    {
      "cell_type": "code",
      "execution_count": 123,
      "metadata": {
        "id": "4zM1cYV1GWDa"
      },
      "outputs": [],
      "source": [
        "#extraigo el stock inicial\n",
        "Stock_ini = np.expand_dims(np.copy(Almacen[:,0]), axis = 0)\n",
        "#Extraigo las piezas por caja\n",
        "BOX = np.expand_dims(np.copy(Almacen[:,1]), axis = 0)\n",
        "#extraigo los precios de cada referencia\n",
        "Prices = np.expand_dims(np.copy(Almacen[:,2]), axis = 0)\n",
        "#Extraigo la matriz de decisiones\n",
        "Matrix_decision = np.copy(Almacen[:,3:5])\n",
        "#Extraigo los valores del lote_m,inimo y máximo\n",
        "Matrix_lote_min = np.copy(Almacen[:,7])\n",
        "Matrix_lote_max = np.copy(Almacen[:,6])\n",
        "#Extraigo los tiempos de ciclo\n",
        "T = np.expand_dims(np.copy(Almacen[:,8]), axis = 0)\n",
        "T_current = np.expand_dims(np.copy(Almacen[:,8]), axis = 0)\n",
        "T_current [mask_compras] = -1\n"
      ]
    },
    {
      "cell_type": "markdown",
      "source": [
        "##Tabla de relacion de ratios\n",
        "Esta table esvirá para conocer si disponemos de stock suficiente para trabajar en el proceso considerando que queremos realizar el stock mínimo.\n"
      ],
      "metadata": {
        "id": "-V-rWrC-O0sD"
      }
    },
    {
      "cell_type": "code",
      "source": [
        "Lot_min_int = np.copy(Matrix_lote_min)\n",
        "Last_min_lot = np.copy(Lot_min_int)\n",
        "#print (BOM[REF[\"CAB\"],REF[\"AAB\"]])\n",
        "#print(T[0,REF[\"CAB\"]])\n",
        "#print(T[0,REF[\"CAT\"]])\n",
        "for i in range(2):\n",
        "  result = np.divide(np.multiply(BOM,T.T),T)\n",
        "  result = np.where(np.isnan(result),0,result)\n",
        "  result = np.where(np.isinf(result),0,result)\n",
        "  result2 = np.multiply(BOM,BOM)\n",
        "  result3 = result2-result\n",
        "  result4 = np.multiply(result3.T, Last_min_lot).astype(int).T\n",
        "  Lot_min_int = Lot_min_int + result4.max(axis = 0)\n",
        "  Last_min_lot = result4.max(axis = 0)\n",
        "print(Lot_min_int)\n",
        "#print(result4[REF[\"CAB\"],REF[\"AAB\"]])\n",
        "#print(result4[REF[\"CAB\"],REF[\"CAT\"]])"
      ],
      "metadata": {
        "colab": {
          "base_uri": "https://localhost:8080/"
        },
        "id": "ZmQTTSDSS__f",
        "outputId": "df9169ad-cb97-4f1c-8ed9-61c077f1443a"
      },
      "execution_count": 125,
      "outputs": [
        {
          "output_type": "stream",
          "name": "stdout",
          "text": [
            "[   0.    0.    0. 2560.    0.    0.    0.    0. 4000.    0.    0. 2430.\n",
            " 2000. 4000. 3000.]\n"
          ]
        },
        {
          "output_type": "stream",
          "name": "stderr",
          "text": [
            "<ipython-input-125-2deb11f32407>:7: RuntimeWarning: divide by zero encountered in true_divide\n",
            "  result = np.divide(np.multiply(BOM,T.T),T)\n",
            "<ipython-input-125-2deb11f32407>:7: RuntimeWarning: invalid value encountered in true_divide\n",
            "  result = np.divide(np.multiply(BOM,T.T),T)\n"
          ]
        }
      ]
    },
    {
      "cell_type": "code",
      "source": [
        "Stock_minimo = np.copy(Matrix_lote_min)\n",
        "result = np.divide(np.multiply(BOM,T.T),T)\n",
        "result = np.where(np.isnan(result),0,result)\n",
        "result = np.where(np.isinf(result),0,result)\n",
        "result2 = np.multiply(BOM,BOM)\n",
        "print (result2)\n",
        "\n",
        "Stock_minimo = np.multiply(result2-result,Matrix_lote_min)\n",
        "print (Stock_minimo)\n",
        "#for profIndex in range(known_references-1):\n",
        " # Stock_minimo[:,profIndex+1] = np.dot(,DC[:,profIndex])\n",
        "#return(DC.sum(axis = 1))"
      ],
      "metadata": {
        "colab": {
          "base_uri": "https://localhost:8080/"
        },
        "id": "vu7WLvvAMXPJ",
        "outputId": "1e3082e0-1771-4455-99e2-1cf7307cfa97"
      },
      "execution_count": 95,
      "outputs": [
        {
          "output_type": "stream",
          "name": "stdout",
          "text": [
            "[[0.0e+00 0.0e+00 0.0e+00 0.0e+00 0.0e+00 0.0e+00 0.0e+00 0.0e+00 0.0e+00\n",
            "  0.0e+00 0.0e+00 0.0e+00 0.0e+00 0.0e+00 0.0e+00]\n",
            " [0.0e+00 0.0e+00 0.0e+00 0.0e+00 0.0e+00 0.0e+00 0.0e+00 0.0e+00 0.0e+00\n",
            "  0.0e+00 0.0e+00 0.0e+00 0.0e+00 0.0e+00 0.0e+00]\n",
            " [1.0e+00 0.0e+00 0.0e+00 0.0e+00 0.0e+00 0.0e+00 0.0e+00 0.0e+00 0.0e+00\n",
            "  0.0e+00 0.0e+00 0.0e+00 0.0e+00 0.0e+00 0.0e+00]\n",
            " [0.0e+00 0.0e+00 0.0e+00 0.0e+00 0.0e+00 0.0e+00 0.0e+00 0.0e+00 0.0e+00\n",
            "  0.0e+00 0.0e+00 0.0e+00 0.0e+00 0.0e+00 0.0e+00]\n",
            " [0.0e+00 4.9e-03 1.0e+00 0.0e+00 0.0e+00 0.0e+00 0.0e+00 0.0e+00 0.0e+00\n",
            "  0.0e+00 0.0e+00 0.0e+00 0.0e+00 0.0e+00 0.0e+00]\n",
            " [0.0e+00 0.0e+00 0.0e+00 0.0e+00 0.0e+00 0.0e+00 0.0e+00 0.0e+00 0.0e+00\n",
            "  0.0e+00 0.0e+00 0.0e+00 0.0e+00 0.0e+00 0.0e+00]\n",
            " [0.0e+00 0.0e+00 0.0e+00 0.0e+00 0.0e+00 1.0e+00 0.0e+00 0.0e+00 0.0e+00\n",
            "  0.0e+00 0.0e+00 0.0e+00 0.0e+00 0.0e+00 0.0e+00]\n",
            " [0.0e+00 6.4e-03 0.0e+00 0.0e+00 0.0e+00 0.0e+00 1.0e+00 0.0e+00 0.0e+00\n",
            "  0.0e+00 0.0e+00 0.0e+00 0.0e+00 0.0e+00 0.0e+00]\n",
            " [0.0e+00 0.0e+00 0.0e+00 0.0e+00 0.0e+00 0.0e+00 0.0e+00 0.0e+00 0.0e+00\n",
            "  0.0e+00 0.0e+00 0.0e+00 0.0e+00 0.0e+00 0.0e+00]\n",
            " [0.0e+00 0.0e+00 0.0e+00 0.0e+00 0.0e+00 1.0e+00 0.0e+00 0.0e+00 0.0e+00\n",
            "  0.0e+00 0.0e+00 0.0e+00 0.0e+00 0.0e+00 0.0e+00]\n",
            " [0.0e+00 2.5e-03 0.0e+00 0.0e+00 0.0e+00 0.0e+00 0.0e+00 0.0e+00 0.0e+00\n",
            "  1.0e+00 0.0e+00 0.0e+00 0.0e+00 0.0e+00 0.0e+00]\n",
            " [0.0e+00 0.0e+00 0.0e+00 0.0e+00 0.0e+00 0.0e+00 0.0e+00 0.0e+00 0.0e+00\n",
            "  0.0e+00 0.0e+00 0.0e+00 0.0e+00 0.0e+00 0.0e+00]\n",
            " [0.0e+00 0.0e+00 0.0e+00 2.5e-01 4.0e+00 0.0e+00 0.0e+00 0.0e+00 0.0e+00\n",
            "  0.0e+00 0.0e+00 0.0e+00 0.0e+00 0.0e+00 0.0e+00]\n",
            " [0.0e+00 0.0e+00 0.0e+00 6.4e-01 0.0e+00 0.0e+00 0.0e+00 1.0e+00 1.0e+00\n",
            "  0.0e+00 0.0e+00 0.0e+00 0.0e+00 0.0e+00 0.0e+00]\n",
            " [0.0e+00 0.0e+00 0.0e+00 0.0e+00 0.0e+00 0.0e+00 0.0e+00 0.0e+00 0.0e+00\n",
            "  0.0e+00 1.0e+00 8.1e-01 0.0e+00 0.0e+00 0.0e+00]]\n",
            "[[ 0.  0.  0.  0.  0.  0.  0.  0.  0.  0.  0.  0.  0.  0.  0.]\n",
            " [ 0.  0.  0.  0.  0.  0.  0.  0.  0.  0.  0.  0.  0.  0.  0.]\n",
            " [ 0.  0.  0.  0.  0.  0.  0.  0.  0.  0.  0.  0.  0.  0.  0.]\n",
            " [ 0.  0.  0.  0.  0.  0.  0.  0.  0.  0.  0.  0.  0.  0.  0.]\n",
            " [ 0.  0.  0.  0.  0.  0.  0.  0.  0.  0.  0.  0.  0.  0.  0.]\n",
            " [ 0.  0.  0.  0.  0.  0.  0.  0.  0.  0.  0.  0.  0.  0.  0.]\n",
            " [ 0.  0.  0.  0.  0.  0.  0.  0.  0.  0.  0.  0.  0.  0.  0.]\n",
            " [ 0.  0.  0.  0.  0.  0.  0.  0.  0.  0.  0.  0.  0.  0.  0.]\n",
            " [ 0.  0.  0.  0.  0.  0.  0.  0.  0.  0.  0.  0.  0.  0.  0.]\n",
            " [ 0.  0.  0.  0.  0.  0.  0.  0.  0.  0.  0.  0.  0.  0.  0.]\n",
            " [ 0.  0.  0.  0.  0.  0.  0.  0.  0.  0.  0.  0.  0.  0.  0.]\n",
            " [ 0.  0.  0.  0.  0.  0.  0.  0.  0.  0.  0.  0.  0.  0.  0.]\n",
            " [ 0.  0.  0.  0. -0.  0.  0.  0.  0.  0.  0.  0.  0.  0.  0.]\n",
            " [ 0.  0.  0.  0.  0.  0.  0. -0.  0.  0.  0.  0.  0.  0.  0.]\n",
            " [ 0.  0.  0.  0.  0.  0.  0.  0.  0.  0. -0.  0.  0.  0.  0.]]\n"
          ]
        },
        {
          "output_type": "stream",
          "name": "stderr",
          "text": [
            "<ipython-input-95-98c405d056ee>:2: RuntimeWarning: divide by zero encountered in true_divide\n",
            "  result = np.divide(np.multiply(BOM,T.T),T)\n",
            "<ipython-input-95-98c405d056ee>:2: RuntimeWarning: invalid value encountered in true_divide\n",
            "  result = np.divide(np.multiply(BOM,T.T),T)\n"
          ]
        }
      ]
    },
    {
      "cell_type": "code",
      "source": [
        "def Calc_stock_min_int (BOM,T,Matrix_lote_min)\n",
        "  Stock_min = np.copy(BOM)\n",
        "  Matriz_aux = np.multiply(BOM.T, T)\n",
        "  Tabla_Ratios = np.divide(Matr_aux - T,) * Matrix_lote_min\n",
        "  return (Tabla_ratios)\n",
        "print(Tabla_Ratios)"
      ],
      "metadata": {
        "colab": {
          "base_uri": "https://localhost:8080/",
          "height": 130
        },
        "id": "08LQqB93Ozmy",
        "outputId": "9375519f-91b3-485d-8aa3-c3457709eadd"
      },
      "execution_count": 16,
      "outputs": [
        {
          "output_type": "error",
          "ename": "SyntaxError",
          "evalue": "ignored",
          "traceback": [
            "\u001b[0;36m  File \u001b[0;32m\"<ipython-input-16-4885c10ff010>\"\u001b[0;36m, line \u001b[0;32m1\u001b[0m\n\u001b[0;31m    def Fun_Stock_min_to_transf (BOM,T,LO)\u001b[0m\n\u001b[0m                                          ^\u001b[0m\n\u001b[0;31mSyntaxError\u001b[0m\u001b[0;31m:\u001b[0m expected ':'\n"
          ]
        }
      ]
    },
    {
      "cell_type": "markdown",
      "metadata": {
        "id": "Ch2h-ctNPf6e"
      },
      "source": [
        "Simulacion de un BOM con dos productos diferentes"
      ]
    },
    {
      "cell_type": "markdown",
      "metadata": {
        "id": "rgp-D6lZPnGn"
      },
      "source": [
        "**Listado de Maquinaria**\n",
        "\n",
        "mumMaquinas = número de máquinas\n",
        "\n",
        "DICMAQ = Diccionario de maquinaria (m x 1)\n",
        "\n",
        "BOMMAQ = Listado de maquinaria por referencia (m x n)\n",
        "\n",
        "##Descargamos los datos de las máquinas"
      ]
    },
    {
      "cell_type": "code",
      "execution_count": null,
      "metadata": {
        "id": "ntcz1oJtq_tc"
      },
      "outputs": [],
      "source": [
        "Maquinas_worksheet = AAM_workbook.worksheet('MAQUINARIA') #Convert to a DataFrame\n",
        "rows = Maquinas_worksheet.get_all_values()#Convert to a DataFrame\n",
        "MAQUINAS_df = pd.DataFrame(rows)\n",
        "# Set row 1 as column names\n",
        "MAQUINAS_df.columns = MAQUINAS_df.iloc[0]\n",
        "# Remove row 1 and column 1\n",
        "MAQUINAS_df = MAQUINAS_df.iloc[1:,:]\n",
        "print(MAQUINAS_df)\n"
      ]
    },
    {
      "cell_type": "markdown",
      "metadata": {
        "id": "TVz4IgAlrAlC"
      },
      "source": [
        "##Creamos el diccionario de las máquinas"
      ]
    },
    {
      "cell_type": "code",
      "execution_count": null,
      "metadata": {
        "id": "GqaUXQ8uEthg"
      },
      "outputs": [],
      "source": [
        "DICMAQ = {\"Compras\":0}\n",
        "MAQ_df = MAQUINAS_df['COD. MAQUINA'].drop_duplicates().sort_values()\n",
        "print (\"dataframe de Maquinas\")\n",
        "print(MAQ_df)\n",
        "n = 1\n",
        "for i in MAQ_df:\n",
        "  DICMAQ[i] = n\n",
        "  n += 1\n",
        "print('\\n')\n",
        "print(\"Diccionario de máquinas\")\n",
        "print(DICMAQ)\n",
        "\n",
        "numMaquinas = MAQ_df.shape[0] + 1\n",
        "print (\"Número de máquinas\" , numMaquinas)\n",
        "\n"
      ]
    },
    {
      "cell_type": "markdown",
      "metadata": {
        "id": "EAXuyv6EsXLs"
      },
      "source": [
        "## Creamos el BOM de la maquinaria (Referencia vs Maquina)"
      ]
    },
    {
      "cell_type": "code",
      "execution_count": null,
      "metadata": {
        "id": "jM2M2_6EiW8O"
      },
      "outputs": [],
      "source": [
        "Procesos_worksheet = AAM_workbook.worksheet('PROCESOS') #Convert to a DataFrame\n",
        "rows = Procesos_worksheet.get_all_values()#Convert to a DataFrame\n",
        "Procesos_df = pd.DataFrame(rows)\n",
        "# Set row 1 as column names\n",
        "Procesos_df.columns = Procesos_df.iloc[0]\n",
        "# Remove row 1 and column 1\n",
        "Procesos_df = Procesos_df.iloc[1:,:]\n",
        "print(Procesos_df)"
      ]
    },
    {
      "cell_type": "code",
      "execution_count": null,
      "metadata": {
        "id": "DGdtTuFbsWXv"
      },
      "outputs": [],
      "source": [
        "BOMMAQ = np.zeros((numMaquinas,known_references))\n",
        "for index, row in Procesos_df.iterrows():\n",
        "  BOMMAQ[DICMAQ[row[\"PROCESO\"]], REF[row[\"Ref Salida\"]]] = 1\n",
        "print (BOMMAQ)"
      ]
    },
    {
      "cell_type": "markdown",
      "metadata": {
        "id": "_BK9ZRZN2_5U"
      },
      "source": [
        "##Calculamos las demandas internas"
      ]
    },
    {
      "cell_type": "code",
      "execution_count": null,
      "metadata": {
        "id": "G54Ou6-pPReG"
      },
      "outputs": [],
      "source": [
        "#Voy incremetnando la matriz de demandas a medida que aumenta el nicel de fabricación\n",
        "def Calcula_necesidades():\n",
        "  for profIndex in range(Profundidad-1):\n",
        "    DC[:,profIndex+1] = np.dot(BOM.T,DC[:,profIndex])\n",
        "  return(DC.sum(axis = 1))"
      ]
    },
    {
      "cell_type": "code",
      "execution_count": null,
      "metadata": {
        "id": "awGuMMDH0LKj"
      },
      "outputs": [],
      "source": [
        "DC_internas = Calcula_necesidades()\n",
        "print(\"Demandas para el día\", '\\n')\n",
        "print (DC_internas)"
      ]
    },
    {
      "cell_type": "code",
      "execution_count": null,
      "metadata": {
        "id": "anwoYNbERDjC"
      },
      "outputs": [],
      "source": [
        "Matrix_necessity = DC_internas - Stock_ini\n",
        "Matrix_necessity[mask_compras] = 0\n",
        "Matrix_necessity_per_maq = np.multiply(Matrix_necessity,BOMMAQ)\n",
        "mask_Kanban_red = Matrix_necessity_per_maq >= Matrix_decision[:,0]\n",
        "print(Matrix_necessity_per_maq)"
      ]
    },
    {
      "cell_type": "code",
      "execution_count": null,
      "metadata": {
        "id": "a27ZFnYBYBAZ"
      },
      "outputs": [],
      "source": [
        "#Funcion de toma de decisión de qué maquina ha de trabajar\n",
        "def Making_decision(DC_internas):\n",
        "  Matrix_necessity = DC_internas - Stock_ini\n",
        "  Matrix_necessity[mask_compras] = 0\n",
        "  Matrix_necessity_per_maq = np.multiply(Matrix_necessity,BOMMAQ)\n",
        "  for i in range(0, numMaquinas):\n",
        "    mask_Kanban = Matrix_necessity[i] <= Matrix_decision[:,0]\n",
        "    if(not np.all(mask_Kanban[i])):\n",
        "      mask_Kanban = Matrix_necessity[i] <= Matrix_decision[:,1]\n",
        "    val_min= np.min(Matrix_necessity[i,mask_Kanban])\n",
        "    mask_Kanban[i] = np.logic_and(mask_Kanban,Matrix_necessity[i,mask_Kanban] == val_min)\n",
        "  print(mask_Kanban)\n",
        "  for i in range(0,numMaquinas):\n",
        "    mask_maquina = BOMMAQ[i,:] == 1\n",
        "\n",
        "  aux_array = np.multiply(np.ones(Matrix_necessity.shape).T, Stock_ini)\n",
        "  mask_necesity = Matrix_decision > aux_array.T\n",
        "  Production_array = np.copy(Stock_ini)\n",
        "  Production_array[0,np.logical_not(mask_necesity[:,0])] = 0\n",
        "  return(Production_array)"
      ]
    },
    {
      "cell_type": "code",
      "execution_count": null,
      "metadata": {
        "id": "kwxwMejaQ7wi"
      },
      "outputs": [],
      "source": []
    },
    {
      "cell_type": "code",
      "execution_count": null,
      "metadata": {
        "id": "sCQwJyga1dbI"
      },
      "outputs": [],
      "source": [
        "Vector_produccion = Making_decision(DC_internas)\n",
        "print (Vector_produccion)\n"
      ]
    },
    {
      "cell_type": "code",
      "execution_count": null,
      "metadata": {
        "id": "ALMhvomSNJPF"
      },
      "outputs": [],
      "source": [
        "def Actualiza_stock(mask_finished_part, Stock_ini):\n",
        "  produced = np.zeros((known_references,1))\n",
        "  produced[mask_finished_part.T] = 1\n",
        "  Stock_ini = Stock_ini + produced.T\n",
        "  Stock_ini = Stock_ini - np.dot(BOM.T, produced).T\n",
        "  T_current[mask_finished_part] = T[mask_finished_part]\n",
        "  return(Stock_ini)"
      ]
    },
    {
      "cell_type": "code",
      "execution_count": null,
      "metadata": {
        "id": "CgGiDY7GXkL1"
      },
      "outputs": [],
      "source": [
        "#Funcion para el cálculo de piezas producidas en un tiempo determinado en segundos.\n",
        "def Produce( seconds, T_current,  Stock_ini):\n",
        "  for i in range(0,seconds+1):\n",
        "    T_current = T_current - np.ones(known_references)\n",
        "    mask_finished_part = T_current == np.zeros((known_references))\n",
        "    if (mask_finished_part.any() == True):\n",
        "      Stock_ini = Actualiza_stock(mask_finished_part, Stock_ini)\n",
        "      #if np.any(Stock_ini[mask_finished_part] % BOX[mask_finished_part]) == 0:\n",
        "  return(T_current, Stock_ini)\n"
      ]
    },
    {
      "cell_type": "code",
      "execution_count": null,
      "metadata": {
        "id": "Q1Nf6NURo-Wa"
      },
      "outputs": [],
      "source": [
        "Stock_ini = np.expand_dims(np.copy(Almacen[:,0]), axis = 0)\n",
        "T_current = np.copy(T)\n",
        "print (T_current)\n",
        "print(Stock_ini)\n",
        "T_current, Stock_ini = Produce(35, T_current, Stock_ini)\n",
        "print (\"salida\")\n",
        "print(Stock_ini)\n",
        "print (T_current)\n"
      ]
    },
    {
      "cell_type": "code",
      "execution_count": null,
      "metadata": {
        "id": "JbuSYk7_qz_T"
      },
      "outputs": [],
      "source": []
    },
    {
      "cell_type": "code",
      "execution_count": null,
      "metadata": {
        "id": "Gnw0NPvGpYiI"
      },
      "outputs": [],
      "source": [
        "#Busco en número de cajas necesario para la produccion\n",
        "DCBOX = np.copy(DC);\n",
        "for dayIndex in range(Dias):\n",
        "  mask = np.mod(DC[:,:,dayIndex].T, BOX) > 0\n",
        "  ones_array = np.zeros_like(np.mod(DC[:,:,dayIndex], BOX.T))\n",
        "  ones_array [mask.T] = 1\n",
        "  DCBOX[:,:,dayIndex] = np.floor_divide(DC[:,:,dayIndex], BOX.T) +  ones_array\n",
        "  print (DCBOX[:,:,dayIndex],'\\n')\n"
      ]
    },
    {
      "cell_type": "markdown",
      "metadata": {
        "id": "zH4Ofp7ZNzmn"
      },
      "source": [
        "\n",
        "MAQ = is a vector of ONES where there is an operation\n"
      ]
    },
    {
      "cell_type": "code",
      "execution_count": null,
      "metadata": {
        "id": "pNdtk9llT22Y"
      },
      "outputs": [],
      "source": [
        "MAQ = np.zeros((numMaquinas,Dias));\n",
        "for dayIndex in range(Dias):\n",
        "  MAQ[:,dayIndex] = np.dot(DCHORAS[:,:,dayIndex].sum(axis = 1), BOMMAQ.T)\n",
        "  print(MAQ[:,dayIndex],'\\n')"
      ]
    },
    {
      "cell_type": "code",
      "execution_count": null,
      "metadata": {
        "id": "Ar5PcAiTMhdv"
      },
      "outputs": [],
      "source": [
        "# Calculo el numero de cajas para cada referencia\n",
        "Cajas_stock_global = np.divide(Stock_ini , BOX)\n",
        "print (Cajas_stock_global)"
      ]
    },
    {
      "cell_type": "markdown",
      "metadata": {
        "id": "XrRM6qeWHnMm"
      },
      "source": [
        "##Separo stock por almacenes"
      ]
    },
    {
      "cell_type": "code",
      "execution_count": null,
      "metadata": {
        "id": "_CHAGULRHlHU"
      },
      "outputs": [],
      "source": [
        "Sim_almacen = np.ones((known_references,3))\n",
        "mask1 = np.logical_not (np.sum(BOM, axis = 1) == 0)\n",
        "mask3 = np.logical_not (np.sum(BOM, axis = 0) == 0)\n",
        "mask2 = np.logical_not (mask1 & mask3)\n",
        "Sim_almacen = np.multiply(Sim_almacen, Cajas_stock_global)\n",
        "Sim_almacen [mask1,0] = 0\n",
        "Sim_almacen [mask2,1] = 0\n",
        "Sim_almacen [mask3,2] = 0\n",
        "print (Sim_almacen)"
      ]
    },
    {
      "cell_type": "code",
      "execution_count": null,
      "metadata": {
        "id": "fManaoZ3XJOn"
      },
      "outputs": [],
      "source": [
        "#Comparo el stock de cajas con la capacidad del almacen\n",
        "Capa_almac_worksheet = AAM_workbook.worksheet('CAPACIDAD ALMACEN') #Convert to a DataFrame\n",
        "rows = Capa_almac_worksheet.get_all_values()#Convert to a DataFrame\n",
        "Capa_almac_df = pd.DataFrame(rows)\n",
        "# Set row 1 as column names\n",
        "Capa_almac_df.columns = Capa_almac_df.iloc[0]\n",
        "# Remove row 1 and column 1\n",
        "Capa_almac_df = Capa_almac_df.iloc[1:,:]\n",
        "print(Capa_almac_df)"
      ]
    },
    {
      "cell_type": "code",
      "execution_count": null,
      "metadata": {
        "id": "K-SC2qeFXibe"
      },
      "outputs": [],
      "source": [
        "Capa_alm = np.zeros((3,1))\n",
        "for index, row in Capa_almac_df.iterrows():\n",
        "  Capa_alm[index - 1] = row[\"CANTIDAD\"]\n",
        "print (Capa_alm)\n",
        "print(np.sum(Sim_almacen,axis = 0))\n",
        "Almacen_capaz = np.all(np.sum(Sim_almacen,axis = 0) < Capa_alm)\n",
        "print(\" El almacen es capaz\", Almacen_capaz)"
      ]
    },
    {
      "cell_type": "markdown",
      "metadata": {
        "id": "DqhdB6_qs3ld"
      },
      "source": [
        "# Definición de Bases de la Simulación\n",
        "## Constraints de la simulacion\n",
        "\n",
        "LoteMin = Lote mínimo de producción (n x 1)\n",
        "\n",
        "LotMax = Lote máximo de producción (n x 1)\n",
        "\n",
        "TCambio = Tiempos de cambio de referencia (n x n)\n",
        "\n",
        "Planif =  Planificacion de la producción (Maq x 24 horas x Ref)\n",
        "\n",
        "PrioMat = Matriz de priodidades (n x 1)\n",
        "\n",
        "*Donde n = known_references*"
      ]
    },
    {
      "cell_type": "code",
      "execution_count": null,
      "metadata": {
        "id": "nb7zQDghv7xl"
      },
      "outputs": [],
      "source": [
        "Transiciones_worksheet = AAM_workbook.worksheet('TRANSICIONES') #Convert to a DataFrame\n",
        "rows = Transiciones_worksheet.get_all_values()#Convert to a DataFrame\n",
        "Transiciones_df = pd.DataFrame(rows)\n",
        "# Set row 1 as column names\n",
        "Transiciones_df.columns = Transiciones_df.iloc[0]\n",
        "# Remove row 1 and column 1\n",
        "Transiciones_df = Transiciones_df.iloc[1:,:]\n",
        "print(Transiciones_df)\n"
      ]
    },
    {
      "cell_type": "code",
      "execution_count": null,
      "metadata": {
        "id": "R-FZptm9wb0Y"
      },
      "outputs": [],
      "source": [
        "Transiciones = np.zeros((numMaquinas,known_references, known_references))\n",
        "for index, row in Transiciones_df.iterrows():\n",
        "  Transiciones[DICMAQ[row[\"PROCESO\"]], REF[row[\"Origen\"]], REF[row[\"Destino\"]]] =  row[\"Tiempo\"]\n",
        "for key in DICMAQ.keys():\n",
        "  print (\"Tiempos de transición para la máquina \", key, '\\n')\n",
        "  print (Transiciones[DICMAQ[key],:,:])"
      ]
    },
    {
      "cell_type": "code",
      "execution_count": null,
      "metadata": {
        "id": "ptCpnd4qtfSh"
      },
      "outputs": [],
      "source": [
        "print (MAQ)\n",
        "print (DCHORAS[:,:,0])"
      ]
    },
    {
      "cell_type": "markdown",
      "metadata": {
        "id": "LoqrEA7YMe9F"
      },
      "source": [
        "# Cálculo de costes del proceso\n",
        "\n",
        "En esta sección calcularemos los costes del proceso.\n",
        "\n",
        "En esencia el cálculo es el siguiente:\n",
        "\n",
        "Coste proceso [CP] = Coste mano de obra[CMO] + Coste Máquina [CMQ]\n",
        "\n",
        "Desarrollando un poco mas este cálculo tenemos que:\n",
        "\n",
        " CMO = Coste operario [MO] / Tiempo de ciclo [T] / 3600\n",
        "\n",
        "CMQ = Coste Máquina fijo [CMQF] Coste Máquina Variable  [CMQV]\n",
        "\n",
        "CMQF = Coste fijo Máquina [CF] * T / 3600\n",
        "\n",
        "CMQV = Coste potencia [CPOT] * Potencia Máquina [POT] * T / 3600\n",
        "\n",
        "Sustituyento tenemos:\n",
        "\n",
        "CP = (MO + CF + CPOT * POT) * T / 3600"
      ]
    },
    {
      "cell_type": "markdown",
      "metadata": {
        "id": "BgZJNYeTTxFz"
      },
      "source": [
        "Ahora nos centraremso en el cálculo de la mano de obra\n",
        "\n",
        "MAQREF = Vector Maquinas (n x 1)\n",
        "\n",
        "MOM = Coste de la mano de obra Turno de mañana\n",
        "\n",
        "MOT = Coste de la mano de obra Turno de tarde\n",
        "\n",
        "MON = Coste de la mano de obra Turno de noche\n",
        "\n",
        "MHORARIA = MATRIZ Horaria (n x 24)\n",
        "\n",
        "NOP =  Número de operarios (n x 1) (Dato a recibir de cliente)\n",
        "\n",
        "CMOTHORARIO = Coste de mano de obra total (nx24) resultado de MOTURNOS * MOP *T / 3600"
      ]
    },
    {
      "cell_type": "code",
      "execution_count": null,
      "metadata": {
        "id": "WkuHhYnoVjre"
      },
      "outputs": [],
      "source": [
        "MAQREF = np.zeros((known_references,1))\n",
        "mask = BOMMAQ.sum(axis = 0) > 0\n",
        "MAQREF[mask] = 1\n",
        "print(MAQREF)\n",
        "MHORARIA = np.ones((known_references,24))\n",
        "MOTURNOS = np.multiply(MHORARIA, MAQREF)\n",
        "print(MOTURNOS)"
      ]
    },
    {
      "cell_type": "code",
      "execution_count": null,
      "metadata": {
        "id": "Sh40laK5W1i3"
      },
      "outputs": [],
      "source": [
        "MOM = 12\n",
        "MOT = 14\n",
        "MON = 18\n",
        "MOTURNOS [:,0:6] *=  MON\n",
        "MOTURNOS [:,6:14] *=  MOM\n",
        "MOTURNOS [:,14:22] *=  MOT\n",
        "MOTURNOS [:,22:24] *=  MON\n",
        "print(MOTURNOS)"
      ]
    },
    {
      "cell_type": "code",
      "execution_count": null,
      "metadata": {
        "id": "XiJVIasxbHJg"
      },
      "outputs": [],
      "source": [
        "CMOTHORARIO  =np.multiply(MOTURNOS, np.multiply(T,NOP)) / 3600\n",
        "print(CMOTHORARIO)"
      ]
    },
    {
      "cell_type": "markdown",
      "metadata": {
        "id": "3SCFZQDGenMD"
      },
      "source": [
        "\n",
        "Ahora nos centraremso en el cálculo de la mano de obra\n",
        "\n",
        "MAQ = Vector Maquinas (n x 1)\n",
        "\n",
        "CMF = Coste máquina fijo (n x 24)\n",
        "\n",
        "CPOT = Tabla de coste de potencias (n x 24)\n",
        "\n",
        "POT = Potencia de Maquinaria (n x 1) KWH\n",
        "\n",
        "CELECM = Coste potencia turno mañana\n",
        "\n",
        "CELECT = coste potencia turno tarde\n",
        "\n",
        "CELECN = Coste potencia turno Noche\n",
        "\n",
        "CMVTURNOS = Coste maquina variable (n x 24))\n",
        "\n",
        "T =  Tiempos de ciclo (n x 1) (Definidos anteriormente)\n",
        "\n",
        "CMQVTHORARIO = Coste de maquina total (nx24) resultado de CMVTURNOS * POT *T / 3600\n",
        "\n",
        "CMTOT = (CMF + CMQVTHORARIO) * T / 3600"
      ]
    },
    {
      "cell_type": "code",
      "execution_count": null,
      "metadata": {
        "id": "EbiVC5Moenfy"
      },
      "outputs": [],
      "source": [
        "from genericpath import commonprefix\n",
        "#Coste maquina definido por cliente CMF\n",
        "cmfijo = 5  #5 es un valor estimado\n",
        "CMF = np.ones((known_references,24))\n",
        "CMF = np.multiply(CMF, MAQREF)\n",
        "CMF = CMF * cmfijo\n",
        "print (CMF)"
      ]
    },
    {
      "cell_type": "code",
      "execution_count": null,
      "metadata": {
        "id": "VuYTEzJkhmrb"
      },
      "outputs": [],
      "source": [
        "CMTURNOS = np.ones((known_references,24))\n",
        "CMTURNOS = np.multiply(CMTURNOS, MAQREF)\n",
        "print(CMTURNOS)"
      ]
    },
    {
      "cell_type": "code",
      "execution_count": null,
      "metadata": {
        "id": "R2HmTEIJhd6I"
      },
      "outputs": [],
      "source": [
        "\n",
        "CELECM = 0.12\n",
        "CELECT = 0.14\n",
        "CELECN = 0.16\n",
        "CMTURNOS [:,0:6] *=  CELECN\n",
        "CMTURNOS [:,6:14] *=  CELECM\n",
        "CMTURNOS [:,14:22] *=  CELECT\n",
        "CMTURNOS [:,22:24] *=  CELECN\n",
        "print(CMTURNOS)"
      ]
    },
    {
      "cell_type": "code",
      "execution_count": null,
      "metadata": {
        "id": "4RacDnlhJOvo"
      },
      "outputs": [],
      "source": [
        "POT_referencia = np.multiply(BOMMAQ,CPOT)\n",
        "POT_referencia = np.expand_dims(POT_referencia.sum(axis = 0), axis = 0)\n",
        "\n",
        "print(POT_referencia)"
      ]
    },
    {
      "cell_type": "code",
      "execution_count": null,
      "metadata": {
        "id": "tiVwHu-BjbAC"
      },
      "outputs": [],
      "source": [
        "CMQVTHORARIO  = np.multiply(CMTURNOS , POT_referencia.T)\n",
        "print(CMQVTHORARIO)"
      ]
    },
    {
      "cell_type": "code",
      "execution_count": null,
      "metadata": {
        "id": "KWnUblwSjufv"
      },
      "outputs": [],
      "source": [
        "CMTOT = np.multiply((CMF + CMQVTHORARIO), T) / 3600\n",
        "print (CMTOT)"
      ]
    },
    {
      "cell_type": "markdown",
      "metadata": {
        "id": "MFMXrwHPl52f"
      },
      "source": [
        "El coste total es el resultado de sumar el coste máquina y el de operario\n",
        "CTOTHORARIO"
      ]
    },
    {
      "cell_type": "code",
      "execution_count": null,
      "metadata": {
        "id": "4d5U4LTHkvY_"
      },
      "outputs": [],
      "source": [
        "CTOTHORARIO = CMOTHORARIO + CMTOT\n",
        "print (CTOTHORARIO)"
      ]
    },
    {
      "cell_type": "markdown",
      "metadata": {
        "id": "w-wMmvYkDNYV"
      },
      "source": [
        "# **Inicio de modelado de simulación**\n",
        "El modelo de la simulación requiere que se definan:\n",
        "1. Descipción de los componentes del sistema (ver zona anterior)\n",
        "2. El reloj de la simulación (arreglo de tiempos) se considera trabajar por semanas de 6 días 0-lunes -- 5 sábado\n",
        "3. Definición del estado inicial del sistema\n",
        "4. El modelo para el cambio de estado\n",
        "5. Procedimiento para adelantar el reloj\n",
        "Como resultado del sistema se provee:\n",
        "1. Condición inicial\n",
        "2. Listado de eventos (aleatorios + paramétricos)\n",
        "3. Resultado obtenido de la ejecución en parámetros evaluables de la efectividad del resultado."
      ]
    },
    {
      "cell_type": "markdown",
      "metadata": {
        "id": "tjUTNqtVEwJu"
      },
      "source": [
        "*Reloj de la simulación* - se establece como una matriz horarira de 24 x 6 días (programación semanal)"
      ]
    },
    {
      "cell_type": "code",
      "execution_count": null,
      "metadata": {
        "id": "twTL-lb8mmY4"
      },
      "outputs": [],
      "source": [
        "Calendario_Sim = np.zeros((24,6))\n",
        "print(Calendario_Sim)"
      ]
    },
    {
      "cell_type": "markdown",
      "metadata": {
        "id": "zocVyfWLGSzu"
      },
      "source": [
        "*Definir el estado inicial* - Estado de las máquinas y almacenamiento\n",
        "\n",
        "Se definie un Coste de referencia para el calculo del coste de material en el almacén"
      ]
    },
    {
      "cell_type": "code",
      "execution_count": null,
      "metadata": {
        "id": "MoitophZGgCj"
      },
      "outputs": [],
      "source": [
        "Process_status = np.zeros((len(DICMAQ),1))\n",
        "Process_status[DICMAQ[\"Inyeccion\"]] = REF[\"5\"]\n",
        "Process_status[DICMAQ[\"Mecanizado\"]] = REF[\"8\"]\n",
        "STOCK = {\"Referencia\":0,\"Volumen\":1,\"Coste\":2}\n",
        "Reference_cost = np.zeros((len(REF),1))\n",
        "Reference_cost[REF[\"1\"]] = 12.8\n",
        "Reference_cost[REF[\"2\"]] = 23.7\n",
        "Reference_cost[REF[\"3\"]] = 18.4\n",
        "Reference_cost[REF[\"4\"]] = 6.2\n",
        "Reference_cost[REF[\"5\"]] = 50.1\n",
        "Reference_cost[REF[\"6\"]] = 80.2\n",
        "Reference_cost[REF[\"7\"]] = 67.4\n",
        "Reference_cost[REF[\"8\"]] = 73.9\n",
        "\n",
        "Almacen_MP = np.zeros((3,known_references))\n",
        "Almacen_MP[STOCK[\"Referencia\"],REF[\"1\"]] = REF[\"1\"] # Aunque sea redundante, es solo un tema de legibilidad\n",
        "Almacen_MP[STOCK[\"Volumen\"],REF[\"1\"]] = 5\n",
        "Almacen_MP[STOCK[\"Coste\"],REF[\"1\"]] = Almacen_MP[STOCK[\"Volumen\"],0] * Reference_cost[REF[\"1\"]]\n",
        "\n",
        "Almacen_MP[STOCK[\"Referencia\"],REF[\"2\"]] = REF[\"2\"] # Aunque sea redundante, es solo un tema de legibilidad\n",
        "Almacen_MP[STOCK[\"Volumen\"],REF[\"2\"]] = 7\n",
        "Almacen_MP[STOCK[\"Coste\"],REF[\"2\"]] = Almacen_MP[STOCK[\"Volumen\"],0] * Reference_cost[REF[\"2\"]]\n",
        "\n",
        "Almacen_MP[STOCK[\"Referencia\"],REF[\"3\"]] = REF[\"3\"] # Aunque sea redundante, es solo un tema de legibilidad\n",
        "Almacen_MP[STOCK[\"Volumen\"],REF[\"3\"]] = 1\n",
        "Almacen_MP[STOCK[\"Coste\"],REF[\"3\"]] = Almacen_MP[STOCK[\"Volumen\"],0] * Reference_cost[REF[\"3\"]]\n",
        "\n",
        "Almacen_MP[STOCK[\"Referencia\"],REF[\"4\"]] = REF[\"4\"] # Aunque sea redundante, es solo un tema de legibilidad\n",
        "Almacen_MP[STOCK[\"Volumen\"],REF[\"4\"]] = 2\n",
        "Almacen_MP[STOCK[\"Coste\"],REF[\"4\"]] = Almacen_MP[STOCK[\"Volumen\"],0] * Reference_cost[REF[\"4\"]]\n",
        "\n",
        "\n",
        "# Notas Alf - Borrar\n",
        "#MAQ_TRANS_TIEMPO[2,TRANS[\"Maquina\"]] = DICMAQ[\"Inyeccion\"] / \"Mecanizado\"\n",
        "#MAQ_TRANS_TIEMPO[2,TRANS[\"Origen\"]] = REF[\"5\"]             / REF[\"7\"]\n",
        "#MAQ_TRANS_TIEMPO[2,TRANS[\"Destino\"]] = REF[\"6\"]            / REF[\"8\"]\n",
        "\n",
        "print(\"Reference costs:\",Reference_cost,\"\\n\")\n",
        "print(\"Current status of RowMat Stock\\n\",Almacen_MP)\n",
        "print(\"Process Current State: \",Process_status)"
      ]
    },
    {
      "cell_type": "code",
      "execution_count": null,
      "metadata": {
        "id": "FRDqF2ng10_c"
      },
      "outputs": [],
      "source": [
        "sim_start = dt.datetime(year=2023, month=6, day=23, hour=0, minute=0, second=0)\n",
        "step = timedelta(minutes=15)\n",
        "sim_frame = sim_start\n",
        "sim_log = []\n",
        "for i in range(0,12):\n",
        "  print(\"Frame [\",i,\"] \",sim_frame)\n",
        "  sim_frame += step\n",
        "  sim_log.append(sim_frame)\n",
        "\n",
        "print(\"SIM Log:\\n\",sim_log)"
      ]
    }
  ],
  "metadata": {
    "colab": {
      "provenance": [],
      "include_colab_link": true
    },
    "kernelspec": {
      "display_name": "Python 3",
      "name": "python3"
    },
    "language_info": {
      "name": "python"
    }
  },
  "nbformat": 4,
  "nbformat_minor": 0
}