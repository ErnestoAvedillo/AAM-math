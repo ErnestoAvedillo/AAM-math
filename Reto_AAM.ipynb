{
  "cells": [
    {
      "cell_type": "markdown",
      "metadata": {
        "id": "view-in-github",
        "colab_type": "text"
      },
      "source": [
        "<a href=\"https://colab.research.google.com/github/ErnestoAvedillo/AAM-math/blob/main/Reto_AAM.ipynb\" target=\"_parent\"><img src=\"https://colab.research.google.com/assets/colab-badge.svg\" alt=\"Open In Colab\"/></a>"
      ]
    },
    {
      "cell_type": "markdown",
      "source": [
        "# Cargamos las librerias"
      ],
      "metadata": {
        "id": "k69kK3TSM3as"
      }
    },
    {
      "cell_type": "code",
      "execution_count": 301,
      "metadata": {
        "id": "5Q4Tpl1HzqpW"
      },
      "outputs": [],
      "source": [
        "#!pip install --upgrade gspread"
      ]
    },
    {
      "cell_type": "code",
      "execution_count": 302,
      "metadata": {
        "id": "TjnU4f8CNTXx"
      },
      "outputs": [],
      "source": [
        "#!pip install --upgrade pandas\n",
        "#!pip install --upgrade Lib/datetime.py"
      ]
    },
    {
      "cell_type": "code",
      "source": [
        "!pip install bar_chart_race"
      ],
      "metadata": {
        "colab": {
          "base_uri": "https://localhost:8080/"
        },
        "id": "1vEKDegK3a1a",
        "outputId": "181778c0-7494-4fe7-bb7c-95969c868b4c"
      },
      "execution_count": 303,
      "outputs": [
        {
          "output_type": "stream",
          "name": "stdout",
          "text": [
            "Requirement already satisfied: bar_chart_race in /usr/local/lib/python3.10/dist-packages (0.1.0)\n",
            "Requirement already satisfied: pandas>=0.24 in /usr/local/lib/python3.10/dist-packages (from bar_chart_race) (1.5.3)\n",
            "Requirement already satisfied: matplotlib>=3.1 in /usr/local/lib/python3.10/dist-packages (from bar_chart_race) (3.7.1)\n",
            "Requirement already satisfied: contourpy>=1.0.1 in /usr/local/lib/python3.10/dist-packages (from matplotlib>=3.1->bar_chart_race) (1.1.0)\n",
            "Requirement already satisfied: cycler>=0.10 in /usr/local/lib/python3.10/dist-packages (from matplotlib>=3.1->bar_chart_race) (0.11.0)\n",
            "Requirement already satisfied: fonttools>=4.22.0 in /usr/local/lib/python3.10/dist-packages (from matplotlib>=3.1->bar_chart_race) (4.40.0)\n",
            "Requirement already satisfied: kiwisolver>=1.0.1 in /usr/local/lib/python3.10/dist-packages (from matplotlib>=3.1->bar_chart_race) (1.4.4)\n",
            "Requirement already satisfied: numpy>=1.20 in /usr/local/lib/python3.10/dist-packages (from matplotlib>=3.1->bar_chart_race) (1.22.4)\n",
            "Requirement already satisfied: packaging>=20.0 in /usr/local/lib/python3.10/dist-packages (from matplotlib>=3.1->bar_chart_race) (23.1)\n",
            "Requirement already satisfied: pillow>=6.2.0 in /usr/local/lib/python3.10/dist-packages (from matplotlib>=3.1->bar_chart_race) (8.4.0)\n",
            "Requirement already satisfied: pyparsing>=2.3.1 in /usr/local/lib/python3.10/dist-packages (from matplotlib>=3.1->bar_chart_race) (3.1.0)\n",
            "Requirement already satisfied: python-dateutil>=2.7 in /usr/local/lib/python3.10/dist-packages (from matplotlib>=3.1->bar_chart_race) (2.8.2)\n",
            "Requirement already satisfied: pytz>=2020.1 in /usr/local/lib/python3.10/dist-packages (from pandas>=0.24->bar_chart_race) (2022.7.1)\n",
            "Requirement already satisfied: six>=1.5 in /usr/local/lib/python3.10/dist-packages (from python-dateutil>=2.7->matplotlib>=3.1->bar_chart_race) (1.16.0)\n"
          ]
        }
      ]
    },
    {
      "cell_type": "code",
      "execution_count": 304,
      "metadata": {
        "id": "fFhfTd4HCtR2"
      },
      "outputs": [],
      "source": [
        "import pandas as pd\n",
        "import numpy as np\n",
        "from google.colab import auth\n",
        "from gspread.models import Cell\n",
        "import gspread\n",
        "from google.auth import default#autenticating to google\n",
        "import datetime as dt\n",
        "from datetime import timedelta\n",
        "import matplotlib.pyplot as plt\n",
        "from IPython.display import clear_output\n"
      ]
    },
    {
      "cell_type": "code",
      "execution_count": 305,
      "metadata": {
        "colab": {
          "base_uri": "https://localhost:8080/",
          "height": 36
        },
        "id": "PgIv2iqb2jQA",
        "outputId": "bd03babc-0bd0-4777-a61a-ac96fd40c6aa"
      },
      "outputs": [
        {
          "output_type": "execute_result",
          "data": {
            "text/plain": [
              "'3.4.2'"
            ],
            "application/vnd.google.colaboratory.intrinsic+json": {
              "type": "string"
            }
          },
          "metadata": {},
          "execution_count": 305
        }
      ],
      "source": [
        "gspread.__version__"
      ]
    },
    {
      "cell_type": "code",
      "execution_count": 306,
      "metadata": {
        "colab": {
          "base_uri": "https://localhost:8080/",
          "height": 36
        },
        "id": "QaQPzUJgNiB4",
        "outputId": "e0518800-7aed-4c9f-e1d5-068fe066844a"
      },
      "outputs": [
        {
          "output_type": "execute_result",
          "data": {
            "text/plain": [
              "'1.5.3'"
            ],
            "application/vnd.google.colaboratory.intrinsic+json": {
              "type": "string"
            }
          },
          "metadata": {},
          "execution_count": 306
        }
      ],
      "source": [
        "pd.__version__"
      ]
    },
    {
      "cell_type": "markdown",
      "metadata": {
        "id": "5xB3ZkA2FVbM"
      },
      "source": [
        "#Reading Excel AAM data.gsheet\n"
      ]
    },
    {
      "cell_type": "code",
      "execution_count": 307,
      "metadata": {
        "colab": {
          "base_uri": "https://localhost:8080/"
        },
        "id": "3Hcshit8udT1",
        "outputId": "e5c874ce-6876-4e3c-a9e4-bb8908a2ac04"
      },
      "outputs": [
        {
          "output_type": "stream",
          "name": "stdout",
          "text": [
            "Drive already mounted at /content/drive; to attempt to forcibly remount, call drive.mount(\"/content/drive\", force_remount=True).\n"
          ]
        }
      ],
      "source": [
        "from google.colab import drive\n",
        "drive.mount('/content/drive')"
      ]
    },
    {
      "cell_type": "code",
      "execution_count": 308,
      "metadata": {
        "colab": {
          "base_uri": "https://localhost:8080/"
        },
        "id": "4SjrQclE4W10",
        "outputId": "790d38f3-2ee5-4ce7-e1ca-d1a316c71561"
      },
      "outputs": [
        {
          "output_type": "stream",
          "name": "stdout",
          "text": [
            "Google Sheet opened successfully.\n"
          ]
        }
      ],
      "source": [
        "auth.authenticate_user()\n",
        "creds, _ = default()\n",
        "gc = gspread.authorize(creds)\n",
        "file_path = \"/content/drive/MyDrive/Colab Notebooks/AAM data.gsheet\"\n",
        "try:\n",
        "    #https://docs.google.com/spreadsheets/d/179giTQNZghst9cpCtAzmTpHt0DrOtRQiBplU6-_XiUU/edit?usp=drive_link\n",
        "    AAM_workbook = gc.open_by_key('179giTQNZghst9cpCtAzmTpHt0DrOtRQiBplU6-_XiUU')\n",
        "    #worksheet = gc.open(file_path)\n",
        "    print(\"Google Sheet opened successfully.\")\n",
        "except gspread.exceptions.SpreadsheetNotFound:\n",
        "    print(\"Error: Spreadsheet not found.\") #Convert to a DataFrame\n"
      ]
    },
    {
      "cell_type": "markdown",
      "metadata": {
        "id": "grjRvn1cOzfV"
      },
      "source": [
        "# **Primera parte**\n",
        "\n",
        "Modelado de la producción\n",
        "\n",
        "Cálculo del coste de las demandas internas.\n",
        "\n",
        "known_references = nḿero de referencias (n).\n",
        "\n",
        "REF = diccionario con las referencias de la empresa (TODAS , las de compra , internas  y de producto acabado.)\n",
        "\n",
        "DC = Demanda de cliente\n",
        "\n",
        "BOM = es una tabla de n x n con el BOM de los producto (Todos) Build of Materials"
      ]
    },
    {
      "cell_type": "markdown",
      "metadata": {
        "id": "-zXdag4HObJh"
      },
      "source": [
        "##Obteniendo un listado de las referencias.\n"
      ]
    },
    {
      "cell_type": "code",
      "execution_count": 309,
      "metadata": {
        "colab": {
          "base_uri": "https://localhost:8080/"
        },
        "id": "saXU46PkGKND",
        "outputId": "7f56c035-9805-42e1-a4d3-9c5582c792c9"
      },
      "outputs": [
        {
          "output_type": "stream",
          "name": "stdout",
          "text": [
            "Diccionario de referencias con sus índices\n",
            "{'AAA': 0, 'AMA': 1, 'BAJ': 2, 'AAB': 3, 'CAT': 4, 'AAE': 5, 'BAC': 6, 'CAR': 7, 'AAF': 8, 'BAD': 9, 'CAV': 10, 'AAC': 11, 'CAB': 12, 'CAX': 13, 'CAH': 14}\n"
          ]
        }
      ],
      "source": [
        "BOM_worksheet = AAM_workbook.worksheet('BOM')#Convert to a DataFrame\n",
        "rows = BOM_worksheet.get_all_values()#Convert to a DataFrame\n",
        "df = pd.DataFrame(rows)\n",
        "#creating columns name\n",
        "df.columns = df.iloc[0]\n",
        "df = df.iloc[1:]\n",
        "REF_df = pd.concat([df['Ref Entrada'],df['Ref Salida']]).drop_duplicates()\n",
        "#REF = REF_df[:].to_dict(orient='dict') does not work will try again\n",
        "REF = {}\n",
        "n = 0\n",
        "for i in REF_df:\n",
        "  REF[i] = n\n",
        "  n += 1\n",
        "print (\"Diccionario de referencias con sus índices\")\n",
        "print(REF)"
      ]
    },
    {
      "cell_type": "code",
      "execution_count": 310,
      "metadata": {
        "colab": {
          "base_uri": "https://localhost:8080/"
        },
        "id": "fQeCTHQkOr1r",
        "outputId": "7d620805-2829-4c28-d794-4eb34cfad309"
      },
      "outputs": [
        {
          "output_type": "stream",
          "name": "stdout",
          "text": [
            "Número total de referencias  15\n"
          ]
        }
      ],
      "source": [
        "# Obtengo el numero de referencias\n",
        "known_references = REF_df.shape[0]\n",
        "print(\"Número total de referencias \", known_references)"
      ]
    },
    {
      "cell_type": "markdown",
      "metadata": {
        "id": "CZEoiGkJPKeH"
      },
      "source": [
        "## Creando el BOM que aparece en el Excel"
      ]
    },
    {
      "cell_type": "code",
      "execution_count": 311,
      "metadata": {
        "colab": {
          "base_uri": "https://localhost:8080/"
        },
        "id": "YwR52Ct5PJtQ",
        "outputId": "34c1fab1-8f3a-4367-a5a5-c886bbb4f697"
      },
      "outputs": [
        {
          "output_type": "stream",
          "name": "stdout",
          "text": [
            "     AAA   AMA  BAJ  AAB  CAT  AAE  BAC  CAR  AAF  BAD  CAV  AAC  CAB  CAX  \\\n",
            "AAA  0.0  0.00  0.0  0.0  0.0  0.0  0.0  0.0  0.0  0.0  0.0  0.0  0.0  0.0   \n",
            "AMA  0.0  0.00  0.0  0.0  0.0  0.0  0.0  0.0  0.0  0.0  0.0  0.0  0.0  0.0   \n",
            "BAJ  1.0  0.00  0.0  0.0  0.0  0.0  0.0  0.0  0.0  0.0  0.0  0.0  0.0  0.0   \n",
            "AAB  0.0  0.00  0.0  0.0  0.0  0.0  0.0  0.0  0.0  0.0  0.0  0.0  0.0  0.0   \n",
            "CAT  0.0  0.07  1.0  0.0  0.0  0.0  0.0  0.0  0.0  0.0  0.0  0.0  0.0  0.0   \n",
            "AAE  0.0  0.00  0.0  0.0  0.0  0.0  0.0  0.0  0.0  0.0  0.0  0.0  0.0  0.0   \n",
            "BAC  0.0  0.00  0.0  0.0  0.0  1.0  0.0  0.0  0.0  0.0  0.0  0.0  0.0  0.0   \n",
            "CAR  0.0  0.06  0.0  0.0  0.0  0.0  1.0  0.0  0.0  0.0  0.0  0.0  0.0  0.0   \n",
            "AAF  0.0  0.00  0.0  0.0  0.0  0.0  0.0  0.0  0.0  0.0  0.0  0.0  0.0  0.0   \n",
            "BAD  0.0  0.00  0.0  0.0  0.0  1.0  0.0  0.0  0.0  0.0  0.0  0.0  0.0  0.0   \n",
            "CAV  0.0  0.05  0.0  0.0  0.0  0.0  0.0  0.0  0.0  1.0  0.0  0.0  0.0  0.0   \n",
            "AAC  0.0  0.00  0.0  0.0  0.0  0.0  0.0  0.0  0.0  0.0  0.0  0.0  0.0  0.0   \n",
            "CAB  0.0  0.00  0.0  0.5  2.0  0.0  0.0  0.0  0.0  0.0  0.0  0.0  0.0  0.0   \n",
            "CAX  0.0  0.00  0.0  0.8  0.0  0.0  0.0  1.0  1.0  0.0  0.0  0.0  0.0  0.0   \n",
            "CAH  0.0  0.00  0.0  0.0  0.0  0.0  0.0  0.0  0.0  0.0  1.0  0.9  0.0  0.0   \n",
            "\n",
            "     CAH  \n",
            "AAA  0.0  \n",
            "AMA  0.0  \n",
            "BAJ  0.0  \n",
            "AAB  0.0  \n",
            "CAT  0.0  \n",
            "AAE  0.0  \n",
            "BAC  0.0  \n",
            "CAR  0.0  \n",
            "AAF  0.0  \n",
            "BAD  0.0  \n",
            "CAV  0.0  \n",
            "AAC  0.0  \n",
            "CAB  0.0  \n",
            "CAX  0.0  \n",
            "CAH  0.0  \n"
          ]
        }
      ],
      "source": [
        "#BILL OF MATERIALS\n",
        "BOM = np.zeros((known_references,known_references))\n",
        "for index, row in df.iterrows():\n",
        "  BOM[REF[row[\"Ref Salida\"]],REF[row[\"Ref Entrada\"]]] = float(row[\"Cantidad\"].replace(',', '.'))\n",
        "BOM_df = pd.DataFrame(BOM,index=REF_df, columns=REF_df)\n",
        "print (BOM_df)"
      ]
    },
    {
      "cell_type": "code",
      "execution_count": 312,
      "metadata": {
        "id": "1MnMuVJcvyXf"
      },
      "outputs": [],
      "source": [
        "BOM = BOM_df.values\n",
        "mask_compras = np.expand_dims(BOM.sum(axis=1) == 0, axis = 0)\n",
        "mask_cliente = np.expand_dims(BOM.sum(axis=0) == 0, axis = 0)"
      ]
    },
    {
      "cell_type": "markdown",
      "metadata": {
        "id": "6Tn_7o44X0yO"
      },
      "source": [
        "## Obtención de la demanda de cliente"
      ]
    },
    {
      "cell_type": "code",
      "execution_count": 313,
      "metadata": {
        "colab": {
          "base_uri": "https://localhost:8080/"
        },
        "id": "gOWlfBCCLnAG",
        "outputId": "d1d16894-6733-4144-f48d-8aec4f7c189b"
      },
      "outputs": [
        {
          "output_type": "stream",
          "name": "stdout",
          "text": [
            "0   Total Piezas/caja\n",
            "CAB   560            \n",
            "CAX   300            \n",
            "CAH   320            \n",
            "\n",
            "\n",
            "[[  0.   0.   0.   0.   0.   0.   0.   0.   0.   0.   0.   0.   0.   0.\n",
            "    0.]\n",
            " [  0.   0.   0.   0.   0.   0.   0.   0.   0.   0.   0.   0.   0.   0.\n",
            "    0.]\n",
            " [  0.   0.   0.   0.   0.   0.   0.   0.   0.   0.   0.   0.   0.   0.\n",
            "    0.]\n",
            " [  0.   0.   0.   0.   0.   0.   0.   0.   0.   0.   0.   0.   0.   0.\n",
            "    0.]\n",
            " [  0.   0.   0.   0.   0.   0.   0.   0.   0.   0.   0.   0.   0.   0.\n",
            "    0.]\n",
            " [  0.   0.   0.   0.   0.   0.   0.   0.   0.   0.   0.   0.   0.   0.\n",
            "    0.]\n",
            " [  0.   0.   0.   0.   0.   0.   0.   0.   0.   0.   0.   0.   0.   0.\n",
            "    0.]\n",
            " [  0.   0.   0.   0.   0.   0.   0.   0.   0.   0.   0.   0.   0.   0.\n",
            "    0.]\n",
            " [  0.   0.   0.   0.   0.   0.   0.   0.   0.   0.   0.   0.   0.   0.\n",
            "    0.]\n",
            " [  0.   0.   0.   0.   0.   0.   0.   0.   0.   0.   0.   0.   0.   0.\n",
            "    0.]\n",
            " [  0.   0.   0.   0.   0.   0.   0.   0.   0.   0.   0.   0.   0.   0.\n",
            "    0.]\n",
            " [  0.   0.   0.   0.   0.   0.   0.   0.   0.   0.   0.   0.   0.   0.\n",
            "    0.]\n",
            " [560.   0.   0.   0.   0.   0.   0.   0.   0.   0.   0.   0.   0.   0.\n",
            "    0.]\n",
            " [300.   0.   0.   0.   0.   0.   0.   0.   0.   0.   0.   0.   0.   0.\n",
            "    0.]\n",
            " [320.   0.   0.   0.   0.   0.   0.   0.   0.   0.   0.   0.   0.   0.\n",
            "    0.]]\n"
          ]
        }
      ],
      "source": [
        "DC_worksheet = AAM_workbook.worksheet('DC') #Convert to a DataFrame\n",
        "rows = DC_worksheet.get_all_values()#Convert to a DataFrame\n",
        "DC_df = pd.DataFrame(rows)\n",
        "DC_df.iloc[0][0] = None\n",
        "# Set row 1 as column names\n",
        "DC_df.columns = DC_df.iloc[0]\n",
        "\n",
        "# Set column 1 as row names\n",
        "DC_df = DC_df.set_index(DC_df.iloc[:, 0])\n",
        "\n",
        "# Remove row 1 and column 1\n",
        "DC_df = DC_df.iloc[1:, 1:]\n",
        "print(DC_df)\n",
        "#Demandas de cliente\n",
        "Profundidad = 15\n",
        "DC = np.zeros((known_references,Profundidad))\n",
        "for index, row in DC_df.iterrows():\n",
        "  DC[REF[index],0] = row[\"Total\"]\n",
        "print('\\n')\n",
        "print (DC)"
      ]
    },
    {
      "cell_type": "markdown",
      "metadata": {
        "id": "gueVB0-cd-lY"
      },
      "source": [
        "##Descargamos los datos de almacen las referencias\n",
        "\n"
      ]
    },
    {
      "cell_type": "code",
      "execution_count": 314,
      "metadata": {
        "colab": {
          "base_uri": "https://localhost:8080/"
        },
        "id": "NRX4qZX_dgmB",
        "outputId": "1e385dfb-caf0-4527-bdc9-f28bc632d807"
      },
      "outputs": [
        {
          "output_type": "stream",
          "name": "stdout",
          "text": [
            "0   STOCK   Piezas caja €/UD Stock minimo Stock maximo Stock stop Lote max  \\\n",
            "AAA  2000            16   15          240          240        240     1000   \n",
            "AAB  2000            20   23          240          240        240     1000   \n",
            "AAC  2000            18   50          240          240        240     1000   \n",
            "AAE  2000            18   44          240          240        240     1000   \n",
            "AAF  2000            16   15          240          240        240     1000   \n",
            "AMA  2000            20   98          240          240        240     1000   \n",
            "BAC    40            18   44           88          220        352      720   \n",
            "BAD     0            32   15           30           75        120      704   \n",
            "BAJ    48            16   98          196          490        784      720   \n",
            "CAR     0            16   71          142          355        568      720   \n",
            "CAT    32            20   30           60          150        240      720   \n",
            "CAV    36            60   33           66          165        264      720   \n",
            "CAB    32            32   71          240          240        240      704   \n",
            "CAH    36            36   30          240          240        240      720   \n",
            "CAX    20            20   33          240          240        240      720   \n",
            "\n",
            "0   Lote min T.CICLO     Nº cajas        Descripción        Almacén  \n",
            "AAA        0       0          125       Dumper bruto         Compra  \n",
            "AAB        0       0          100               Goma         Compra  \n",
            "AAC        0       0  111,1111111               Goma         Compra  \n",
            "AAE        0       0  111,1111111       Dumper bruto         Compra  \n",
            "AAF        0       0          125       Dumper bruto         Compra  \n",
            "AMA        0       0          100               Cola         Compra  \n",
            "BAC        0      50  2,222222222  Dumper mecanizado  Semielaborado  \n",
            "BAD        0      60            0  Dumper mecanizado  Semielaborado  \n",
            "BAJ        0      55            3  Dumper mecanizado  Semielaborado  \n",
            "CAR        0      40            0    Dumper encolado  Semielaborado  \n",
            "CAT        0      30          1,6    Dumper encolado  Semielaborado  \n",
            "CAV        0      40          0,6    Dumper encolado  Semielaborado  \n",
            "CAB      200      90            1        Ref cliente         Salida  \n",
            "CAH      300     120            1        Ref cliente         Salida  \n",
            "CAX      400     150            1        Ref cliente         Salida  \n"
          ]
        }
      ],
      "source": [
        "Almacen_worksheet = AAM_workbook.worksheet('ALMACEN') #Convert to a DataFrame\n",
        "rows = Almacen_worksheet.get_all_values()#Convert to a DataFrame\n",
        "Almacen_df = pd.DataFrame(rows)\n",
        "Almacen_df.iloc[0][0] = None\n",
        "# Set row 1 as column names\n",
        "Almacen_df.columns = Almacen_df.iloc[0]\n",
        "\n",
        "# Set column 1 as row names\n",
        "Almacen_df = Almacen_df.set_index(Almacen_df.iloc[:, 0])\n",
        "\n",
        "# Remove row 1 and column 1\n",
        "Almacen_df = Almacen_df.iloc[1:, 1:]\n",
        "print(Almacen_df)\n",
        "#Demandas de cliente"
      ]
    },
    {
      "cell_type": "markdown",
      "metadata": {
        "id": "UxepA9e6fciR"
      },
      "source": []
    },
    {
      "cell_type": "code",
      "execution_count": 315,
      "metadata": {
        "colab": {
          "base_uri": "https://localhost:8080/"
        },
        "id": "ejc4Ue1AeZSJ",
        "outputId": "e067a44f-9a61-4e5f-a0ae-35dc0db48eb0"
      },
      "outputs": [
        {
          "output_type": "stream",
          "name": "stdout",
          "text": [
            "[[2000.   16.   15.  240.  240.  240. 1000.    0.    0.]\n",
            " [2000.   20.   98.  240.  240.  240. 1000.    0.    0.]\n",
            " [  48.   16.   98.  196.  490.  784.  720.    0.   55.]\n",
            " [2000.   20.   23.  240.  240.  240. 1000.    0.    0.]\n",
            " [  32.   20.   30.   60.  150.  240.  720.    0.   30.]\n",
            " [2000.   18.   44.  240.  240.  240. 1000.    0.    0.]\n",
            " [  40.   18.   44.   88.  220.  352.  720.    0.   50.]\n",
            " [   0.   16.   71.  142.  355.  568.  720.    0.   40.]\n",
            " [2000.   16.   15.  240.  240.  240. 1000.    0.    0.]\n",
            " [   0.   32.   15.   30.   75.  120.  704.    0.   60.]\n",
            " [  36.   60.   33.   66.  165.  264.  720.    0.   40.]\n",
            " [2000.   18.   50.  240.  240.  240. 1000.    0.    0.]\n",
            " [  32.   32.   71.  240.  240.  240.  704.  200.   90.]\n",
            " [  20.   20.   33.  240.  240.  240.  720.  400.  150.]\n",
            " [  36.   36.   30.  240.  240.  240.  720.  300.  120.]]\n"
          ]
        }
      ],
      "source": [
        "Almacen = np.zeros((known_references, 9))\n",
        "for index, row in Almacen_df.iterrows():\n",
        "  Almacen[REF[index],0] = row[\"STOCK\"]\n",
        "  Almacen[REF[index],1] = row[\"Piezas caja\"]\n",
        "  Almacen[REF[index],2] = row[\"€/UD\"]\n",
        "  Almacen[REF[index],3] = row[\"Stock minimo\"]\n",
        "  Almacen[REF[index],4] = row[\"Stock maximo\"]\n",
        "  Almacen[REF[index],5] = row[\"Stock stop\"]\n",
        "  Almacen[REF[index],6] = row[\"Lote max\"]\n",
        "  Almacen[REF[index],7] = row[\"Lote min\"]\n",
        "  Almacen[REF[index],8] = row[\"T.CICLO\"]\n",
        "  Almacen[REF[index],9] = row[\"TIPO\"]\n",
        "print(Almacen)"
      ]
    },
    {
      "cell_type": "markdown",
      "metadata": {
        "id": "jqrSVvWLFfsU"
      },
      "source": [
        "Extraemos la informacion de las siguientes matrices:\n",
        "\n",
        "Stock: Strock inicial\n",
        "\n",
        "BOX: Piezs por caja\n",
        "\n",
        "Prices: Coste de carda referencia\n",
        "\n",
        "Matrix_Decision: matriz para la toma de decision de qué es lo que producimos\n",
        "\n",
        "T: Tiempos de ciclo"
      ]
    },
    {
      "cell_type": "code",
      "execution_count": 316,
      "metadata": {
        "id": "4zM1cYV1GWDa"
      },
      "outputs": [],
      "source": [
        "#extraigo el stock inicial\n",
        "Stock_ini = np.expand_dims(np.copy(Almacen[:,0]), axis = 0)\n",
        "#Extraigo las piezas por caja\n",
        "BOX = np.expand_dims(np.copy(Almacen[:,1]), axis = 0)\n",
        "#extraigo los precios de cada referencia\n",
        "Prices = np.expand_dims(np.copy(Almacen[:,2]), axis = 0)\n",
        "#Extraigo la matriz de decisiones\n",
        "Matrix_decision = np.copy(Almacen[:,3:5])\n",
        "#Extraigo los valores del lote_m,inimo y máximo\n",
        "Matrix_lote_min = np.expand_dims(np.copy(Almacen[:,7]),axis = 0)\n",
        "Matrix_lote_max = np.expand_dims(np.copy(Almacen[:,6]),axis = 0)\n",
        "#Extraigo los tiempos de ciclo\n",
        "T = np.expand_dims(np.copy(Almacen[:,8]), axis = 0)\n",
        "T_current = np.expand_dims(np.copy(Almacen[:,8]), axis = 0)\n",
        "T_current [mask_compras] = -1\n"
      ]
    },
    {
      "cell_type": "markdown",
      "metadata": {
        "id": "_BK9ZRZN2_5U"
      },
      "source": [
        "##Procedimiento de cálculo de las demandas internas"
      ]
    },
    {
      "cell_type": "code",
      "source": [
        "#Voy incremetnando la matriz de demandas a medida que aumenta el nicel de fabricación\n",
        "def Calcula_necesidades_por_nivel(DC,BOM_entrada,Profundidad):\n",
        "  for profIndex in range(Profundidad-1):\n",
        "    DC[:,profIndex+1] = np.dot(BOM_entrada.T,DC[:,profIndex])\n",
        "  return(DC)"
      ],
      "metadata": {
        "id": "XhHuHhhgF5RM"
      },
      "execution_count": 317,
      "outputs": []
    },
    {
      "cell_type": "markdown",
      "source": [],
      "metadata": {
        "id": "01aj1lp8F6Zo"
      }
    },
    {
      "cell_type": "code",
      "execution_count": 318,
      "metadata": {
        "id": "G54Ou6-pPReG"
      },
      "outputs": [],
      "source": [
        "#Voy incremetnando la matriz de demandas a medida que aumenta el nicel de fabricación\n",
        "def Calcula_necesidades(DC, BOM_entrada, Profundidad):\n",
        "  DC = Calcula_necesidades_por_nivel(BOM_entrada,Profundidad)\n",
        "  return(DC.sum(axis = 1))"
      ]
    },
    {
      "cell_type": "markdown",
      "source": [
        "##Tabla de cálculo de stocks mínimos\n",
        "Esta table esvirá para conocer si disponemos de stock suficiente para trabajar en el proceso considerando que queremos realizar el stock mínimo.\n"
      ],
      "metadata": {
        "id": "-V-rWrC-O0sD"
      }
    },
    {
      "cell_type": "code",
      "source": [
        "Factor_BOM = np.copy(BOM)\n",
        "Factor_BOM[Factor_BOM > 0] = 1\n",
        "#Factor_BOM = np.divide(np.multiply(Factor_BOM, T.T),T)\n",
        "Factor_BOM2 = np.multiply(Factor_BOM, T.T)\n",
        "Factor_BOM = np.divide(Factor_BOM2,T.T)\n",
        "#Elimino los NAN y los INF\n",
        "Factor_BOM = np.where(np.isnan(Factor_BOM),0,Factor_BOM)\n",
        "Factor_BOM = np.where(np.isinf(Factor_BOM),0,Factor_BOM)\n",
        "Demandas_cliente = np.zeros((known_references,Profundidad))\n",
        "Demandas_cliente [:,0] = Matrix_lote_min\n",
        "Sumando1 = Calcula_necesidades_por_nivel(Demandas_cliente, BOM, Profundidad).astype(int)\n",
        "Sumando2 = Calcula_necesidades_por_nivel(Demandas_cliente, Factor_BOM, Profundidad).astype(int)\n",
        "Matrix_lote_min_internos = Sumando1 - Sumando2\n",
        "df4 = pd.DataFrame(Matrix_lote_min_internos, index=REF.keys(), columns= np.arange(0,15))\n",
        "print(df4)\n",
        "Stock_minimo = Matrix_lote_min_internos.sum(axis = 1)\n",
        "print(Stock_minimo)\n"
      ],
      "metadata": {
        "colab": {
          "base_uri": "https://localhost:8080/"
        },
        "id": "A7-k_81KVuTt",
        "outputId": "cdc96a8d-c1fb-4e94-d54c-221f40e6024f"
      },
      "execution_count": 319,
      "outputs": [
        {
          "output_type": "stream",
          "name": "stdout",
          "text": [
            "     0    1    2    3   4   5   6   7   8   9   10  11  12  13  14\n",
            "AAA   0    0    0  200   0   0   0   0   0   0   0   0   0   0   0\n",
            "AMA   0    0 -833    0   0   0   0   0   0   0   0   0   0   0   0\n",
            "BAJ   0    0  200    0   0   0   0   0   0   0   0   0   0   0   0\n",
            "AAB   0 -180    0    0   0   0   0   0   0   0   0   0   0   0   0\n",
            "CAT   0  200    0    0   0   0   0   0   0   0   0   0   0   0   0\n",
            "AAE   0    0    0    0   0   0   0   0   0   0   0   0   0   0   0\n",
            "BAC   0    0    0    0   0   0   0   0   0   0   0   0   0   0   0\n",
            "CAR   0    0    0    0   0   0   0   0   0   0   0   0   0   0   0\n",
            "AAF   0    0    0    0   0   0   0   0   0   0   0   0   0   0   0\n",
            "BAD   0    0    0    0   0   0   0   0   0   0   0   0   0   0   0\n",
            "CAV   0    0    0    0   0   0   0   0   0   0   0   0   0   0   0\n",
            "AAC   0  -30    0    0   0   0   0   0   0   0   0   0   0   0   0\n",
            "CAB   0    0    0    0   0   0   0   0   0   0   0   0   0   0   0\n",
            "CAX   0    0    0    0   0   0   0   0   0   0   0   0   0   0   0\n",
            "CAH   0    0    0    0   0   0   0   0   0   0   0   0   0   0   0\n",
            "[ 200 -833  200 -180  200    0    0    0    0    0    0  -30    0    0\n",
            "    0]\n"
          ]
        },
        {
          "output_type": "stream",
          "name": "stderr",
          "text": [
            "<ipython-input-319-77bdf6396c58>:5: RuntimeWarning:\n",
            "\n",
            "invalid value encountered in true_divide\n",
            "\n"
          ]
        }
      ]
    },
    {
      "cell_type": "markdown",
      "metadata": {
        "id": "w-wMmvYkDNYV"
      },
      "source": [
        "# **Inicio de modelado de simulación**\n",
        "El modelo de la simulación requiere que se definan:\n",
        "1. Descipción de los componentes del sistema (ver zona anterior)\n",
        "2. El reloj de la simulación (arreglo de tiempos) se considera trabajar por semanas de 6 días 0-lunes -- 5 sábado\n",
        "3. Definición del estado inicial del sistema\n",
        "4. El modelo para el cambio de estado\n",
        "5. Procedimiento para adelantar el reloj\n",
        "Como resultado del sistema se provee:\n",
        "1. Condición inicial\n",
        "2. Listado de eventos (aleatorios + paramétricos)\n",
        "3. Resultado obtenido de la ejecución en parámetros evaluables de la efectividad del resultado."
      ]
    },
    {
      "cell_type": "code",
      "execution_count": 320,
      "metadata": {
        "id": "ALMhvomSNJPF"
      },
      "outputs": [],
      "source": [
        "def Actualiza_stock(mask_finished_part, Stock_ini):\n",
        "  produced = np.zeros((known_references,1))\n",
        "  produced[mask_finished_part.T] = 1\n",
        "  #print(produced)\n",
        "  #print(Stock_ini)\n",
        "  Stock_ini = Stock_ini + produced.T\n",
        "  Stock_ini = Stock_ini - np.dot(BOM.T, produced).T\n",
        "  #print(Stock_ini)\n",
        "  #print(np.dot(BOM.T, produced).T)\n",
        "  #input(\"Press Enter to continue...\")\n",
        "  return(Stock_ini)"
      ]
    },
    {
      "cell_type": "code",
      "execution_count": 321,
      "metadata": {
        "id": "CgGiDY7GXkL1"
      },
      "outputs": [],
      "source": [
        "#Funcion para el cálculo de piezas producidas en un tiempo determinado en segundos.\n",
        "def Produce( seconds, T_current,  Stock_ini, T):\n",
        "  i = seconds\n",
        "  while i > 0 :\n",
        "    mask_only_positives = T_current > 0\n",
        "    Value = np.min(T_current[T_current > 0])\n",
        "    i = i - min (i , Value)\n",
        "    T_current = T_current - np.ones(known_references) * min (i , Value)\n",
        "    mask_finished_part = T_current == np.zeros((known_references))\n",
        "    if (mask_finished_part.any() == True):\n",
        "      Stock_ini = Actualiza_stock(mask_finished_part, Stock_ini)\n",
        "      T_current[mask_finished_part] = T[mask_finished_part]\n",
        "    is_negative = np.any(Stock_ini <= 0)\n",
        "    if is_negative:\n",
        "      break\n",
        "  return(T_current, Stock_ini)\n"
      ]
    },
    {
      "cell_type": "code",
      "source": [
        "# Set the matplotlib backend\n",
        "%matplotlib inline\n",
        "# Create the bar graph\n",
        "Almacen_puntual_df = Stock_minimo\n",
        "Almacen_puntual_df [DC [:,0] > 0] = 1\n",
        "Almacen_puntual_df [Almacen_puntual_df <= 0] = 500\n",
        "Almacen_puntual_df = pd.DataFrame(np.expand_dims(Almacen_puntual_df, axis = 0), columns = REF.keys())\n",
        "#pongo un tiepo de visualizacion en minutos\n",
        "dias = 2\n",
        "Tiempo_visualizacion = 300\n",
        "T_current = T\n",
        "T_current [T == 0] = -1\n",
        "Ciclos_visualizacion = dias * 24 * 3600 / Tiempo_visualizacion\n",
        "Ciclos_visualizacion = int(Ciclos_visualizacion)\n",
        "#print(Ciclos_visualizacion)\n",
        "for i in range (1, Ciclos_visualizacion):\n",
        "  T_current,  Almacen_puntual_df = Produce( 900, T_current,  Almacen_puntual_df, T)\n",
        "  mask_finished_part = T_current == 0\n",
        "  Almacen_puntual_df = Actualiza_stock(mask_finished_part, Almacen_puntual_df)\n",
        "  #Update the bar heights\n",
        "  current_df = pd.DataFrame(Almacen_puntual_df, columns = REF.keys())\n",
        "  Almacen_puntual_df = pd.concat([Almacen_puntual_df, current_df])\n",
        "  is_negative = np.any(Almacen_puntual_df <= 0)\n",
        "  if is_negative:\n",
        "    break\n",
        "print(Almacen_puntual_df)"
      ],
      "metadata": {
        "colab": {
          "base_uri": "https://localhost:8080/"
        },
        "id": "SME_GAIPB4Td",
        "outputId": "5187492d-9aa2-4e8e-b66f-3586da5f5328"
      },
      "execution_count": 328,
      "outputs": [
        {
          "output_type": "stream",
          "name": "stdout",
          "text": [
            "    AAA     AMA   BAJ    AAB    CAT   AAE    BAC    CAR    AAF    BAD    CAV  \\\n",
            "0   0.0  444.13  34.0  380.6  322.0  97.0  445.0  702.0  427.0  408.0  684.0   \n",
            "0   0.0  444.13  34.0  380.6  322.0  97.0  445.0  702.0  427.0  408.0  684.0   \n",
            "0   0.0  444.13  34.0  380.6  322.0  97.0  445.0  702.0  427.0  408.0  684.0   \n",
            "0   0.0  444.13  34.0  380.6  322.0  97.0  445.0  702.0  427.0  408.0  684.0   \n",
            "0   0.0  444.13  34.0  380.6  322.0  97.0  445.0  702.0  427.0  408.0  684.0   \n",
            "..  ...     ...   ...    ...    ...   ...    ...    ...    ...    ...    ...   \n",
            "0   0.0  444.13  34.0  380.6  322.0  97.0  445.0  702.0  427.0  408.0  684.0   \n",
            "0   0.0  444.13  34.0  380.6  322.0  97.0  445.0  702.0  427.0  408.0  684.0   \n",
            "0   0.0  444.13  34.0  380.6  322.0  97.0  445.0  702.0  427.0  408.0  684.0   \n",
            "0   0.0  444.13  34.0  380.6  322.0  97.0  445.0  702.0  427.0  408.0  684.0   \n",
            "0   0.0  444.13  34.0  380.6  322.0  97.0  445.0  702.0  427.0  408.0  684.0   \n",
            "\n",
            "      AAC    CAB   CAX   CAH  \n",
            "0   418.1  123.0  74.0  92.0  \n",
            "0   418.1  123.0  74.0  92.0  \n",
            "0   418.1  123.0  74.0  92.0  \n",
            "0   418.1  123.0  74.0  92.0  \n",
            "0   418.1  123.0  74.0  92.0  \n",
            "..    ...    ...   ...   ...  \n",
            "0   418.1  123.0  74.0  92.0  \n",
            "0   418.1  123.0  74.0  92.0  \n",
            "0   418.1  123.0  74.0  92.0  \n",
            "0   418.1  123.0  74.0  92.0  \n",
            "0   418.1  123.0  74.0  92.0  \n",
            "\n",
            "[8192 rows x 15 columns]\n"
          ]
        }
      ]
    },
    {
      "cell_type": "code",
      "source": [
        "#printing results\n",
        "import bar_chart_race as bcr\n",
        "import plotly\n",
        "columns = REF.keys()\n",
        "data = Almacen_puntual_df[columns]\n",
        "fig = px.bar(Almacen)\n",
        "bcr.bar_chart_race(df = Almacen_puntual_df,filename = None, fixed_order=True, figsize = (3.5 , 3), title =\" Stock por referencia\")"
      ],
      "metadata": {
        "colab": {
          "base_uri": "https://localhost:8080/",
          "height": 833
        },
        "id": "EgMeEFGjJi6f",
        "outputId": "524e7609-c1b2-4c1f-b884-a29fb7059e20"
      },
      "execution_count": 329,
      "outputs": [
        {
          "output_type": "stream",
          "name": "stderr",
          "text": [
            "/usr/local/lib/python3.10/dist-packages/bar_chart_race/_make_chart.py:286: UserWarning:\n",
            "\n",
            "FixedFormatter should only be used together with FixedLocator\n",
            "\n",
            "/usr/local/lib/python3.10/dist-packages/bar_chart_race/_make_chart.py:287: UserWarning:\n",
            "\n",
            "FixedFormatter should only be used together with FixedLocator\n",
            "\n"
          ]
        },
        {
          "output_type": "error",
          "ename": "Exception",
          "evalue": "ignored",
          "traceback": [
            "\u001b[0;31m---------------------------------------------------------------------------\u001b[0m",
            "\u001b[0;31mKeyboardInterrupt\u001b[0m                         Traceback (most recent call last)",
            "\u001b[0;32m/usr/local/lib/python3.10/dist-packages/matplotlib/animation.py\u001b[0m in \u001b[0;36msaving\u001b[0;34m(self, fig, outfile, dpi, *args, **kwargs)\u001b[0m\n\u001b[1;32m    232\u001b[0m         \u001b[0;32mtry\u001b[0m\u001b[0;34m:\u001b[0m\u001b[0;34m\u001b[0m\u001b[0;34m\u001b[0m\u001b[0m\n\u001b[0;32m--> 233\u001b[0;31m             \u001b[0;32myield\u001b[0m \u001b[0mself\u001b[0m\u001b[0;34m\u001b[0m\u001b[0;34m\u001b[0m\u001b[0m\n\u001b[0m\u001b[1;32m    234\u001b[0m         \u001b[0;32mfinally\u001b[0m\u001b[0;34m:\u001b[0m\u001b[0;34m\u001b[0m\u001b[0;34m\u001b[0m\u001b[0m\n",
            "\u001b[0;32m/usr/local/lib/python3.10/dist-packages/matplotlib/animation.py\u001b[0m in \u001b[0;36msave\u001b[0;34m(self, filename, writer, fps, dpi, codec, bitrate, extra_args, metadata, extra_anim, savefig_kwargs, progress_callback)\u001b[0m\n\u001b[1;32m   1102\u001b[0m                     \u001b[0;31m# TODO: See if turning off blit is really necessary\u001b[0m\u001b[0;34m\u001b[0m\u001b[0;34m\u001b[0m\u001b[0m\n\u001b[0;32m-> 1103\u001b[0;31m                     \u001b[0manim\u001b[0m\u001b[0;34m.\u001b[0m\u001b[0m_draw_next_frame\u001b[0m\u001b[0;34m(\u001b[0m\u001b[0md\u001b[0m\u001b[0;34m,\u001b[0m \u001b[0mblit\u001b[0m\u001b[0;34m=\u001b[0m\u001b[0;32mFalse\u001b[0m\u001b[0;34m)\u001b[0m\u001b[0;34m\u001b[0m\u001b[0;34m\u001b[0m\u001b[0m\n\u001b[0m\u001b[1;32m   1104\u001b[0m                     \u001b[0;32mif\u001b[0m \u001b[0mprogress_callback\u001b[0m \u001b[0;32mis\u001b[0m \u001b[0;32mnot\u001b[0m \u001b[0;32mNone\u001b[0m\u001b[0;34m:\u001b[0m\u001b[0;34m\u001b[0m\u001b[0;34m\u001b[0m\u001b[0m\n",
            "\u001b[0;32m/usr/local/lib/python3.10/dist-packages/matplotlib/animation.py\u001b[0m in \u001b[0;36m_draw_next_frame\u001b[0;34m(self, framedata, blit)\u001b[0m\n\u001b[1;32m   1137\u001b[0m         \u001b[0mself\u001b[0m\u001b[0;34m.\u001b[0m\u001b[0m_pre_draw\u001b[0m\u001b[0;34m(\u001b[0m\u001b[0mframedata\u001b[0m\u001b[0;34m,\u001b[0m \u001b[0mblit\u001b[0m\u001b[0;34m)\u001b[0m\u001b[0;34m\u001b[0m\u001b[0;34m\u001b[0m\u001b[0m\n\u001b[0;32m-> 1138\u001b[0;31m         \u001b[0mself\u001b[0m\u001b[0;34m.\u001b[0m\u001b[0m_draw_frame\u001b[0m\u001b[0;34m(\u001b[0m\u001b[0mframedata\u001b[0m\u001b[0;34m)\u001b[0m\u001b[0;34m\u001b[0m\u001b[0;34m\u001b[0m\u001b[0m\n\u001b[0m\u001b[1;32m   1139\u001b[0m         \u001b[0mself\u001b[0m\u001b[0;34m.\u001b[0m\u001b[0m_post_draw\u001b[0m\u001b[0;34m(\u001b[0m\u001b[0mframedata\u001b[0m\u001b[0;34m,\u001b[0m \u001b[0mblit\u001b[0m\u001b[0;34m)\u001b[0m\u001b[0;34m\u001b[0m\u001b[0;34m\u001b[0m\u001b[0m\n",
            "\u001b[0;32m/usr/local/lib/python3.10/dist-packages/matplotlib/animation.py\u001b[0m in \u001b[0;36m_draw_frame\u001b[0;34m(self, framedata)\u001b[0m\n\u001b[1;32m   1766\u001b[0m         \u001b[0;31m# func needs to return a sequence of any artists that were modified.\u001b[0m\u001b[0;34m\u001b[0m\u001b[0;34m\u001b[0m\u001b[0m\n\u001b[0;32m-> 1767\u001b[0;31m         \u001b[0mself\u001b[0m\u001b[0;34m.\u001b[0m\u001b[0m_drawn_artists\u001b[0m \u001b[0;34m=\u001b[0m \u001b[0mself\u001b[0m\u001b[0;34m.\u001b[0m\u001b[0m_func\u001b[0m\u001b[0;34m(\u001b[0m\u001b[0mframedata\u001b[0m\u001b[0;34m,\u001b[0m \u001b[0;34m*\u001b[0m\u001b[0mself\u001b[0m\u001b[0;34m.\u001b[0m\u001b[0m_args\u001b[0m\u001b[0;34m)\u001b[0m\u001b[0;34m\u001b[0m\u001b[0;34m\u001b[0m\u001b[0m\n\u001b[0m\u001b[1;32m   1768\u001b[0m \u001b[0;34m\u001b[0m\u001b[0m\n",
            "\u001b[0;32m/usr/local/lib/python3.10/dist-packages/bar_chart_race/_make_chart.py\u001b[0m in \u001b[0;36manim_func\u001b[0;34m(self, i)\u001b[0m\n\u001b[1;32m    415\u001b[0m             \u001b[0mtext\u001b[0m\u001b[0;34m.\u001b[0m\u001b[0mremove\u001b[0m\u001b[0;34m(\u001b[0m\u001b[0;34m)\u001b[0m\u001b[0;34m\u001b[0m\u001b[0;34m\u001b[0m\u001b[0m\n\u001b[0;32m--> 416\u001b[0;31m         \u001b[0mself\u001b[0m\u001b[0;34m.\u001b[0m\u001b[0mplot_bars\u001b[0m\u001b[0;34m(\u001b[0m\u001b[0mi\u001b[0m\u001b[0;34m)\u001b[0m\u001b[0;34m\u001b[0m\u001b[0;34m\u001b[0m\u001b[0m\n\u001b[0m\u001b[1;32m    417\u001b[0m \u001b[0;34m\u001b[0m\u001b[0m\n",
            "\u001b[0;32m/usr/local/lib/python3.10/dist-packages/bar_chart_race/_make_chart.py\u001b[0m in \u001b[0;36mplot_bars\u001b[0;34m(self, i)\u001b[0m\n\u001b[1;32m    322\u001b[0m     \u001b[0;32mdef\u001b[0m \u001b[0mplot_bars\u001b[0m\u001b[0;34m(\u001b[0m\u001b[0mself\u001b[0m\u001b[0;34m,\u001b[0m \u001b[0mi\u001b[0m\u001b[0;34m)\u001b[0m\u001b[0;34m:\u001b[0m\u001b[0;34m\u001b[0m\u001b[0;34m\u001b[0m\u001b[0m\n\u001b[0;32m--> 323\u001b[0;31m         \u001b[0mbar_location\u001b[0m \u001b[0;34m=\u001b[0m \u001b[0mself\u001b[0m\u001b[0;34m.\u001b[0m\u001b[0mdf_ranks\u001b[0m\u001b[0;34m.\u001b[0m\u001b[0miloc\u001b[0m\u001b[0;34m[\u001b[0m\u001b[0mi\u001b[0m\u001b[0;34m]\u001b[0m\u001b[0;34m.\u001b[0m\u001b[0mvalues\u001b[0m\u001b[0;34m\u001b[0m\u001b[0;34m\u001b[0m\u001b[0m\n\u001b[0m\u001b[1;32m    324\u001b[0m         \u001b[0mtop_filt\u001b[0m \u001b[0;34m=\u001b[0m \u001b[0;34m(\u001b[0m\u001b[0mbar_location\u001b[0m \u001b[0;34m>\u001b[0m \u001b[0;36m0\u001b[0m\u001b[0;34m)\u001b[0m \u001b[0;34m&\u001b[0m \u001b[0;34m(\u001b[0m\u001b[0mbar_location\u001b[0m \u001b[0;34m<\u001b[0m \u001b[0mself\u001b[0m\u001b[0;34m.\u001b[0m\u001b[0mn_bars\u001b[0m \u001b[0;34m+\u001b[0m \u001b[0;36m1\u001b[0m\u001b[0;34m)\u001b[0m\u001b[0;34m\u001b[0m\u001b[0;34m\u001b[0m\u001b[0m\n",
            "\u001b[0;32m/usr/local/lib/python3.10/dist-packages/pandas/core/indexing.py\u001b[0m in \u001b[0;36m__getitem__\u001b[0;34m(self, key)\u001b[0m\n\u001b[1;32m   1072\u001b[0m             \u001b[0mmaybe_callable\u001b[0m \u001b[0;34m=\u001b[0m \u001b[0mcom\u001b[0m\u001b[0;34m.\u001b[0m\u001b[0mapply_if_callable\u001b[0m\u001b[0;34m(\u001b[0m\u001b[0mkey\u001b[0m\u001b[0;34m,\u001b[0m \u001b[0mself\u001b[0m\u001b[0;34m.\u001b[0m\u001b[0mobj\u001b[0m\u001b[0;34m)\u001b[0m\u001b[0;34m\u001b[0m\u001b[0;34m\u001b[0m\u001b[0m\n\u001b[0;32m-> 1073\u001b[0;31m             \u001b[0;32mreturn\u001b[0m \u001b[0mself\u001b[0m\u001b[0;34m.\u001b[0m\u001b[0m_getitem_axis\u001b[0m\u001b[0;34m(\u001b[0m\u001b[0mmaybe_callable\u001b[0m\u001b[0;34m,\u001b[0m \u001b[0maxis\u001b[0m\u001b[0;34m=\u001b[0m\u001b[0maxis\u001b[0m\u001b[0;34m)\u001b[0m\u001b[0;34m\u001b[0m\u001b[0;34m\u001b[0m\u001b[0m\n\u001b[0m\u001b[1;32m   1074\u001b[0m \u001b[0;34m\u001b[0m\u001b[0m\n",
            "\u001b[0;32m/usr/local/lib/python3.10/dist-packages/pandas/core/indexing.py\u001b[0m in \u001b[0;36m_getitem_axis\u001b[0;34m(self, key, axis)\u001b[0m\n\u001b[1;32m   1609\u001b[0m \u001b[0;34m\u001b[0m\u001b[0m\n\u001b[0;32m-> 1610\u001b[0;31m         \u001b[0;32mif\u001b[0m \u001b[0mcom\u001b[0m\u001b[0;34m.\u001b[0m\u001b[0mis_bool_indexer\u001b[0m\u001b[0;34m(\u001b[0m\u001b[0mkey\u001b[0m\u001b[0;34m)\u001b[0m\u001b[0;34m:\u001b[0m\u001b[0;34m\u001b[0m\u001b[0;34m\u001b[0m\u001b[0m\n\u001b[0m\u001b[1;32m   1611\u001b[0m             \u001b[0mself\u001b[0m\u001b[0;34m.\u001b[0m\u001b[0m_validate_key\u001b[0m\u001b[0;34m(\u001b[0m\u001b[0mkey\u001b[0m\u001b[0;34m,\u001b[0m \u001b[0maxis\u001b[0m\u001b[0;34m)\u001b[0m\u001b[0;34m\u001b[0m\u001b[0;34m\u001b[0m\u001b[0m\n",
            "\u001b[0;32m/usr/local/lib/python3.10/dist-packages/pandas/core/common.py\u001b[0m in \u001b[0;36mis_bool_indexer\u001b[0;34m(key)\u001b[0m\n\u001b[1;32m     95\u001b[0m \u001b[0;34m\u001b[0m\u001b[0m\n\u001b[0;32m---> 96\u001b[0;31m \u001b[0;32mdef\u001b[0m \u001b[0mis_bool_indexer\u001b[0m\u001b[0;34m(\u001b[0m\u001b[0mkey\u001b[0m\u001b[0;34m:\u001b[0m \u001b[0mAny\u001b[0m\u001b[0;34m)\u001b[0m \u001b[0;34m->\u001b[0m \u001b[0mbool\u001b[0m\u001b[0;34m:\u001b[0m\u001b[0;34m\u001b[0m\u001b[0;34m\u001b[0m\u001b[0m\n\u001b[0m\u001b[1;32m     97\u001b[0m     \"\"\"\n",
            "\u001b[0;31mKeyboardInterrupt\u001b[0m: ",
            "\nDuring handling of the above exception, another exception occurred:\n",
            "\u001b[0;31mCalledProcessError\u001b[0m                        Traceback (most recent call last)",
            "\u001b[0;32m/usr/local/lib/python3.10/dist-packages/bar_chart_race/_make_chart.py\u001b[0m in \u001b[0;36mmake_animation\u001b[0;34m(self)\u001b[0m\n\u001b[1;32m    427\u001b[0m             \u001b[0;32mif\u001b[0m \u001b[0mself\u001b[0m\u001b[0;34m.\u001b[0m\u001b[0mhtml\u001b[0m\u001b[0;34m:\u001b[0m\u001b[0;34m\u001b[0m\u001b[0;34m\u001b[0m\u001b[0m\n\u001b[0;32m--> 428\u001b[0;31m                 \u001b[0mret_val\u001b[0m \u001b[0;34m=\u001b[0m \u001b[0manim\u001b[0m\u001b[0;34m.\u001b[0m\u001b[0mto_html5_video\u001b[0m\u001b[0;34m(\u001b[0m\u001b[0;34m)\u001b[0m\u001b[0;34m\u001b[0m\u001b[0;34m\u001b[0m\u001b[0m\n\u001b[0m\u001b[1;32m    429\u001b[0m                 \u001b[0;32mtry\u001b[0m\u001b[0;34m:\u001b[0m\u001b[0;34m\u001b[0m\u001b[0;34m\u001b[0m\u001b[0m\n",
            "\u001b[0;32m/usr/local/lib/python3.10/dist-packages/matplotlib/animation.py\u001b[0m in \u001b[0;36mto_html5_video\u001b[0;34m(self, embed_limit)\u001b[0m\n\u001b[1;32m   1287\u001b[0m                                 fps=1000. / self._interval)\n\u001b[0;32m-> 1288\u001b[0;31m                 \u001b[0mself\u001b[0m\u001b[0;34m.\u001b[0m\u001b[0msave\u001b[0m\u001b[0;34m(\u001b[0m\u001b[0mstr\u001b[0m\u001b[0;34m(\u001b[0m\u001b[0mpath\u001b[0m\u001b[0;34m)\u001b[0m\u001b[0;34m,\u001b[0m \u001b[0mwriter\u001b[0m\u001b[0;34m=\u001b[0m\u001b[0mwriter\u001b[0m\u001b[0;34m)\u001b[0m\u001b[0;34m\u001b[0m\u001b[0;34m\u001b[0m\u001b[0m\n\u001b[0m\u001b[1;32m   1289\u001b[0m                 \u001b[0;31m# Now open and base64 encode.\u001b[0m\u001b[0;34m\u001b[0m\u001b[0;34m\u001b[0m\u001b[0m\n",
            "\u001b[0;32m/usr/local/lib/python3.10/dist-packages/matplotlib/animation.py\u001b[0m in \u001b[0;36msave\u001b[0;34m(self, filename, writer, fps, dpi, codec, bitrate, extra_args, metadata, extra_anim, savefig_kwargs, progress_callback)\u001b[0m\n\u001b[1;32m   1084\u001b[0m         \u001b[0;31m# widget (both are likewise done in savefig()).\u001b[0m\u001b[0;34m\u001b[0m\u001b[0;34m\u001b[0m\u001b[0m\n\u001b[0;32m-> 1085\u001b[0;31m         \u001b[0;32mwith\u001b[0m \u001b[0mmpl\u001b[0m\u001b[0;34m.\u001b[0m\u001b[0mrc_context\u001b[0m\u001b[0;34m(\u001b[0m\u001b[0;34m{\u001b[0m\u001b[0;34m'savefig.bbox'\u001b[0m\u001b[0;34m:\u001b[0m \u001b[0;32mNone\u001b[0m\u001b[0;34m}\u001b[0m\u001b[0;34m)\u001b[0m\u001b[0;34m,\u001b[0m\u001b[0;31m \u001b[0m\u001b[0;31m\\\u001b[0m\u001b[0;34m\u001b[0m\u001b[0;34m\u001b[0m\u001b[0m\n\u001b[0m\u001b[1;32m   1086\u001b[0m              \u001b[0mwriter\u001b[0m\u001b[0;34m.\u001b[0m\u001b[0msaving\u001b[0m\u001b[0;34m(\u001b[0m\u001b[0mself\u001b[0m\u001b[0;34m.\u001b[0m\u001b[0m_fig\u001b[0m\u001b[0;34m,\u001b[0m \u001b[0mfilename\u001b[0m\u001b[0;34m,\u001b[0m \u001b[0mdpi\u001b[0m\u001b[0;34m)\u001b[0m\u001b[0;34m,\u001b[0m\u001b[0;31m \u001b[0m\u001b[0;31m\\\u001b[0m\u001b[0;34m\u001b[0m\u001b[0;34m\u001b[0m\u001b[0m\n",
            "\u001b[0;32m/usr/lib/python3.10/contextlib.py\u001b[0m in \u001b[0;36m__exit__\u001b[0;34m(self, typ, value, traceback)\u001b[0m\n\u001b[1;32m    152\u001b[0m             \u001b[0;32mtry\u001b[0m\u001b[0;34m:\u001b[0m\u001b[0;34m\u001b[0m\u001b[0;34m\u001b[0m\u001b[0m\n\u001b[0;32m--> 153\u001b[0;31m                 \u001b[0mself\u001b[0m\u001b[0;34m.\u001b[0m\u001b[0mgen\u001b[0m\u001b[0;34m.\u001b[0m\u001b[0mthrow\u001b[0m\u001b[0;34m(\u001b[0m\u001b[0mtyp\u001b[0m\u001b[0;34m,\u001b[0m \u001b[0mvalue\u001b[0m\u001b[0;34m,\u001b[0m \u001b[0mtraceback\u001b[0m\u001b[0;34m)\u001b[0m\u001b[0;34m\u001b[0m\u001b[0;34m\u001b[0m\u001b[0m\n\u001b[0m\u001b[1;32m    154\u001b[0m             \u001b[0;32mexcept\u001b[0m \u001b[0mStopIteration\u001b[0m \u001b[0;32mas\u001b[0m \u001b[0mexc\u001b[0m\u001b[0;34m:\u001b[0m\u001b[0;34m\u001b[0m\u001b[0;34m\u001b[0m\u001b[0m\n",
            "\u001b[0;32m/usr/local/lib/python3.10/dist-packages/matplotlib/animation.py\u001b[0m in \u001b[0;36msaving\u001b[0;34m(self, fig, outfile, dpi, *args, **kwargs)\u001b[0m\n\u001b[1;32m    234\u001b[0m         \u001b[0;32mfinally\u001b[0m\u001b[0;34m:\u001b[0m\u001b[0;34m\u001b[0m\u001b[0;34m\u001b[0m\u001b[0m\n\u001b[0;32m--> 235\u001b[0;31m             \u001b[0mself\u001b[0m\u001b[0;34m.\u001b[0m\u001b[0mfinish\u001b[0m\u001b[0;34m(\u001b[0m\u001b[0;34m)\u001b[0m\u001b[0;34m\u001b[0m\u001b[0;34m\u001b[0m\u001b[0m\n\u001b[0m\u001b[1;32m    236\u001b[0m \u001b[0;34m\u001b[0m\u001b[0m\n",
            "\u001b[0;32m/usr/local/lib/python3.10/dist-packages/matplotlib/animation.py\u001b[0m in \u001b[0;36mfinish\u001b[0;34m(self)\u001b[0m\n\u001b[1;32m    348\u001b[0m         \u001b[0;32mif\u001b[0m \u001b[0mself\u001b[0m\u001b[0;34m.\u001b[0m\u001b[0m_proc\u001b[0m\u001b[0;34m.\u001b[0m\u001b[0mreturncode\u001b[0m\u001b[0;34m:\u001b[0m\u001b[0;34m\u001b[0m\u001b[0;34m\u001b[0m\u001b[0m\n\u001b[0;32m--> 349\u001b[0;31m             raise subprocess.CalledProcessError(\n\u001b[0m\u001b[1;32m    350\u001b[0m                 self._proc.returncode, self._proc.args, out, err)\n",
            "\u001b[0;31mCalledProcessError\u001b[0m: Command '['ffmpeg', '-f', 'rawvideo', '-vcodec', 'rawvideo', '-s', '522x432', '-pix_fmt', 'rgba', '-r', '20.0', '-loglevel', 'error', '-i', 'pipe:', '-vcodec', 'h264', '-pix_fmt', 'yuv420p', '-y', '/tmp/tmp592n9vo5/temp.m4v']' returned non-zero exit status 255.",
            "\nDuring handling of the above exception, another exception occurred:\n",
            "\u001b[0;31mException\u001b[0m                                 Traceback (most recent call last)",
            "\u001b[0;32m<ipython-input-329-c89d213c7269>\u001b[0m in \u001b[0;36m<cell line: 7>\u001b[0;34m()\u001b[0m\n\u001b[1;32m      5\u001b[0m \u001b[0mdata\u001b[0m \u001b[0;34m=\u001b[0m \u001b[0mAlmacen_puntual_df\u001b[0m\u001b[0;34m[\u001b[0m\u001b[0mcolumns\u001b[0m\u001b[0;34m]\u001b[0m\u001b[0;34m\u001b[0m\u001b[0;34m\u001b[0m\u001b[0m\n\u001b[1;32m      6\u001b[0m \u001b[0mfig\u001b[0m \u001b[0;34m=\u001b[0m \u001b[0mpx\u001b[0m\u001b[0;34m.\u001b[0m\u001b[0mbar\u001b[0m\u001b[0;34m(\u001b[0m\u001b[0mAlmacen\u001b[0m\u001b[0;34m)\u001b[0m\u001b[0;34m\u001b[0m\u001b[0;34m\u001b[0m\u001b[0m\n\u001b[0;32m----> 7\u001b[0;31m \u001b[0mbcr\u001b[0m\u001b[0;34m.\u001b[0m\u001b[0mbar_chart_race\u001b[0m\u001b[0;34m(\u001b[0m\u001b[0mdf\u001b[0m \u001b[0;34m=\u001b[0m \u001b[0mAlmacen_puntual_df\u001b[0m\u001b[0;34m,\u001b[0m\u001b[0mfilename\u001b[0m \u001b[0;34m=\u001b[0m \u001b[0;32mNone\u001b[0m\u001b[0;34m,\u001b[0m \u001b[0mfixed_order\u001b[0m\u001b[0;34m=\u001b[0m\u001b[0;32mTrue\u001b[0m\u001b[0;34m,\u001b[0m \u001b[0mfigsize\u001b[0m \u001b[0;34m=\u001b[0m \u001b[0;34m(\u001b[0m\u001b[0;36m3.5\u001b[0m \u001b[0;34m,\u001b[0m \u001b[0;36m3\u001b[0m\u001b[0;34m)\u001b[0m\u001b[0;34m,\u001b[0m \u001b[0mtitle\u001b[0m \u001b[0;34m=\u001b[0m\u001b[0;34m\" Stock por referencia\"\u001b[0m\u001b[0;34m)\u001b[0m\u001b[0;34m\u001b[0m\u001b[0;34m\u001b[0m\u001b[0m\n\u001b[0m",
            "\u001b[0;32m/usr/local/lib/python3.10/dist-packages/bar_chart_race/_make_chart.py\u001b[0m in \u001b[0;36mbar_chart_race\u001b[0;34m(df, filename, orientation, sort, n_bars, fixed_order, fixed_max, steps_per_period, period_length, interpolate_period, label_bars, bar_size, period_label, period_fmt, period_summary_func, perpendicular_bar_func, figsize, cmap, title, title_size, bar_label_size, tick_label_size, shared_fontdict, scale, writer, fig, dpi, bar_kwargs, filter_column_colors)\u001b[0m\n\u001b[1;32m    781\u001b[0m                         \u001b[0mfigsize\u001b[0m\u001b[0;34m,\u001b[0m \u001b[0mcmap\u001b[0m\u001b[0;34m,\u001b[0m \u001b[0mtitle\u001b[0m\u001b[0;34m,\u001b[0m \u001b[0mtitle_size\u001b[0m\u001b[0;34m,\u001b[0m \u001b[0mbar_label_size\u001b[0m\u001b[0;34m,\u001b[0m \u001b[0mtick_label_size\u001b[0m\u001b[0;34m,\u001b[0m\u001b[0;34m\u001b[0m\u001b[0;34m\u001b[0m\u001b[0m\n\u001b[1;32m    782\u001b[0m                         shared_fontdict, scale, writer, fig, dpi, bar_kwargs, filter_column_colors)\n\u001b[0;32m--> 783\u001b[0;31m     \u001b[0;32mreturn\u001b[0m \u001b[0mbcr\u001b[0m\u001b[0;34m.\u001b[0m\u001b[0mmake_animation\u001b[0m\u001b[0;34m(\u001b[0m\u001b[0;34m)\u001b[0m\u001b[0;34m\u001b[0m\u001b[0;34m\u001b[0m\u001b[0m\n\u001b[0m\u001b[1;32m    784\u001b[0m \u001b[0;34m\u001b[0m\u001b[0m\n\u001b[1;32m    785\u001b[0m \u001b[0;32mdef\u001b[0m \u001b[0mload_dataset\u001b[0m\u001b[0;34m(\u001b[0m\u001b[0mname\u001b[0m\u001b[0;34m=\u001b[0m\u001b[0;34m'covid19'\u001b[0m\u001b[0;34m)\u001b[0m\u001b[0;34m:\u001b[0m\u001b[0;34m\u001b[0m\u001b[0;34m\u001b[0m\u001b[0m\n",
            "\u001b[0;32m/usr/local/lib/python3.10/dist-packages/bar_chart_race/_make_chart.py\u001b[0m in \u001b[0;36mmake_animation\u001b[0;34m(self)\u001b[0m\n\u001b[1;32m    444\u001b[0m             \u001b[0;32melse\u001b[0m\u001b[0;34m:\u001b[0m\u001b[0;34m\u001b[0m\u001b[0;34m\u001b[0m\u001b[0m\n\u001b[1;32m    445\u001b[0m                 \u001b[0mmessage\u001b[0m \u001b[0;34m=\u001b[0m \u001b[0mstr\u001b[0m\u001b[0;34m(\u001b[0m\u001b[0me\u001b[0m\u001b[0;34m)\u001b[0m\u001b[0;34m\u001b[0m\u001b[0;34m\u001b[0m\u001b[0m\n\u001b[0;32m--> 446\u001b[0;31m             \u001b[0;32mraise\u001b[0m \u001b[0mException\u001b[0m\u001b[0;34m(\u001b[0m\u001b[0mmessage\u001b[0m\u001b[0;34m)\u001b[0m\u001b[0;34m\u001b[0m\u001b[0;34m\u001b[0m\u001b[0m\n\u001b[0m\u001b[1;32m    447\u001b[0m         \u001b[0;32mfinally\u001b[0m\u001b[0;34m:\u001b[0m\u001b[0;34m\u001b[0m\u001b[0;34m\u001b[0m\u001b[0m\n\u001b[1;32m    448\u001b[0m             \u001b[0mplt\u001b[0m\u001b[0;34m.\u001b[0m\u001b[0mrcParams\u001b[0m \u001b[0;34m=\u001b[0m \u001b[0mself\u001b[0m\u001b[0;34m.\u001b[0m\u001b[0morig_rcParams\u001b[0m\u001b[0;34m\u001b[0m\u001b[0;34m\u001b[0m\u001b[0m\n",
            "\u001b[0;31mException\u001b[0m: You do not have ffmpeg installed on your machine. Download\n                            ffmpeg from here: https://www.ffmpeg.org/download.html.\n                            \n                            Matplotlib's original error message below:\n\n                            Command '['ffmpeg', '-f', 'rawvideo', '-vcodec', 'rawvideo', '-s', '522x432', '-pix_fmt', 'rgba', '-r', '20.0', '-loglevel', 'error', '-i', 'pipe:', '-vcodec', 'h264', '-pix_fmt', 'yuv420p', '-y', '/tmp/tmp592n9vo5/temp.m4v']' returned non-zero exit status 255.\n                            "
          ]
        }
      ]
    },
    {
      "cell_type": "markdown",
      "source": [],
      "metadata": {
        "id": "jAbtWy2JBnsO"
      }
    },
    {
      "cell_type": "markdown",
      "source": [
        "# Grabado de datos en un EXCEL"
      ],
      "metadata": {
        "id": "gGDCXqsLBprh"
      }
    },
    {
      "cell_type": "markdown",
      "metadata": {
        "id": "tjUTNqtVEwJu"
      },
      "source": [
        "*Reloj de la simulación* - se establece como una matriz horarira de 24 x 6 días (programación semanal)"
      ]
    },
    {
      "cell_type": "code",
      "execution_count": 324,
      "metadata": {
        "id": "twTL-lb8mmY4",
        "colab": {
          "base_uri": "https://localhost:8080/"
        },
        "outputId": "2c29ec6c-cf74-45c4-a900-8ed0941849de"
      },
      "outputs": [
        {
          "output_type": "stream",
          "name": "stdout",
          "text": [
            "[[0. 0. 0. 0. 0. 0.]\n",
            " [0. 0. 0. 0. 0. 0.]\n",
            " [0. 0. 0. 0. 0. 0.]\n",
            " [0. 0. 0. 0. 0. 0.]\n",
            " [0. 0. 0. 0. 0. 0.]\n",
            " [0. 0. 0. 0. 0. 0.]\n",
            " [0. 0. 0. 0. 0. 0.]\n",
            " [0. 0. 0. 0. 0. 0.]\n",
            " [0. 0. 0. 0. 0. 0.]\n",
            " [0. 0. 0. 0. 0. 0.]\n",
            " [0. 0. 0. 0. 0. 0.]\n",
            " [0. 0. 0. 0. 0. 0.]\n",
            " [0. 0. 0. 0. 0. 0.]\n",
            " [0. 0. 0. 0. 0. 0.]\n",
            " [0. 0. 0. 0. 0. 0.]\n",
            " [0. 0. 0. 0. 0. 0.]\n",
            " [0. 0. 0. 0. 0. 0.]\n",
            " [0. 0. 0. 0. 0. 0.]\n",
            " [0. 0. 0. 0. 0. 0.]\n",
            " [0. 0. 0. 0. 0. 0.]\n",
            " [0. 0. 0. 0. 0. 0.]\n",
            " [0. 0. 0. 0. 0. 0.]\n",
            " [0. 0. 0. 0. 0. 0.]\n",
            " [0. 0. 0. 0. 0. 0.]]\n"
          ]
        }
      ],
      "source": [
        "Calendario_Sim = np.zeros((24,6))\n",
        "print(Calendario_Sim)"
      ]
    },
    {
      "cell_type": "markdown",
      "metadata": {
        "id": "zocVyfWLGSzu"
      },
      "source": [
        "*Definir el estado inicial* - Estado de las máquinas y almacenamiento\n",
        "\n",
        "Se definie un Coste de referencia para el calculo del coste de material en el almacén"
      ]
    },
    {
      "cell_type": "code",
      "execution_count": 325,
      "metadata": {
        "id": "MoitophZGgCj",
        "colab": {
          "base_uri": "https://localhost:8080/",
          "height": 244
        },
        "outputId": "342d5327-69ec-4d39-ece8-914160dc5be8"
      },
      "outputs": [
        {
          "output_type": "error",
          "ename": "KeyError",
          "evalue": "ignored",
          "traceback": [
            "\u001b[0;31m---------------------------------------------------------------------------\u001b[0m",
            "\u001b[0;31mKeyError\u001b[0m                                  Traceback (most recent call last)",
            "\u001b[0;32m<ipython-input-325-bad2fac2f298>\u001b[0m in \u001b[0;36m<cell line: 2>\u001b[0;34m()\u001b[0m\n\u001b[1;32m      1\u001b[0m \u001b[0mProcess_status\u001b[0m \u001b[0;34m=\u001b[0m \u001b[0mnp\u001b[0m\u001b[0;34m.\u001b[0m\u001b[0mzeros\u001b[0m\u001b[0;34m(\u001b[0m\u001b[0;34m(\u001b[0m\u001b[0mlen\u001b[0m\u001b[0;34m(\u001b[0m\u001b[0mDICMAQ\u001b[0m\u001b[0;34m)\u001b[0m\u001b[0;34m,\u001b[0m\u001b[0;36m1\u001b[0m\u001b[0;34m)\u001b[0m\u001b[0;34m)\u001b[0m\u001b[0;34m\u001b[0m\u001b[0;34m\u001b[0m\u001b[0m\n\u001b[0;32m----> 2\u001b[0;31m \u001b[0mProcess_status\u001b[0m\u001b[0;34m[\u001b[0m\u001b[0mDICMAQ\u001b[0m\u001b[0;34m[\u001b[0m\u001b[0;34m\"Inyeccion\"\u001b[0m\u001b[0;34m]\u001b[0m\u001b[0;34m]\u001b[0m \u001b[0;34m=\u001b[0m \u001b[0mREF\u001b[0m\u001b[0;34m[\u001b[0m\u001b[0;34m\"5\"\u001b[0m\u001b[0;34m]\u001b[0m\u001b[0;34m\u001b[0m\u001b[0;34m\u001b[0m\u001b[0m\n\u001b[0m\u001b[1;32m      3\u001b[0m \u001b[0mProcess_status\u001b[0m\u001b[0;34m[\u001b[0m\u001b[0mDICMAQ\u001b[0m\u001b[0;34m[\u001b[0m\u001b[0;34m\"Mecanizado\"\u001b[0m\u001b[0;34m]\u001b[0m\u001b[0;34m]\u001b[0m \u001b[0;34m=\u001b[0m \u001b[0mREF\u001b[0m\u001b[0;34m[\u001b[0m\u001b[0;34m\"8\"\u001b[0m\u001b[0;34m]\u001b[0m\u001b[0;34m\u001b[0m\u001b[0;34m\u001b[0m\u001b[0m\n\u001b[1;32m      4\u001b[0m \u001b[0mSTOCK\u001b[0m \u001b[0;34m=\u001b[0m \u001b[0;34m{\u001b[0m\u001b[0;34m\"Referencia\"\u001b[0m\u001b[0;34m:\u001b[0m\u001b[0;36m0\u001b[0m\u001b[0;34m,\u001b[0m\u001b[0;34m\"Volumen\"\u001b[0m\u001b[0;34m:\u001b[0m\u001b[0;36m1\u001b[0m\u001b[0;34m,\u001b[0m\u001b[0;34m\"Coste\"\u001b[0m\u001b[0;34m:\u001b[0m\u001b[0;36m2\u001b[0m\u001b[0;34m}\u001b[0m\u001b[0;34m\u001b[0m\u001b[0;34m\u001b[0m\u001b[0m\n\u001b[1;32m      5\u001b[0m \u001b[0mReference_cost\u001b[0m \u001b[0;34m=\u001b[0m \u001b[0mnp\u001b[0m\u001b[0;34m.\u001b[0m\u001b[0mzeros\u001b[0m\u001b[0;34m(\u001b[0m\u001b[0;34m(\u001b[0m\u001b[0mlen\u001b[0m\u001b[0;34m(\u001b[0m\u001b[0mREF\u001b[0m\u001b[0;34m)\u001b[0m\u001b[0;34m,\u001b[0m\u001b[0;36m1\u001b[0m\u001b[0;34m)\u001b[0m\u001b[0;34m)\u001b[0m\u001b[0;34m\u001b[0m\u001b[0;34m\u001b[0m\u001b[0m\n",
            "\u001b[0;31mKeyError\u001b[0m: '5'"
          ]
        }
      ],
      "source": [
        "Process_status = np.zeros((len(DICMAQ),1))\n",
        "Process_status[DICMAQ[\"Inyeccion\"]] = REF[\"5\"]\n",
        "Process_status[DICMAQ[\"Mecanizado\"]] = REF[\"8\"]\n",
        "STOCK = {\"Referencia\":0,\"Volumen\":1,\"Coste\":2}\n",
        "Reference_cost = np.zeros((len(REF),1))\n",
        "Reference_cost[REF[\"1\"]] = 12.8\n",
        "Reference_cost[REF[\"2\"]] = 23.7\n",
        "Reference_cost[REF[\"3\"]] = 18.4\n",
        "Reference_cost[REF[\"4\"]] = 6.2\n",
        "Reference_cost[REF[\"5\"]] = 50.1\n",
        "Reference_cost[REF[\"6\"]] = 80.2\n",
        "Reference_cost[REF[\"7\"]] = 67.4\n",
        "Reference_cost[REF[\"8\"]] = 73.9\n",
        "\n",
        "Almacen_MP = np.zeros((3,known_references))\n",
        "Almacen_MP[STOCK[\"Referencia\"],REF[\"1\"]] = REF[\"1\"] # Aunque sea redundante, es solo un tema de legibilidad\n",
        "Almacen_MP[STOCK[\"Volumen\"],REF[\"1\"]] = 5\n",
        "Almacen_MP[STOCK[\"Coste\"],REF[\"1\"]] = Almacen_MP[STOCK[\"Volumen\"],0] * Reference_cost[REF[\"1\"]]\n",
        "\n",
        "Almacen_MP[STOCK[\"Referencia\"],REF[\"2\"]] = REF[\"2\"] # Aunque sea redundante, es solo un tema de legibilidad\n",
        "Almacen_MP[STOCK[\"Volumen\"],REF[\"2\"]] = 7\n",
        "Almacen_MP[STOCK[\"Coste\"],REF[\"2\"]] = Almacen_MP[STOCK[\"Volumen\"],0] * Reference_cost[REF[\"2\"]]\n",
        "\n",
        "Almacen_MP[STOCK[\"Referencia\"],REF[\"3\"]] = REF[\"3\"] # Aunque sea redundante, es solo un tema de legibilidad\n",
        "Almacen_MP[STOCK[\"Volumen\"],REF[\"3\"]] = 1\n",
        "Almacen_MP[STOCK[\"Coste\"],REF[\"3\"]] = Almacen_MP[STOCK[\"Volumen\"],0] * Reference_cost[REF[\"3\"]]\n",
        "\n",
        "Almacen_MP[STOCK[\"Referencia\"],REF[\"4\"]] = REF[\"4\"] # Aunque sea redundante, es solo un tema de legibilidad\n",
        "Almacen_MP[STOCK[\"Volumen\"],REF[\"4\"]] = 2\n",
        "Almacen_MP[STOCK[\"Coste\"],REF[\"4\"]] = Almacen_MP[STOCK[\"Volumen\"],0] * Reference_cost[REF[\"4\"]]\n",
        "\n",
        "\n",
        "# Notas Alf - Borrar\n",
        "#MAQ_TRANS_TIEMPO[2,TRANS[\"Maquina\"]] = DICMAQ[\"Inyeccion\"] / \"Mecanizado\"\n",
        "#MAQ_TRANS_TIEMPO[2,TRANS[\"Origen\"]] = REF[\"5\"]             / REF[\"7\"]\n",
        "#MAQ_TRANS_TIEMPO[2,TRANS[\"Destino\"]] = REF[\"6\"]            / REF[\"8\"]\n",
        "\n",
        "print(\"Reference costs:\",Reference_cost,\"\\n\")\n",
        "print(\"Current status of RowMat Stock\\n\",Almacen_MP)\n",
        "print(\"Process Current State: \",Process_status)"
      ]
    },
    {
      "cell_type": "code",
      "execution_count": null,
      "metadata": {
        "id": "FRDqF2ng10_c"
      },
      "outputs": [],
      "source": [
        "from pandas.compat import numpy\n",
        "# Production diary - this is an array where\n",
        "# 0. Timeframe recorded\n",
        "# 1. Stock status\n",
        "sim_start = dt.datetime(year=2023, month=6, day=23, hour=0, minute=0, second=0)\n",
        "step = timedelta(minutes=15)\n",
        "sim_frame = sim_start\n",
        "sim_log = []\n",
        "print(Stock_ini)\n",
        "for i in range(0,12):\n",
        "  log_register = []\n",
        "  print(\"Frame [\",i,\"] \",sim_frame)\n",
        "  sim_frame += step\n",
        "  log_register.append(sim_frame.strftime(\"%Y-%m-%d %H:%M:%S\"))\n",
        "  log_register.append(Stock_ini)\n",
        "  #sim_log.append(sim_frame.strftime(\"%Y-%m-%d %H:%M:%S\"))\n",
        "  sim_log.append(log_register)\n",
        "\n",
        "sheet_name = 'ProductionDiary'\n",
        "sheet.clear()\n",
        "sheet = AAM_workbook.worksheet(title=sheet_name)\n",
        "cells = []\n",
        "for i, log_entry in enumerate(sim_log):\n",
        "  cells.append(Cell(row=i+2, col=1, value=log_entry[0]))\n",
        "  for j, stock_entry in enumerate(np.array(log_entry[1])):\n",
        "    for k, stock_entry2 in enumerate(stock_entry):\n",
        "      cells.append(Cell(row=i+2, col=k+2, value=stock_entry[k]))\n",
        "\n",
        "sheet.update_cells(cells)\n",
        "#print(\"SIM Log:\\n\",sim_log)\n"
      ]
    },
    {
      "cell_type": "code",
      "source": [
        "#Graficar resultados"
      ],
      "metadata": {
        "id": "42NgN7oayMaI"
      },
      "execution_count": null,
      "outputs": []
    }
  ],
  "metadata": {
    "colab": {
      "provenance": [],
      "collapsed_sections": [
        "5xB3ZkA2FVbM",
        "-zXdag4HObJh",
        "6Tn_7o44X0yO"
      ],
      "include_colab_link": true
    },
    "kernelspec": {
      "display_name": "Python 3",
      "name": "python3"
    },
    "language_info": {
      "name": "python"
    }
  },
  "nbformat": 4,
  "nbformat_minor": 0
}